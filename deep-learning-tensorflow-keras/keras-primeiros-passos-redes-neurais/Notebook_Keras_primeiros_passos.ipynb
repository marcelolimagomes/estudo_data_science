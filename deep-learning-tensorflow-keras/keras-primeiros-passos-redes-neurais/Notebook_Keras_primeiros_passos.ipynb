{
 "cells": [
  {
   "cell_type": "markdown",
   "metadata": {
    "colab_type": "text",
    "id": "view-in-github"
   },
   "source": [
    "<a href=\"https://colab.research.google.com/github/Mirlaa/Keras-primeiros-passos/blob/main/Preparando-Ambiente/Notebook_Keras_primeiros_passos.ipynb\" target=\"_parent\"><img src=\"https://colab.research.google.com/assets/colab-badge.svg\" alt=\"Open In Colab\"/></a>"
   ]
  },
  {
   "cell_type": "markdown",
   "metadata": {
    "id": "MswYJgE70_Tz"
   },
   "source": [
    "# Keras: Redes Neurais"
   ]
  },
  {
   "cell_type": "markdown",
   "metadata": {
    "id": "K8P8HnKQmgz4"
   },
   "source": [
    "O Iris dataset é um conjunto de dados bem conhecido na comunidade academica, esse conjunto de dados consiste em 50 amostras de cada uma das três espécies (150 amostras, no total) de Iris: *Iris setosa, Iris virginica e Iris versicolor*.\n",
    "\n",
    "Quatro variáveis foram medidas em cada amostra: o comprimento (*length*) e a largura (*width*) das sépalas (*Sepal*) e pétalas (*Petal*), em centímetros. Com base na combinação dessas quatro características, é possível distinguir as espécies umas das outras.\n",
    "\n",
    "![](https://kedro.readthedocs.io/en/0.17.5/_images/iris_measurements.png)\n",
    "\n",
    "Abaixo a representação dos três tipos de flores Iris.\n",
    "\n",
    "![](https://www.embedded-robotics.com/wp-content/uploads/2022/01/Iris-Dataset-Classification.png)"
   ]
  },
  {
   "cell_type": "markdown",
   "metadata": {
    "id": "VHD9R5Dq4VVS"
   },
   "source": [
    "Iremos aprender como funciona um modelo neural e também construí-lo através da [**biblioteca Keras**](https://keras.io/)"
   ]
  },
  {
   "cell_type": "code",
   "execution_count": null,
   "metadata": {
    "id": "fjSbRe9Y6Yjw"
   },
   "outputs": [],
   "source": []
  },
  {
   "cell_type": "markdown",
   "metadata": {
    "id": "muv6prCFQxIw"
   },
   "source": [
    "## Modelo - Perceptron\n",
    "\n",
    "O [`keras.Sequential`](https://keras.io/api/models/sequential/) permite a criação de uma rede neural unindo camadas.\n",
    "\n",
    "A camada [`Dense`](https://keras.io/api/layers/core_layers/dense/) é uma camada definida no Keras que promove os cálculos e transformações utilizadas na criação de um modelo.\n",
    "\n",
    "Precisamos definir nela quantos neurônios ela conterá através do parâmetro `units` e podemos também definir a quantidade de entradas/características que os dados irão conter, para a implementação, vamos começar com dois."
   ]
  },
  {
   "cell_type": "code",
   "execution_count": null,
   "metadata": {
    "id": "MB4Jwmvd6ZzQ"
   },
   "outputs": [],
   "source": []
  },
  {
   "cell_type": "markdown",
   "metadata": {
    "id": "Gl9P-SLtUIoW"
   },
   "source": [
    "**Explicação:**\n",
    "\n",
    "1. O `Sequential` cria um modelo muito simples (um dos mais simples no Keras) de redes neurais. Desse modo, é construida somente uma única pilha de camadas sequencialmente conectadas.\n",
    "2. A camada [`Dense`](https://www.tensorflow.org/api_docs/python/tf/keras/layers/Dense) é criada com 1 neurônio, representando o perceptron. A camada é responsável por cada peso contido nela bem como a inputação do vetor de viéses.\n",
    "  * `units`: informa a quantidade de neurônios que a camada Dense terá;\n",
    "  * `input_shape`: define a quantidade de entradas no modelo neural; e\n",
    "  * `name`: permite nomearmos essa camada."
   ]
  },
  {
   "cell_type": "markdown",
   "metadata": {
    "id": "0HhGNRyt8Okr"
   },
   "source": [
    "### Utilidades do modelo"
   ]
  },
  {
   "cell_type": "markdown",
   "metadata": {
    "id": "DhjM6r6KFFY-"
   },
   "source": [
    "#### Estrutura\n",
    "Podemos entender a esturtura do modelo (perceptron) criado através do método [`summary`](https://keras.io/api/models/model/#:~:text=%5Bsource%5D-,summary%20method,-Model.summary) e a função [`utils.plot_model`](https://www.tensorflow.org/api_docs/python/tf/keras/utils/plot_model) da biblioteca keras."
   ]
  },
  {
   "cell_type": "code",
   "execution_count": null,
   "metadata": {
    "id": "8bx_lmqq6HEx"
   },
   "outputs": [],
   "source": []
  },
  {
   "cell_type": "markdown",
   "metadata": {
    "id": "qi_3hgcSU3g2"
   },
   "source": [
    "A única camada que temos é o próprio neurônio que criamos. O parâmetro dado nela é definido como 3 pois é considerado **a soma da quantidade de pesos mais a quantidade de viéses**.\n",
    "\n",
    "Os pesos são calculados multiplicando a quantidade de neurônios pela quantidade de entradas, desse modo, como definimos 2 entradas e 1 neurônio, teremos `2 * 1 = 2 pesos`, adicionadno o viés que é igual a quantidade de neurônios temos `2 + 1 = 3 parâmetros`."
   ]
  },
  {
   "cell_type": "code",
   "execution_count": null,
   "metadata": {
    "id": "n7tK6ytX6I5h"
   },
   "outputs": [],
   "source": []
  },
  {
   "cell_type": "markdown",
   "metadata": {
    "id": "evTYaJuaK0ik"
   },
   "source": [
    "#### Pesos e viéses\n",
    "\n",
    "Para identificar os pesos e viés que o modelo vai inicializar, podemos utilizar o método [`get_weights()`](https://keras.io/api/layers/base_layer/#:~:text=%5Bsource%5D-,get_weights%20method,-Layer.get_weights) e o método [`layers`](https://keras.io/api/layers/base_layer/).\n",
    "\n",
    "* `layers`: retorna uma lista contendo as camadas do modelo criado;\n",
    "* `get_weights`: coleta os pesos e viéses da camada enviada como objeto e os retorna como lista."
   ]
  },
  {
   "cell_type": "code",
   "execution_count": null,
   "metadata": {
    "id": "TVrI3SpU6OBh"
   },
   "outputs": [],
   "source": []
  },
  {
   "cell_type": "code",
   "execution_count": null,
   "metadata": {
    "id": "cRJ_nP6G6N8A"
   },
   "outputs": [],
   "source": []
  },
  {
   "cell_type": "code",
   "execution_count": null,
   "metadata": {
    "id": "oA_lncsr6N1q"
   },
   "outputs": [],
   "source": []
  },
  {
   "cell_type": "code",
   "execution_count": null,
   "metadata": {
    "id": "61nym5rs6Nvp"
   },
   "outputs": [],
   "source": []
  },
  {
   "cell_type": "markdown",
   "metadata": {
    "id": "wt2K9dTAJO3N"
   },
   "source": [
    "##### Incializando"
   ]
  },
  {
   "cell_type": "markdown",
   "metadata": {
    "id": "XLELKvFrXhzv"
   },
   "source": [
    "É possivel definir os pesos e viéses antes de criar o modelo, para isso utilizamos dois paramentros:\n",
    "\n",
    "* `kernel_initializer`: inicializa a matriz de pesos do modelo; e\n",
    "* `bias_initializer`: inicializa os valores de viéses.\n",
    "\n",
    "Para definir os pesos iniciais, utilizamos dois métodos de [`keras.initializers`](https://keras.io/api/layers/initializers/):\n",
    "\n",
    "* `keras.initializers.RandomNormal()`, para os pesos; e\n",
    "* `keras.initializers.Ones()`, para o bias."
   ]
  },
  {
   "cell_type": "code",
   "execution_count": null,
   "metadata": {},
   "outputs": [],
   "source": []
  },
  {
   "cell_type": "markdown",
   "metadata": {
    "id": "1YQJCdoULkda"
   },
   "source": [
    "## Dados"
   ]
  },
  {
   "cell_type": "markdown",
   "metadata": {
    "id": "7k8Ty0H9Tg4D"
   },
   "source": [
    "O Iris dataset é um conjunto de dados bem conhecido na comunidade academica, esse conjunto de dados consiste em 50 amostras de cada uma das três espécies (150 amostras, no total) de Iris: *Iris setosa, Iris virginica e Iris versicolor*.\n",
    "\n",
    "Quatro variáveis foram medidas em cada amostra: o comprimento (*length*) e a largura (*width*) das sépalas (*Sepal*) e pétalas (*Petal*), em centímetros. Com base na combinação dessas quatro características, é possível distinguir as espécies umas das outras.\n",
    "\n",
    "![](https://kedro.readthedocs.io/en/0.17.5/_images/iris_measurements.png)\n",
    "\n",
    "Abaixo a representação dos três tipos de flores Iris.\n",
    "\n",
    "![](https://www.embedded-robotics.com/wp-content/uploads/2022/01/Iris-Dataset-Classification.png)"
   ]
  },
  {
   "cell_type": "markdown",
   "metadata": {
    "id": "zxWCoN5ssqmU"
   },
   "source": [
    "### Importando os dados"
   ]
  },
  {
   "cell_type": "markdown",
   "metadata": {
    "id": "X9mKiELXpCNw"
   },
   "source": [
    "É possivel realizar a coleta desse dataset através do método [`datasets`](https://scikit-learn.org/stable/modules/generated/sklearn.datasets.load_iris.html) da biblioteca `sklearn`."
   ]
  },
  {
   "cell_type": "code",
   "execution_count": null,
   "metadata": {
    "id": "KzOberRC5nrB"
   },
   "outputs": [],
   "source": []
  },
  {
   "cell_type": "code",
   "execution_count": null,
   "metadata": {
    "id": "jv49nxxE5nhg"
   },
   "outputs": [],
   "source": []
  },
  {
   "cell_type": "code",
   "execution_count": null,
   "metadata": {
    "id": "6P0T201o5nZ4"
   },
   "outputs": [],
   "source": []
  },
  {
   "cell_type": "code",
   "execution_count": null,
   "metadata": {
    "id": "-cCXUO3v5nTR"
   },
   "outputs": [],
   "source": []
  },
  {
   "cell_type": "code",
   "execution_count": null,
   "metadata": {},
   "outputs": [],
   "source": [
    "import matplotlib.pyplot as plt\n",
    "import seaborn as sns\n",
    "\n",
    "sns.scatterplot(x=x[:,2],y=x[:,3],hue=y,palette='tab10')\n",
    "plt.xlabel('comprimento (cm)',fontsize =16)\n",
    "plt.ylabel('largura (cm)', fontsize=16)\n",
    "plt.title('Distribuição pétalas', fontsize = 18)\n",
    "plt.show()"
   ]
  },
  {
   "cell_type": "code",
   "execution_count": null,
   "metadata": {},
   "outputs": [],
   "source": [
    "sns.scatterplot(x = x[:,0], y = x[:,1], hue = y, palette = \"tab10\")\n",
    "plt.xlabel('comprimeto (cm)', fontsize = 16)\n",
    "plt.ylabel('largura (cm)', fontsize = 16)\n",
    "plt.title('Distribuição sépalas', fontsize = 18)\n",
    "plt.show()"
   ]
  },
  {
   "cell_type": "markdown",
   "metadata": {
    "id": "lUbXWgdpmcVr"
   },
   "source": [
    "### Tratamento"
   ]
  },
  {
   "cell_type": "markdown",
   "metadata": {
    "id": "zEcmmwllb7Fa"
   },
   "source": [
    "#### Categorização"
   ]
  },
  {
   "cell_type": "code",
   "execution_count": null,
   "metadata": {
    "id": "8lxrugmF5dI6"
   },
   "outputs": [],
   "source": []
  },
  {
   "cell_type": "code",
   "execution_count": null,
   "metadata": {
    "id": "8iU5wYRS5dDK"
   },
   "outputs": [],
   "source": []
  },
  {
   "cell_type": "code",
   "execution_count": null,
   "metadata": {
    "id": "Ldfp629B5c8x"
   },
   "outputs": [],
   "source": []
  },
  {
   "cell_type": "markdown",
   "metadata": {
    "id": "HvXqF0mjcA6T"
   },
   "source": [
    "#### Normalização\n",
    "\n",
    "Os dados serão normalizados entre [0, 1], para isso utilizamos o método [`MinMaxScaler`](https://scikit-learn.org/stable/modules/generated/sklearn.preprocessing.MinMaxScaler)"
   ]
  },
  {
   "cell_type": "code",
   "execution_count": null,
   "metadata": {
    "id": "Mr8-P_FQ5baJ"
   },
   "outputs": [],
   "source": []
  },
  {
   "cell_type": "markdown",
   "metadata": {
    "id": "4gFxAbq-B0fI"
   },
   "source": [
    "#### Separação de conjunto\n",
    "\n",
    "A separação em conjuntos de treino e teste garantem um melhor processo de criação do modelo. Esses conjuntos são definidos a partir do conjunto total de dados, o qual separameos por proporções:\n",
    "\n",
    "* **80%** - Treino\n",
    "* **20%** - Teste"
   ]
  },
  {
   "cell_type": "code",
   "execution_count": null,
   "metadata": {
    "id": "b2Vy9GBW5U_5"
   },
   "outputs": [],
   "source": []
  },
  {
   "cell_type": "code",
   "execution_count": null,
   "metadata": {
    "id": "5LYxtRp75U4x"
   },
   "outputs": [],
   "source": []
  },
  {
   "cell_type": "code",
   "execution_count": null,
   "metadata": {
    "id": "tP-_Mck_5Uxh"
   },
   "outputs": [],
   "source": []
  },
  {
   "cell_type": "markdown",
   "metadata": {
    "id": "BMS-65LusijP"
   },
   "source": [
    "## Modelo - MLP"
   ]
  },
  {
   "cell_type": "markdown",
   "metadata": {
    "id": "ybG-0Kju1KiI"
   },
   "source": [
    "### Criação do modelo\n",
    "\n",
    "Fazemos um modelo MLP definido por 1 camada de entrada, 1 camada oculta e 1 camada de saída."
   ]
  },
  {
   "cell_type": "code",
   "execution_count": null,
   "metadata": {
    "id": "JVXo39JO4_OZ"
   },
   "outputs": [],
   "source": []
  },
  {
   "cell_type": "code",
   "execution_count": null,
   "metadata": {
    "id": "8lN5nlK74_D6"
   },
   "outputs": [],
   "source": []
  },
  {
   "cell_type": "markdown",
   "metadata": {
    "id": "Qj3CF2Au2KyD"
   },
   "source": [
    "### Treinamento"
   ]
  },
  {
   "cell_type": "markdown",
   "metadata": {
    "id": "08Vvd91Rcgfs"
   },
   "source": [
    "#### Compilando o modelo\n",
    "\n",
    "Compilar o modelo se dá pelo método [`compile`](https://keras.io/api/models/model_training_apis/). Nessa etapa devemos especificar a função de perda e o otimizador a ser usado. Uma opção também é especificar as métricas a serem calculadas durante o treinamento e avaliação do modelo."
   ]
  },
  {
   "cell_type": "code",
   "execution_count": null,
   "metadata": {
    "id": "nHNU9fOA42y6"
   },
   "outputs": [],
   "source": []
  },
  {
   "cell_type": "markdown",
   "metadata": {
    "id": "4WF6jy7Pmfzf"
   },
   "source": [
    "**Explicação:**\n",
    "\n",
    "1. A perda escolhida foi a `'categorical_crossentropy'` pois os resultads em y são valores categóricos.\n",
    "2. O uso do otimizador `'rmsprop'` indica que iremos treinar o modelo baseado em gradiente descendente, que calcula a média móvel de gradientes quadrados para normalizar o gradiente (processo de retropropagação será aplicado ao realizar o treinamento).\n",
    "3. Por esse modelo ser um classificador simples, é interessante calcular o valor da acurácia durante o treino e validação."
   ]
  },
  {
   "cell_type": "markdown",
   "metadata": {
    "id": "2_iPYpyZcjLn"
   },
   "source": [
    "#### Treino\n",
    "\n",
    "O treinamento é feito com o método `fit`, sendo especificado as entredas e saídas esperadas de treino, épocas e também os dados de validação."
   ]
  },
  {
   "cell_type": "markdown",
   "metadata": {
    "id": "rEsIX9i-mtIe"
   },
   "source": [
    "**Explicação:**\n",
    "\n",
    "1. Para treinamento é preciso passar os dados de entradas e saídas do conjunto de treinamento.\n",
    "2. Nesse caso o número de épocas também é essencial pois o padrão da biblioteca é 1 época, o que não é tão bom para o aprendizado.\n",
    "3. Passamos também a porcentagem do conjunto de validação para serem considerados do conjunto de treino - 30% do conjunto de treino"
   ]
  },
  {
   "cell_type": "code",
   "execution_count": null,
   "metadata": {
    "id": "evWZPYWJ4xya"
   },
   "outputs": [],
   "source": []
  },
  {
   "cell_type": "markdown",
   "metadata": {
    "id": "5YUF_A1qxWbn"
   },
   "source": [
    "**Interpretando a exibição:**\n",
    "\n",
    "Exemplo de exibição: \n",
    "```\n",
    "Epoch 100/100\n",
    "3/3 [==============================] - 0s 47ms/step - loss: 0.1451 - categorical_accuracy: 0.9524 - val_loss: 0.1456 - val_categorical_accuracy: 0.9722\n",
    "```\n",
    "- A época de treinamento: *`Epoch 100/100`*\n",
    "- Quantidade de **instâncias processadas**: *`3/3`*\n",
    "  * Aqui, temos a quantidade de amostras divididas pela número de [batch_size](https://www.deeplearningbook.com.br/o-efeito-do-batch-size-no-treinamento-de-redes-neurais-artificiais/). Normalmente a batch é definida com 32 no keras, temos 84 amostras (70% do conjunto de treino) no treinamento, resultando assim em aproximadamente 3 instâncias.\n",
    "- A barra de progresso: *`[==============================]`*\n",
    "- Tempo de treinamento de cada amostra: *`0s 13ms/step`*\n",
    "- Perda e acurária no conjunto de treinamento: *`loss: 0.1506 - categorical_accuracy: 0.9524`*\n",
    "- Perda e acurária no conjunto de validação: *`val_loss: 0.1494 - val_categorical_accuracy: 0.9722`*"
   ]
  },
  {
   "cell_type": "markdown",
   "metadata": {
    "id": "Xo_FaGu90YOt"
   },
   "source": [
    "### Avaliação"
   ]
  },
  {
   "cell_type": "markdown",
   "metadata": {
    "id": "dUAsjXu28U0T"
   },
   "source": [
    "#### Aprendizado\n",
    "\n",
    "Podemos avaliar o desempenho do nosso modelo durante o treinamento com os dados de `historico` através do método `history` e plotar o processo de aprendizado"
   ]
  },
  {
   "cell_type": "code",
   "execution_count": null,
   "metadata": {
    "id": "8rqFkNgb4UXK"
   },
   "outputs": [],
   "source": []
  },
  {
   "cell_type": "code",
   "execution_count": null,
   "metadata": {
    "id": "EsYCNuAp4SuS"
   },
   "outputs": [],
   "source": []
  },
  {
   "cell_type": "markdown",
   "metadata": {
    "id": "nTSMv08X3own"
   },
   "source": [
    "Para observar mais de perto o aprendizado do modelo podemos plotar curvas individuais e perceber como no aprendizado, ambos os conjuntos obtiveram resultados similares. Isso nos garante que não ocorreu sobreajuste no treinamento.\n",
    "\n",
    "A constancia das curvas é diferente pois os valores de erro  da validação é calculada por época e para o treinamento é feito uma média dos valores de erro durante as iterações de cada época."
   ]
  },
  {
   "cell_type": "code",
   "execution_count": null,
   "metadata": {
    "id": "lVRjbAhb3576"
   },
   "outputs": [],
   "source": [
    "fig, ax = plt.subplots(1,2, figsize=(14,5))\n",
    "ax[0].plot(historico.history['loss'], color='#111487', linewidth=3, label=\"Perda de treinamento\")\n",
    "ax[0].plot(historico.history['val_loss'], color='#EFA316', linewidth=3, label=\"Perda da validação\",axes =ax[0])\n",
    "legend = ax[0].legend(loc='best', shadow=True)\n",
    "\n",
    "ax[1].plot(historico.history['categorical_accuracy'], color='#111487', linewidth=3, label=\"Acurácia de treinamento\")\n",
    "ax[1].plot(historico.history['val_categorical_accuracy'], color='#EFA316', linewidth=3, label=\"Acurácia de validação\")\n",
    "legend = ax[1].legend(loc='best', shadow=True)\n",
    "\n",
    "plt.suptitle('Desempenho do treinamento', fontsize = 18)\n",
    "plt.show()"
   ]
  },
  {
   "cell_type": "markdown",
   "metadata": {
    "id": "i4_zjfM_Lo2Z"
   },
   "source": [
    "#### Teste\n",
    "\n",
    "Podemos testar o modelo e verificar seu resultado final através do método [`evaluate`](https://keras.io/api/models/model_training_apis/#:~:text=%5Bsource%5D-,evaluate%20method,-Model.evaluate) que nos mostra a perda e acurácia obtida no conjunto de teste."
   ]
  },
  {
   "cell_type": "code",
   "execution_count": null,
   "metadata": {
    "id": "P0sL5Gzz3xVC"
   },
   "outputs": [],
   "source": []
  },
  {
   "cell_type": "markdown",
   "metadata": {
    "id": "S1c0zg0q9L7m"
   },
   "source": [
    "O método [`predict`](https://keras.io/api/models/model_training_apis/#:~:text=%5Bsource%5D-,predict%20method,-Model.predict) gera a predição do modelo para as entradas enviadas.\n",
    "\n",
    "Faremos o teste: as entradas `[[0.61, 0.5, 0.69, 0.79]]` devem resultar em uma indicação de flor Virginica - `[0., 0., 1.]`"
   ]
  },
  {
   "cell_type": "code",
   "execution_count": null,
   "metadata": {
    "id": "Z--7p0UG3zn6"
   },
   "outputs": [],
   "source": []
  }
 ],
 "metadata": {
  "colab": {
   "collapsed_sections": [],
   "provenance": [],
   "toc_visible": true
  },
  "kernelspec": {
   "display_name": "rapids",
   "language": "python",
   "name": "python3"
  },
  "language_info": {
   "name": "python",
   "version": "3.11.9"
  }
 },
 "nbformat": 4,
 "nbformat_minor": 0
}
