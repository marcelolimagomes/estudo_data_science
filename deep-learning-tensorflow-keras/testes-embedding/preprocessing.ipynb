{
 "cells": [
  {
   "cell_type": "code",
   "execution_count": 20,
   "metadata": {},
   "outputs": [
    {
     "name": "stdout",
     "output_type": "stream",
     "text": [
      "<class 'pandas.core.frame.DataFrame'>\n",
      "RangeIndex: 1230424 entries, 0 to 1230423\n",
      "Data columns (total 2 columns):\n",
      " #   Column  Non-Null Count    Dtype \n",
      "---  ------  --------------    ----- \n",
      " 0   word    1230424 non-null  object\n",
      " 1   count   1230424 non-null  int64 \n",
      "dtypes: int64(1), object(1)\n",
      "memory usage: 18.8+ MB\n",
      "(79999,)\n"
     ]
    }
   ],
   "source": [
    "import tensorflow as tf \n",
    "import pandas as pd \n",
    "from tensorflow.keras.preprocessing.sequence import pad_sequences\n",
    "\n",
    "# Parameters\n",
    "vocab_size = 80000  # Vocabulary size\n",
    "maxlen = 80  # Maximum length of input sequences\n",
    "dim_model = 256  # Dimension of the model\n",
    "num_heads = 8  # Number of attention heads\n",
    "ff_dim = 512  # Dimension of the feed-forward layer\n",
    "num_blocks = 4  # Number of transformer blocks\n",
    "dropout = 0.1  # Dropout rate\n",
    "\n",
    "batch_size = 128\n",
    "\n",
    "clearned_corpus = f'./data/clearned_corpus_00.txt.gz'\n",
    "file_word_dict = './data/word_dict.pickle'\n",
    "file_count_words = './data/count_words.parquet'\n",
    "model_filename = './models/nano_gpt_v3_by_marcelo.keras'\n",
    "\n",
    "df_count_words = pd.read_parquet(file_count_words, engine='pyarrow')\n",
    "df_count_words.info()\n",
    "vocab = df_count_words.sort_values('count', ascending=False).head(vocab_size - 1)['word'].unique().copy()\n",
    "del df_count_words\n",
    "print(vocab.shape)\n",
    "\n",
    "\n",
    "tokenizer = tf.keras.preprocessing.text.Tokenizer(num_words=vocab_size, oov_token='<OOV>', filters='')\n",
    "tokenizer.fit_on_texts(vocab)"
   ]
  },
  {
   "cell_type": "code",
   "execution_count": 1,
   "metadata": {},
   "outputs": [
    {
     "data": {
      "text/plain": [
       "'fazenda'"
      ]
     },
     "execution_count": 1,
     "metadata": {},
     "output_type": "execute_result"
    }
   ],
   "source": [
    "a = 'a casa na fazenda'\n",
    "a.split()[-1]"
   ]
  },
  {
   "cell_type": "code",
   "execution_count": 21,
   "metadata": {},
   "outputs": [
    {
     "data": {
      "text/plain": [
       "array([[    0,     0,     0,     0,     0,   644, 16336,     5,    93,\n",
       "            1]], dtype=int32)"
      ]
     },
     "execution_count": 21,
     "metadata": {},
     "output_type": "execute_result"
    }
   ],
   "source": [
    "sequences = tokenizer.texts_to_sequences([\"eu amo o brasil asdfas\"])\n",
    "padded_sequences = pad_sequences(sequences, padding=\"pre\", maxlen=10) \n",
    "padded_sequences"
   ]
  },
  {
   "cell_type": "code",
   "execution_count": 22,
   "metadata": {},
   "outputs": [
    {
     "data": {
      "text/plain": [
       "['<OOV> <OOV> <OOV> <OOV> <OOV> eu amo o brasil <OOV>']"
      ]
     },
     "execution_count": 22,
     "metadata": {},
     "output_type": "execute_result"
    }
   ],
   "source": [
    "tokenizer.sequences_to_texts(padded_sequences)"
   ]
  },
  {
   "cell_type": "code",
   "execution_count": 23,
   "metadata": {},
   "outputs": [
    {
     "data": {
      "text/plain": [
       "80000"
      ]
     },
     "execution_count": 23,
     "metadata": {},
     "output_type": "execute_result"
    }
   ],
   "source": [
    "len(tokenizer.word_index)"
   ]
  },
  {
   "cell_type": "code",
   "execution_count": 7,
   "metadata": {},
   "outputs": [],
   "source": [
    "import gzip\n",
    "import json\n",
    "import re\n",
    "import string\n",
    "import gzip\n",
    "import pickle\n",
    "import pandas as pd\n",
    "import glob\n",
    "import pickle\n",
    "import os\n",
    "\n",
    "from multiprocessing import Pool\n",
    "\n",
    "filename = './data/ptwiki-articles-text-cleaned/AA/wiki_00'\n",
    "path_files = './data/ptwiki-articles-text/**/*'\n",
    "clearned_corpus = './data/clearned_corpus_{:02d}.txt.gz'\n",
    "path_clearned_corpus = './data/clearned_corpus_*.txt.gz'\n",
    "file_word_dict = './data/word_dict.pickle'\n",
    "file_count_words = './data/count_words.parquet'\n",
    "\n",
    "regex = r\"([\" + string.punctuation + '—–¿!' + \"])\""
   ]
  },
  {
   "cell_type": "code",
   "execution_count": 2,
   "metadata": {},
   "outputs": [],
   "source": [
    "samples = 2000000\n",
    "# samples = 5000\n",
    "maxlen = 80 + 1"
   ]
  },
  {
   "cell_type": "code",
   "execution_count": null,
   "metadata": {},
   "outputs": [],
   "source": [
    "\n",
    "def remove_spaces(line):\n",
    "  punct_pattern = re.compile('[' + re.escape('\\'\"()[]{}●') + ']')\n",
    "  line = re.sub(punct_pattern, ' ', line)\n",
    "  alphabet = 'qwertyuiopasdfghjklçzxcvbnmàèìòùáéíóúâêîôûãõñïüýỳŷỹ'\n",
    "  puncts = ',.;:?¿!¡'\n",
    "  for c in alphabet:\n",
    "    for p in puncts:\n",
    "      line = line.replace(f'{c}{p}', f'{c} {p}')\n",
    "\n",
    "  while '  ' in line:\n",
    "    line = line.replace('  ', ' ').strip()\n",
    "  while '..' in line:\n",
    "    line = line.replace('..', '.')\n",
    "  while '\\n' in line:\n",
    "    line = line.replace('\\n', ' ').strip()\n",
    "\n",
    "  return line.lower()\n",
    "  ### === END FUNCTION\n",
    "\n",
    "list_files = glob.glob(path_files)\n",
    "\n",
    "count_fileout = 1\n",
    "count_filein = 0\n",
    "len_filein = len(list_files)\n",
    "count = 0\n",
    "for filename in list_files:\n",
    "  count_filein += 1\n",
    "  with open(filename, 'r') as f:\n",
    "    line_aux = ''\n",
    "    for line in f.readlines():\n",
    "      if '<doc' in line or '</doc' in line:\n",
    "        continue\n",
    "\n",
    "      if len(line.split()) < maxlen:\n",
    "        line_aux += ' ' + remove_spaces(line_aux)\n",
    "        continue\n",
    "      line = remove_spaces(line)\n",
    "      _splited = line.split()\n",
    "      if len(_splited) > maxlen - 2:\n",
    "        _splited = _splited[:maxlen - 2]\n",
    "      with gzip.open(clearned_corpus.format(count_fileout), 'at') as f_out:\n",
    "        for i in range(1, len(_splited)):\n",
    "          f_out.write(' '.join(_splited[0:i + 1]) + '\\n')\n",
    "          count += 1\n",
    "        f_out.write(' '.join(_splited) + ' [eos]\\n')  # Sempre escreve a última linha\n",
    "        count += 1\n",
    "      if count >= samples:\n",
    "        print(f'Count file_in: {count_filein}/{len_filein} - Count file_out: {count_fileout}')\n",
    "        count = 0\n",
    "        count_fileout += 1\n",
    "\n",
    "      line_aux = ''"
   ]
  },
  {
   "cell_type": "code",
   "execution_count": 5,
   "metadata": {},
   "outputs": [],
   "source": [
    "def list_of_words(file: str):\n",
    "  list_unique_word_file = set()\n",
    "  list_count_words_file = {}\n",
    "  with gzip.open(file, 'rt') as f_in:\n",
    "    lines = f_in.readlines()\n",
    "    for line in lines:\n",
    "      for w in line.split():\n",
    "        list_unique_word_file.add(w)\n",
    "        if w in list_count_words_file:\n",
    "          list_count_words_file[w] += 1\n",
    "        else:\n",
    "          list_count_words_file[w] = 1\n",
    "    print(f'Size of Dict for file {file}: {len(list_unique_word_file)}')\n",
    "  return list_unique_word_file, list_count_words_file"
   ]
  },
  {
   "cell_type": "code",
   "execution_count": null,
   "metadata": {},
   "outputs": [],
   "source": [
    "input_filenames = glob.glob(path_clearned_corpus)\n",
    "print('files:', len(input_filenames))\n",
    "\n",
    "with Pool(processes=os.cpu_count()) as pool:\n",
    "  list_unique_word_all = set()\n",
    "  list_count_words_all = {}\n",
    "  processes = []\n",
    "  for input_file in input_filenames:\n",
    "    p = pool.apply_async(list_of_words, ([input_file]))\n",
    "    processes.append(p)\n",
    "  for p in processes:\n",
    "    result_unique_word_file, result_count_word_file = p.get()\n",
    "\n",
    "    for word in result_unique_word_file:  # append word distinct\n",
    "      list_unique_word_all.add(word)\n",
    "\n",
    "    for word in result_count_word_file:  # count how many times a word was used\n",
    "      if word in list_count_words_all:\n",
    "        list_count_words_all[word] += result_count_word_file[word]\n",
    "      else:\n",
    "        list_count_words_all[word] = result_count_word_file[word]\n",
    "\n",
    "  print(f'Size of Dict for ALL files: {len(list_unique_word_all)}')"
   ]
  },
  {
   "cell_type": "code",
   "execution_count": null,
   "metadata": {},
   "outputs": [],
   "source": [
    "word_dict = {}\n",
    "for i, word in enumerate(list_unique_word_all):\n",
    "  word_dict[i] = word\n",
    "print('size of word_dict:', len(word_dict))\n",
    "# Store data (serialize)\n",
    "with open(file_word_dict, 'wb') as handle:\n",
    "  pickle.dump(word_dict, handle, protocol=pickle.HIGHEST_PROTOCOL)\n",
    "  print(f'word_dict save to file: {file_word_dict}')"
   ]
  },
  {
   "cell_type": "code",
   "execution_count": null,
   "metadata": {},
   "outputs": [],
   "source": [
    "import pandas as pd\n",
    "\n",
    "df = pd.DataFrame(list_count_words_all.items(), columns=['word', 'count'])\n",
    "df.info()"
   ]
  },
  {
   "cell_type": "code",
   "execution_count": null,
   "metadata": {},
   "outputs": [],
   "source": [
    "df.sort_values('count', ascending=False).head(100)"
   ]
  },
  {
   "cell_type": "code",
   "execution_count": 12,
   "metadata": {},
   "outputs": [],
   "source": [
    "df.to_parquet(file_count_words, engine='pyarrow', compression='gzip')"
   ]
  }
 ],
 "metadata": {
  "kernelspec": {
   "display_name": "nlp",
   "language": "python",
   "name": "python3"
  },
  "language_info": {
   "codemirror_mode": {
    "name": "ipython",
    "version": 3
   },
   "file_extension": ".py",
   "mimetype": "text/x-python",
   "name": "python",
   "nbconvert_exporter": "python",
   "pygments_lexer": "ipython3",
   "version": "3.12.8"
  }
 },
 "nbformat": 4,
 "nbformat_minor": 2
}
