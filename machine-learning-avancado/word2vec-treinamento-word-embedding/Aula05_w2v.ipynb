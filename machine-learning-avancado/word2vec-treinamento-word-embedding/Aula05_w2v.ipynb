{
  "cells": [
    {
      "cell_type": "code",
      "execution_count": null,
      "metadata": {
        "colab": {
          "base_uri": "https://localhost:8080/",
          "height": 619
        },
        "colab_type": "code",
        "id": "lwFC0pOSITsz",
        "outputId": "f5b6b875-ef14-4389-dbfb-6fe5cbb25fac"
      },
      "outputs": [],
      "source": [
        "!python -m spacy download pt_core_news_sm"
      ]
    },
    {
      "cell_type": "code",
      "execution_count": 1,
      "metadata": {
        "colab": {
          "base_uri": "https://localhost:8080/",
          "height": 74
        },
        "colab_type": "code",
        "id": "kmUZvse1UCVb",
        "outputId": "2e2aa1b8-a0d1-4f28-8244-046ea458d42a"
      },
      "outputs": [],
      "source": [
        "import spacy\n",
        "import numpy as np\n",
        "import pandas as pd\n",
        "from gensim.models import KeyedVectors\n",
        "\n",
        "spacy.prefer_gpu()\n",
        "\n",
        "w2v_modelo_cbow = KeyedVectors.load_word2vec_format(\"modelo_cbow.txt\")\n",
        "w2v_modelo_sg = KeyedVectors.load_word2vec_format(\"modelo_skipgram.txt\")\n",
        "artigo_treino = pd.read_csv(\"../introducao-word-embedding/treino.csv\")\n",
        "artigo_teste = pd.read_csv(\"../introducao-word-embedding/teste.csv\")"
      ]
    },
    {
      "cell_type": "code",
      "execution_count": 2,
      "metadata": {
        "colab": {
          "base_uri": "https://localhost:8080/",
          "height": 35
        },
        "colab_type": "code",
        "id": "0X5lI4-NSlRI",
        "outputId": "04266ca0-0d79-4016-877a-7b66480859e4"
      },
      "outputs": [
        {
          "name": "stdout",
          "output_type": "stream",
          "text": [
            "['rio', 'janeiro', 'cidade', 'maravilhosa']\n"
          ]
        }
      ],
      "source": [
        "nlp = spacy.load(\"pt_core_news_sm\", disable=[\"paser\", \"ner\", \"tagger\", \"textcat\"])\n",
        "\n",
        "def tokenizador(texto):\n",
        "    \n",
        "    doc = nlp(texto)\n",
        "    tokens_validos = []\n",
        "    for token in doc:\n",
        "        e_valido = not token.is_stop and token.is_alpha\n",
        "        if e_valido:\n",
        "            tokens_validos.append(token.text.lower())\n",
        "\n",
        "    \n",
        "    return  tokens_validos\n",
        "\n",
        "texto = \"Rio de Janeiro 1231231 ***** @#$ é uma cidade maravilhosa!\"\n",
        "tokens = tokenizador(texto)\n",
        "print(tokens)"
      ]
    },
    {
      "cell_type": "code",
      "execution_count": 3,
      "metadata": {
        "colab": {
          "base_uri": "https://localhost:8080/",
          "height": 1000
        },
        "colab_type": "code",
        "id": "2_GCypILSVga",
        "outputId": "012711bc-b25b-41fe-ec06-188041c70091"
      },
      "outputs": [
        {
          "name": "stdout",
          "output_type": "stream",
          "text": [
            "(1, 300)\n",
            "[[ 1.35496333e-01  2.48119560e+00  1.35839716e+00  5.15865952e-01\n",
            "   4.14586097e+00 -8.06703851e-01 -1.07618248e+00  3.18539590e+00\n",
            "   1.33622754e+00 -1.87997244e+00 -1.01188534e+00 -5.28258681e-01\n",
            "  -2.66777650e-01  2.56107658e-01 -4.11424503e-01 -1.21356970e+00\n",
            "   1.72387844e+00  4.60876465e-01  1.66882755e+00  9.06709813e-01\n",
            "  -1.71362711e+00  1.45900123e-01  1.05301522e-01  3.15188468e+00\n",
            "   2.80815399e-01 -5.61452629e-01  2.42183506e-02  2.60848173e+00\n",
            "  -5.14426664e-01  2.06357020e+00 -4.45397642e-01 -1.26932591e-01\n",
            "   1.68718985e+00 -7.20640633e-01 -1.94688791e+00 -1.18843151e+00\n",
            "  -3.77514176e-02 -1.34002839e+00 -5.38701827e-01  8.48240623e-01\n",
            "  -2.54380751e-01 -7.16149107e-01 -3.40202525e-02 -4.14664600e-01\n",
            "  -7.58426458e-01 -6.78785816e-01  1.01885460e+00  5.34720957e-01\n",
            "   5.68616301e-01 -3.40298191e-01 -4.93754748e-01 -2.30744720e+00\n",
            "  -6.13884859e-01 -1.49822336e+00  1.72477363e+00 -6.01086423e-01\n",
            "   1.45934559e+00 -7.78351218e-01  2.92060822e-01  1.16249223e+00\n",
            "  -1.51157298e+00 -2.63386172e+00 -9.75322127e-02 -7.09502906e-01\n",
            "  -2.57097590e+00  2.26809677e+00  1.11198743e+00 -3.53775606e-01\n",
            "  -1.63171548e+00  1.04731940e-01  1.02477375e+00  2.13469148e-01\n",
            "   1.31974718e+00 -9.04569417e-01 -7.06158474e-01  2.87367238e-01\n",
            "  -4.40420717e-01 -6.70341700e-02 -1.59607725e+00  3.28321606e-01\n",
            "  -1.87878887e+00  6.44122720e-01 -3.26618344e-01  1.46150789e+00\n",
            "  -4.86241877e-02 -8.41536872e-01 -4.81207892e-01 -2.49601856e+00\n",
            "  -9.49918702e-02 -7.51153636e-02  2.39283162e+00  2.31061250e-01\n",
            "   7.04274625e-01  1.36168358e+00  1.06630999e+00 -3.33500966e-01\n",
            "   1.28202787e+00  3.02908897e-01  1.57307237e-02  1.37070701e+00\n",
            "  -1.19678468e-01  2.21658906e+00 -1.06842090e+00  9.71332645e-01\n",
            "   3.74472588e-01 -1.14451981e+00  1.11180048e+00 -8.53123508e-01\n",
            "  -1.69387922e-01  6.51546568e-01 -2.74740927e-01  1.67846948e+00\n",
            "   1.53149724e-01 -5.60285538e-01  4.35821593e-01  1.26416200e+00\n",
            "   3.44183147e-01 -5.04033715e-02 -4.75603122e-01 -3.48086994e-01\n",
            "   5.68035930e-01 -4.17395294e-01 -9.43384574e-01 -7.04201816e-01\n",
            "  -9.39757161e-01 -3.71156186e-01 -1.74730832e+00 -1.44369863e+00\n",
            "   7.40985841e-01  2.20076811e+00  1.24461539e+00  2.16876727e+00\n",
            "   1.05875134e+00 -1.54593671e+00  6.90763757e-01 -2.24244975e-01\n",
            "  -2.87703693e-01  4.26697806e-01 -6.62177533e-01  5.15655875e-01\n",
            "  -3.16965967e-01  1.07185070e+00  1.64213884e+00 -6.66747630e-01\n",
            "   1.46272027e+00 -9.65175649e-01 -1.37582630e-01 -2.43403211e-01\n",
            "   4.56619546e-01  1.04638822e-01  1.05079132e+00  1.29673779e-01\n",
            "  -1.02470690e+00  3.42156231e-01  9.84494612e-01  3.32048535e-01\n",
            "  -1.00203004e+00 -1.23889956e+00  8.94469082e-01  7.39090384e-01\n",
            "   2.10488254e+00  2.02101824e+00  8.16302821e-01  8.20520610e-01\n",
            "  -1.75759792e-01 -1.92923457e+00  1.95915222e+00 -3.40344101e-01\n",
            "  -1.59090567e-01 -7.96781480e-01  1.24829414e+00 -1.08947943e+00\n",
            "   3.53586439e-01 -7.75284603e-01  2.42805903e-01  2.31297565e+00\n",
            "   2.27853262e+00 -1.46747860e+00  1.62973404e-01  2.39485584e-01\n",
            "   1.11217637e+00 -7.12351754e-01 -6.04121741e-01  1.52118830e+00\n",
            "   2.12291345e-01  1.37373072e+00  1.71449515e+00  4.04385507e-01\n",
            "   1.50921047e+00 -1.61188552e+00  8.91840279e-01  1.57420543e+00\n",
            "  -1.10595477e+00  3.00612479e-01 -2.69210693e+00  6.99907497e-01\n",
            "  -5.69794744e-01 -3.13887954e-01  1.06946222e-01  1.10866419e+00\n",
            "   7.74496242e-01  8.81275952e-01  8.48820150e-01  1.25712799e+00\n",
            "   1.69240111e+00 -1.68695408e+00 -2.74283413e-01  8.56668919e-01\n",
            "   1.16292892e+00 -7.96946097e-01 -5.02861105e-01 -3.11516175e+00\n",
            "  -2.35487133e-01 -2.81157216e+00 -7.60125816e-01  4.93243933e-02\n",
            "   2.08814815e+00 -1.53550071e+00 -3.09666246e-01  3.30163635e-01\n",
            "   2.61150831e+00 -7.20511690e-01  6.44784868e-01 -1.64113963e+00\n",
            "  -9.68731351e-01 -8.28569368e-01 -8.81180111e-01 -2.05981466e+00\n",
            "   1.83084376e-01 -3.17797214e-01 -8.21408287e-01 -3.15679293e-02\n",
            "  -4.12707448e-01 -1.40360489e-01 -1.62979421e+00 -1.23456705e+00\n",
            "   2.63139725e+00 -9.64290425e-02  1.36162072e-01 -1.38368940e+00\n",
            "   9.34854075e-01 -7.31063288e-01  1.55633083e+00  2.72721780e-01\n",
            "  -2.72384599e-01 -3.01459938e-01  7.01603755e-01 -5.84188104e-01\n",
            "   4.15930048e-01  8.23227353e-02 -5.44576824e-01  1.57883246e+00\n",
            "   1.27181551e+00  4.19704318e-02 -1.76509611e-01 -5.43303319e-01\n",
            "   2.05503497e+00 -4.46308032e-01 -1.09506739e+00  1.41109794e+00\n",
            "   1.61770691e+00 -1.55418873e-01  9.60714471e-01 -1.81413931e+00\n",
            "   5.95668979e-01  1.58217423e+00 -9.79728222e-01  4.21157606e-01\n",
            "  -1.87194547e+00 -3.21821272e-02 -3.54240313e-01 -1.68987721e-01\n",
            "   2.69214809e-01  2.10967499e+00  9.53836948e-01 -1.46844839e+00\n",
            "   1.70718534e+00 -2.03403343e+00 -8.37855749e-01 -8.33829880e-01\n",
            "   6.21535845e-01  2.53104784e-01 -1.12105921e-01  9.42510158e-01\n",
            "   1.03331923e+00 -7.05565117e-01 -4.25198503e-01 -1.23927448e-01\n",
            "   5.25543906e-01  1.13757394e-01  1.59815783e+00  7.50995332e-01\n",
            "   1.53977257e+00 -2.30729911e-01  7.11148545e-01 -7.21180439e-02\n",
            "   8.90936486e-01  1.36824881e+00 -2.15223432e-03  1.46362746e+00]]\n"
          ]
        }
      ],
      "source": [
        "def combinacao_de_vetores_por_soma(palavras, modelo):\n",
        "\n",
        "    vetor_resultante = np.zeros((1,300))\n",
        "\n",
        "    for pn in palavras:\n",
        "        try:\n",
        "            vetor_resultante += modelo.get_vector(pn)\n",
        "\n",
        "        except KeyError:\n",
        "            pass\n",
        "                \n",
        "\n",
        "    return vetor_resultante\n",
        "\n",
        "vetor_texto = combinacao_de_vetores_por_soma(tokens, w2v_modelo_cbow)\n",
        "print(vetor_texto.shape)\n",
        "print(vetor_texto)"
      ]
    },
    {
      "cell_type": "code",
      "execution_count": 4,
      "metadata": {
        "colab": {
          "base_uri": "https://localhost:8080/",
          "height": 54
        },
        "colab_type": "code",
        "id": "CSXjHM9sSQY8",
        "outputId": "74f5a18c-daed-40ee-cd07-b3a80806086f"
      },
      "outputs": [
        {
          "name": "stdout",
          "output_type": "stream",
          "text": [
            "(90000, 300)\n",
            "(20513, 300)\n"
          ]
        }
      ],
      "source": [
        "def matriz_vetores(textos, modelo):\n",
        "    x = len(textos)\n",
        "    y = 300\n",
        "    matriz = np.zeros((x,y))\n",
        "\n",
        "    for i in range(x):\n",
        "        palavras = tokenizador(textos.iloc[i])\n",
        "        matriz[i] = combinacao_de_vetores_por_soma(palavras, modelo)\n",
        "\n",
        "    return matriz\n",
        "\n",
        "matriz_vetores_treino_cbow = matriz_vetores(artigo_treino.title, w2v_modelo_cbow)\n",
        "matriz_vetores_teste_cbow = matriz_vetores(artigo_teste.title, w2v_modelo_cbow)\n",
        "print(matriz_vetores_treino_cbow.shape)\n",
        "print(matriz_vetores_teste_cbow.shape) "
      ]
    }
  ],
  "metadata": {
    "colab": {
      "name": "Aula05_w2v.ipynb",
      "provenance": []
    },
    "kernelspec": {
      "display_name": "Python 3",
      "name": "python3"
    },
    "language_info": {
      "codemirror_mode": {
        "name": "ipython",
        "version": 3
      },
      "file_extension": ".py",
      "mimetype": "text/x-python",
      "name": "python",
      "nbconvert_exporter": "python",
      "pygments_lexer": "ipython3",
      "version": "3.11.9"
    }
  },
  "nbformat": 4,
  "nbformat_minor": 0
}
