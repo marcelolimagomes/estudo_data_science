{
  "cells": [
    {
      "cell_type": "markdown",
      "metadata": {
        "id": "2SObXMCjZBYK"
      },
      "source": [
        "# Carregar e Explorar os Dados"
      ]
    },
    {
      "cell_type": "code",
      "execution_count": null,
      "metadata": {
        "colab": {
          "base_uri": "https://localhost:8080/"
        },
        "id": "m380cqox9jA4",
        "outputId": "decc9bcb-35a7-4363-d6f4-7d6820f381f1"
      },
      "outputs": [
        {
          "name": "stdout",
          "output_type": "stream",
          "text": [
            "                                 DS_ITEM_AGENDAMENTO  IDADE TIPO_CONVENIO  \\\n",
            "0                 AUDIOMETRIA TONAL DE DISCRIMINACAO     60      CONVENIO   \n",
            "1  PESQUISA DE POTENCIAIS AUDITIVOS DE TRONCO CER...     66      CONVENIO   \n",
            "2  PESQUISA DE POTENCIAIS AUDITIVOS DE TRONCO CER...     10      CONVENIO   \n",
            "3                                 ELETROCOCLEOGRAFIA     64      CONVENIO   \n",
            "4                                 ELETROCOCLEOGRAFIA     25      CONVENIO   \n",
            "\n",
            "   NR_DDD_CELULAR TIPO_PRESENCA DATA_AGENDAMENTO DIA_DA_SEMANA  HORA_AGENDADO  \n",
            "0              11      PRESENTE       06/01/2026     Tuesday               17  \n",
            "1              11      PRESENTE       20/01/2023     Friday                 8  \n",
            "2              11      PRESENTE       20/01/2023     Friday                 9  \n",
            "3              11      PRESENTE       20/01/2023     Friday                10  \n",
            "4              11      PRESENTE       27/01/2023     Friday                 8  \n",
            "<class 'pandas.core.frame.DataFrame'>\n",
            "RangeIndex: 89402 entries, 0 to 89401\n",
            "Data columns (total 8 columns):\n",
            " #   Column               Non-Null Count  Dtype \n",
            "---  ------               --------------  ----- \n",
            " 0   DS_ITEM_AGENDAMENTO  89402 non-null  object\n",
            " 1   IDADE                89402 non-null  int64 \n",
            " 2   TIPO_CONVENIO        89402 non-null  object\n",
            " 3   NR_DDD_CELULAR       89402 non-null  int64 \n",
            " 4   TIPO_PRESENCA        89402 non-null  object\n",
            " 5   DATA_AGENDAMENTO     89402 non-null  object\n",
            " 6   DIA_DA_SEMANA        89402 non-null  object\n",
            " 7   HORA_AGENDADO        89402 non-null  int64 \n",
            "dtypes: int64(3), object(5)\n",
            "memory usage: 5.5+ MB\n",
            "None\n",
            "['CONVENIO' 'PARTICULAR']\n",
            "['PRESENTE' 'FALTA']\n",
            "['Tuesday' 'Friday' 'Wednesday' 'Thursday' 'Monday' 'Saturday' 'Sunday']\n"
          ]
        }
      ],
      "source": [
        "import pandas as pd\n",
        "# Carregar os dados\n",
        "data = pd.read_csv('agendamentos.csv')\n",
        "\n",
        "# Exibir as primeiras linhas dos dados\n",
        "print(data.head())\n",
        "\n",
        "# Informações gerais sobre os dados\n",
        "print(data.info())\n",
        "\n",
        "# Remover espaços em branco extras\n",
        "data['DIA_DA_SEMANA'] = data['DIA_DA_SEMANA'].astype(str).str.strip()\n",
        "data['TIPO_CONVENIO'] = data['TIPO_CONVENIO'].astype(str).str.strip()\n",
        "data['TIPO_PRESENCA'] = data['TIPO_PRESENCA'].astype(str).str.strip()\n",
        "\n",
        "# Verificar valores únicos nas colunas relevantes\n",
        "print(data['TIPO_CONVENIO'].unique())\n",
        "print(data['TIPO_PRESENCA'].unique())\n",
        "print(data['DIA_DA_SEMANA'].unique())\n"
      ]
    },
    {
      "cell_type": "markdown",
      "metadata": {
        "id": "f20ZhjBSkm-X"
      },
      "source": [
        "# Pré-processamento dos dados\n"
      ]
    },
    {
      "cell_type": "code",
      "execution_count": null,
      "metadata": {
        "colab": {
          "base_uri": "https://localhost:8080/"
        },
        "id": "_NSf6Q5xdzPL",
        "outputId": "61fb43df-21ed-4f13-af63-f9257679b0c6"
      },
      "outputs": [
        {
          "name": "stdout",
          "output_type": "stream",
          "text": [
            "TIPO_CONVENIO    0\n",
            "TIPO_PRESENCA    0\n",
            "DIA_DA_SEMANA    0\n",
            "dtype: int64\n",
            "   TIPO_CONVENIO  DIA_DA_SEMANA  PERIODO  DDD_11  IDADE\n",
            "0              0              1        1       1     60\n",
            "1              0              4        0       1     66\n",
            "2              0              4        0       1     10\n",
            "3              0              4        0       1     64\n",
            "4              0              4        0       1     25\n",
            "0    0\n",
            "1    0\n",
            "2    0\n",
            "3    0\n",
            "4    0\n",
            "Name: TIPO_PRESENCA, dtype: int64\n",
            "TIPO_CONVENIO    int64\n",
            "DIA_DA_SEMANA    int64\n",
            "PERIODO          int64\n",
            "DDD_11           int64\n",
            "IDADE            int64\n",
            "dtype: object\n",
            "int64\n"
          ]
        }
      ],
      "source": [
        "# Conversão de variáveis categóricas para numéricas\n",
        "data['TIPO_CONVENIO'] = data['TIPO_CONVENIO'].map({'CONVENIO': 0, 'PARTICULAR': 1})\n",
        "data['TIPO_PRESENCA'] = data['TIPO_PRESENCA'].map({'PRESENTE': 0, 'FALTA': 1})\n",
        "data['DIA_DA_SEMANA'] = data['DIA_DA_SEMANA'].map({\n",
        "    'Monday': 0, 'Tuesday': 1, 'Wednesday': 2,\n",
        "    'Thursday': 3, 'Friday': 4, 'Saturday': 5, 'Sunday': 6\n",
        "})\n",
        "\n",
        "# Verificar se há valores NaN após o mapeamento\n",
        "print(data[['TIPO_CONVENIO', 'TIPO_PRESENCA', 'DIA_DA_SEMANA']].isna().sum())\n",
        "\n",
        "# Remover linhas com valores NaN\n",
        "data = data.dropna(subset=['TIPO_CONVENIO', 'TIPO_PRESENCA', 'DIA_DA_SEMANA'])\n",
        "\n",
        "# Conversão de colunas de data e hora\n",
        "data['DATA_AGENDAMENTO'] = pd.to_datetime(data['DATA_AGENDAMENTO'], format='%d/%m/%Y')\n",
        "data['HORA_AGENDADO'] = data['HORA_AGENDADO'].astype(int)\n",
        "\n",
        "# Criação de uma nova feature para identificar períodos do dia\n",
        "def categorize_time(hour):\n",
        "    if hour < 12:\n",
        "        return 0  # Manhã\n",
        "    elif 12 <= hour < 18:\n",
        "        return 1  # Tarde\n",
        "    else:\n",
        "        return 2  # Noite\n",
        "\n",
        "data['PERIODO'] = data['HORA_AGENDADO'].apply(categorize_time)\n",
        "\n",
        "# Feature para identificar se o DDD é 11\n",
        "data['DDD_11'] = data['NR_DDD_CELULAR'].apply(lambda x: 1 if x == 11 else 0)\n",
        "\n",
        "# Seleção de features e target\n",
        "features = data[['TIPO_CONVENIO', 'DIA_DA_SEMANA', 'PERIODO', 'DDD_11', 'IDADE']]\n",
        "target = data['TIPO_PRESENCA']\n",
        "\n",
        "print(features.head())\n",
        "print(target.head())\n",
        "\n",
        "# Verificar tipos de dados\n",
        "print(features.dtypes)\n",
        "print(target.dtypes)\n",
        "\n",
        "# Garantir que o target seja de tipo inteiro\n",
        "target = target.astype(int)\n"
      ]
    },
    {
      "cell_type": "markdown",
      "metadata": {
        "id": "AATusKcV-4q_"
      },
      "source": [
        "# Implementação e Execução do Algoritmo Genético"
      ]
    },
    {
      "cell_type": "code",
      "execution_count": null,
      "metadata": {
        "colab": {
          "base_uri": "https://localhost:8080/"
        },
        "id": "dPozTOx2ZSTs",
        "outputId": "eab74d35-2fcd-463a-9191-3f25277c4a13"
      },
      "outputs": [
        {
          "name": "stdout",
          "output_type": "stream",
          "text": [
            "Geração 0: Melhor Fitness = 0.9025017710003356\n",
            "Geração 1: Melhor Fitness = 0.9025017710003356\n",
            "Geração 2: Melhor Fitness = 0.9025017710003356\n",
            "Geração 3: Melhor Fitness = 0.9025390552179262\n",
            "Geração 4: Melhor Fitness = 0.9025390552179262\n",
            "Geração 5: Melhor Fitness = 0.9025390552179262\n",
            "Geração 6: Melhor Fitness = 0.9025390552179262\n",
            "Geração 7: Melhor Fitness = 0.9025390552179262\n",
            "Geração 8: Melhor Fitness = 0.9025390552179262\n",
            "Geração 9: Melhor Fitness = 0.9025390552179262\n",
            "Geração 10: Melhor Fitness = 0.9025390552179262\n",
            "Geração 11: Melhor Fitness = 0.9025390552179262\n",
            "Geração 12: Melhor Fitness = 0.9025390552179262\n",
            "Geração 13: Melhor Fitness = 0.9025390552179262\n",
            "Geração 14: Melhor Fitness = 0.9025390552179262\n",
            "Geração 15: Melhor Fitness = 0.9025390552179262\n",
            "Geração 16: Melhor Fitness = 0.9025390552179262\n",
            "Geração 17: Melhor Fitness = 0.9025390552179262\n",
            "Geração 18: Melhor Fitness = 0.9025390552179262\n",
            "Geração 19: Melhor Fitness = 0.9025390552179262\n",
            "Geração 20: Melhor Fitness = 0.9025390552179262\n",
            "Geração 21: Melhor Fitness = 0.9025390552179262\n",
            "Geração 22: Melhor Fitness = 0.9025390552179262\n",
            "Geração 23: Melhor Fitness = 0.9025390552179262\n",
            "Geração 24: Melhor Fitness = 0.9025390552179262\n",
            "Geração 25: Melhor Fitness = 0.9025390552179262\n",
            "Geração 26: Melhor Fitness = 0.9025390552179262\n",
            "Geração 27: Melhor Fitness = 0.9025390552179262\n",
            "Geração 28: Melhor Fitness = 0.9025390552179262\n",
            "Geração 29: Melhor Fitness = 0.9025390552179262\n",
            "Geração 30: Melhor Fitness = 0.9025390552179262\n",
            "Geração 31: Melhor Fitness = 0.9025390552179262\n",
            "Geração 32: Melhor Fitness = 0.9025390552179262\n",
            "Geração 33: Melhor Fitness = 0.9025390552179262\n",
            "Geração 34: Melhor Fitness = 0.9025390552179262\n",
            "Geração 35: Melhor Fitness = 0.9025390552179262\n",
            "Geração 36: Melhor Fitness = 0.9025390552179262\n",
            "Geração 37: Melhor Fitness = 0.9025390552179262\n",
            "Geração 38: Melhor Fitness = 0.9025390552179262\n",
            "Geração 39: Melhor Fitness = 0.9025390552179262\n",
            "Geração 40: Melhor Fitness = 0.9025390552179262\n",
            "Geração 41: Melhor Fitness = 0.9025390552179262\n",
            "Geração 42: Melhor Fitness = 0.9025390552179262\n",
            "Geração 43: Melhor Fitness = 0.9025390552179262\n",
            "Geração 44: Melhor Fitness = 0.9025390552179262\n",
            "Geração 45: Melhor Fitness = 0.9025390552179262\n",
            "Geração 46: Melhor Fitness = 0.9025390552179262\n",
            "Geração 47: Melhor Fitness = 0.9025390552179262\n",
            "Geração 48: Melhor Fitness = 0.9025390552179262\n",
            "Geração 49: Melhor Fitness = 0.9025390552179262\n",
            "Melhor solução: [53.17184932 11.68613475  9.42273191]\n"
          ]
        }
      ],
      "source": [
        "import numpy as np\n",
        "from sklearn.model_selection import train_test_split\n",
        "from sklearn.ensemble import RandomForestClassifier\n",
        "from sklearn.metrics import accuracy_score\n",
        "from joblib import Parallel, delayed\n",
        "\n",
        "# Divisão dos dados em treino e teste\n",
        "X_train, X_test, y_train, y_test = train_test_split(features, target, test_size=0.3, random_state=42)\n",
        "\n",
        "# Função de fitness\n",
        "def fitness(solution):\n",
        "    n_estimators, max_depth, min_samples_split = solution\n",
        "    model = RandomForestClassifier(\n",
        "        n_estimators=int(n_estimators),\n",
        "        max_depth=max(int(max_depth), 1),  # Garantir que max_depth seja pelo menos 1\n",
        "        min_samples_split=max(int(min_samples_split), 2),  # Garantir que min_samples_split seja pelo menos 2\n",
        "        random_state=42\n",
        "    )\n",
        "    try:\n",
        "        model.fit(X_train, y_train)\n",
        "    except ValueError as e:\n",
        "        print(f'Erro durante o ajuste do modelo: {e}')\n",
        "        return 0\n",
        "    predictions = model.predict(X_test)\n",
        "    return accuracy_score(y_test, predictions)\n",
        "\n",
        "# Criação da população inicial\n",
        "def create_population(size):\n",
        "    population = np.random.rand(size, 3)\n",
        "    population[:, 0] = population[:, 0] * 100  # n_estimators no intervalo [1, 100]\n",
        "    population[:, 1] = population[:, 1] * 19 + 1  # max_depth no intervalo [1, 20]\n",
        "    population[:, 2] = population[:, 2] * 9 + 2  # min_samples_split no intervalo [2, 11]\n",
        "    return population\n",
        "\n",
        "# Seleção\n",
        "def selection(population, fitnesses, num_parents):\n",
        "    parents_idx = np.argsort(fitnesses)[-num_parents:]\n",
        "    return population[parents_idx]\n",
        "\n",
        "# Crossover\n",
        "def crossover(parents, offspring_size):\n",
        "    offspring = np.empty((offspring_size, parents.shape[1]))\n",
        "    for k in range(offspring_size):\n",
        "        parent1_idx = k % parents.shape[0]\n",
        "        parent2_idx = (k + 1) % parents.shape[0]\n",
        "        crossover_point = np.random.randint(0, parents.shape[1])\n",
        "        offspring[k, :crossover_point] = parents[parent1_idx, :crossover_point]\n",
        "        offspring[k, crossover_point:] = parents[parent2_idx, crossover_point:]\n",
        "    return offspring\n",
        "\n",
        "# Mutação\n",
        "def mutation(offspring):\n",
        "    for idx in range(offspring.shape[0]):\n",
        "        random_value = np.random.uniform(-1.0, 1.0, 1)[0]  # Garantir que random_value seja um valor escalar\n",
        "        mutation_idx = np.random.randint(0, offspring.shape[1])\n",
        "        offspring[idx, mutation_idx] += random_value\n",
        "        # Garantir que os valores mutados estão dentro dos intervalos permitidos\n",
        "        if mutation_idx == 0:\n",
        "            offspring[idx, mutation_idx] = np.clip(offspring[idx, mutation_idx], 1, 100)\n",
        "        elif mutation_idx == 1:\n",
        "            offspring[idx, mutation_idx] = np.clip(offspring[idx, mutation_idx], 1, 20)\n",
        "        else:\n",
        "            offspring[idx, mutation_idx] = np.clip(offspring[idx, mutation_idx], 2, 11)\n",
        "    return offspring\n",
        "\n",
        "# Parâmetros do AG\n",
        "population_size = 20\n",
        "num_generations = 50\n",
        "num_parents = 10\n",
        "n_jobs = -1  # Usar todos os processadores disponíveis\n",
        "\n",
        "# Inicialização da população\n",
        "population = create_population(population_size)\n",
        "\n",
        "# Evolução\n",
        "for generation in range(num_generations):\n",
        "    fitnesses = Parallel(n_jobs=n_jobs)(delayed(fitness)(ind) for ind in population)\n",
        "    parents = selection(population, fitnesses, num_parents)\n",
        "    offspring_size = population_size - num_parents\n",
        "    offspring = crossover(parents, offspring_size)\n",
        "    offspring = mutation(offspring)\n",
        "    population[:num_parents, :] = parents\n",
        "    population[num_parents:, :] = offspring\n",
        "\n",
        "    best_solution_idx = np.argmax(fitnesses)\n",
        "    print(f'Geração {generation}: Melhor Fitness = {fitnesses[best_solution_idx]}')\n",
        "\n",
        "# Melhor solução final\n",
        "best_solution_idx = np.argmax(fitnesses)\n",
        "best_solution = population[best_solution_idx]\n",
        "print(f'Melhor solução: {best_solution}')\n"
      ]
    },
    {
      "cell_type": "markdown",
      "metadata": {
        "id": "cf7vwIc6gV0c"
      },
      "source": [
        "# Avaliação do Modelo\n"
      ]
    },
    {
      "cell_type": "code",
      "execution_count": null,
      "metadata": {
        "colab": {
          "base_uri": "https://localhost:8080/"
        },
        "id": "uure4lI4gb7A",
        "outputId": "192f40df-ad39-4767-c71f-2aa03bccfa96"
      },
      "outputs": [
        {
          "name": "stdout",
          "output_type": "stream",
          "text": [
            "Accuracy: 0.9025390552179262\n"
          ]
        }
      ],
      "source": [
        "best_n_estimators, best_max_depth, best_min_samples_split = best_solution\n",
        "\n",
        "# Treinamento do modelo com os melhores parâmetros\n",
        "best_model = RandomForestClassifier(\n",
        "    n_estimators=int(best_n_estimators),\n",
        "    max_depth=int(best_max_depth),\n",
        "    min_samples_split=int(best_min_samples_split),\n",
        "    random_state=42\n",
        ")\n",
        "best_model.fit(X_train, y_train)\n",
        "best_predictions = best_model.predict(X_test)\n",
        "\n",
        "# Avaliação\n",
        "accuracy = accuracy_score(y_test, best_predictions)\n",
        "print(f'Accuracy: {accuracy}')\n"
      ]
    }
  ],
  "metadata": {
    "colab": {
      "provenance": []
    },
    "kernelspec": {
      "display_name": "Python 3",
      "name": "python3"
    },
    "language_info": {
      "name": "python",
      "version": "3.10.14"
    }
  },
  "nbformat": 4,
  "nbformat_minor": 0
}
