{
 "cells": [
  {
   "cell_type": "markdown",
   "metadata": {
    "id": "MswYJgE70_Tz"
   },
   "source": [
    "# Keras: Redes Neurais"
   ]
  },
  {
   "cell_type": "markdown",
   "metadata": {
    "id": "K8P8HnKQmgz4"
   },
   "source": [
    "O Iris dataset é um conjunto de dados bem conhecido na comunidade academica, esse conjunto de dados consiste em 50 amostras de cada uma das três espécies (150 amostras, no total) de Iris: *Iris setosa, Iris virginica e Iris versicolor*.\n",
    "\n",
    "Quatro variáveis foram medidas em cada amostra: o comprimento (*length*) e a largura (*width*) das sépalas (*Sepal*) e pétalas (*Petal*), em centímetros. Com base na combinação dessas quatro características, é possível distinguir as espécies umas das outras.\n",
    "\n",
    "![](https://kedro.readthedocs.io/en/0.17.5/_images/iris_measurements.png)\n",
    "\n",
    "Abaixo a representação dos três tipos de flores Iris.\n",
    "\n",
    "![](https://www.embedded-robotics.com/wp-content/uploads/2022/01/Iris-Dataset-Classification.png)"
   ]
  },
  {
   "cell_type": "markdown",
   "metadata": {
    "id": "VHD9R5Dq4VVS"
   },
   "source": [
    "Iremos aprender como funciona um modelo neural e também construí-lo através da [**biblioteca Keras**](https://keras.io/)"
   ]
  },
  {
   "cell_type": "code",
   "execution_count": null,
   "metadata": {},
   "outputs": [],
   "source": [
    "# Criar ambiente utilizando conda e GPU Nvidia RTX 3060\n",
    "# !conda create -n tf215 -c rapidsai -c conda-forge -c nvidia rapids=24.2 python=3.10 'cuda-version>=12.0,<=12.5' tensorflow[and-cuda]==2.15.0"
   ]
  },
  {
   "cell_type": "code",
   "execution_count": null,
   "metadata": {
    "id": "9LpaGjnjH_Sg"
   },
   "outputs": [],
   "source": [
    "import tensorflow as tf \n",
    "from tensorflow import keras\n",
    "\n",
    "print(tf.__version__)\n",
    "#print(keras.__version__)"
   ]
  },
  {
   "cell_type": "code",
   "execution_count": null,
   "metadata": {},
   "outputs": [],
   "source": [
    "print(tf.config.list_physical_devices())\n",
    "print(tf.test.gpu_device_name())"
   ]
  },
  {
   "cell_type": "markdown",
   "metadata": {
    "id": "muv6prCFQxIw"
   },
   "source": [
    "## Modelo - Perceptron\n",
    "\n",
    "O [`keras.Sequential`](https://keras.io/api/models/sequential/) permite a criação de uma rede neural unindo camadas.\n",
    "\n",
    "A camada [`Dense`](https://keras.io/api/layers/core_layers/dense/) é uma camada definida no Keras que promove os cálculos e transformações utilizadas na criação de um modelo.\n",
    "\n",
    "Precisamos definir nela quantos neurônios ela conterá através do parâmetro `units` e podemos também definir a quantidade de entradas/características que os dados irão conter, para a implementação, vamos começar com dois."
   ]
  },
  {
   "cell_type": "code",
   "execution_count": null,
   "metadata": {
    "id": "aY-G5hPEDGG2"
   },
   "outputs": [],
   "source": [
    "modelo = keras.Sequential([keras.layers.Dense(units=1,input_shape=[2],name='neuronio')])"
   ]
  },
  {
   "cell_type": "markdown",
   "metadata": {
    "id": "Gl9P-SLtUIoW"
   },
   "source": [
    "**Explicação:**\n",
    "\n",
    "1. O `Sequential` cria um modelo muito simples (um dos mais simples no Keras) de redes neurais. Desse modo, é construida somente uma única pilha de camadas sequencialmente conectadas.\n",
    "2. A camada [`Dense`](https://www.tensorflow.org/api_docs/python/tf/keras/layers/Dense) é criada com 1 neurônio, representando o perceptron. A camada é responsável por cada peso contido nela bem como a inputação do vetor de viéses.\n",
    "  * `units`: informa a quantidade de neurônios que a camada Dense terá;\n",
    "  * `input_shape`: define a quantidade de entradas no modelo neural; e\n",
    "  * `name`: permite nomearmos essa camada."
   ]
  },
  {
   "cell_type": "markdown",
   "metadata": {
    "id": "0HhGNRyt8Okr"
   },
   "source": [
    "### Utilidades do modelo"
   ]
  },
  {
   "cell_type": "markdown",
   "metadata": {
    "id": "DhjM6r6KFFY-"
   },
   "source": [
    "#### Estrutura\n",
    "Podemos entender a esturtura do modelo (perceptron) criado através do método [`summary`](https://keras.io/api/models/model/#:~:text=%5Bsource%5D-,summary%20method,-Model.summary) e a função [`utils.plot_model`](https://www.tensorflow.org/api_docs/python/tf/keras/utils/plot_model) da biblioteca keras."
   ]
  },
  {
   "cell_type": "code",
   "execution_count": null,
   "metadata": {
    "colab": {
     "base_uri": "https://localhost:8080/"
    },
    "id": "-APrEca8DHNt",
    "outputId": "ed7c0dab-2a69-4734-d50a-f63c7f25d5f3"
   },
   "outputs": [],
   "source": [
    "modelo.summary()"
   ]
  },
  {
   "cell_type": "markdown",
   "metadata": {
    "id": "qi_3hgcSU3g2"
   },
   "source": [
    "A única camada que temos é o próprio neurônio que criamos. O parâmetro dado nela é definido como 3 pois é considerado **a soma da quantidade de pesos mais a quantidade de viéses**.\n",
    "\n",
    "Os pesos são calculados multiplicando a quantidade de neurônios pela quantidade de entradas, desse modo, como definimos 2 entradas e 1 neurônio, teremos `2 * 1 = 2 pesos`, adicionadno o viés que é igual a quantidade de neurônios temos `2 + 1 = 3 parâmetros`."
   ]
  },
  {
   "cell_type": "code",
   "execution_count": null,
   "metadata": {},
   "outputs": [],
   "source": [
    "# run \"sudo apt install graphviz\" on terminal\n",
    "#!pip install pydot"
   ]
  },
  {
   "cell_type": "code",
   "execution_count": null,
   "metadata": {
    "colab": {
     "base_uri": "https://localhost:8080/",
     "height": 201
    },
    "id": "HDpl--c3DIUt",
    "outputId": "cad9a1ff-ac79-4210-f3f9-3280280d6044"
   },
   "outputs": [],
   "source": [
    "keras.utils.plot_model(modelo,show_shapes=True)"
   ]
  },
  {
   "cell_type": "markdown",
   "metadata": {
    "id": "evTYaJuaK0ik"
   },
   "source": [
    "#### Pesos e viéses\n",
    "\n",
    "Para identificar os pesos e viés que o modelo vai inicializar, podemos utilizar o método [`get_weights()`](https://keras.io/api/layers/base_layer/#:~:text=%5Bsource%5D-,get_weights%20method,-Layer.get_weights) e o método [`layers`](https://keras.io/api/layers/base_layer/).\n",
    "\n",
    "* `layers`: retorna uma lista contendo as camadas do modelo criado;\n",
    "* `get_weights`: coleta os pesos e viéses da camada enviada como objeto e os retorna como lista."
   ]
  },
  {
   "cell_type": "code",
   "execution_count": null,
   "metadata": {
    "colab": {
     "base_uri": "https://localhost:8080/"
    },
    "id": "e4LZlmBiDJbO",
    "outputId": "2cfc1fe9-1469-46f5-dab0-9115f184341a"
   },
   "outputs": [],
   "source": [
    "modelo.layers"
   ]
  },
  {
   "cell_type": "code",
   "execution_count": null,
   "metadata": {
    "colab": {
     "base_uri": "https://localhost:8080/"
    },
    "id": "e8sdrQlkDKhN",
    "outputId": "6a9d3a97-d95c-4d3c-f449-fd6ea9e40637"
   },
   "outputs": [],
   "source": [
    "modelo.layers[0].get_weights()"
   ]
  },
  {
   "cell_type": "code",
   "execution_count": null,
   "metadata": {
    "colab": {
     "base_uri": "https://localhost:8080/"
    },
    "id": "z_fUblLQOnz6",
    "outputId": "06e2f8d7-06b0-4deb-b1e9-c48792a0b3f0"
   },
   "outputs": [],
   "source": [
    "pesos,bias = modelo.layers[0].get_weights()\n",
    "print(pesos.shape)\n",
    "pesos"
   ]
  },
  {
   "cell_type": "code",
   "execution_count": null,
   "metadata": {
    "colab": {
     "base_uri": "https://localhost:8080/"
    },
    "id": "Ldc0GTuODMAG",
    "outputId": "ae6995e9-4b68-4dc8-9ba1-3a9e55411b31"
   },
   "outputs": [],
   "source": [
    "print(bias.shape)\n",
    "bias"
   ]
  },
  {
   "cell_type": "markdown",
   "metadata": {
    "id": "wt2K9dTAJO3N"
   },
   "source": [
    "##### Incializando"
   ]
  },
  {
   "cell_type": "markdown",
   "metadata": {
    "id": "XLELKvFrXhzv"
   },
   "source": [
    "É possivel definir os pesos e viéses antes de criar o modelo, para isso utilizamos dois paramentros:\n",
    "\n",
    "* `kernel_initializer`: inicializa a matriz de pesos do modelo; e\n",
    "* `bias_initializer`: inicializa os valores de viéses.\n",
    "\n",
    "Para definir os pesos iniciais, utilizamos dois métodos de [`keras.initializers`](https://keras.io/api/layers/initializers/):\n",
    "\n",
    "* `keras.initializers.RandomNormal()`, para os pesos; e\n",
    "* `keras.initializers.Ones()`, para o bias."
   ]
  },
  {
   "cell_type": "code",
   "execution_count": null,
   "metadata": {
    "colab": {
     "base_uri": "https://localhost:8080/"
    },
    "id": "6NybVwnjDNKt",
    "outputId": "0ba75252-05fe-4023-f843-5315adcd8de3"
   },
   "outputs": [],
   "source": [
    "modelo = keras.Sequential([keras.layers.Dense(units=1,input_shape=[2],name='neuronio',\n",
    "                                              kernel_initializer = keras.initializers.RandomNormal(),\n",
    "                                              bias_initializer = keras.initializers.Ones())])\n",
    "modelo.layers[0].get_weights()"
   ]
  },
  {
   "cell_type": "markdown",
   "metadata": {
    "id": "1YQJCdoULkda"
   },
   "source": [
    "## Dados"
   ]
  },
  {
   "cell_type": "markdown",
   "metadata": {
    "id": "7k8Ty0H9Tg4D"
   },
   "source": [
    "O Iris dataset é um conjunto de dados bem conhecido na comunidade academica, esse conjunto de dados consiste em 50 amostras de cada uma das três espécies (150 amostras, no total) de Iris: *Iris setosa, Iris virginica e Iris versicolor*.\n",
    "\n",
    "Quatro variáveis foram medidas em cada amostra: o comprimento (*length*) e a largura (*width*) das sépalas (*Sepal*) e pétalas (*Petal*), em centímetros. Com base na combinação dessas quatro características, é possível distinguir as espécies umas das outras.\n",
    "\n",
    "![](https://kedro.readthedocs.io/en/0.17.5/_images/iris_measurements.png)\n",
    "\n",
    "Abaixo a representação dos três tipos de flores Iris.\n",
    "\n",
    "![](https://www.embedded-robotics.com/wp-content/uploads/2022/01/Iris-Dataset-Classification.png)"
   ]
  },
  {
   "cell_type": "markdown",
   "metadata": {
    "id": "zxWCoN5ssqmU"
   },
   "source": [
    "### Importando os dados"
   ]
  },
  {
   "cell_type": "markdown",
   "metadata": {
    "id": "X9mKiELXpCNw"
   },
   "source": [
    "É possivel realizar a coleta desse dataset através do método [`datasets`](https://scikit-learn.org/stable/modules/generated/sklearn.datasets.load_iris.html) da biblioteca `sklearn`."
   ]
  },
  {
   "cell_type": "code",
   "execution_count": null,
   "metadata": {
    "colab": {
     "base_uri": "https://localhost:8080/"
    },
    "id": "LGtpGDsGSjn7",
    "outputId": "276639e2-4ae4-4e7b-8140-b8608aefb601"
   },
   "outputs": [],
   "source": [
    "from sklearn import datasets\n",
    "\n",
    "iris = datasets.load_iris(return_X_y = True)\n",
    "x = iris[0]\n",
    "y = iris[1]"
   ]
  },
  {
   "cell_type": "code",
   "execution_count": null,
   "metadata": {
    "colab": {
     "base_uri": "https://localhost:8080/"
    },
    "id": "16afb0R7ShQr",
    "outputId": "93334499-e4e1-4f42-c813-40c2ca1ec870"
   },
   "outputs": [],
   "source": [
    "datasets.load_iris()['feature_names']"
   ]
  },
  {
   "cell_type": "code",
   "execution_count": null,
   "metadata": {
    "colab": {
     "base_uri": "https://localhost:8080/"
    },
    "id": "PWYIbT6_SgXi",
    "outputId": "0ffe121d-eef8-4844-ae84-136068856d4e"
   },
   "outputs": [],
   "source": [
    "y"
   ]
  },
  {
   "cell_type": "code",
   "execution_count": null,
   "metadata": {
    "colab": {
     "base_uri": "https://localhost:8080/"
    },
    "id": "O18Yg4lbSfLD",
    "outputId": "c3ba64e3-a4e3-4d99-f2aa-4601104e8d03"
   },
   "outputs": [],
   "source": [
    "datasets.load_iris()['target_names']"
   ]
  },
  {
   "cell_type": "code",
   "execution_count": null,
   "metadata": {
    "colab": {
     "base_uri": "https://localhost:8080/",
     "height": 305
    },
    "id": "8RtcDyDDSmD7",
    "outputId": "e8cf70f1-d531-44a6-8eeb-5230f8418bc1"
   },
   "outputs": [],
   "source": [
    "import matplotlib.pyplot as plt\n",
    "import seaborn as sns\n",
    "\n",
    "sns.scatterplot(x=x[:,2],y=x[:,3],hue=y,palette='tab10')\n",
    "plt.xlabel('comprimento (cm)',fontsize =16)\n",
    "plt.ylabel('largura (cm)', fontsize=16)\n",
    "plt.title('Distribuição pétalas', fontsize = 18)\n",
    "plt.show()"
   ]
  },
  {
   "cell_type": "code",
   "execution_count": null,
   "metadata": {
    "colab": {
     "base_uri": "https://localhost:8080/",
     "height": 305
    },
    "id": "yZ7H4WUVSpPk",
    "outputId": "383856cb-8867-47d8-8413-a5c7f20a20f1"
   },
   "outputs": [],
   "source": [
    "sns.scatterplot(x = x[:,0], y = x[:,1], hue = y, palette = \"tab10\")\n",
    "plt.xlabel('comprimeto (cm)', fontsize = 16)\n",
    "plt.ylabel('largura (cm)', fontsize = 16)\n",
    "plt.title('Distribuição sépalas', fontsize = 18)\n",
    "plt.show()"
   ]
  },
  {
   "cell_type": "markdown",
   "metadata": {
    "id": "lUbXWgdpmcVr"
   },
   "source": [
    "### Tratamento"
   ]
  },
  {
   "cell_type": "markdown",
   "metadata": {
    "id": "zEcmmwllb7Fa"
   },
   "source": [
    "#### Categorização"
   ]
  },
  {
   "cell_type": "code",
   "execution_count": null,
   "metadata": {
    "colab": {
     "base_uri": "https://localhost:8080/"
    },
    "id": "pUQswBETSz5D",
    "outputId": "a16c5e13-ddcc-42c5-8757-bdedc602a68f"
   },
   "outputs": [],
   "source": [
    "y.shape"
   ]
  },
  {
   "cell_type": "code",
   "execution_count": null,
   "metadata": {
    "colab": {
     "base_uri": "https://localhost:8080/"
    },
    "id": "dFHgxNv3S2z7",
    "outputId": "678b9144-177f-4ed8-a6a2-ed89938a3107"
   },
   "outputs": [],
   "source": [
    "y = keras.utils.to_categorical(y)\n",
    "y.shape"
   ]
  },
  {
   "cell_type": "code",
   "execution_count": null,
   "metadata": {
    "colab": {
     "base_uri": "https://localhost:8080/"
    },
    "id": "SGQacVmKS2rz",
    "outputId": "13a64c2b-1a69-425e-f81b-17b97182ed58"
   },
   "outputs": [],
   "source": [
    "y"
   ]
  },
  {
   "cell_type": "markdown",
   "metadata": {
    "id": "HvXqF0mjcA6T"
   },
   "source": [
    "#### Normalização\n",
    "\n",
    "Os dados serão normalizados entre [0, 1], para isso utilizamos o método [`MinMaxScaler`](https://scikit-learn.org/stable/modules/generated/sklearn.preprocessing.MinMaxScaler)"
   ]
  },
  {
   "cell_type": "code",
   "execution_count": null,
   "metadata": {
    "id": "y28uOZ_US5Qr"
   },
   "outputs": [],
   "source": [
    "from sklearn.preprocessing import MinMaxScaler\n",
    "\n",
    "scaler = MinMaxScaler()\n",
    "x = scaler.fit_transform(x)"
   ]
  },
  {
   "cell_type": "code",
   "execution_count": null,
   "metadata": {},
   "outputs": [],
   "source": [
    "x"
   ]
  },
  {
   "cell_type": "markdown",
   "metadata": {
    "id": "4gFxAbq-B0fI"
   },
   "source": [
    "#### Separação de conjunto\n",
    "\n",
    "A separação em conjuntos de treino e teste garantem um melhor processo de criação do modelo. Esses conjuntos são definidos a partir do conjunto total de dados, o qual separameos por proporções:\n",
    "\n",
    "* **80%** - Treino\n",
    "* **20%** - Teste"
   ]
  },
  {
   "cell_type": "code",
   "execution_count": null,
   "metadata": {
    "id": "z1iBBPkBS7vz"
   },
   "outputs": [],
   "source": [
    "from sklearn.model_selection import train_test_split\n",
    "\n",
    "x_treino, x_teste, y_treino, y_teste = train_test_split(x, y, test_size = 0.2, stratify = y, random_state=42)"
   ]
  },
  {
   "cell_type": "code",
   "execution_count": null,
   "metadata": {
    "colab": {
     "base_uri": "https://localhost:8080/"
    },
    "id": "EVuEKBSpS7Uc",
    "outputId": "559ac57b-4bd8-4a97-cd57-e0d4355f596a"
   },
   "outputs": [],
   "source": [
    "x_treino.shape"
   ]
  },
  {
   "cell_type": "code",
   "execution_count": null,
   "metadata": {
    "colab": {
     "base_uri": "https://localhost:8080/"
    },
    "id": "GhpH7VluS7NE",
    "outputId": "8cb13774-9456-4b46-b88f-6fc99e2ebb46"
   },
   "outputs": [],
   "source": [
    "x_teste.shape"
   ]
  },
  {
   "cell_type": "markdown",
   "metadata": {
    "id": "BMS-65LusijP"
   },
   "source": [
    "## Modelo - MLP"
   ]
  },
  {
   "cell_type": "markdown",
   "metadata": {
    "id": "ybG-0Kju1KiI"
   },
   "source": [
    "### Criação do modelo\n",
    "\n",
    "Fazemos um modelo MLP definido por 1 camada de entrada, 1 camada oculta e 1 camada de saída."
   ]
  },
  {
   "cell_type": "code",
   "execution_count": null,
   "metadata": {
    "id": "1KQzZhW124Cv"
   },
   "outputs": [],
   "source": [
    "modelo = keras.Sequential([keras.layers.InputLayer(input_shape=[4,],name='entrada'),\n",
    "                           keras.layers.Dense(512,activation='relu',name='oculta',\n",
    "                                              kernel_initializer=keras.initializers.RandomNormal(seed=142)),\n",
    "                           keras.layers.Dense(3,activation='softmax',name='saida')])"
   ]
  },
  {
   "cell_type": "code",
   "execution_count": null,
   "metadata": {
    "colab": {
     "base_uri": "https://localhost:8080/"
    },
    "id": "uBbFH6NB23xY",
    "outputId": "d1a7d8fd-2f75-4845-c5a4-b4ee5298bfef"
   },
   "outputs": [],
   "source": [
    "modelo.summary()"
   ]
  },
  {
   "cell_type": "markdown",
   "metadata": {
    "id": "Qj3CF2Au2KyD"
   },
   "source": [
    "### Treinamento"
   ]
  },
  {
   "cell_type": "markdown",
   "metadata": {
    "id": "08Vvd91Rcgfs"
   },
   "source": [
    "#### Compilando o modelo\n",
    "\n",
    "Compilar o modelo se dá pelo método [`compile`](https://keras.io/api/models/model_training_apis/). Nessa etapa devemos especificar a função de perda e o otimizador a ser usado. Uma opção também é especificar as métricas a serem calculadas durante o treinamento e avaliação do modelo."
   ]
  },
  {
   "cell_type": "code",
   "execution_count": null,
   "metadata": {
    "id": "krc0gV4B1-FS"
   },
   "outputs": [],
   "source": [
    "modelo.compile(loss = 'categorical_crossentropy',\n",
    "               optimizer = 'rmsprop',\n",
    "               metrics = ['categorical_accuracy'])"
   ]
  },
  {
   "cell_type": "markdown",
   "metadata": {
    "id": "4WF6jy7Pmfzf"
   },
   "source": [
    "**Explicação:**\n",
    "\n",
    "1. A perda escolhida foi a `'categorical_crossentropy'` pois os resultads em y são valores categóricos.\n",
    "2. O uso do otimizador `'rmsprop'` indica que iremos treinar o modelo baseado em gradiente descendente, que calcula a média móvel de gradientes quadrados para normalizar o gradiente (processo de retropropagação será aplicado ao realizar o treinamento).\n",
    "3. Por esse modelo ser um classificador simples, é interessante calcular o valor da acurácia durante o treino e validação."
   ]
  },
  {
   "cell_type": "markdown",
   "metadata": {
    "id": "2_iPYpyZcjLn"
   },
   "source": [
    "#### Treino\n",
    "\n",
    "O treinamento é feito com o método `fit`, sendo especificado as entredas e saídas esperadas de treino, épocas e também os dados de validação."
   ]
  },
  {
   "cell_type": "markdown",
   "metadata": {
    "id": "rEsIX9i-mtIe"
   },
   "source": [
    "**Explicação:**\n",
    "\n",
    "1. Para treinamento é preciso passar os dados de entradas e saídas do conjunto de treinamento.\n",
    "2. Nesse caso o número de épocas também é essencial pois o padrão da biblioteca é 1 época, o que não é tão bom para o aprendizado.\n",
    "3. Passamos também a porcentagem do conjunto de validação para serem considerados do conjunto de treino - 30% do conjunto de treino"
   ]
  },
  {
   "cell_type": "code",
   "execution_count": null,
   "metadata": {
    "colab": {
     "base_uri": "https://localhost:8080/"
    },
    "id": "Iy457isk18so",
    "outputId": "4d6e84c8-fc73-4ab0-c586-3a2e28a1267c"
   },
   "outputs": [],
   "source": [
    "epocas=100\n",
    "historico = modelo.fit(x_treino,y_treino,\n",
    "           epochs=epocas,\n",
    "           validation_split=0.3)"
   ]
  },
  {
   "cell_type": "markdown",
   "metadata": {
    "id": "5YUF_A1qxWbn"
   },
   "source": [
    "**Interpretando a exibição:**\n",
    "\n",
    "Exemplo de exibição: \n",
    "```\n",
    "Epoch 100/100\n",
    "3/3 [==============================] - 0s 47ms/step - loss: 0.1451 - categorical_accuracy: 0.9524 - val_loss: 0.1456 - val_categorical_accuracy: 0.9722\n",
    "```\n",
    "- A época de treinamento: *`Epoch 100/100`*\n",
    "- Quantidade de **instâncias processadas**: *`3/3`*\n",
    "  * Aqui, temos a quantidade de amostras divididas pela número de [batch_size](https://www.deeplearningbook.com.br/o-efeito-do-batch-size-no-treinamento-de-redes-neurais-artificiais/). Normalmente a batch é definida com 32 no keras, temos 84 amostras (70% do conjunto de treino) no treinamento, resultando assim em aproximadamente 3 instâncias.\n",
    "- A barra de progresso: *`[==============================]`*\n",
    "- Tempo de treinamento de cada amostra: *`0s 13ms/step`*\n",
    "- Perda e acurária no conjunto de treinamento: *`loss: 0.1506 - categorical_accuracy: 0.9524`*\n",
    "- Perda e acurária no conjunto de validação: *`val_loss: 0.1494 - val_categorical_accuracy: 0.9722`*"
   ]
  },
  {
   "cell_type": "markdown",
   "metadata": {
    "id": "Xo_FaGu90YOt"
   },
   "source": [
    "### Avaliação"
   ]
  },
  {
   "cell_type": "markdown",
   "metadata": {
    "id": "dUAsjXu28U0T"
   },
   "source": [
    "#### Aprendizado\n",
    "\n",
    "Podemos avaliar o desempenho do nosso modelo durante o treinamento com os dados de `historico` através do método `history` e plotar o processo de aprendizado"
   ]
  },
  {
   "cell_type": "code",
   "execution_count": null,
   "metadata": {
    "colab": {
     "base_uri": "https://localhost:8080/"
    },
    "id": "J0l8on0-70WN",
    "outputId": "877e9aeb-ddd7-41e3-effa-3d3c18ce7a32"
   },
   "outputs": [],
   "source": [
    "historico.history"
   ]
  },
  {
   "cell_type": "code",
   "execution_count": null,
   "metadata": {
    "colab": {
     "base_uri": "https://localhost:8080/",
     "height": 265
    },
    "id": "H9tBqsgK71W9",
    "outputId": "18f57270-32ed-4fb5-c07c-8cd7598be30f"
   },
   "outputs": [],
   "source": [
    "import pandas as pd\n",
    "\n",
    "pd.DataFrame(historico.history).plot()\n",
    "plt.grid()\n",
    "plt.show()"
   ]
  },
  {
   "cell_type": "markdown",
   "metadata": {
    "id": "nTSMv08X3own"
   },
   "source": [
    "Para observar mais de perto o aprendizado do modelo podemos plotar curvas individuais e perceber como no aprendizado, ambos os conjuntos obtiveram resultados similares. Isso nos garante que não ocorreu sobreajuste no treinamento.\n",
    "\n",
    "A constancia das curvas é diferente pois os valores de erro  da validação é calculada por época e para o treinamento é feito uma média dos valores de erro durante as iterações de cada época."
   ]
  },
  {
   "cell_type": "code",
   "execution_count": null,
   "metadata": {
    "colab": {
     "base_uri": "https://localhost:8080/",
     "height": 356
    },
    "id": "sUZHIM57E52K",
    "outputId": "d6cc53f6-c19e-4dec-e566-518861aa2b58"
   },
   "outputs": [],
   "source": [
    "fig, ax = plt.subplots(1,2, figsize=(14,5))\n",
    "ax[0].plot(historico.history['loss'], color='#111487', linewidth=3, label=\"Perda de treinamento\")\n",
    "ax[0].plot(historico.history['val_loss'], color='#EFA316', linewidth=3, label=\"Perda da validação\")#axes =ax[0])\n",
    "legend = ax[0].legend(loc='best', shadow=True)\n",
    "print('ax[0]=', ax[0])\n",
    "\n",
    "ax[1].plot(historico.history['categorical_accuracy'], color='#111487', linewidth=3, label=\"Acurácia de treinamento\")\n",
    "ax[1].plot(historico.history['val_categorical_accuracy'], color='#EFA316', linewidth=3, label=\"Acurácia de validação\")\n",
    "legend = ax[1].legend(loc='best', shadow=True)\n",
    "\n",
    "plt.suptitle('Desempenho do treinamento', fontsize = 18)\n",
    "plt.show()"
   ]
  },
  {
   "cell_type": "markdown",
   "metadata": {
    "id": "i4_zjfM_Lo2Z"
   },
   "source": [
    "#### Teste\n",
    "\n",
    "Podemos testar o modelo e verificar seu resultado final através do método [`evaluate`](https://keras.io/api/models/model_training_apis/#:~:text=%5Bsource%5D-,evaluate%20method,-Model.evaluate) que nos mostra a perda e acurácia obtida no conjunto de teste."
   ]
  },
  {
   "cell_type": "code",
   "execution_count": null,
   "metadata": {
    "colab": {
     "base_uri": "https://localhost:8080/"
    },
    "id": "BpSOVDs777cl",
    "outputId": "c7f880b4-8075-4aa2-c62f-30cc83b05998"
   },
   "outputs": [],
   "source": [
    "modelo.evaluate(x_teste,y_teste)"
   ]
  },
  {
   "cell_type": "markdown",
   "metadata": {
    "id": "S1c0zg0q9L7m"
   },
   "source": [
    "O método [`predict`](https://keras.io/api/models/model_training_apis/#:~:text=%5Bsource%5D-,predict%20method,-Model.predict) gera a predição do modelo para as entradas enviadas.\n",
    "\n",
    "Faremos o teste: as entradas `[[0.61, 0.5, 0.69, 0.79]]` devem resultar em uma indicação de flor Virginica - `[0., 0., 1.]`"
   ]
  },
  {
   "cell_type": "code",
   "execution_count": null,
   "metadata": {
    "colab": {
     "base_uri": "https://localhost:8080/"
    },
    "id": "gjqnps2k78xt",
    "outputId": "658d87f3-58a3-4eac-d182-0296d0c0c0b7"
   },
   "outputs": [],
   "source": [
    "modelo.predict([[0.61, 0.5, 0.69, 0.79]])"
   ]
  },
  {
   "cell_type": "code",
   "execution_count": null,
   "metadata": {
    "id": "k7j9xOVPKgB-"
   },
   "outputs": [],
   "source": []
  }
 ],
 "metadata": {
  "colab": {
   "collapsed_sections": [],
   "provenance": [],
   "toc_visible": true
  },
  "kernelspec": {
   "display_name": "tc5",
   "language": "python",
   "name": "python3"
  },
  "language_info": {
   "codemirror_mode": {
    "name": "ipython",
    "version": 3
   },
   "file_extension": ".py",
   "mimetype": "text/x-python",
   "name": "python",
   "nbconvert_exporter": "python",
   "pygments_lexer": "ipython3",
   "version": "3.10.14"
  }
 },
 "nbformat": 4,
 "nbformat_minor": 0
}
