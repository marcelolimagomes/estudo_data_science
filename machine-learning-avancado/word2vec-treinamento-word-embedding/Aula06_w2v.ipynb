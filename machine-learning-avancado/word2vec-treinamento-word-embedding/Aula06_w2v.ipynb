{
  "cells": [
    {
      "cell_type": "code",
      "execution_count": 4,
      "metadata": {
        "colab": {
          "base_uri": "https://localhost:8080/",
          "height": 619
        },
        "colab_type": "code",
        "id": "lwFC0pOSITsz",
        "outputId": "f5b6b875-ef14-4389-dbfb-6fe5cbb25fac"
      },
      "outputs": [
        {
          "name": "stdout",
          "output_type": "stream",
          "text": [
            "Collecting pt-core-news-sm==3.7.0\n",
            "  Using cached https://github.com/explosion/spacy-models/releases/download/pt_core_news_sm-3.7.0/pt_core_news_sm-3.7.0-py3-none-any.whl (13.0 MB)\n",
            "Requirement already satisfied: spacy<3.8.0,>=3.7.0 in /home/marcelo/miniconda3/envs/rapids-24.04/lib/python3.11/site-packages (from pt-core-news-sm==3.7.0) (3.7.2)\n",
            "Requirement already satisfied: spacy-legacy<3.1.0,>=3.0.11 in /home/marcelo/miniconda3/envs/rapids-24.04/lib/python3.11/site-packages (from spacy<3.8.0,>=3.7.0->pt-core-news-sm==3.7.0) (3.0.12)\n",
            "Requirement already satisfied: spacy-loggers<2.0.0,>=1.0.0 in /home/marcelo/miniconda3/envs/rapids-24.04/lib/python3.11/site-packages (from spacy<3.8.0,>=3.7.0->pt-core-news-sm==3.7.0) (1.0.4)\n",
            "Requirement already satisfied: murmurhash<1.1.0,>=0.28.0 in /home/marcelo/miniconda3/envs/rapids-24.04/lib/python3.11/site-packages (from spacy<3.8.0,>=3.7.0->pt-core-news-sm==3.7.0) (1.0.7)\n",
            "Requirement already satisfied: cymem<2.1.0,>=2.0.2 in /home/marcelo/miniconda3/envs/rapids-24.04/lib/python3.11/site-packages (from spacy<3.8.0,>=3.7.0->pt-core-news-sm==3.7.0) (2.0.6)\n",
            "Requirement already satisfied: preshed<3.1.0,>=3.0.2 in /home/marcelo/miniconda3/envs/rapids-24.04/lib/python3.11/site-packages (from spacy<3.8.0,>=3.7.0->pt-core-news-sm==3.7.0) (3.0.6)\n",
            "Requirement already satisfied: thinc<8.3.0,>=8.1.8 in /home/marcelo/miniconda3/envs/rapids-24.04/lib/python3.11/site-packages (from spacy<3.8.0,>=3.7.0->pt-core-news-sm==3.7.0) (8.2.2)\n",
            "Requirement already satisfied: wasabi<1.2.0,>=0.9.1 in /home/marcelo/miniconda3/envs/rapids-24.04/lib/python3.11/site-packages (from spacy<3.8.0,>=3.7.0->pt-core-news-sm==3.7.0) (0.9.1)\n",
            "Requirement already satisfied: srsly<3.0.0,>=2.4.3 in /home/marcelo/miniconda3/envs/rapids-24.04/lib/python3.11/site-packages (from spacy<3.8.0,>=3.7.0->pt-core-news-sm==3.7.0) (2.4.8)\n",
            "Requirement already satisfied: catalogue<2.1.0,>=2.0.6 in /home/marcelo/miniconda3/envs/rapids-24.04/lib/python3.11/site-packages (from spacy<3.8.0,>=3.7.0->pt-core-news-sm==3.7.0) (2.0.10)\n",
            "Requirement already satisfied: weasel<0.4.0,>=0.1.0 in /home/marcelo/miniconda3/envs/rapids-24.04/lib/python3.11/site-packages (from spacy<3.8.0,>=3.7.0->pt-core-news-sm==3.7.0) (0.3.4)\n",
            "Requirement already satisfied: typer<0.10.0,>=0.3.0 in /home/marcelo/miniconda3/envs/rapids-24.04/lib/python3.11/site-packages (from spacy<3.8.0,>=3.7.0->pt-core-news-sm==3.7.0) (0.9.0)\n",
            "Requirement already satisfied: smart-open<7.0.0,>=5.2.1 in /home/marcelo/miniconda3/envs/rapids-24.04/lib/python3.11/site-packages (from spacy<3.8.0,>=3.7.0->pt-core-news-sm==3.7.0) (5.2.1)\n",
            "Requirement already satisfied: tqdm<5.0.0,>=4.38.0 in /home/marcelo/miniconda3/envs/rapids-24.04/lib/python3.11/site-packages (from spacy<3.8.0,>=3.7.0->pt-core-news-sm==3.7.0) (4.66.2)\n",
            "Requirement already satisfied: requests<3.0.0,>=2.13.0 in /home/marcelo/miniconda3/envs/rapids-24.04/lib/python3.11/site-packages (from spacy<3.8.0,>=3.7.0->pt-core-news-sm==3.7.0) (2.31.0)\n",
            "Requirement already satisfied: pydantic!=1.8,!=1.8.1,<3.0.0,>=1.7.4 in /home/marcelo/miniconda3/envs/rapids-24.04/lib/python3.11/site-packages (from spacy<3.8.0,>=3.7.0->pt-core-news-sm==3.7.0) (2.5.3)\n",
            "Requirement already satisfied: jinja2 in /home/marcelo/miniconda3/envs/rapids-24.04/lib/python3.11/site-packages (from spacy<3.8.0,>=3.7.0->pt-core-news-sm==3.7.0) (3.1.3)\n",
            "Requirement already satisfied: setuptools in /home/marcelo/miniconda3/envs/rapids-24.04/lib/python3.11/site-packages (from spacy<3.8.0,>=3.7.0->pt-core-news-sm==3.7.0) (69.5.1)\n",
            "Requirement already satisfied: packaging>=20.0 in /home/marcelo/miniconda3/envs/rapids-24.04/lib/python3.11/site-packages (from spacy<3.8.0,>=3.7.0->pt-core-news-sm==3.7.0) (24.0)\n",
            "Requirement already satisfied: langcodes<4.0.0,>=3.2.0 in /home/marcelo/miniconda3/envs/rapids-24.04/lib/python3.11/site-packages (from spacy<3.8.0,>=3.7.0->pt-core-news-sm==3.7.0) (3.3.0)\n",
            "Requirement already satisfied: numpy>=1.19.0 in /home/marcelo/miniconda3/envs/rapids-24.04/lib/python3.11/site-packages (from spacy<3.8.0,>=3.7.0->pt-core-news-sm==3.7.0) (1.26.4)\n",
            "Requirement already satisfied: annotated-types>=0.4.0 in /home/marcelo/miniconda3/envs/rapids-24.04/lib/python3.11/site-packages (from pydantic!=1.8,!=1.8.1,<3.0.0,>=1.7.4->spacy<3.8.0,>=3.7.0->pt-core-news-sm==3.7.0) (0.6.0)\n",
            "Requirement already satisfied: pydantic-core==2.14.6 in /home/marcelo/miniconda3/envs/rapids-24.04/lib/python3.11/site-packages (from pydantic!=1.8,!=1.8.1,<3.0.0,>=1.7.4->spacy<3.8.0,>=3.7.0->pt-core-news-sm==3.7.0) (2.14.6)\n",
            "Requirement already satisfied: typing-extensions>=4.6.1 in /home/marcelo/miniconda3/envs/rapids-24.04/lib/python3.11/site-packages (from pydantic!=1.8,!=1.8.1,<3.0.0,>=1.7.4->spacy<3.8.0,>=3.7.0->pt-core-news-sm==3.7.0) (4.11.0)\n",
            "Requirement already satisfied: charset-normalizer<4,>=2 in /home/marcelo/miniconda3/envs/rapids-24.04/lib/python3.11/site-packages (from requests<3.0.0,>=2.13.0->spacy<3.8.0,>=3.7.0->pt-core-news-sm==3.7.0) (3.3.2)\n",
            "Requirement already satisfied: idna<4,>=2.5 in /home/marcelo/miniconda3/envs/rapids-24.04/lib/python3.11/site-packages (from requests<3.0.0,>=2.13.0->spacy<3.8.0,>=3.7.0->pt-core-news-sm==3.7.0) (3.7)\n",
            "Requirement already satisfied: urllib3<3,>=1.21.1 in /home/marcelo/miniconda3/envs/rapids-24.04/lib/python3.11/site-packages (from requests<3.0.0,>=2.13.0->spacy<3.8.0,>=3.7.0->pt-core-news-sm==3.7.0) (1.26.18)\n",
            "Requirement already satisfied: certifi>=2017.4.17 in /home/marcelo/miniconda3/envs/rapids-24.04/lib/python3.11/site-packages (from requests<3.0.0,>=2.13.0->spacy<3.8.0,>=3.7.0->pt-core-news-sm==3.7.0) (2024.2.2)\n",
            "Requirement already satisfied: blis<0.8.0,>=0.7.8 in /home/marcelo/miniconda3/envs/rapids-24.04/lib/python3.11/site-packages (from thinc<8.3.0,>=8.1.8->spacy<3.8.0,>=3.7.0->pt-core-news-sm==3.7.0) (0.7.9)\n",
            "Requirement already satisfied: confection<1.0.0,>=0.0.1 in /home/marcelo/miniconda3/envs/rapids-24.04/lib/python3.11/site-packages (from thinc<8.3.0,>=8.1.8->spacy<3.8.0,>=3.7.0->pt-core-news-sm==3.7.0) (0.1.4)\n",
            "Requirement already satisfied: click<9.0.0,>=7.1.1 in /home/marcelo/miniconda3/envs/rapids-24.04/lib/python3.11/site-packages (from typer<0.10.0,>=0.3.0->spacy<3.8.0,>=3.7.0->pt-core-news-sm==3.7.0) (8.1.7)\n",
            "Requirement already satisfied: cloudpathlib<0.17.0,>=0.7.0 in /home/marcelo/miniconda3/envs/rapids-24.04/lib/python3.11/site-packages (from weasel<0.4.0,>=0.1.0->spacy<3.8.0,>=3.7.0->pt-core-news-sm==3.7.0) (0.16.0)\n",
            "Requirement already satisfied: MarkupSafe>=2.0 in /home/marcelo/miniconda3/envs/rapids-24.04/lib/python3.11/site-packages (from jinja2->spacy<3.8.0,>=3.7.0->pt-core-news-sm==3.7.0) (2.1.5)\n",
            "\u001b[38;5;2m✔ Download and installation successful\u001b[0m\n",
            "You can now load the package via spacy.load('pt_core_news_sm')\n"
          ]
        }
      ],
      "source": [
        "@!python -m spacy download pt_core_news_sm"
      ]
    },
    {
      "cell_type": "code",
      "execution_count": 5,
      "metadata": {
        "colab": {
          "base_uri": "https://localhost:8080/",
          "height": 74
        },
        "colab_type": "code",
        "id": "kmUZvse1UCVb",
        "outputId": "2e2aa1b8-a0d1-4f28-8244-046ea458d42a"
      },
      "outputs": [
        {
          "name": "stdout",
          "output_type": "stream",
          "text": [
            "True\n"
          ]
        }
      ],
      "source": [
        "import numpy as np\n",
        "import pandas as pd\n",
        "from gensim.models import KeyedVectors\n",
        "\n",
        "import spacy\n",
        "\n",
        "gpu = spacy.prefer_gpu()\n",
        "print(gpu)"
      ]
    },
    {
      "cell_type": "code",
      "execution_count": 6,
      "metadata": {},
      "outputs": [],
      "source": [
        "# download e unzip ==> http://143.107.183.175:22980/download.php?file=embeddings/word2vec/cbow_s300.zip\n",
        "w2v_modelo_cbow = KeyedVectors.load_word2vec_format(\n",
        "    \"../introducao-word-embedding/cbow_s300.txt\"\n",
        ")"
      ]
    },
    {
      "cell_type": "code",
      "execution_count": 7,
      "metadata": {},
      "outputs": [],
      "source": [
        "# download e unzip ==> http://143.107.183.175:22980/download.php?file=embeddings/word2vec/skip_s300.zip\n",
        "w2v_modelo_sg = KeyedVectors.load_word2vec_format(\n",
        "    \"../introducao-word-embedding/skip_s300.txt\"\n",
        ")"
      ]
    },
    {
      "cell_type": "code",
      "execution_count": 8,
      "metadata": {},
      "outputs": [],
      "source": [
        "# download ==> https://cdn3.gnarususercontent.com.br/1638-word-embedding/treino.csv\n",
        "artigo_treino = pd.read_csv(\"../introducao-word-embedding/treino.csv\")"
      ]
    },
    {
      "cell_type": "code",
      "execution_count": 9,
      "metadata": {},
      "outputs": [],
      "source": [
        "# download ==> https://cdn3.gnarususercontent.com.br/1638-word-embedding/teste.csv\n",
        "artigo_teste = pd.read_csv(\"../introducao-word-embedding/teste.csv\")"
      ]
    },
    {
      "cell_type": "code",
      "execution_count": 11,
      "metadata": {
        "colab": {
          "base_uri": "https://localhost:8080/",
          "height": 35
        },
        "colab_type": "code",
        "id": "0X5lI4-NSlRI",
        "outputId": "04266ca0-0d79-4016-877a-7b66480859e4"
      },
      "outputs": [
        {
          "name": "stdout",
          "output_type": "stream",
          "text": [
            "['rio', 'janeiro', 'cidade', 'maravilhosa']\n"
          ]
        }
      ],
      "source": [
        "nlp = spacy.load(\"pt_core_news_sm\", disable=[\"paser\", \"ner\", \"tagger\", \"textcat\"])\n",
        "\n",
        "\n",
        "def tokenizador(texto):\n",
        "\n",
        "    doc = nlp(texto)\n",
        "    tokens_validos = []\n",
        "    for token in doc:\n",
        "        e_valido = not token.is_stop and token.is_alpha\n",
        "        if e_valido:\n",
        "            tokens_validos.append(token.text.lower())\n",
        "\n",
        "    return tokens_validos\n",
        "\n",
        "\n",
        "texto = \"Rio de Janeiro 1231231 ***** @#$ é uma cidade maravilhosa!\"\n",
        "tokens = tokenizador(texto)\n",
        "print(tokens)"
      ]
    },
    {
      "cell_type": "code",
      "execution_count": 12,
      "metadata": {
        "colab": {
          "base_uri": "https://localhost:8080/",
          "height": 1000
        },
        "colab_type": "code",
        "id": "2_GCypILSVga",
        "outputId": "012711bc-b25b-41fe-ec06-188041c70091"
      },
      "outputs": [
        {
          "name": "stdout",
          "output_type": "stream",
          "text": [
            "(1, 300)\n",
            "[[-0.11220199 -0.507946   -0.99369503  0.067104    0.871621   -0.28742\n",
            "  -0.03983801  0.54327301  0.24698202  0.83912901 -1.069877    0.55167699\n",
            "   0.187593    0.090007    0.098912    0.38884801 -0.49045099 -0.03031399\n",
            "  -0.218182    1.42319699 -0.39475699 -0.04351101 -0.063719   -0.212974\n",
            "   0.200938   -0.215609    0.08405001 -0.44516101 -0.00246099  0.37024\n",
            "   0.445444   -1.10328901  0.24673     0.14532401 -0.23344    -0.408868\n",
            "  -0.284244    0.39413801  0.57867099  0.417927   -0.062123    0.082006\n",
            "  -0.517467    0.08302799 -0.460177    0.35803901  0.16759    -0.732339\n",
            "  -0.507158    0.02639301  0.14691799 -0.48757798  0.70211802  0.18344299\n",
            "  -0.121941    0.276907   -0.388653   -0.511082   -0.63674802 -0.02843899\n",
            "   0.27211098 -0.31658901 -0.17327601  0.086747    0.10449401  0.70350702\n",
            "  -0.19605199 -0.22203901 -0.471284    0.19785901  0.033516   -0.65221997\n",
            "   0.077695   -0.470488    0.51082799  0.01838199  0.041174    1.24306798\n",
            "  -0.75908899  0.350811    0.45493601  0.88566603  0.41624498 -0.37425001\n",
            "   0.59895501 -0.63993801 -0.494921    0.36218999  0.52124199 -0.51194201\n",
            "  -0.095544    0.351108   -0.24841    -0.289465   -0.76753999  0.387178\n",
            "   0.10081201 -0.208731   -0.106729   -0.146193   -0.23502399  0.60988198\n",
            "  -0.28553401  0.23189698  0.556951   -0.36052299 -0.37138999  0.60088001\n",
            "   0.44149201 -0.541125    0.19958201 -0.229928   -0.40228599  0.04084\n",
            "  -0.01140402 -0.05925201 -0.054919   -0.70601704  0.095143   -0.085278\n",
            "   0.286323   -0.29419699 -0.41740401 -0.15753701 -0.367479    0.472164\n",
            "   0.40263899  0.78614099  0.03115899  0.53281398  0.200088   -1.04671897\n",
            "   0.57039099 -0.23717301 -0.520547    0.55669    -0.34165998  0.35491201\n",
            "  -0.047081    0.210189   -0.06196798  0.14690799  0.53828899  0.39329001\n",
            "  -0.10572999 -0.27445199  0.27270899 -0.227831    0.53801998 -0.243378\n",
            "   0.355653    0.585753   -0.181394    0.53248199  0.956526    0.320161\n",
            "   0.027202   -0.380365    0.38066901  0.11681598 -0.410433    0.07701699\n",
            "  -0.61367401  0.01073901 -0.39448599 -0.034222   -0.393177   -0.22608399\n",
            "   0.508209    0.529894    0.11334699  0.32031099  0.27544399  0.09059101\n",
            "  -0.35494298  0.083101    0.41938701  0.131128   -0.30886901 -0.64877\n",
            "  -0.56231699  0.574828   -0.725786    0.202434   -0.280796   -0.52201401\n",
            "   0.21231399 -0.77787799  0.02333801  0.04929799 -0.05984701 -0.03892399\n",
            "  -0.03605     0.044569   -0.333258   -0.01008202  0.17219999 -0.14697901\n",
            "   0.53672899 -0.08440799 -0.42614099 -0.083158    0.06760199 -0.089489\n",
            "  -0.28817    -0.24061201 -0.52292499  0.426128    0.14176597  0.049249\n",
            "  -0.472283    0.659837   -0.10209099 -0.249029   -0.45655299 -0.31431902\n",
            "  -0.24616902 -0.223759   -0.351172    0.062983   -0.28147499 -0.72601999\n",
            "  -0.62614298 -0.063921   -0.188351    0.08349499  0.21897501  0.20842998\n",
            "   0.18749299  0.57802101  0.23345999  0.11864199  0.11159399  0.53865501\n",
            "   0.15930302 -0.62280598 -0.25247499 -0.07877199 -0.69826398  0.21156\n",
            "  -0.61676901 -0.332125    0.36117001 -0.26344099 -0.16530801 -0.151628\n",
            "   0.320273    0.32308899  0.808552   -0.12947301 -0.120803    0.10849298\n",
            "   0.57135599  0.81894401  0.47208     0.94504899 -0.053679    0.30512601\n",
            "   0.110647    0.334626   -0.183543   -0.176765   -0.46541099 -0.79060002\n",
            "  -0.046873   -0.181978   -1.16765297 -0.20120499  0.16613899  0.13734001\n",
            "   0.46346501  0.16509699  0.14988     0.32819299  0.308207   -0.18231201\n",
            "  -0.176424    0.25134     0.62642599  0.22526     0.21319701  0.12598001\n",
            "  -0.250069    0.069686   -0.51391602 -0.063092    0.08781299 -0.116865\n",
            "  -0.50304898 -0.06513901  0.08592001  0.30549599 -0.50107099 -0.41040398\n",
            "  -0.575161   -0.078194    0.77250199 -0.99078098  0.16318501  0.52604002]]\n"
          ]
        }
      ],
      "source": [
        "def combinacao_de_vetores_por_soma(palavras, modelo):\n",
        "\n",
        "    vetor_resultante = np.zeros((1, 300))\n",
        "\n",
        "    for pn in palavras:\n",
        "        try:\n",
        "            vetor_resultante += modelo.get_vector(pn)\n",
        "\n",
        "        except KeyError:\n",
        "            pass\n",
        "\n",
        "    return vetor_resultante\n",
        "\n",
        "\n",
        "vetor_texto = combinacao_de_vetores_por_soma(tokens, w2v_modelo_cbow)\n",
        "print(vetor_texto.shape)\n",
        "print(vetor_texto)"
      ]
    },
    {
      "cell_type": "code",
      "execution_count": null,
      "metadata": {
        "colab": {
          "base_uri": "https://localhost:8080/",
          "height": 54
        },
        "colab_type": "code",
        "id": "CSXjHM9sSQY8",
        "outputId": "74f5a18c-daed-40ee-cd07-b3a80806086f"
      },
      "outputs": [],
      "source": [
        "def matriz_vetores(textos, modelo):\n",
        "    x = len(textos)\n",
        "    y = 300\n",
        "    matriz = np.zeros((x, y))\n",
        "\n",
        "    for i in range(x):\n",
        "        palavras = tokenizador(textos.iloc[i])\n",
        "        matriz[i] = combinacao_de_vetores_por_soma(palavras, modelo)\n",
        "\n",
        "    return matriz\n",
        "\n",
        "\n",
        "matriz_vetores_treino_cbow = matriz_vetores(artigo_treino.title, w2v_modelo_cbow)\n",
        "matriz_vetores_teste_cbow = matriz_vetores(artigo_teste.title, w2v_modelo_cbow)\n",
        "print(matriz_vetores_treino_cbow.shape)\n",
        "print(matriz_vetores_teste_cbow.shape)"
      ]
    },
    {
      "cell_type": "code",
      "execution_count": null,
      "metadata": {
        "colab": {
          "base_uri": "https://localhost:8080/",
          "height": 254
        },
        "colab_type": "code",
        "id": "tr5VDmj3lkf0",
        "outputId": "bd25ca15-9b5f-43cb-dab1-00df472b69b4"
      },
      "outputs": [],
      "source": [
        "from sklearn.linear_model import LogisticRegression\n",
        "from sklearn.metrics import classification_report\n",
        "\n",
        "\n",
        "def classificador(modelo, x_treino, y_treino, x_teste, y_teste):\n",
        "\n",
        "    RL = LogisticRegression(max_iter=800)\n",
        "    RL.fit(x_treino, y_treino)\n",
        "    categorias = RL.predict(x_teste)\n",
        "    resultados = classification_report(y_teste, categorias)\n",
        "    print(resultados)\n",
        "\n",
        "    return RL\n",
        "\n",
        "\n",
        "RL_cbow = classificador(\n",
        "    w2v_modelo_cbow,\n",
        "    matriz_vetores_treino_cbow,\n",
        "    artigo_treino.category,\n",
        "    matriz_vetores_teste_cbow,\n",
        "    artigo_teste.category,\n",
        ")"
      ]
    },
    {
      "cell_type": "code",
      "execution_count": null,
      "metadata": {
        "colab": {
          "base_uri": "https://localhost:8080/",
          "height": 254
        },
        "colab_type": "code",
        "id": "WlKOJ9AGsseD",
        "outputId": "120d2f70-2fb9-4c7d-eb46-761e9ac35939"
      },
      "outputs": [],
      "source": [
        "matriz_vetores_treino_sg = matriz_vetores(artigo_treino.title, w2v_modelo_sg)\n",
        "matriz_vetores_teste_sg = matriz_vetores(artigo_teste.title, w2v_modelo_sg)\n",
        "\n",
        "RL_sg = classificador(\n",
        "    w2v_modelo_sg,\n",
        "    matriz_vetores_treino_sg,\n",
        "    artigo_treino.category,\n",
        "    matriz_vetores_teste_sg,\n",
        "    artigo_teste.category,\n",
        ")"
      ]
    },
    {
      "cell_type": "code",
      "execution_count": null,
      "metadata": {
        "colab": {},
        "colab_type": "code",
        "id": "q8mAwV5ctfxI"
      },
      "outputs": [],
      "source": [
        "import pickle\n",
        "\n",
        "with open(\"/content/drive/My Drive/curso_word2vec/rl_cbow.pkl\", \"wb\") as f:\n",
        "  pickle.dump(RL_cbow, f)"
      ]
    },
    {
      "cell_type": "code",
      "execution_count": null,
      "metadata": {
        "colab": {},
        "colab_type": "code",
        "id": "1Y6OxXfNwzuz"
      },
      "outputs": [],
      "source": [
        "with open(\"/content/drive/My Drive/curso_word2vec/rl_sg.pkl\", \"wb\") as f:\n",
        "  pickle.dump(RL_sg, f)"
      ]
    },
    {
      "cell_type": "code",
      "execution_count": null,
      "metadata": {
        "colab": {},
        "colab_type": "code",
        "id": "G_7AzIj_w8Hb"
      },
      "outputs": [],
      "source": []
    }
  ],
  "metadata": {
    "colab": {
      "name": "Aula06_w2v.ipynb",
      "provenance": []
    },
    "kernelspec": {
      "display_name": "Python 3",
      "name": "python3"
    },
    "language_info": {
      "codemirror_mode": {
        "name": "ipython",
        "version": 3
      },
      "file_extension": ".py",
      "mimetype": "text/x-python",
      "name": "python",
      "nbconvert_exporter": "python",
      "pygments_lexer": "ipython3",
      "version": "3.11.9"
    }
  },
  "nbformat": 4,
  "nbformat_minor": 0
}
