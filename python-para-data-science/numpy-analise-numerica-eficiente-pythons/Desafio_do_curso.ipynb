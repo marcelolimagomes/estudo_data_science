{
  "cells": [
    {
      "cell_type": "markdown",
      "metadata": {
        "id": "MDEopNpWHa21"
      },
      "source": [
        "O dataset utilizado para esse desafio é uma versão modificada do arquivo presente no Kaggle:\n",
        "https://www.kaggle.com/datasets/joshmcadams/oranges-vs-grapefruit\n",
        "\n",
        "O link do arquivo raw que vamos usar (aquele usamos para ler direto do Github) é esse aqui: \n",
        "https://raw.githubusercontent.com/allanspadini/numpy/dados/citrus.csv"
      ]
    },
    {
      "cell_type": "markdown",
      "metadata": {
        "id": "tD0UDJwx11Pm"
      },
      "source": [
        "# Leitura dos dados "
      ]
    },
    {
      "cell_type": "markdown",
      "metadata": {
        "id": "JtAll0D51rnJ"
      },
      "source": [
        "Se você clicar no link verá que temos um arquivo com 6 colunas, sendo a primeira coluna do arquivo uma coluna de texto e a primeira linha do arquivo também é uma coluna de texto. \n",
        "\n",
        "Aqui o desafio é ler esse arquivo. Para isso importe a numpy e use a função loadtxt. Use o link da url, o parâmetro usecols para pular a primeira coluna. Você pode usar np.arange para criar a sequência de números que representam as colunas. Por fim, você também deve incluir o parâmetro skiprows=1 para que a primeira linha de texto seja desconsiderada na leitura do arquivo. "
      ]
    },
    {
      "cell_type": "code",
      "execution_count": null,
      "metadata": {
        "id": "ATVhjGg0HZs1"
      },
      "outputs": [],
      "source": []
    },
    {
      "cell_type": "markdown",
      "metadata": {
        "id": "iBFZDsV75fjE"
      },
      "source": [
        "# Seleção de dados"
      ]
    },
    {
      "cell_type": "markdown",
      "metadata": {
        "id": "IDkwBFww5nEq"
      },
      "source": [
        "Desses a colunas que iremos avaliar são as de diâmetro e peso. Crie um arrays específicos para guardar o diâmetro e peso da laranja e toranja. O diâmtro está na coluna zero e o peso na coluna 1. Os dados referentes a laranja vão até a linha 4999 e os referentes à toranja iniciam na linha 5000 do arquivo. "
      ]
    },
    {
      "cell_type": "code",
      "execution_count": null,
      "metadata": {
        "id": "cyzpCTh75Ih0"
      },
      "outputs": [],
      "source": []
    },
    {
      "cell_type": "markdown",
      "metadata": {
        "id": "mcXYXlLC81em"
      },
      "source": [
        "# Visualização de dados"
      ]
    },
    {
      "cell_type": "markdown",
      "metadata": {
        "id": "BVOuTNe485QX"
      },
      "source": [
        "Importe a biblioteca matplotlib e crie um gráfico separado para a laranja e outro para a toranja do peso pelo diâmetro. "
      ]
    },
    {
      "cell_type": "code",
      "execution_count": null,
      "metadata": {
        "id": "4K68mbLk8DvJ"
      },
      "outputs": [],
      "source": []
    },
    {
      "cell_type": "markdown",
      "metadata": {
        "id": "-aGgWuRB-Uqv"
      },
      "source": [
        "# O coeficiente das retas"
      ]
    },
    {
      "cell_type": "markdown",
      "metadata": {
        "id": "vc814-m7B1Xh"
      },
      "source": [
        "As duas parecem ter uma inclinação muito parecida em uma primeira inspeção visual vamos determinar os coeficientes da reta para cada um dos casos. \n",
        "\n",
        "Lembre que para o coeficiente angular precisamos implementar a função:\n",
        "$$ \\hat{a} = \\frac{n*Soma( X_i*Y_i ) - Soma( X_i )*Soma(Y_i)}{n Soma(X_i^2) - (Soma(X_i))^2}$$ \n",
        "\n",
        "e para o coeficiente linear:\n",
        "$$ \\hat{b} = Media(Y_i) - \\hat{a} * Media(X_i) $$\n"
      ]
    },
    {
      "cell_type": "markdown",
      "metadata": {
        "id": "d4Hk5fyPCf3v"
      },
      "source": [
        "Perceba que nesse caso o X é o diâmtro e o Y é o peso. Além disso o n é o número de elementos dentro do X, por exemplo.Ele vai ser diferente para a laranja e toranja. Determine o coefiecente para cada caso:"
      ]
    },
    {
      "cell_type": "code",
      "execution_count": null,
      "metadata": {
        "id": "n3J8iOeDBkgn"
      },
      "outputs": [],
      "source": []
    },
    {
      "cell_type": "code",
      "execution_count": null,
      "metadata": {
        "id": "OdUBKX3WDClF"
      },
      "outputs": [],
      "source": []
    },
    {
      "cell_type": "code",
      "execution_count": null,
      "metadata": {
        "id": "31oiIbk5DEcu"
      },
      "outputs": [],
      "source": []
    },
    {
      "cell_type": "code",
      "execution_count": null,
      "metadata": {
        "id": "LgVZSkLaDG_W"
      },
      "outputs": [],
      "source": []
    },
    {
      "cell_type": "code",
      "execution_count": null,
      "metadata": {
        "id": "C7CT4dwqDPlJ"
      },
      "outputs": [],
      "source": []
    },
    {
      "cell_type": "code",
      "execution_count": null,
      "metadata": {
        "id": "4VMDvta8DRad"
      },
      "outputs": [],
      "source": []
    },
    {
      "cell_type": "markdown",
      "metadata": {
        "id": "MSBkD4piDWFx"
      },
      "source": [
        "Se deu tudo você deve ter chegado em valores diferentes para cada um dos casos. Então, embora a inclinação da reta seja parecida nós descobrimos que os coeficientes da reta servem como uma forma de diferenciar se as frutas são laranjas ou toranjas. "
      ]
    },
    {
      "cell_type": "markdown",
      "metadata": {
        "id": "gnovlUPFD0dL"
      },
      "source": [
        "# Estimando através de números aleatórios"
      ]
    },
    {
      "cell_type": "markdown",
      "metadata": {
        "id": "wyjSiESPD75_"
      },
      "source": [
        "Agora ao invés de usar a fórmula fechada utilize a np.random.uniform para gerar valores aleatórios para determinar o coeficiente angular da toranja. Nesse caso vamos assumir que b é igual a 17. Utilize o random.seed(84). "
      ]
    },
    {
      "cell_type": "code",
      "execution_count": null,
      "metadata": {
        "id": "BBVu9EVqDT-R"
      },
      "outputs": [],
      "source": []
    },
    {
      "cell_type": "code",
      "execution_count": null,
      "metadata": {
        "id": "_M7pZGIpEXxZ"
      },
      "outputs": [],
      "source": []
    },
    {
      "cell_type": "code",
      "execution_count": null,
      "metadata": {
        "id": "PIyp8gDlEqa2"
      },
      "outputs": [],
      "source": []
    },
    {
      "cell_type": "markdown",
      "metadata": {
        "id": "HH8OQeRFEyXN"
      },
      "source": [
        "\n",
        "Se deu tudo certo a menor norma que você alcançou foi 104.40529157196431."
      ]
    },
    {
      "cell_type": "code",
      "execution_count": 1,
      "metadata": {
        "id": "QIOTN9cOEs-V"
      },
      "outputs": [
        {
          "ename": "NameError",
          "evalue": "name 'np' is not defined",
          "output_type": "error",
          "traceback": [
            "\u001b[0;31m---------------------------------------------------------------------------\u001b[0m",
            "\u001b[0;31mNameError\u001b[0m                                 Traceback (most recent call last)",
            "\u001b[0;32m/tmp/ipykernel_27234/3253485004.py\u001b[0m in \u001b[0;36m<cell line: 1>\u001b[0;34m()\u001b[0m\n\u001b[0;32m----> 1\u001b[0;31m \u001b[0mnp\u001b[0m\u001b[0;34m.\u001b[0m\u001b[0mmin\u001b[0m\u001b[0;34m(\u001b[0m\u001b[0mnorma\u001b[0m\u001b[0;34m)\u001b[0m\u001b[0;34m\u001b[0m\u001b[0;34m\u001b[0m\u001b[0m\n\u001b[0m",
            "\u001b[0;31mNameError\u001b[0m: name 'np' is not defined"
          ]
        }
      ],
      "source": [
        "np.min(norma)"
      ]
    },
    {
      "cell_type": "markdown",
      "metadata": {
        "id": "y9wucQ9_FDe9"
      },
      "source": [
        "Algo que não foi passado no curso é que também podemos utilizar condições dentro dos colchetes dos arrays para encontrar um determinado valor. O código abaixo mostra o coeficiente angular que corresponde ao menor valor da norma. Repare que a condição é a: norma == np.min(norma)."
      ]
    },
    {
      "cell_type": "code",
      "execution_count": null,
      "metadata": {
        "id": "b2PIjDBfExLd"
      },
      "outputs": [],
      "source": [
        "coef_angulares[norma == np.min(norma)]"
      ]
    },
    {
      "cell_type": "markdown",
      "metadata": {
        "id": "MJLSkwqMGzE5"
      },
      "source": [
        "# Parabéns por ter chegado até aqui.\n",
        "\n",
        "https://media.giphy.com/media/l2JJHEW1lToNnJzxe/giphy.gif"
      ]
    }
  ],
  "metadata": {
    "colab": {
      "provenance": []
    },
    "kernelspec": {
      "display_name": "Python 3",
      "name": "python3"
    },
    "language_info": {
      "codemirror_mode": {
        "name": "ipython",
        "version": 3
      },
      "file_extension": ".py",
      "mimetype": "text/x-python",
      "name": "python",
      "nbconvert_exporter": "python",
      "pygments_lexer": "ipython3",
      "version": "3.10.11"
    }
  },
  "nbformat": 4,
  "nbformat_minor": 0
}
