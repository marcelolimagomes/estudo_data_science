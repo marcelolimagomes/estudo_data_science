{
 "cells": [
  {
   "cell_type": "markdown",
   "metadata": {
    "id": "OVnUO4rGcXRA"
   },
   "source": [
    "# Aula 1"
   ]
  },
  {
   "cell_type": "markdown",
   "metadata": {
    "id": "sw78DOvhcZjY"
   },
   "source": [
    "## Vídeo 1.2 - Carregando textos"
   ]
  },
  {
   "cell_type": "code",
   "execution_count": 1,
   "metadata": {
    "id": "8xSJirUwcrmU"
   },
   "outputs": [],
   "source": [
    "import pandas as pd"
   ]
  },
  {
   "cell_type": "code",
   "execution_count": 2,
   "metadata": {
    "id": "6Q_gvVPQlqm2"
   },
   "outputs": [],
   "source": [
    "url = \"./dados/train.csv\""
   ]
  },
  {
   "cell_type": "code",
   "execution_count": 3,
   "metadata": {
    "colab": {
     "base_uri": "https://localhost:8080/",
     "height": 206
    },
    "id": "OR7NxDUEnLr2",
    "outputId": "d86035ba-403e-4d9f-cbd9-98258ecf5530"
   },
   "outputs": [
    {
     "data": {
      "text/html": [
       "<div>\n",
       "<style scoped>\n",
       "    .dataframe tbody tr th:only-of-type {\n",
       "        vertical-align: middle;\n",
       "    }\n",
       "\n",
       "    .dataframe tbody tr th {\n",
       "        vertical-align: top;\n",
       "    }\n",
       "\n",
       "    .dataframe thead th {\n",
       "        text-align: right;\n",
       "    }\n",
       "</style>\n",
       "<table border=\"1\" class=\"dataframe\">\n",
       "  <thead>\n",
       "    <tr style=\"text-align: right;\">\n",
       "      <th></th>\n",
       "      <th>ClassIndex</th>\n",
       "      <th>Título</th>\n",
       "      <th>Descrição</th>\n",
       "    </tr>\n",
       "  </thead>\n",
       "  <tbody>\n",
       "    <tr>\n",
       "      <th>0</th>\n",
       "      <td>3</td>\n",
       "      <td>Wall St. Bears Claw Back Into the Black (Reuters)</td>\n",
       "      <td>Reuters - Short-sellers, Wall Street's dwindli...</td>\n",
       "    </tr>\n",
       "    <tr>\n",
       "      <th>1</th>\n",
       "      <td>3</td>\n",
       "      <td>Carlyle Looks Toward Commercial Aerospace (Reu...</td>\n",
       "      <td>Reuters - Private investment firm Carlyle Grou...</td>\n",
       "    </tr>\n",
       "    <tr>\n",
       "      <th>2</th>\n",
       "      <td>3</td>\n",
       "      <td>Oil and Economy Cloud Stocks' Outlook (Reuters)</td>\n",
       "      <td>Reuters - Soaring crude prices plus worries\\ab...</td>\n",
       "    </tr>\n",
       "    <tr>\n",
       "      <th>3</th>\n",
       "      <td>3</td>\n",
       "      <td>Iraq Halts Oil Exports from Main Southern Pipe...</td>\n",
       "      <td>Reuters - Authorities have halted oil export\\f...</td>\n",
       "    </tr>\n",
       "    <tr>\n",
       "      <th>4</th>\n",
       "      <td>3</td>\n",
       "      <td>Oil prices soar to all-time record, posing new...</td>\n",
       "      <td>AFP - Tearaway world oil prices, toppling reco...</td>\n",
       "    </tr>\n",
       "  </tbody>\n",
       "</table>\n",
       "</div>"
      ],
      "text/plain": [
       "   ClassIndex                                             Título  \\\n",
       "0           3  Wall St. Bears Claw Back Into the Black (Reuters)   \n",
       "1           3  Carlyle Looks Toward Commercial Aerospace (Reu...   \n",
       "2           3    Oil and Economy Cloud Stocks' Outlook (Reuters)   \n",
       "3           3  Iraq Halts Oil Exports from Main Southern Pipe...   \n",
       "4           3  Oil prices soar to all-time record, posing new...   \n",
       "\n",
       "                                           Descrição  \n",
       "0  Reuters - Short-sellers, Wall Street's dwindli...  \n",
       "1  Reuters - Private investment firm Carlyle Grou...  \n",
       "2  Reuters - Soaring crude prices plus worries\\ab...  \n",
       "3  Reuters - Authorities have halted oil export\\f...  \n",
       "4  AFP - Tearaway world oil prices, toppling reco...  "
      ]
     },
     "execution_count": 3,
     "metadata": {},
     "output_type": "execute_result"
    }
   ],
   "source": [
    "df = pd.read_csv(url, header=None, names=['ClassIndex','Título','Descrição'])\n",
    "df.head()"
   ]
  },
  {
   "cell_type": "markdown",
   "metadata": {
    "id": "CTM8ELRHrHfJ"
   },
   "source": [
    "https://github.com/allanspadini/curso-tensorflow-proxima-palavra/blob/main/dados/classes.txt"
   ]
  },
  {
   "cell_type": "code",
   "execution_count": 4,
   "metadata": {
    "id": "qIg-uKp5nPP2"
   },
   "outputs": [],
   "source": [
    "df['Texto'] = df['Título'] + ' ' + df['Descrição']"
   ]
  },
  {
   "cell_type": "code",
   "execution_count": 5,
   "metadata": {
    "colab": {
     "base_uri": "https://localhost:8080/"
    },
    "id": "oFqDKRWWn_T9",
    "outputId": "a4f5c969-c618-4772-ee9d-5c4a5f5c1750"
   },
   "outputs": [
    {
     "data": {
      "text/plain": [
       "0         Wall St. Bears Claw Back Into the Black (Reute...\n",
       "1         Carlyle Looks Toward Commercial Aerospace (Reu...\n",
       "2         Oil and Economy Cloud Stocks' Outlook (Reuters...\n",
       "3         Iraq Halts Oil Exports from Main Southern Pipe...\n",
       "4         Oil prices soar to all-time record, posing new...\n",
       "                                ...                        \n",
       "119995    Pakistan's Musharraf Says Won't Quit as Army C...\n",
       "119996    Renteria signing a top-shelf deal Red Sox gene...\n",
       "119997    Saban not going to Dolphins yet The Miami Dolp...\n",
       "119998    Today's NFL games PITTSBURGH at NY GIANTS Time...\n",
       "119999    Nets get Carter from Raptors INDIANAPOLIS -- A...\n",
       "Name: Texto, Length: 120000, dtype: object"
      ]
     },
     "execution_count": 5,
     "metadata": {},
     "output_type": "execute_result"
    }
   ],
   "source": [
    "df['Texto']"
   ]
  },
  {
   "cell_type": "code",
   "execution_count": 6,
   "metadata": {
    "id": "zLfnLkWQgy5q"
   },
   "outputs": [],
   "source": [
    "df['ClassIndex'] = df['ClassIndex'] - 1"
   ]
  },
  {
   "cell_type": "code",
   "execution_count": 7,
   "metadata": {
    "id": "xi-NmM1Qez0Y"
   },
   "outputs": [],
   "source": [
    "from sklearn.model_selection import train_test_split"
   ]
  },
  {
   "cell_type": "code",
   "execution_count": 8,
   "metadata": {
    "id": "Q5vz4RaMwdw-"
   },
   "outputs": [],
   "source": [
    "X_treino, X_teste, y_treino,y_teste = train_test_split(df['Texto'].values, df['ClassIndex'].values, test_size=0.2, random_state=4266)"
   ]
  },
  {
   "cell_type": "markdown",
   "metadata": {
    "id": "htayfeB9rYM3"
   },
   "source": [
    "## Vídeo 1.3 - Codificando o texto"
   ]
  },
  {
   "cell_type": "code",
   "execution_count": 9,
   "metadata": {
    "id": "O73WAjn7rK-k"
   },
   "outputs": [
    {
     "name": "stderr",
     "output_type": "stream",
     "text": [
      "2024-12-02 17:56:03.648166: I tensorflow/core/util/port.cc:113] oneDNN custom operations are on. You may see slightly different numerical results due to floating-point round-off errors from different computation orders. To turn them off, set the environment variable `TF_ENABLE_ONEDNN_OPTS=0`.\n",
      "2024-12-02 17:56:03.670355: E external/local_xla/xla/stream_executor/cuda/cuda_dnn.cc:9261] Unable to register cuDNN factory: Attempting to register factory for plugin cuDNN when one has already been registered\n",
      "2024-12-02 17:56:03.670375: E external/local_xla/xla/stream_executor/cuda/cuda_fft.cc:607] Unable to register cuFFT factory: Attempting to register factory for plugin cuFFT when one has already been registered\n",
      "2024-12-02 17:56:03.670868: E external/local_xla/xla/stream_executor/cuda/cuda_blas.cc:1515] Unable to register cuBLAS factory: Attempting to register factory for plugin cuBLAS when one has already been registered\n",
      "2024-12-02 17:56:03.674671: I tensorflow/core/platform/cpu_feature_guard.cc:182] This TensorFlow binary is optimized to use available CPU instructions in performance-critical operations.\n",
      "To enable the following instructions: SSE4.1 SSE4.2 AVX AVX2 AVX_VNNI FMA, in other operations, rebuild TensorFlow with the appropriate compiler flags.\n"
     ]
    }
   ],
   "source": [
    "import tensorflow as tf"
   ]
  },
  {
   "cell_type": "code",
   "execution_count": 10,
   "metadata": {
    "id": "vznL6g1yodAG"
   },
   "outputs": [
    {
     "name": "stderr",
     "output_type": "stream",
     "text": [
      "2024-12-02 17:56:04.729222: I external/local_xla/xla/stream_executor/cuda/cuda_executor.cc:901] successful NUMA node read from SysFS had negative value (-1), but there must be at least one NUMA node, so returning NUMA node zero. See more at https://github.com/torvalds/linux/blob/v6.0/Documentation/ABI/testing/sysfs-bus-pci#L344-L355\n",
      "2024-12-02 17:56:04.762725: I external/local_xla/xla/stream_executor/cuda/cuda_executor.cc:901] successful NUMA node read from SysFS had negative value (-1), but there must be at least one NUMA node, so returning NUMA node zero. See more at https://github.com/torvalds/linux/blob/v6.0/Documentation/ABI/testing/sysfs-bus-pci#L344-L355\n",
      "2024-12-02 17:56:04.770853: I external/local_xla/xla/stream_executor/cuda/cuda_executor.cc:901] successful NUMA node read from SysFS had negative value (-1), but there must be at least one NUMA node, so returning NUMA node zero. See more at https://github.com/torvalds/linux/blob/v6.0/Documentation/ABI/testing/sysfs-bus-pci#L344-L355\n",
      "2024-12-02 17:56:04.778693: I external/local_xla/xla/stream_executor/cuda/cuda_executor.cc:901] successful NUMA node read from SysFS had negative value (-1), but there must be at least one NUMA node, so returning NUMA node zero. See more at https://github.com/torvalds/linux/blob/v6.0/Documentation/ABI/testing/sysfs-bus-pci#L344-L355\n",
      "2024-12-02 17:56:04.786721: I external/local_xla/xla/stream_executor/cuda/cuda_executor.cc:901] successful NUMA node read from SysFS had negative value (-1), but there must be at least one NUMA node, so returning NUMA node zero. See more at https://github.com/torvalds/linux/blob/v6.0/Documentation/ABI/testing/sysfs-bus-pci#L344-L355\n",
      "2024-12-02 17:56:04.793840: I external/local_xla/xla/stream_executor/cuda/cuda_executor.cc:901] successful NUMA node read from SysFS had negative value (-1), but there must be at least one NUMA node, so returning NUMA node zero. See more at https://github.com/torvalds/linux/blob/v6.0/Documentation/ABI/testing/sysfs-bus-pci#L344-L355\n",
      "2024-12-02 17:56:04.922126: I external/local_xla/xla/stream_executor/cuda/cuda_executor.cc:901] successful NUMA node read from SysFS had negative value (-1), but there must be at least one NUMA node, so returning NUMA node zero. See more at https://github.com/torvalds/linux/blob/v6.0/Documentation/ABI/testing/sysfs-bus-pci#L344-L355\n",
      "2024-12-02 17:56:04.924236: I external/local_xla/xla/stream_executor/cuda/cuda_executor.cc:901] successful NUMA node read from SysFS had negative value (-1), but there must be at least one NUMA node, so returning NUMA node zero. See more at https://github.com/torvalds/linux/blob/v6.0/Documentation/ABI/testing/sysfs-bus-pci#L344-L355\n",
      "2024-12-02 17:56:04.925929: I external/local_xla/xla/stream_executor/cuda/cuda_executor.cc:901] successful NUMA node read from SysFS had negative value (-1), but there must be at least one NUMA node, so returning NUMA node zero. See more at https://github.com/torvalds/linux/blob/v6.0/Documentation/ABI/testing/sysfs-bus-pci#L344-L355\n",
      "2024-12-02 17:56:04.927580: I tensorflow/core/common_runtime/gpu/gpu_device.cc:1929] Created device /job:localhost/replica:0/task:0/device:GPU:0 with 9780 MB memory:  -> device: 0, name: NVIDIA GeForce RTX 3060, pci bus id: 0000:01:00.0, compute capability: 8.6\n"
     ]
    }
   ],
   "source": [
    "VOCAB_SIZE = 1000\n",
    "encoder = tf.keras.layers.TextVectorization(\n",
    "    max_tokens=VOCAB_SIZE)\n"
   ]
  },
  {
   "cell_type": "code",
   "execution_count": 11,
   "metadata": {
    "id": "ylqxttkysUyt"
   },
   "outputs": [],
   "source": [
    "encoder.adapt(X_treino)"
   ]
  },
  {
   "cell_type": "code",
   "execution_count": 12,
   "metadata": {
    "colab": {
     "base_uri": "https://localhost:8080/"
    },
    "id": "yWGRece3sX1H",
    "outputId": "038200b0-038a-4293-9a29-64971a5bc374"
   },
   "outputs": [
    {
     "data": {
      "text/plain": [
       "['',\n",
       " '39s',\n",
       " 'it',\n",
       " 'was',\n",
       " 'more',\n",
       " 'company',\n",
       " 'than',\n",
       " 'microsoft',\n",
       " 'prices',\n",
       " 'people',\n",
       " 'next',\n",
       " 'sales',\n",
       " 'state',\n",
       " 'most',\n",
       " 'profit',\n",
       " 'lead',\n",
       " 'online',\n",
       " '39t',\n",
       " 'red',\n",
       " 'during',\n",
       " 'say',\n",
       " 'between',\n",
       " 'country',\n",
       " 'mobile',\n",
       " 'quarter',\n",
       " 'being',\n",
       " 'dollar',\n",
       " 'stock',\n",
       " 'sox',\n",
       " 'olympic',\n",
       " 'users',\n",
       " 'price',\n",
       " 'how',\n",
       " 'peace',\n",
       " 'six',\n",
       " 'key',\n",
       " 'i',\n",
       " 'should',\n",
       " 'financial',\n",
       " 'leaders',\n",
       " 'house',\n",
       " 'sun',\n",
       " 'used',\n",
       " 'seven',\n",
       " 'israel',\n",
       " 'future',\n",
       " 'trial',\n",
       " 'half',\n",
       " 'customers',\n",
       " 'defense',\n",
       " 'arafat',\n",
       " 'northern',\n",
       " 'due',\n",
       " 'men',\n",
       " 'hopes',\n",
       " 'using',\n",
       " 'scored',\n",
       " 'university',\n",
       " 'texas',\n",
       " 'mark',\n",
       " 'we',\n",
       " 'accused',\n",
       " 'profits',\n",
       " '18',\n",
       " 'possible',\n",
       " 'call',\n",
       " 'rally',\n",
       " 'teams',\n",
       " 'division',\n",
       " '7',\n",
       " 'takeover',\n",
       " 'production',\n",
       " 'outlook',\n",
       " 'began',\n",
       " 'helped',\n",
       " 'opening',\n",
       " 'sept',\n",
       " 'spain',\n",
       " 'hours',\n",
       " 'starting',\n",
       " 'nine',\n",
       " 'pressure',\n",
       " 'executives',\n",
       " 'personal',\n",
       " 'once',\n",
       " 'italian',\n",
       " 'push',\n",
       " 'continued',\n",
       " 'rising',\n",
       " 'kill',\n",
       " 'powerful',\n",
       " 'side',\n",
       " 'designed',\n",
       " 'groups',\n",
       " 'mission',\n",
       " 'najaf',\n",
       " 'fired',\n",
       " 'sold',\n",
       " 'launches',\n",
       " 'guard']"
      ]
     },
     "execution_count": 12,
     "metadata": {},
     "output_type": "execute_result"
    }
   ],
   "source": [
    "encoder.get_vocabulary()[::10]"
   ]
  },
  {
   "cell_type": "code",
   "execution_count": 13,
   "metadata": {
    "id": "H-elCmMosv5R"
   },
   "outputs": [],
   "source": [
    "Exemplo = \"Today's NFL games PITTSBURGH at NY GIANTS\""
   ]
  },
  {
   "cell_type": "code",
   "execution_count": 14,
   "metadata": {
    "colab": {
     "base_uri": "https://localhost:8080/"
    },
    "id": "ScTGeYYTtIWB",
    "outputId": "8a6d2019-711f-4eed-fb62-c15b30fc56bc"
   },
   "outputs": [
    {
     "data": {
      "text/plain": [
       "<tf.Tensor: shape=(7,), dtype=int64, numpy=array([  1, 713, 202,   1,  14,   1, 516])>"
      ]
     },
     "execution_count": 14,
     "metadata": {},
     "output_type": "execute_result"
    }
   ],
   "source": [
    "encoder(Exemplo)"
   ]
  },
  {
   "cell_type": "markdown",
   "metadata": {
    "id": "Oj1WAoDmukc5"
   },
   "source": [
    "## Vídeo 1.4 - Criando um modelo"
   ]
  },
  {
   "cell_type": "code",
   "execution_count": 15,
   "metadata": {
    "id": "tnYtHv3_tP-S"
   },
   "outputs": [],
   "source": [
    "modelo = tf.keras.Sequential([\n",
    "    encoder,\n",
    "    tf.keras.layers.Embedding(\n",
    "        input_dim=len(encoder.get_vocabulary()),\n",
    "        output_dim=16,\n",
    "        # Use masking to handle the variable sequence lengths\n",
    "        mask_zero=True),\n",
    "    tf.keras.layers.GlobalAveragePooling1D(),\n",
    "    tf.keras.layers.Dense(16, activation='relu'),\n",
    "    tf.keras.layers.Dense(4, activation='softmax')\n",
    "\n",
    "])"
   ]
  },
  {
   "cell_type": "code",
   "execution_count": 16,
   "metadata": {
    "id": "3Xu0FJk30REc"
   },
   "outputs": [],
   "source": [
    "# Compilar o modelo\n",
    "modelo.compile(optimizer=tf.keras.optimizers.Adam(1e-4), loss='sparse_categorical_crossentropy', metrics=['accuracy'])"
   ]
  },
  {
   "cell_type": "markdown",
   "metadata": {
    "id": "VL9l73_m1Aqj"
   },
   "source": [
    "https://projector.tensorflow.org/"
   ]
  },
  {
   "cell_type": "code",
   "execution_count": 17,
   "metadata": {},
   "outputs": [
    {
     "data": {
      "text/plain": [
       "'Border Patrol Training Moves Near Mexico (AP) AP - Incoming Border Patrol agents will train closer to the U.S.-Mexican border when the federal government relocates their academy to Artesia, N.M., Customs and Border Protection announced Thursday.'"
      ]
     },
     "execution_count": 17,
     "metadata": {},
     "output_type": "execute_result"
    }
   ],
   "source": [
    "X_teste[0]"
   ]
  },
  {
   "cell_type": "code",
   "execution_count": 18,
   "metadata": {},
   "outputs": [
    {
     "data": {
      "text/plain": [
       "0"
      ]
     },
     "execution_count": 18,
     "metadata": {},
     "output_type": "execute_result"
    }
   ],
   "source": [
    "y_teste[0]"
   ]
  },
  {
   "cell_type": "code",
   "execution_count": 19,
   "metadata": {},
   "outputs": [
    {
     "data": {
      "text/plain": [
       "(24000,)"
      ]
     },
     "execution_count": 19,
     "metadata": {},
     "output_type": "execute_result"
    }
   ],
   "source": [
    "X_teste.shape"
   ]
  },
  {
   "cell_type": "code",
   "execution_count": 20,
   "metadata": {},
   "outputs": [
    {
     "name": "stdout",
     "output_type": "stream",
     "text": [
      "1/1 [==============================] - 0s 295ms/step\n"
     ]
    },
    {
     "data": {
      "text/plain": [
       "array([[0.24893096, 0.24954651, 0.25023094, 0.25129154]], dtype=float32)"
      ]
     },
     "execution_count": 20,
     "metadata": {},
     "output_type": "execute_result"
    }
   ],
   "source": [
    "modelo.predict(X_teste[:1])"
   ]
  },
  {
   "cell_type": "code",
   "execution_count": 21,
   "metadata": {},
   "outputs": [
    {
     "name": "stdout",
     "output_type": "stream",
     "text": [
      "1/1 [==============================] - 0s 27ms/step\n"
     ]
    },
    {
     "data": {
      "text/plain": [
       "array([3])"
      ]
     },
     "execution_count": 21,
     "metadata": {},
     "output_type": "execute_result"
    }
   ],
   "source": [
    "modelo.predict(X_teste[:1]).argmax(axis=1)"
   ]
  },
  {
   "cell_type": "markdown",
   "metadata": {
    "id": "zzlGcPKRwfmt"
   },
   "source": [
    "# Aula 2 - Classificando o texto"
   ]
  },
  {
   "cell_type": "markdown",
   "metadata": {
    "id": "eWaCRwjkosjN"
   },
   "source": [
    "## Vídeo 2.1: Treinando com camadas densas"
   ]
  },
  {
   "cell_type": "code",
   "execution_count": 15,
   "metadata": {
    "id": "OWEbo3SooZ3I"
   },
   "outputs": [],
   "source": [
    "epocas = 10"
   ]
  },
  {
   "cell_type": "code",
   "execution_count": 16,
   "metadata": {
    "colab": {
     "base_uri": "https://localhost:8080/"
    },
    "id": "GvAwF-3MeTd7",
    "outputId": "7e6bf946-ece7-4bb1-999e-cf2f35344837"
   },
   "outputs": [
    {
     "ename": "NameError",
     "evalue": "name 'modelo' is not defined",
     "output_type": "error",
     "traceback": [
      "\u001b[0;31m---------------------------------------------------------------------------\u001b[0m",
      "\u001b[0;31mNameError\u001b[0m                                 Traceback (most recent call last)",
      "Cell \u001b[0;32mIn[16], line 1\u001b[0m\n\u001b[0;32m----> 1\u001b[0m history \u001b[38;5;241m=\u001b[39m \u001b[43mmodelo\u001b[49m\u001b[38;5;241m.\u001b[39mfit(X_treino, y_treino, epochs\u001b[38;5;241m=\u001b[39mepocas, validation_data\u001b[38;5;241m=\u001b[39m(X_teste, y_teste))\n",
      "\u001b[0;31mNameError\u001b[0m: name 'modelo' is not defined"
     ]
    }
   ],
   "source": [
    "history = modelo.fit(X_treino, y_treino, epochs=epocas, validation_data=(X_teste, y_teste))"
   ]
  },
  {
   "cell_type": "code",
   "execution_count": 17,
   "metadata": {
    "id": "8HfUS-bkoVJk"
   },
   "outputs": [],
   "source": [
    "import matplotlib.pyplot as plt"
   ]
  },
  {
   "cell_type": "code",
   "execution_count": 18,
   "metadata": {
    "id": "VgxI00CDoTeQ"
   },
   "outputs": [],
   "source": [
    "def plota_resultados(history,epocas):\n",
    "  acc = history.history['accuracy']\n",
    "  val_acc = history.history['val_accuracy']\n",
    "\n",
    "  loss = history.history['loss']\n",
    "  val_loss = history.history['val_loss']\n",
    "\n",
    "  intervalo_epocas = range(epocas)\n",
    "  plt.figure(figsize=(12, 6))\n",
    "  plt.subplot(1, 2, 1)\n",
    "  plt.plot(intervalo_epocas, acc, label='Acurácia do Treino')\n",
    "  plt.plot(intervalo_epocas, val_acc, label='Acurácia da Validação')\n",
    "  plt.legend(loc='lower right')\n",
    "\n",
    "\n",
    "  plt.subplot(1, 2, 2)\n",
    "  plt.plot(intervalo_epocas, loss, label='Custo do Treino')\n",
    "  plt.plot(intervalo_epocas, val_loss, label='Custo da Validação')\n",
    "  plt.legend(loc='upper right')\n",
    "  plt.show()"
   ]
  },
  {
   "cell_type": "code",
   "execution_count": 26,
   "metadata": {
    "colab": {
     "base_uri": "https://localhost:8080/",
     "height": 522
    },
    "id": "AHhyjYEvoeIF",
    "outputId": "1c21d8ed-f820-4493-f25e-f03f75bbfe17"
   },
   "outputs": [
    {
     "data": {
      "image/png": "[encoded data removed]",
      "text/plain": [
       "<Figure size 1200x600 with 2 Axes>"
      ]
     },
     "metadata": {},
     "output_type": "display_data"
    }
   ],
   "source": [
    "plota_resultados(history,epocas)"
   ]
  },
  {
   "cell_type": "markdown",
   "metadata": {
    "id": "Hlsf8NfKqEOt"
   },
   "source": [
    "## Vídeo 2.2: Adicionando camadas convolucionais"
   ]
  },
  {
   "cell_type": "code",
   "execution_count": 19,
   "metadata": {
    "id": "-d3Tv5abqRFA"
   },
   "outputs": [],
   "source": [
    "modelo = tf.keras.Sequential([\n",
    "    encoder,\n",
    "    tf.keras.layers.Embedding(\n",
    "        input_dim=len(encoder.get_vocabulary()),\n",
    "        output_dim=16,\n",
    "        mask_zero=True\n",
    "    ),\n",
    "    tf.keras.layers.Conv1D(64, kernel_size=3, activation='relu'),\n",
    "    tf.keras.layers.MaxPooling1D(),\n",
    "    tf.keras.layers.Conv1D(128, kernel_size=4, activation='relu'),\n",
    "    tf.keras.layers.GlobalAveragePooling1D(),\n",
    "    tf.keras.layers.Dropout(0.5),\n",
    "    tf.keras.layers.Dense(64, activation='relu'),\n",
    "    tf.keras.layers.Dense(4, activation='softmax')\n",
    "])\n"
   ]
  },
  {
   "cell_type": "code",
   "execution_count": 20,
   "metadata": {
    "id": "tso9FQpJrG62"
   },
   "outputs": [],
   "source": [
    "# Compilar o modelo\n",
    "modelo.compile(optimizer=tf.keras.optimizers.Adam(1e-4), loss='sparse_categorical_crossentropy', metrics=['accuracy'])"
   ]
  },
  {
   "cell_type": "code",
   "execution_count": 21,
   "metadata": {
    "colab": {
     "base_uri": "https://localhost:8080/"
    },
    "id": "kkYG9SocqX9l",
    "outputId": "083d291f-b0b9-4c35-991b-0dc31158eb3e"
   },
   "outputs": [
    {
     "name": "stdout",
     "output_type": "stream",
     "text": [
      "Epoch 1/10\n"
     ]
    },
    {
     "name": "stderr",
     "output_type": "stream",
     "text": [
      "2024-12-02 17:56:43.085975: I external/local_xla/xla/stream_executor/cuda/cuda_dnn.cc:454] Loaded cuDNN version 8907\n",
      "2024-12-02 17:56:43.853126: I external/local_xla/xla/service/service.cc:168] XLA service 0x727a0158bdc0 initialized for platform CUDA (this does not guarantee that XLA will be used). Devices:\n",
      "2024-12-02 17:56:43.853146: I external/local_xla/xla/service/service.cc:176]   StreamExecutor device (0): NVIDIA GeForce RTX 3060, Compute Capability 8.6\n",
      "2024-12-02 17:56:43.856181: I tensorflow/compiler/mlir/tensorflow/utils/dump_mlir_util.cc:269] disabling MLIR crash reproducer, set env var `MLIR_CRASH_REPRODUCER_DIRECTORY` to enable.\n",
      "WARNING: All log messages before absl::InitializeLog() is called are written to STDERR\n",
      "I0000 00:00:1733173003.902565   17668 device_compiler.h:186] Compiled cluster using XLA!  This line is logged at most once for the lifetime of the process.\n"
     ]
    },
    {
     "name": "stdout",
     "output_type": "stream",
     "text": [
      "3000/3000 [==============================] - 48s 15ms/step - loss: 0.9593 - accuracy: 0.5467 - val_loss: 0.5784 - val_accuracy: 0.7912\n",
      "Epoch 2/10\n",
      "3000/3000 [==============================] - 6s 2ms/step - loss: 0.5243 - accuracy: 0.8184 - val_loss: 0.4639 - val_accuracy: 0.8431\n",
      "Epoch 3/10\n",
      "3000/3000 [==============================] - 6s 2ms/step - loss: 0.4658 - accuracy: 0.8432 - val_loss: 0.4435 - val_accuracy: 0.8490\n",
      "Epoch 4/10\n",
      "3000/3000 [==============================] - 6s 2ms/step - loss: 0.4445 - accuracy: 0.8503 - val_loss: 0.4281 - val_accuracy: 0.8543\n",
      "Epoch 5/10\n",
      "3000/3000 [==============================] - 6s 2ms/step - loss: 0.4299 - accuracy: 0.8551 - val_loss: 0.4181 - val_accuracy: 0.8561\n",
      "Epoch 6/10\n",
      "3000/3000 [==============================] - 6s 2ms/step - loss: 0.4182 - accuracy: 0.8575 - val_loss: 0.4083 - val_accuracy: 0.8589\n",
      "Epoch 7/10\n",
      "3000/3000 [==============================] - 6s 2ms/step - loss: 0.4068 - accuracy: 0.8612 - val_loss: 0.3990 - val_accuracy: 0.8612\n",
      "Epoch 8/10\n",
      "3000/3000 [==============================] - 6s 2ms/step - loss: 0.3994 - accuracy: 0.8632 - val_loss: 0.3930 - val_accuracy: 0.8622\n",
      "Epoch 9/10\n",
      "3000/3000 [==============================] - 6s 2ms/step - loss: 0.3920 - accuracy: 0.8646 - val_loss: 0.3891 - val_accuracy: 0.8636\n",
      "Epoch 10/10\n",
      "3000/3000 [==============================] - 6s 2ms/step - loss: 0.3880 - accuracy: 0.8655 - val_loss: 0.3898 - val_accuracy: 0.8611\n"
     ]
    }
   ],
   "source": [
    "history = modelo.fit(X_treino, y_treino, epochs=epocas, validation_data=(X_teste, y_teste))"
   ]
  },
  {
   "cell_type": "code",
   "execution_count": 22,
   "metadata": {
    "colab": {
     "base_uri": "https://localhost:8080/",
     "height": 522
    },
    "id": "NJlrHp9srLXh",
    "outputId": "0cac0e8f-065d-42bc-983c-291adf103da0"
   },
   "outputs": [
    {
     "data": {
      "image/png": "[encoded data removed]",
      "text/plain": [
       "<Figure size 1200x600 with 2 Axes>"
      ]
     },
     "metadata": {},
     "output_type": "display_data"
    }
   ],
   "source": [
    "plota_resultados(history,epocas)"
   ]
  },
  {
   "cell_type": "markdown",
   "metadata": {
    "id": "MYnb9BLrtNST"
   },
   "source": [
    "## Vídeo 2.3 - Adicionando camadas LSTM"
   ]
  },
  {
   "cell_type": "code",
   "execution_count": 23,
   "metadata": {
    "id": "zr8H_H92tTaF"
   },
   "outputs": [],
   "source": [
    "modelo = tf.keras.Sequential([\n",
    "    encoder,\n",
    "    tf.keras.layers.Embedding(\n",
    "        input_dim=len(encoder.get_vocabulary()),\n",
    "        output_dim=64,\n",
    "        mask_zero=True\n",
    "    ),\n",
    "    tf.keras.layers.Bidirectional(tf.keras.layers.LSTM(64, return_sequences=True)),  # Camada BiLSTM\n",
    "    tf.keras.layers.Bidirectional(tf.keras.layers.LSTM(32)),\n",
    "    tf.keras.layers.Dense(64, activation='relu'),\n",
    "    tf.keras.layers.Dropout(0.5),\n",
    "    tf.keras.layers.Dense(4, activation='softmax')\n",
    "])\n"
   ]
  },
  {
   "cell_type": "code",
   "execution_count": 24,
   "metadata": {
    "id": "Asd5D8aqtZGM"
   },
   "outputs": [],
   "source": [
    "# Compilar o modelo\n",
    "modelo.compile(optimizer=tf.keras.optimizers.Adam(1e-4), loss='sparse_categorical_crossentropy', metrics=['accuracy'])"
   ]
  },
  {
   "cell_type": "code",
   "execution_count": 25,
   "metadata": {
    "id": "h4Em4nkv-PeV"
   },
   "outputs": [],
   "source": [
    "epocas = 20"
   ]
  },
  {
   "cell_type": "code",
   "execution_count": 26,
   "metadata": {
    "colab": {
     "base_uri": "https://localhost:8080/"
    },
    "id": "yGv_VB28tbp9",
    "outputId": "2451f704-a7c7-4a0f-8b20-0a553027d82f"
   },
   "outputs": [
    {
     "name": "stdout",
     "output_type": "stream",
     "text": [
      "Epoch 1/20\n"
     ]
    },
    {
     "name": "stderr",
     "output_type": "stream",
     "text": [
      "2024-12-02 18:10:01.826106: W tensorflow/core/common_runtime/type_inference.cc:339] Type inference failed. This indicates an invalid graph that escaped type checking. Error message: INVALID_ARGUMENT: expected compatible input types, but input 1:\n",
      "type_id: TFT_OPTIONAL\n",
      "args {\n",
      "  type_id: TFT_PRODUCT\n",
      "  args {\n",
      "    type_id: TFT_TENSOR\n",
      "    args {\n",
      "      type_id: TFT_INT32\n",
      "    }\n",
      "  }\n",
      "}\n",
      " is neither a subtype nor a supertype of the combined inputs preceding it:\n",
      "type_id: TFT_OPTIONAL\n",
      "args {\n",
      "  type_id: TFT_PRODUCT\n",
      "  args {\n",
      "    type_id: TFT_TENSOR\n",
      "    args {\n",
      "      type_id: TFT_FLOAT\n",
      "    }\n",
      "  }\n",
      "}\n",
      "\n",
      "\tfor Tuple type infernce function 0\n",
      "\twhile inferring type of node 'cond_38/output/_24'\n"
     ]
    },
    {
     "name": "stdout",
     "output_type": "stream",
     "text": [
      "3000/3000 [==============================] - 43s 12ms/step - loss: 0.6710 - accuracy: 0.7406 - val_loss: 0.4367 - val_accuracy: 0.8459\n",
      "Epoch 2/20\n",
      "3000/3000 [==============================] - 30s 10ms/step - loss: 0.4386 - accuracy: 0.8531 - val_loss: 0.3957 - val_accuracy: 0.8635\n",
      "Epoch 3/20\n",
      "3000/3000 [==============================] - 30s 10ms/step - loss: 0.4074 - accuracy: 0.8628 - val_loss: 0.3789 - val_accuracy: 0.8674\n",
      "Epoch 4/20\n",
      "3000/3000 [==============================] - 30s 10ms/step - loss: 0.3896 - accuracy: 0.8683 - val_loss: 0.3711 - val_accuracy: 0.8708\n",
      "Epoch 5/20\n",
      "3000/3000 [==============================] - 30s 10ms/step - loss: 0.3805 - accuracy: 0.8701 - val_loss: 0.3742 - val_accuracy: 0.8684\n",
      "Epoch 6/20\n",
      "3000/3000 [==============================] - 30s 10ms/step - loss: 0.3743 - accuracy: 0.8718 - val_loss: 0.3679 - val_accuracy: 0.8720\n",
      "Epoch 7/20\n",
      "3000/3000 [==============================] - 30s 10ms/step - loss: 0.3668 - accuracy: 0.8730 - val_loss: 0.3639 - val_accuracy: 0.8713\n",
      "Epoch 8/20\n",
      "3000/3000 [==============================] - 30s 10ms/step - loss: 0.3626 - accuracy: 0.8766 - val_loss: 0.3649 - val_accuracy: 0.8725\n",
      "Epoch 9/20\n",
      "3000/3000 [==============================] - 29s 10ms/step - loss: 0.3557 - accuracy: 0.8779 - val_loss: 0.3624 - val_accuracy: 0.8736\n",
      "Epoch 10/20\n",
      "3000/3000 [==============================] - 29s 10ms/step - loss: 0.3518 - accuracy: 0.8781 - val_loss: 0.3767 - val_accuracy: 0.8692\n",
      "Epoch 11/20\n",
      "3000/3000 [==============================] - 29s 10ms/step - loss: 0.3467 - accuracy: 0.8797 - val_loss: 0.3679 - val_accuracy: 0.8690\n",
      "Epoch 12/20\n",
      "3000/3000 [==============================] - 29s 10ms/step - loss: 0.3419 - accuracy: 0.8809 - val_loss: 0.3630 - val_accuracy: 0.8723\n",
      "Epoch 13/20\n",
      "3000/3000 [==============================] - 29s 10ms/step - loss: 0.3386 - accuracy: 0.8825 - val_loss: 0.3643 - val_accuracy: 0.8710\n",
      "Epoch 14/20\n",
      "3000/3000 [==============================] - 29s 10ms/step - loss: 0.3348 - accuracy: 0.8835 - val_loss: 0.3642 - val_accuracy: 0.8702\n",
      "Epoch 15/20\n",
      "3000/3000 [==============================] - 29s 10ms/step - loss: 0.3292 - accuracy: 0.8848 - val_loss: 0.3638 - val_accuracy: 0.8722\n",
      "Epoch 16/20\n",
      "3000/3000 [==============================] - 29s 10ms/step - loss: 0.3274 - accuracy: 0.8855 - val_loss: 0.3671 - val_accuracy: 0.8709\n",
      "Epoch 17/20\n",
      "3000/3000 [==============================] - 30s 10ms/step - loss: 0.3247 - accuracy: 0.8860 - val_loss: 0.3604 - val_accuracy: 0.8714\n",
      "Epoch 18/20\n",
      "3000/3000 [==============================] - 30s 10ms/step - loss: 0.3216 - accuracy: 0.8878 - val_loss: 0.3696 - val_accuracy: 0.8685\n",
      "Epoch 19/20\n",
      "3000/3000 [==============================] - 30s 10ms/step - loss: 0.3172 - accuracy: 0.8880 - val_loss: 0.3643 - val_accuracy: 0.8705\n",
      "Epoch 20/20\n",
      "3000/3000 [==============================] - 29s 10ms/step - loss: 0.3155 - accuracy: 0.8891 - val_loss: 0.3707 - val_accuracy: 0.8717\n"
     ]
    }
   ],
   "source": [
    "history = modelo.fit(X_treino, y_treino, epochs=epocas, validation_data=(X_teste, y_teste))"
   ]
  },
  {
   "cell_type": "code",
   "execution_count": 27,
   "metadata": {
    "colab": {
     "base_uri": "https://localhost:8080/",
     "height": 522
    },
    "id": "s2uuicnEtd3w",
    "outputId": "96ce9fad-7afd-4472-b906-867ead75f5a2"
   },
   "outputs": [
    {
     "data": {
      "image/png": "[encoded data removed]",
      "text/plain": [
       "<Figure size 1200x600 with 2 Axes>"
      ]
     },
     "metadata": {},
     "output_type": "display_data"
    }
   ],
   "source": [
    "plota_resultados(history,epocas)"
   ]
  },
  {
   "cell_type": "code",
   "execution_count": 28,
   "metadata": {},
   "outputs": [
    {
     "name": "stdout",
     "output_type": "stream",
     "text": [
      "1/1 [==============================] - 2s 2s/step\n"
     ]
    },
    {
     "data": {
      "text/plain": [
       "array([[0.98849005, 0.00128258, 0.00831973, 0.00190776]], dtype=float32)"
      ]
     },
     "execution_count": 28,
     "metadata": {},
     "output_type": "execute_result"
    }
   ],
   "source": [
    "modelo.predict(X_teste[1:2])"
   ]
  },
  {
   "cell_type": "code",
   "execution_count": 29,
   "metadata": {},
   "outputs": [
    {
     "name": "stdout",
     "output_type": "stream",
     "text": [
      "1/1 [==============================] - 0s 18ms/step\n"
     ]
    },
    {
     "data": {
      "text/plain": [
       "array([0])"
      ]
     },
     "execution_count": 29,
     "metadata": {},
     "output_type": "execute_result"
    }
   ],
   "source": [
    "modelo.predict(X_teste[1:2]).argmax(axis=1)"
   ]
  },
  {
   "cell_type": "code",
   "execution_count": 30,
   "metadata": {},
   "outputs": [
    {
     "data": {
      "text/plain": [
       "0"
      ]
     },
     "execution_count": 30,
     "metadata": {},
     "output_type": "execute_result"
    }
   ],
   "source": [
    "y_teste[1]"
   ]
  }
 ],
 "metadata": {
  "accelerator": "GPU",
  "colab": {
   "gpuType": "T4",
   "provenance": []
  },
  "kernelspec": {
   "display_name": "tc5",
   "language": "python",
   "name": "python3"
  },
  "language_info": {
   "codemirror_mode": {
    "name": "ipython",
    "version": 3
   },
   "file_extension": ".py",
   "mimetype": "text/x-python",
   "name": "python",
   "nbconvert_exporter": "python",
   "pygments_lexer": "ipython3",
   "version": "3.10.14"
  }
 },
 "nbformat": 4,
 "nbformat_minor": 4
}
