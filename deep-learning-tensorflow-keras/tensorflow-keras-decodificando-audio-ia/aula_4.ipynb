{
 "cells": [
  {
   "cell_type": "markdown",
   "id": "f5723a67",
   "metadata": {},
   "source": [
    "# Aula 1 - Introduzindo o reconhecimento de áudio"
   ]
  },
  {
   "cell_type": "markdown",
   "id": "b1f9a2c0",
   "metadata": {},
   "source": [
    "## Vídeo 1.2 - Carregando os dados"
   ]
  },
  {
   "cell_type": "code",
   "execution_count": 7,
   "id": "872dc391",
   "metadata": {},
   "outputs": [],
   "source": [
    "gz_path = '/teamspace/studios/this_studio/dataset_commands.gz'"
   ]
  },
  {
   "cell_type": "code",
   "execution_count": 3,
   "id": "b4639e0a",
   "metadata": {},
   "outputs": [
    {
     "name": "stdout",
     "output_type": "stream",
     "text": [
      "Collecting tensorflow\n",
      "  Downloading tensorflow-2.17.0-cp310-cp310-manylinux_2_17_x86_64.manylinux2014_x86_64.whl.metadata (4.2 kB)\n",
      "Requirement already satisfied: absl-py>=1.0.0 in /system/conda/miniconda3/envs/cloudspace/lib/python3.10/site-packages (from tensorflow) (2.1.0)\n",
      "Collecting astunparse>=1.6.0 (from tensorflow)\n",
      "  Downloading astunparse-1.6.3-py2.py3-none-any.whl.metadata (4.4 kB)\n",
      "Collecting flatbuffers>=24.3.25 (from tensorflow)\n",
      "  Downloading flatbuffers-24.3.25-py2.py3-none-any.whl.metadata (850 bytes)\n",
      "Collecting gast!=0.5.0,!=0.5.1,!=0.5.2,>=0.2.1 (from tensorflow)\n",
      "  Downloading gast-0.6.0-py3-none-any.whl.metadata (1.3 kB)\n",
      "Collecting google-pasta>=0.1.1 (from tensorflow)\n",
      "  Downloading google_pasta-0.2.0-py3-none-any.whl.metadata (814 bytes)\n",
      "Collecting h5py>=3.10.0 (from tensorflow)\n",
      "  Downloading h5py-3.11.0-cp310-cp310-manylinux_2_17_x86_64.manylinux2014_x86_64.whl.metadata (2.5 kB)\n",
      "Collecting libclang>=13.0.0 (from tensorflow)\n",
      "  Downloading libclang-18.1.1-py2.py3-none-manylinux2010_x86_64.whl.metadata (5.2 kB)\n",
      "Collecting ml-dtypes<0.5.0,>=0.3.1 (from tensorflow)\n",
      "  Downloading ml_dtypes-0.4.0-cp310-cp310-manylinux_2_17_x86_64.manylinux2014_x86_64.whl.metadata (20 kB)\n",
      "Collecting opt-einsum>=2.3.2 (from tensorflow)\n",
      "  Downloading opt_einsum-3.3.0-py3-none-any.whl.metadata (6.5 kB)\n",
      "Requirement already satisfied: packaging in /system/conda/miniconda3/envs/cloudspace/lib/python3.10/site-packages (from tensorflow) (24.1)\n",
      "Requirement already satisfied: protobuf!=4.21.0,!=4.21.1,!=4.21.2,!=4.21.3,!=4.21.4,!=4.21.5,<5.0.0dev,>=3.20.3 in /system/conda/miniconda3/envs/cloudspace/lib/python3.10/site-packages (from tensorflow) (4.23.4)\n",
      "Requirement already satisfied: requests<3,>=2.21.0 in /system/conda/miniconda3/envs/cloudspace/lib/python3.10/site-packages (from tensorflow) (2.32.3)\n",
      "Requirement already satisfied: setuptools in /system/conda/miniconda3/envs/cloudspace/lib/python3.10/site-packages (from tensorflow) (69.5.1)\n",
      "Requirement already satisfied: six>=1.12.0 in /system/conda/miniconda3/envs/cloudspace/lib/python3.10/site-packages (from tensorflow) (1.16.0)\n",
      "Requirement already satisfied: termcolor>=1.1.0 in /system/conda/miniconda3/envs/cloudspace/lib/python3.10/site-packages (from tensorflow) (2.4.0)\n",
      "Requirement already satisfied: typing-extensions>=3.6.6 in /system/conda/miniconda3/envs/cloudspace/lib/python3.10/site-packages (from tensorflow) (4.12.2)\n",
      "Collecting wrapt>=1.11.0 (from tensorflow)\n",
      "  Downloading wrapt-1.16.0-cp310-cp310-manylinux_2_5_x86_64.manylinux1_x86_64.manylinux_2_17_x86_64.manylinux2014_x86_64.whl.metadata (6.6 kB)\n",
      "Requirement already satisfied: grpcio<2.0,>=1.24.3 in /system/conda/miniconda3/envs/cloudspace/lib/python3.10/site-packages (from tensorflow) (1.64.1)\n",
      "Collecting tensorboard<2.18,>=2.17 (from tensorflow)\n",
      "  Downloading tensorboard-2.17.0-py3-none-any.whl.metadata (1.6 kB)\n",
      "Collecting keras>=3.2.0 (from tensorflow)\n",
      "  Downloading keras-3.4.1-py3-none-any.whl.metadata (5.8 kB)\n",
      "Collecting tensorflow-io-gcs-filesystem>=0.23.1 (from tensorflow)\n",
      "  Downloading tensorflow_io_gcs_filesystem-0.37.1-cp310-cp310-manylinux_2_17_x86_64.manylinux2014_x86_64.whl.metadata (14 kB)\n",
      "Requirement already satisfied: numpy<2.0.0,>=1.23.5 in /system/conda/miniconda3/envs/cloudspace/lib/python3.10/site-packages (from tensorflow) (1.26.4)\n",
      "Requirement already satisfied: wheel<1.0,>=0.23.0 in /system/conda/miniconda3/envs/cloudspace/lib/python3.10/site-packages (from astunparse>=1.6.0->tensorflow) (0.43.0)\n",
      "Requirement already satisfied: rich in /system/conda/miniconda3/envs/cloudspace/lib/python3.10/site-packages (from keras>=3.2.0->tensorflow) (13.7.1)\n",
      "Collecting namex (from keras>=3.2.0->tensorflow)\n",
      "  Downloading namex-0.0.8-py3-none-any.whl.metadata (246 bytes)\n",
      "Collecting optree (from keras>=3.2.0->tensorflow)\n",
      "  Downloading optree-0.12.1-cp310-cp310-manylinux_2_17_x86_64.manylinux2014_x86_64.whl.metadata (47 kB)\n",
      "\u001b[2K     \u001b[90m━━━━━━━━━━━━━━━━━━━━━━━━━━━━━━━━━━━━━━━━\u001b[0m \u001b[32m47.8/47.8 kB\u001b[0m \u001b[31m16.3 MB/s\u001b[0m eta \u001b[36m0:00:00\u001b[0m\n",
      "\u001b[?25hRequirement already satisfied: charset-normalizer<4,>=2 in /system/conda/miniconda3/envs/cloudspace/lib/python3.10/site-packages (from requests<3,>=2.21.0->tensorflow) (3.3.2)\n",
      "Requirement already satisfied: idna<4,>=2.5 in /system/conda/miniconda3/envs/cloudspace/lib/python3.10/site-packages (from requests<3,>=2.21.0->tensorflow) (3.7)\n",
      "Requirement already satisfied: urllib3<3,>=1.21.1 in /system/conda/miniconda3/envs/cloudspace/lib/python3.10/site-packages (from requests<3,>=2.21.0->tensorflow) (2.2.2)\n",
      "Requirement already satisfied: certifi>=2017.4.17 in /system/conda/miniconda3/envs/cloudspace/lib/python3.10/site-packages (from requests<3,>=2.21.0->tensorflow) (2024.7.4)\n",
      "Requirement already satisfied: markdown>=2.6.8 in /system/conda/miniconda3/envs/cloudspace/lib/python3.10/site-packages (from tensorboard<2.18,>=2.17->tensorflow) (3.6)\n",
      "Requirement already satisfied: tensorboard-data-server<0.8.0,>=0.7.0 in /system/conda/miniconda3/envs/cloudspace/lib/python3.10/site-packages (from tensorboard<2.18,>=2.17->tensorflow) (0.7.2)\n",
      "Requirement already satisfied: werkzeug>=1.0.1 in /system/conda/miniconda3/envs/cloudspace/lib/python3.10/site-packages (from tensorboard<2.18,>=2.17->tensorflow) (3.0.3)\n",
      "Requirement already satisfied: MarkupSafe>=2.1.1 in /system/conda/miniconda3/envs/cloudspace/lib/python3.10/site-packages (from werkzeug>=1.0.1->tensorboard<2.18,>=2.17->tensorflow) (2.1.5)\n",
      "Requirement already satisfied: markdown-it-py>=2.2.0 in /system/conda/miniconda3/envs/cloudspace/lib/python3.10/site-packages (from rich->keras>=3.2.0->tensorflow) (3.0.0)\n",
      "Requirement already satisfied: pygments<3.0.0,>=2.13.0 in /system/conda/miniconda3/envs/cloudspace/lib/python3.10/site-packages (from rich->keras>=3.2.0->tensorflow) (2.18.0)\n",
      "Requirement already satisfied: mdurl~=0.1 in /system/conda/miniconda3/envs/cloudspace/lib/python3.10/site-packages (from markdown-it-py>=2.2.0->rich->keras>=3.2.0->tensorflow) (0.1.2)\n",
      "Downloading tensorflow-2.17.0-cp310-cp310-manylinux_2_17_x86_64.manylinux2014_x86_64.whl (601.3 MB)\n",
      "\u001b[2K   \u001b[90m━━━━━━━━━━━━━━━━━━━━━━━━━━━━━━━━━━━━━━━━\u001b[0m \u001b[32m601.3/601.3 MB\u001b[0m \u001b[31m7.1 MB/s\u001b[0m eta \u001b[36m0:00:00\u001b[0m:00:01\u001b[0m00:01\u001b[0m\n",
      "\u001b[?25hDownloading astunparse-1.6.3-py2.py3-none-any.whl (12 kB)\n",
      "Downloading flatbuffers-24.3.25-py2.py3-none-any.whl (26 kB)\n",
      "Downloading gast-0.6.0-py3-none-any.whl (21 kB)\n",
      "Downloading google_pasta-0.2.0-py3-none-any.whl (57 kB)\n",
      "\u001b[2K   \u001b[90m━━━━━━━━━━━━━━━━━━━━━━━━━━━━━━━━━━━━━━━━\u001b[0m \u001b[32m57.5/57.5 kB\u001b[0m \u001b[31m20.3 MB/s\u001b[0m eta \u001b[36m0:00:00\u001b[0m\n",
      "\u001b[?25hDownloading h5py-3.11.0-cp310-cp310-manylinux_2_17_x86_64.manylinux2014_x86_64.whl (5.3 MB)\n",
      "\u001b[2K   \u001b[90m━━━━━━━━━━━━━━━━━━━━━━━━━━━━━━━━━━━━━━━━\u001b[0m \u001b[32m5.3/5.3 MB\u001b[0m \u001b[31m95.7 MB/s\u001b[0m eta \u001b[36m0:00:00\u001b[0mta \u001b[36m0:00:01\u001b[0m\n",
      "\u001b[?25hDownloading keras-3.4.1-py3-none-any.whl (1.1 MB)\n",
      "\u001b[2K   \u001b[90m━━━━━━━━━━━━━━━━━━━━━━━━━━━━━━━━━━━━━━━━\u001b[0m \u001b[32m1.1/1.1 MB\u001b[0m \u001b[31m83.3 MB/s\u001b[0m eta \u001b[36m0:00:00\u001b[0m\n",
      "\u001b[?25hDownloading libclang-18.1.1-py2.py3-none-manylinux2010_x86_64.whl (24.5 MB)\n",
      "\u001b[2K   \u001b[90m━━━━━━━━━━━━━━━━━━━━━━━━━━━━━━━━━━━━━━━━\u001b[0m \u001b[32m24.5/24.5 MB\u001b[0m \u001b[31m74.2 MB/s\u001b[0m eta \u001b[36m0:00:00\u001b[0m:00:01\u001b[0m00:01\u001b[0m\n",
      "\u001b[?25hDownloading ml_dtypes-0.4.0-cp310-cp310-manylinux_2_17_x86_64.manylinux2014_x86_64.whl (2.2 MB)\n",
      "\u001b[2K   \u001b[90m━━━━━━━━━━━━━━━━━━━━━━━━━━━━━━━━━━━━━━━━\u001b[0m \u001b[32m2.2/2.2 MB\u001b[0m \u001b[31m89.6 MB/s\u001b[0m eta \u001b[36m0:00:00\u001b[0m\n",
      "\u001b[?25hDownloading opt_einsum-3.3.0-py3-none-any.whl (65 kB)\n",
      "\u001b[2K   \u001b[90m━━━━━━━━━━━━━━━━━━━━━━━━━━━━━━━━━━━━━━━━\u001b[0m \u001b[32m65.5/65.5 kB\u001b[0m \u001b[31m22.7 MB/s\u001b[0m eta \u001b[36m0:00:00\u001b[0m\n",
      "\u001b[?25hDownloading tensorboard-2.17.0-py3-none-any.whl (5.5 MB)\n",
      "\u001b[2K   \u001b[90m━━━━━━━━━━━━━━━━━━━━━━━━━━━━━━━━━━━━━━━━\u001b[0m \u001b[32m5.5/5.5 MB\u001b[0m \u001b[31m88.6 MB/s\u001b[0m eta \u001b[36m0:00:00\u001b[0mta \u001b[36m0:00:01\u001b[0m\n",
      "\u001b[?25hDownloading tensorflow_io_gcs_filesystem-0.37.1-cp310-cp310-manylinux_2_17_x86_64.manylinux2014_x86_64.whl (5.1 MB)\n",
      "\u001b[2K   \u001b[90m━━━━━━━━━━━━━━━━━━━━━━━━━━━━━━━━━━━━━━━━\u001b[0m \u001b[32m5.1/5.1 MB\u001b[0m \u001b[31m94.4 MB/s\u001b[0m eta \u001b[36m0:00:00\u001b[0mta \u001b[36m0:00:01\u001b[0m\n",
      "\u001b[?25hDownloading wrapt-1.16.0-cp310-cp310-manylinux_2_5_x86_64.manylinux1_x86_64.manylinux_2_17_x86_64.manylinux2014_x86_64.whl (80 kB)\n",
      "\u001b[2K   \u001b[90m━━━━━━━━━━━━━━━━━━━━━━━━━━━━━━━━━━━━━━━━\u001b[0m \u001b[32m80.3/80.3 kB\u001b[0m \u001b[31m27.1 MB/s\u001b[0m eta \u001b[36m0:00:00\u001b[0m\n",
      "\u001b[?25hDownloading namex-0.0.8-py3-none-any.whl (5.8 kB)\n",
      "Downloading optree-0.12.1-cp310-cp310-manylinux_2_17_x86_64.manylinux2014_x86_64.whl (347 kB)\n",
      "\u001b[2K   \u001b[90m━━━━━━━━━━━━━━━━━━━━━━━━━━━━━━━━━━━━━━━━\u001b[0m \u001b[32m347.7/347.7 kB\u001b[0m \u001b[31m63.0 MB/s\u001b[0m eta \u001b[36m0:00:00\u001b[0m\n",
      "\u001b[?25hInstalling collected packages: namex, libclang, flatbuffers, wrapt, tensorflow-io-gcs-filesystem, optree, opt-einsum, ml-dtypes, h5py, google-pasta, gast, astunparse, tensorboard, keras, tensorflow\n",
      "  Attempting uninstall: tensorboard\n",
      "    Found existing installation: tensorboard 2.15.1\n",
      "    Uninstalling tensorboard-2.15.1:\n",
      "      Successfully uninstalled tensorboard-2.15.1\n",
      "Successfully installed astunparse-1.6.3 flatbuffers-24.3.25 gast-0.6.0 google-pasta-0.2.0 h5py-3.11.0 keras-3.4.1 libclang-18.1.1 ml-dtypes-0.4.0 namex-0.0.8 opt-einsum-3.3.0 optree-0.12.1 tensorboard-2.17.0 tensorflow-2.17.0 tensorflow-io-gcs-filesystem-0.37.1 wrapt-1.16.0\n",
      "\n",
      "\u001b[1m[\u001b[0m\u001b[34;49mnotice\u001b[0m\u001b[1;39;49m]\u001b[0m\u001b[39;49m A new release of pip is available: \u001b[0m\u001b[31;49m24.1.2\u001b[0m\u001b[39;49m -> \u001b[0m\u001b[32;49m24.2\u001b[0m\n",
      "\u001b[1m[\u001b[0m\u001b[34;49mnotice\u001b[0m\u001b[1;39;49m]\u001b[0m\u001b[39;49m To update, run: \u001b[0m\u001b[32;49mpip install --upgrade pip\u001b[0m\n"
     ]
    }
   ],
   "source": [
    "#!pip install tensorflow"
   ]
  },
  {
   "cell_type": "code",
   "execution_count": 8,
   "id": "0f384f7f",
   "metadata": {},
   "outputs": [],
   "source": [
    "import tensorflow as tf\n",
    "import pathlib\n",
    "import os\n",
    "import gzip\n",
    "import shutil\n",
    "import numpy as np"
   ]
  },
  {
   "cell_type": "code",
   "execution_count": 9,
   "id": "45a30c30",
   "metadata": {},
   "outputs": [],
   "source": [
    "def le_arquivos(gz_path):\n",
    "    # Diretório onde os dados serão extraídos\n",
    "    extracted_path = '/tmp/dataset_commands'\n",
    "    # Extrair o arquivo .gz\n",
    "    with gzip.open(gz_path, 'rb') as f_in:\n",
    "        with open(extracted_path + '.tar', 'wb') as f_out:\n",
    "            shutil.copyfileobj(f_in, f_out)\n",
    "\n",
    "    # Extrair o arquivo .tar resultante\n",
    "    shutil.unpack_archive(extracted_path + '.tar', extracted_path)\n",
    "\n",
    "    # Caminho para os dados extraídos\n",
    "    data_dir = pathlib.Path(extracted_path)\n",
    "\n",
    "    # Listar todos os arquivos de áudio e suas labels\n",
    "    all_audio_paths = list(data_dir.glob('*/**/*.wav'))\n",
    "    all_labels = [path.parent.name for path in all_audio_paths]\n",
    "\n",
    "    # Converter caminhos para strings\n",
    "    all_audio_paths = [str(path) for path in all_audio_paths]\n",
    "\n",
    "    return all_audio_paths, all_labels"
   ]
  },
  {
   "cell_type": "code",
   "execution_count": 10,
   "id": "4d4810ab",
   "metadata": {},
   "outputs": [],
   "source": [
    "all_audio_paths, all_labels = le_arquivos(gz_path)"
   ]
  },
  {
   "cell_type": "code",
   "execution_count": 11,
   "id": "9a8179fd",
   "metadata": {},
   "outputs": [
    {
     "data": {
      "text/plain": [
       "array(['_background_noise_', 'backward', 'bed', 'bird', 'cat', 'dog',\n",
       "       'down', 'eight', 'five', 'follow', 'forward', 'four', 'go',\n",
       "       'happy', 'house', 'learn', 'left', 'marvin', 'nine', 'no', 'off',\n",
       "       'on', 'one', 'right', 'seven', 'sheila', 'six', 'stop', 'three',\n",
       "       'tree', 'two', 'up', 'visual', 'wow', 'yes', 'zero'], dtype='<U18')"
      ]
     },
     "execution_count": 11,
     "metadata": {},
     "output_type": "execute_result"
    }
   ],
   "source": [
    "np.unique(all_labels)"
   ]
  },
  {
   "cell_type": "code",
   "execution_count": 12,
   "id": "3cbfa7b3",
   "metadata": {},
   "outputs": [
    {
     "data": {
      "text/plain": [
       "(36,)"
      ]
     },
     "execution_count": 12,
     "metadata": {},
     "output_type": "execute_result"
    }
   ],
   "source": [
    "np.unique(all_labels).shape"
   ]
  },
  {
   "cell_type": "code",
   "execution_count": 13,
   "id": "2354837e",
   "metadata": {},
   "outputs": [],
   "source": [
    "import matplotlib.pyplot as plt"
   ]
  },
  {
   "cell_type": "code",
   "execution_count": 14,
   "id": "799e4560",
   "metadata": {},
   "outputs": [],
   "source": [
    "example_audio_path = all_audio_paths[0]"
   ]
  },
  {
   "cell_type": "code",
   "execution_count": 15,
   "id": "f1002403",
   "metadata": {},
   "outputs": [
    {
     "name": "stderr",
     "output_type": "stream",
     "text": [
      "WARNING: All log messages before absl::InitializeLog() is called are written to STDERR\n",
      "I0000 00:00:1723206607.635407    2460 cuda_executor.cc:1015] successful NUMA node read from SysFS had negative value (-1), but there must be at least one NUMA node, so returning NUMA node zero. See more at https://github.com/torvalds/linux/blob/v6.0/Documentation/ABI/testing/sysfs-bus-pci#L344-L355\n",
      "I0000 00:00:1723206607.866953    2460 cuda_executor.cc:1015] successful NUMA node read from SysFS had negative value (-1), but there must be at least one NUMA node, so returning NUMA node zero. See more at https://github.com/torvalds/linux/blob/v6.0/Documentation/ABI/testing/sysfs-bus-pci#L344-L355\n",
      "I0000 00:00:1723206607.867239    2460 cuda_executor.cc:1015] successful NUMA node read from SysFS had negative value (-1), but there must be at least one NUMA node, so returning NUMA node zero. See more at https://github.com/torvalds/linux/blob/v6.0/Documentation/ABI/testing/sysfs-bus-pci#L344-L355\n",
      "I0000 00:00:1723206607.870964    2460 cuda_executor.cc:1015] successful NUMA node read from SysFS had negative value (-1), but there must be at least one NUMA node, so returning NUMA node zero. See more at https://github.com/torvalds/linux/blob/v6.0/Documentation/ABI/testing/sysfs-bus-pci#L344-L355\n",
      "I0000 00:00:1723206607.871193    2460 cuda_executor.cc:1015] successful NUMA node read from SysFS had negative value (-1), but there must be at least one NUMA node, so returning NUMA node zero. See more at https://github.com/torvalds/linux/blob/v6.0/Documentation/ABI/testing/sysfs-bus-pci#L344-L355\n",
      "I0000 00:00:1723206607.871395    2460 cuda_executor.cc:1015] successful NUMA node read from SysFS had negative value (-1), but there must be at least one NUMA node, so returning NUMA node zero. See more at https://github.com/torvalds/linux/blob/v6.0/Documentation/ABI/testing/sysfs-bus-pci#L344-L355\n",
      "I0000 00:00:1723206608.039862    2460 cuda_executor.cc:1015] successful NUMA node read from SysFS had negative value (-1), but there must be at least one NUMA node, so returning NUMA node zero. See more at https://github.com/torvalds/linux/blob/v6.0/Documentation/ABI/testing/sysfs-bus-pci#L344-L355\n",
      "I0000 00:00:1723206608.040268    2460 cuda_executor.cc:1015] successful NUMA node read from SysFS had negative value (-1), but there must be at least one NUMA node, so returning NUMA node zero. See more at https://github.com/torvalds/linux/blob/v6.0/Documentation/ABI/testing/sysfs-bus-pci#L344-L355\n",
      "I0000 00:00:1723206608.040626    2460 cuda_executor.cc:1015] successful NUMA node read from SysFS had negative value (-1), but there must be at least one NUMA node, so returning NUMA node zero. See more at https://github.com/torvalds/linux/blob/v6.0/Documentation/ABI/testing/sysfs-bus-pci#L344-L355\n",
      "2024-08-09 12:30:08.040954: I tensorflow/core/common_runtime/gpu/gpu_device.cc:2021] Created device /job:localhost/replica:0/task:0/device:GPU:0 with 20933 MB memory:  -> device: 0, name: NVIDIA A10G, pci bus id: 0000:00:1e.0, compute capability: 8.6\n"
     ]
    }
   ],
   "source": [
    "# Carregar o arquivo de áudio\n",
    "audio_binary = tf.io.read_file(example_audio_path)\n",
    "audio, _ = tf.audio.decode_wav(audio_binary)\n",
    "audio = tf.squeeze(audio, axis=-1)"
   ]
  },
  {
   "cell_type": "code",
   "execution_count": 16,
   "id": "b13a5332",
   "metadata": {},
   "outputs": [
    {
     "data": {
      "image/png": "[encoded data removed]",
      "text/plain": [
       "<Figure size 1000x600 with 1 Axes>"
      ]
     },
     "metadata": {},
     "output_type": "display_data"
    }
   ],
   "source": [
    "# Plotar a forma de onda\n",
    "plt.figure(figsize=(10, 6))\n",
    "plt.plot(audio.numpy())\n",
    "plt.title(f'Forma de onda para {example_audio_path}')\n",
    "plt.xlabel('Amostras')\n",
    "plt.ylabel('Amplitude')\n",
    "plt.show()"
   ]
  },
  {
   "cell_type": "markdown",
   "id": "85c8bd7d",
   "metadata": {},
   "source": [
    "## Vídeo 1.3 - Processando os dados de áudio"
   ]
  },
  {
   "cell_type": "code",
   "execution_count": 17,
   "id": "fdc0ee97",
   "metadata": {},
   "outputs": [],
   "source": [
    "from scipy.signal import resample\n"
   ]
  },
  {
   "cell_type": "code",
   "execution_count": 18,
   "id": "54c85651",
   "metadata": {},
   "outputs": [],
   "source": [
    "# Função para carregar e processar o áudio com resampling usando SciPy\n",
    "def load_and_process_audio(filename, max_length=16000):\n",
    "    file_contents = tf.io.read_file(filename)\n",
    "    wav, sample_rate = tf.audio.decode_wav(file_contents, desired_channels=1)\n",
    "    wav = tf.squeeze(wav, axis=-1)\n",
    "    \n",
    "    # Função de resampling usando SciPy\n",
    "    def scipy_resample(wav, sample_rate):\n",
    "        if sample_rate != 16000:\n",
    "            wav = resample(wav, int(16000 / sample_rate * len(wav)))\n",
    "        return wav\n",
    "\n",
    "    # Usar tf.py_function para envolver a operação de resampling\n",
    "    wav = tf.py_function(scipy_resample, [wav, sample_rate], tf.float32)\n",
    "    \n",
    "    # Adicionar padding ou cortar os sinais de áudio\n",
    "    audio_length = tf.shape(wav)[0]\n",
    "    if audio_length > max_length:\n",
    "        wav = wav[:max_length]\n",
    "    else:\n",
    "        pad_length = max_length - audio_length\n",
    "        paddings = [[0, pad_length]]\n",
    "        wav = tf.pad(wav, paddings, \"CONSTANT\")\n",
    "    \n",
    "    return tf.reshape(wav, [max_length])"
   ]
  },
  {
   "cell_type": "code",
   "execution_count": 19,
   "id": "80754168",
   "metadata": {},
   "outputs": [],
   "source": [
    "# Função para processar o caminho do arquivo de áudio e sua label\n",
    "def process_path(file_path, label):\n",
    "    audio = load_and_process_audio(file_path)\n",
    "    return audio, label"
   ]
  },
  {
   "cell_type": "code",
   "execution_count": 20,
   "id": "a16529ca",
   "metadata": {},
   "outputs": [],
   "source": [
    "# Criar um dataset do TensorFlow\n",
    "def paths_and_labels_to_dataset(audio_paths, labels):\n",
    "    path_ds = tf.data.Dataset.from_tensor_slices(audio_paths)\n",
    "    label_ds = tf.data.Dataset.from_tensor_slices(labels)\n",
    "    audio_label_ds = tf.data.Dataset.zip((path_ds, label_ds))\n",
    "    return audio_label_ds.map(process_path, num_parallel_calls=tf.data.AUTOTUNE)"
   ]
  },
  {
   "cell_type": "code",
   "execution_count": 21,
   "id": "68478c7c",
   "metadata": {},
   "outputs": [],
   "source": [
    "# Função para preparar o dataset para o treinamento\n",
    "def prepare_for_training(ds, batch_size=32, shuffle_buffer_size=1000):\n",
    "    ds = ds.shuffle(buffer_size=shuffle_buffer_size)\n",
    "    ds = ds.batch(batch_size)\n",
    "    ds = ds.prefetch(buffer_size=tf.data.AUTOTUNE)\n",
    "    return ds"
   ]
  },
  {
   "cell_type": "code",
   "execution_count": 22,
   "id": "06f1af57",
   "metadata": {},
   "outputs": [],
   "source": [
    "from sklearn.preprocessing import LabelEncoder\n",
    "# Codificar as labels como inteiros\n",
    "label_encoder = LabelEncoder()\n",
    "all_labels_encoded = label_encoder.fit_transform(all_labels)"
   ]
  },
  {
   "cell_type": "code",
   "execution_count": 23,
   "id": "aba7ee6c",
   "metadata": {},
   "outputs": [],
   "source": [
    "# Conjunto completo de dados\n",
    "complete_dataset = paths_and_labels_to_dataset(all_audio_paths, all_labels_encoded)"
   ]
  },
  {
   "cell_type": "markdown",
   "id": "47a2df56",
   "metadata": {},
   "source": [
    "## Vídeo 1.4 - Treinando a rede"
   ]
  },
  {
   "cell_type": "code",
   "execution_count": 24,
   "id": "6bd9c66e",
   "metadata": {},
   "outputs": [],
   "source": [
    "# Dividir o dataset em treino e validação\n",
    "total_size = len(all_audio_paths)\n",
    "val_size = int(0.02 * total_size)\n",
    "train_size = total_size - val_size"
   ]
  },
  {
   "cell_type": "code",
   "execution_count": 25,
   "id": "66617a0b",
   "metadata": {},
   "outputs": [],
   "source": [
    "complete_dataset = complete_dataset.shuffle(buffer_size=total_size, seed=42)\n",
    "train_dataset = complete_dataset.take(train_size)\n",
    "val_dataset = complete_dataset.skip(train_size)"
   ]
  },
  {
   "cell_type": "code",
   "execution_count": 26,
   "id": "e4fb78cc",
   "metadata": {},
   "outputs": [],
   "source": [
    "train_dataset = prepare_for_training(train_dataset)\n",
    "val_dataset = prepare_for_training(val_dataset)"
   ]
  },
  {
   "cell_type": "code",
   "execution_count": 27,
   "id": "3db60f1b",
   "metadata": {},
   "outputs": [],
   "source": [
    "from tensorflow.keras import layers, models"
   ]
  },
  {
   "cell_type": "code",
   "execution_count": 28,
   "id": "2aed8e3e",
   "metadata": {},
   "outputs": [],
   "source": [
    "# Treinamento no domínio do tempo\n",
    "model_time_domain = models.Sequential([\n",
    "    layers.Input(shape=(16000, 1)),\n",
    "    layers.Conv1D(16, kernel_size=3, activation='relu'),\n",
    "    layers.MaxPooling1D(pool_size=2),\n",
    "    layers.Flatten(),\n",
    "    layers.Dense(64, activation='relu'),\n",
    "    layers.Dense(36, activation='softmax')\n",
    "])"
   ]
  },
  {
   "cell_type": "code",
   "execution_count": 29,
   "id": "19499f50",
   "metadata": {},
   "outputs": [],
   "source": [
    "model_time_domain.compile(optimizer='adam',\n",
    "                          loss='sparse_categorical_crossentropy',\n",
    "                          metrics=['accuracy'])"
   ]
  },
  {
   "cell_type": "code",
   "execution_count": 30,
   "id": "115e2d85",
   "metadata": {},
   "outputs": [
    {
     "name": "stdout",
     "output_type": "stream",
     "text": [
      "Epoch 1/10\n"
     ]
    },
    {
     "name": "stderr",
     "output_type": "stream",
     "text": [
      "2024-08-09 12:30:41.867137: I tensorflow/core/kernels/data/shuffle_dataset_op.cc:450] ShuffleDatasetV3:4: Filling up shuffle buffer (this may take a while): 26817 of 105835\n",
      "2024-08-09 12:31:01.859021: I tensorflow/core/kernels/data/shuffle_dataset_op.cc:450] ShuffleDatasetV3:4: Filling up shuffle buffer (this may take a while): 80319 of 105835\n",
      "2024-08-09 12:31:11.523469: I tensorflow/core/kernels/data/shuffle_dataset_op.cc:480] Shuffle buffer filled.\n",
      "2024-08-09 12:31:11.524765: I tensorflow/core/kernels/data/shuffle_dataset_op.cc:480] Shuffle buffer filled.\n",
      "WARNING: All log messages before absl::InitializeLog() is called are written to STDERR\n",
      "I0000 00:00:1723206671.527419    5067 service.cc:146] XLA service 0x7f9f44021a10 initialized for platform CUDA (this does not guarantee that XLA will be used). Devices:\n",
      "I0000 00:00:1723206671.527638    5067 service.cc:154]   StreamExecutor device (0): NVIDIA A10G, Compute Capability 8.6\n",
      "2024-08-09 12:31:11.571020: I tensorflow/compiler/mlir/tensorflow/utils/dump_mlir_util.cc:268] disabling MLIR crash reproducer, set env var `MLIR_CRASH_REPRODUCER_DIRECTORY` to enable.\n",
      "2024-08-09 12:31:11.716753: I external/local_xla/xla/stream_executor/cuda/cuda_dnn.cc:531] Loaded cuDNN version 8902\n"
     ]
    },
    {
     "name": "stdout",
     "output_type": "stream",
     "text": [
      "\u001b[1m   9/3242\u001b[0m \u001b[37m━━━━━━━━━━━━━━━━━━━━\u001b[0m \u001b[1m50s\u001b[0m 16ms/step - accuracy: 0.0342 - loss: 3.6397      "
     ]
    },
    {
     "name": "stderr",
     "output_type": "stream",
     "text": [
      "I0000 00:00:1723206674.295824    5067 device_compiler.h:188] Compiled cluster using XLA!  This line is logged at most once for the lifetime of the process.\n"
     ]
    },
    {
     "name": "stdout",
     "output_type": "stream",
     "text": [
      "\u001b[1m3242/3242\u001b[0m \u001b[32m━━━━━━━━━━━━━━━━━━━━\u001b[0m\u001b[37m\u001b[0m \u001b[1m0s\u001b[0m 16ms/step - accuracy: 0.1309 - loss: 3.1575"
     ]
    },
    {
     "name": "stderr",
     "output_type": "stream",
     "text": [
      "2024-08-09 12:32:15.051822: I tensorflow/core/kernels/data/shuffle_dataset_op.cc:450] ShuffleDatasetV3:4: Filling up shuffle buffer (this may take a while): 26671 of 105835\n",
      "2024-08-09 12:32:25.053239: I tensorflow/core/kernels/data/shuffle_dataset_op.cc:450] ShuffleDatasetV3:4: Filling up shuffle buffer (this may take a while): 53428 of 105835\n",
      "2024-08-09 12:32:44.939372: I tensorflow/core/kernels/data/shuffle_dataset_op.cc:480] Shuffle buffer filled.\n",
      "2024-08-09 12:32:45.094053: I tensorflow/core/kernels/data/shuffle_dataset_op.cc:450] ShuffleDatasetV3:10: Filling up shuffle buffer (this may take a while): 1 of 1000\n",
      "2024-08-09 12:32:45.094914: I tensorflow/core/kernels/data/shuffle_dataset_op.cc:480] Shuffle buffer filled.\n"
     ]
    },
    {
     "name": "stdout",
     "output_type": "stream",
     "text": [
      "\u001b[1m3242/3242\u001b[0m \u001b[32m━━━━━━━━━━━━━━━━━━━━\u001b[0m\u001b[37m\u001b[0m \u001b[1m135s\u001b[0m 28ms/step - accuracy: 0.1309 - loss: 3.1574 - val_accuracy: 0.2722 - val_loss: 2.5281\n",
      "Epoch 2/10\n"
     ]
    },
    {
     "name": "stderr",
     "output_type": "stream",
     "text": [
      "2024-08-09 12:32:56.883577: I tensorflow/core/kernels/data/shuffle_dataset_op.cc:450] ShuffleDatasetV3:4: Filling up shuffle buffer (this may take a while): 27592 of 105835\n",
      "2024-08-09 12:33:06.883709: I tensorflow/core/kernels/data/shuffle_dataset_op.cc:450] ShuffleDatasetV3:4: Filling up shuffle buffer (this may take a while): 54871 of 105835\n"
     ]
    },
    {
     "name": "stdout",
     "output_type": "stream",
     "text": [
      "\u001b[1m  13/3242\u001b[0m \u001b[37m━━━━━━━━━━━━━━━━━━━━\u001b[0m \u001b[1m48s\u001b[0m 15ms/step - accuracy: 0.2825 - loss: 2.5406"
     ]
    },
    {
     "name": "stderr",
     "output_type": "stream",
     "text": [
      "2024-08-09 12:33:25.492113: I tensorflow/core/kernels/data/shuffle_dataset_op.cc:480] Shuffle buffer filled.\n",
      "2024-08-09 12:33:25.492162: I tensorflow/core/kernels/data/shuffle_dataset_op.cc:450] ShuffleDatasetV3:7: Filling up shuffle buffer (this may take a while): 1 of 1000\n",
      "2024-08-09 12:33:25.493466: I tensorflow/core/kernels/data/shuffle_dataset_op.cc:480] Shuffle buffer filled.\n"
     ]
    },
    {
     "name": "stdout",
     "output_type": "stream",
     "text": [
      "\u001b[1m3241/3242\u001b[0m \u001b[32m━━━━━━━━━━━━━━━━━━━\u001b[0m\u001b[37m━\u001b[0m \u001b[1m0s\u001b[0m 15ms/step - accuracy: 0.2875 - loss: 2.4856"
     ]
    },
    {
     "name": "stderr",
     "output_type": "stream",
     "text": [
      "2024-08-09 12:34:24.296185: I tensorflow/core/kernels/data/shuffle_dataset_op.cc:450] ShuffleDatasetV3:4: Filling up shuffle buffer (this may take a while): 27422 of 105835\n",
      "2024-08-09 12:34:44.303020: I tensorflow/core/kernels/data/shuffle_dataset_op.cc:450] ShuffleDatasetV3:4: Filling up shuffle buffer (this may take a while): 82299 of 105835\n",
      "2024-08-09 12:34:53.047889: I tensorflow/core/kernels/data/shuffle_dataset_op.cc:480] Shuffle buffer filled.\n",
      "2024-08-09 12:34:53.196238: I tensorflow/core/kernels/data/shuffle_dataset_op.cc:480] Shuffle buffer filled.\n"
     ]
    },
    {
     "name": "stdout",
     "output_type": "stream",
     "text": [
      "\u001b[1m3242/3242\u001b[0m \u001b[32m━━━━━━━━━━━━━━━━━━━━\u001b[0m\u001b[37m\u001b[0m \u001b[1m127s\u001b[0m 27ms/step - accuracy: 0.2875 - loss: 2.4856 - val_accuracy: 0.3587 - val_loss: 2.2315\n",
      "Epoch 3/10\n"
     ]
    },
    {
     "name": "stderr",
     "output_type": "stream",
     "text": [
      "2024-08-09 12:35:03.472468: I tensorflow/core/kernels/data/shuffle_dataset_op.cc:450] ShuffleDatasetV3:4: Filling up shuffle buffer (this may take a while): 27508 of 105835\n",
      "2024-08-09 12:35:13.476757: I tensorflow/core/kernels/data/shuffle_dataset_op.cc:450] ShuffleDatasetV3:4: Filling up shuffle buffer (this may take a while): 54844 of 105835\n"
     ]
    },
    {
     "name": "stdout",
     "output_type": "stream",
     "text": [
      "\u001b[1m  13/3242\u001b[0m \u001b[37m━━━━━━━━━━━━━━━━━━━━\u001b[0m \u001b[1m48s\u001b[0m 15ms/step - accuracy: 0.3689 - loss: 2.2188"
     ]
    },
    {
     "name": "stderr",
     "output_type": "stream",
     "text": [
      "2024-08-09 12:35:32.071811: I tensorflow/core/kernels/data/shuffle_dataset_op.cc:480] Shuffle buffer filled.\n",
      "2024-08-09 12:35:32.071863: I tensorflow/core/kernels/data/shuffle_dataset_op.cc:450] ShuffleDatasetV3:7: Filling up shuffle buffer (this may take a while): 1 of 1000\n",
      "2024-08-09 12:35:32.073160: I tensorflow/core/kernels/data/shuffle_dataset_op.cc:480] Shuffle buffer filled.\n"
     ]
    },
    {
     "name": "stdout",
     "output_type": "stream",
     "text": [
      "\u001b[1m3241/3242\u001b[0m \u001b[32m━━━━━━━━━━━━━━━━━━━\u001b[0m\u001b[37m━\u001b[0m \u001b[1m0s\u001b[0m 15ms/step - accuracy: 0.3578 - loss: 2.2032"
     ]
    },
    {
     "name": "stderr",
     "output_type": "stream",
     "text": [
      "2024-08-09 12:36:30.871548: I tensorflow/core/kernels/data/shuffle_dataset_op.cc:450] ShuffleDatasetV3:4: Filling up shuffle buffer (this may take a while): 27259 of 105835\n",
      "2024-08-09 12:36:50.876128: I tensorflow/core/kernels/data/shuffle_dataset_op.cc:450] ShuffleDatasetV3:4: Filling up shuffle buffer (this may take a while): 82159 of 105835\n",
      "2024-08-09 12:36:59.629133: I tensorflow/core/kernels/data/shuffle_dataset_op.cc:480] Shuffle buffer filled.\n",
      "2024-08-09 12:36:59.783021: I tensorflow/core/kernels/data/shuffle_dataset_op.cc:480] Shuffle buffer filled.\n"
     ]
    },
    {
     "name": "stdout",
     "output_type": "stream",
     "text": [
      "\u001b[1m3242/3242\u001b[0m \u001b[32m━━━━━━━━━━━━━━━━━━━━\u001b[0m\u001b[37m\u001b[0m \u001b[1m127s\u001b[0m 27ms/step - accuracy: 0.3578 - loss: 2.2032 - val_accuracy: 0.4164 - val_loss: 1.9797\n",
      "Epoch 4/10\n"
     ]
    },
    {
     "name": "stderr",
     "output_type": "stream",
     "text": [
      "2024-08-09 12:37:10.147005: I tensorflow/core/kernels/data/shuffle_dataset_op.cc:450] ShuffleDatasetV3:4: Filling up shuffle buffer (this may take a while): 27634 of 105835\n",
      "2024-08-09 12:37:30.145924: I tensorflow/core/kernels/data/shuffle_dataset_op.cc:450] ShuffleDatasetV3:4: Filling up shuffle buffer (this may take a while): 82216 of 105835\n"
     ]
    },
    {
     "name": "stdout",
     "output_type": "stream",
     "text": [
      "\u001b[1m  13/3242\u001b[0m \u001b[37m━━━━━━━━━━━━━━━━━━━━\u001b[0m \u001b[1m48s\u001b[0m 15ms/step - accuracy: 0.3699 - loss: 2.1695"
     ]
    },
    {
     "name": "stderr",
     "output_type": "stream",
     "text": [
      "2024-08-09 12:37:38.728213: I tensorflow/core/kernels/data/shuffle_dataset_op.cc:480] Shuffle buffer filled.\n",
      "2024-08-09 12:37:38.729568: I tensorflow/core/kernels/data/shuffle_dataset_op.cc:480] Shuffle buffer filled.\n"
     ]
    },
    {
     "name": "stdout",
     "output_type": "stream",
     "text": [
      "\u001b[1m3241/3242\u001b[0m \u001b[32m━━━━━━━━━━━━━━━━━━━\u001b[0m\u001b[37m━\u001b[0m \u001b[1m0s\u001b[0m 15ms/step - accuracy: 0.4145 - loss: 1.9920"
     ]
    },
    {
     "name": "stderr",
     "output_type": "stream",
     "text": [
      "2024-08-09 12:38:37.563726: I tensorflow/core/kernels/data/shuffle_dataset_op.cc:450] ShuffleDatasetV3:4: Filling up shuffle buffer (this may take a while): 27312 of 105835\n",
      "2024-08-09 12:38:57.558756: I tensorflow/core/kernels/data/shuffle_dataset_op.cc:450] ShuffleDatasetV3:4: Filling up shuffle buffer (this may take a while): 82317 of 105835\n",
      "2024-08-09 12:39:06.239229: I tensorflow/core/kernels/data/shuffle_dataset_op.cc:480] Shuffle buffer filled.\n",
      "2024-08-09 12:39:06.391977: I tensorflow/core/kernels/data/shuffle_dataset_op.cc:480] Shuffle buffer filled.\n"
     ]
    },
    {
     "name": "stdout",
     "output_type": "stream",
     "text": [
      "\u001b[1m3242/3242\u001b[0m \u001b[32m━━━━━━━━━━━━━━━━━━━━\u001b[0m\u001b[37m\u001b[0m \u001b[1m127s\u001b[0m 27ms/step - accuracy: 0.4145 - loss: 1.9920 - val_accuracy: 0.4939 - val_loss: 1.7440\n",
      "Epoch 5/10\n"
     ]
    },
    {
     "name": "stderr",
     "output_type": "stream",
     "text": [
      "2024-08-09 12:39:16.788396: I tensorflow/core/kernels/data/shuffle_dataset_op.cc:450] ShuffleDatasetV3:4: Filling up shuffle buffer (this may take a while): 27634 of 105835\n",
      "2024-08-09 12:39:36.786736: I tensorflow/core/kernels/data/shuffle_dataset_op.cc:450] ShuffleDatasetV3:4: Filling up shuffle buffer (this may take a while): 82713 of 105835\n"
     ]
    },
    {
     "name": "stdout",
     "output_type": "stream",
     "text": [
      "\u001b[1m  13/3242\u001b[0m \u001b[37m━━━━━━━━━━━━━━━━━━━━\u001b[0m \u001b[1m48s\u001b[0m 15ms/step - accuracy: 0.5047 - loss: 1.6456"
     ]
    },
    {
     "name": "stderr",
     "output_type": "stream",
     "text": [
      "2024-08-09 12:39:45.270127: I tensorflow/core/kernels/data/shuffle_dataset_op.cc:480] Shuffle buffer filled.\n",
      "2024-08-09 12:39:45.271564: I tensorflow/core/kernels/data/shuffle_dataset_op.cc:480] Shuffle buffer filled.\n"
     ]
    },
    {
     "name": "stdout",
     "output_type": "stream",
     "text": [
      "\u001b[1m3241/3242\u001b[0m \u001b[32m━━━━━━━━━━━━━━━━━━━\u001b[0m\u001b[37m━\u001b[0m \u001b[1m0s\u001b[0m 15ms/step - accuracy: 0.4733 - loss: 1.7731"
     ]
    },
    {
     "name": "stderr",
     "output_type": "stream",
     "text": [
      "2024-08-09 12:40:44.056022: I tensorflow/core/kernels/data/shuffle_dataset_op.cc:450] ShuffleDatasetV3:4: Filling up shuffle buffer (this may take a while): 27347 of 105835\n",
      "2024-08-09 12:40:54.056193: I tensorflow/core/kernels/data/shuffle_dataset_op.cc:450] ShuffleDatasetV3:4: Filling up shuffle buffer (this may take a while): 55035 of 105835\n",
      "2024-08-09 12:41:12.748753: I tensorflow/core/kernels/data/shuffle_dataset_op.cc:480] Shuffle buffer filled.\n",
      "2024-08-09 12:41:12.902513: I tensorflow/core/kernels/data/shuffle_dataset_op.cc:450] ShuffleDatasetV3:10: Filling up shuffle buffer (this may take a while): 1 of 1000\n",
      "2024-08-09 12:41:12.903378: I tensorflow/core/kernels/data/shuffle_dataset_op.cc:480] Shuffle buffer filled.\n"
     ]
    },
    {
     "name": "stdout",
     "output_type": "stream",
     "text": [
      "\u001b[1m3242/3242\u001b[0m \u001b[32m━━━━━━━━━━━━━━━━━━━━\u001b[0m\u001b[37m\u001b[0m \u001b[1m127s\u001b[0m 27ms/step - accuracy: 0.4733 - loss: 1.7731 - val_accuracy: 0.5369 - val_loss: 1.5849\n",
      "Epoch 6/10\n"
     ]
    },
    {
     "name": "stderr",
     "output_type": "stream",
     "text": [
      "2024-08-09 12:41:23.271542: I tensorflow/core/kernels/data/shuffle_dataset_op.cc:450] ShuffleDatasetV3:4: Filling up shuffle buffer (this may take a while): 27715 of 105835\n",
      "2024-08-09 12:41:43.271403: I tensorflow/core/kernels/data/shuffle_dataset_op.cc:450] ShuffleDatasetV3:4: Filling up shuffle buffer (this may take a while): 82834 of 105835\n"
     ]
    },
    {
     "name": "stdout",
     "output_type": "stream",
     "text": [
      "\u001b[1m  13/3242\u001b[0m \u001b[37m━━━━━━━━━━━━━━━━━━━━\u001b[0m \u001b[1m49s\u001b[0m 15ms/step - accuracy: 0.5767 - loss: 1.6019"
     ]
    },
    {
     "name": "stderr",
     "output_type": "stream",
     "text": [
      "2024-08-09 12:41:51.728007: I tensorflow/core/kernels/data/shuffle_dataset_op.cc:480] Shuffle buffer filled.\n",
      "2024-08-09 12:41:51.729299: I tensorflow/core/kernels/data/shuffle_dataset_op.cc:480] Shuffle buffer filled.\n"
     ]
    },
    {
     "name": "stdout",
     "output_type": "stream",
     "text": [
      "\u001b[1m3241/3242\u001b[0m \u001b[32m━━━━━━━━━━━━━━━━━━━\u001b[0m\u001b[37m━\u001b[0m \u001b[1m0s\u001b[0m 15ms/step - accuracy: 0.5299 - loss: 1.5822"
     ]
    },
    {
     "name": "stderr",
     "output_type": "stream",
     "text": [
      "2024-08-09 12:42:50.522207: I tensorflow/core/kernels/data/shuffle_dataset_op.cc:450] ShuffleDatasetV3:4: Filling up shuffle buffer (this may take a while): 27491 of 105835\n",
      "2024-08-09 12:43:10.523062: I tensorflow/core/kernels/data/shuffle_dataset_op.cc:450] ShuffleDatasetV3:4: Filling up shuffle buffer (this may take a while): 82725 of 105835\n",
      "2024-08-09 12:43:18.876609: I tensorflow/core/kernels/data/shuffle_dataset_op.cc:480] Shuffle buffer filled.\n",
      "2024-08-09 12:43:19.023183: I tensorflow/core/kernels/data/shuffle_dataset_op.cc:480] Shuffle buffer filled.\n"
     ]
    },
    {
     "name": "stdout",
     "output_type": "stream",
     "text": [
      "\u001b[1m3242/3242\u001b[0m \u001b[32m━━━━━━━━━━━━━━━━━━━━\u001b[0m\u001b[37m\u001b[0m \u001b[1m126s\u001b[0m 27ms/step - accuracy: 0.5299 - loss: 1.5822 - val_accuracy: 0.5841 - val_loss: 1.4097\n",
      "Epoch 7/10\n"
     ]
    },
    {
     "name": "stderr",
     "output_type": "stream",
     "text": [
      "2024-08-09 12:43:29.331930: I tensorflow/core/kernels/data/shuffle_dataset_op.cc:450] ShuffleDatasetV3:4: Filling up shuffle buffer (this may take a while): 27215 of 105835\n",
      "2024-08-09 12:43:39.334740: I tensorflow/core/kernels/data/shuffle_dataset_op.cc:450] ShuffleDatasetV3:4: Filling up shuffle buffer (this may take a while): 54579 of 105835\n",
      "2024-08-09 12:43:49.335358: I tensorflow/core/kernels/data/shuffle_dataset_op.cc:450] ShuffleDatasetV3:4: Filling up shuffle buffer (this may take a while): 82169 of 105835\n"
     ]
    },
    {
     "name": "stdout",
     "output_type": "stream",
     "text": [
      "\u001b[1m  13/3242\u001b[0m \u001b[37m━━━━━━━━━━━━━━━━━━━━\u001b[0m \u001b[1m48s\u001b[0m 15ms/step - accuracy: 0.5949 - loss: 1.3597"
     ]
    },
    {
     "name": "stderr",
     "output_type": "stream",
     "text": [
      "2024-08-09 12:43:58.036386: I tensorflow/core/kernels/data/shuffle_dataset_op.cc:480] Shuffle buffer filled.\n",
      "2024-08-09 12:43:58.038108: I tensorflow/core/kernels/data/shuffle_dataset_op.cc:480] Shuffle buffer filled.\n"
     ]
    },
    {
     "name": "stdout",
     "output_type": "stream",
     "text": [
      "\u001b[1m3241/3242\u001b[0m \u001b[32m━━━━━━━━━━━━━━━━━━━\u001b[0m\u001b[37m━\u001b[0m \u001b[1m0s\u001b[0m 15ms/step - accuracy: 0.5774 - loss: 1.4171"
     ]
    },
    {
     "name": "stderr",
     "output_type": "stream",
     "text": [
      "2024-08-09 12:44:56.780252: I tensorflow/core/kernels/data/shuffle_dataset_op.cc:450] ShuffleDatasetV3:4: Filling up shuffle buffer (this may take a while): 27298 of 105835\n",
      "2024-08-09 12:45:06.780983: I tensorflow/core/kernels/data/shuffle_dataset_op.cc:450] ShuffleDatasetV3:4: Filling up shuffle buffer (this may take a while): 54936 of 105835\n",
      "2024-08-09 12:45:16.789940: I tensorflow/core/kernels/data/shuffle_dataset_op.cc:450] ShuffleDatasetV3:4: Filling up shuffle buffer (this may take a while): 82171 of 105835\n",
      "2024-08-09 12:45:25.414278: I tensorflow/core/kernels/data/shuffle_dataset_op.cc:480] Shuffle buffer filled.\n",
      "2024-08-09 12:45:25.568587: I tensorflow/core/kernels/data/shuffle_dataset_op.cc:480] Shuffle buffer filled.\n"
     ]
    },
    {
     "name": "stdout",
     "output_type": "stream",
     "text": [
      "\u001b[1m3242/3242\u001b[0m \u001b[32m━━━━━━━━━━━━━━━━━━━━\u001b[0m\u001b[37m\u001b[0m \u001b[1m127s\u001b[0m 27ms/step - accuracy: 0.5774 - loss: 1.4171 - val_accuracy: 0.6342 - val_loss: 1.2836\n",
      "Epoch 8/10\n"
     ]
    },
    {
     "name": "stderr",
     "output_type": "stream",
     "text": [
      "2024-08-09 12:45:35.872185: I tensorflow/core/kernels/data/shuffle_dataset_op.cc:450] ShuffleDatasetV3:4: Filling up shuffle buffer (this may take a while): 27395 of 105835\n",
      "2024-08-09 12:45:55.871785: I tensorflow/core/kernels/data/shuffle_dataset_op.cc:450] ShuffleDatasetV3:4: Filling up shuffle buffer (this may take a while): 82625 of 105835\n"
     ]
    },
    {
     "name": "stdout",
     "output_type": "stream",
     "text": [
      "\u001b[1m  13/3242\u001b[0m \u001b[37m━━━━━━━━━━━━━━━━━━━━\u001b[0m \u001b[1m48s\u001b[0m 15ms/step - accuracy: 0.6171 - loss: 1.3331"
     ]
    },
    {
     "name": "stderr",
     "output_type": "stream",
     "text": [
      "2024-08-09 12:46:04.360892: I tensorflow/core/kernels/data/shuffle_dataset_op.cc:480] Shuffle buffer filled.\n",
      "2024-08-09 12:46:04.362151: I tensorflow/core/kernels/data/shuffle_dataset_op.cc:480] Shuffle buffer filled.\n"
     ]
    },
    {
     "name": "stdout",
     "output_type": "stream",
     "text": [
      "\u001b[1m3241/3242\u001b[0m \u001b[32m━━━━━━━━━━━━━━━━━━━\u001b[0m\u001b[37m━\u001b[0m \u001b[1m0s\u001b[0m 15ms/step - accuracy: 0.6232 - loss: 1.2682"
     ]
    },
    {
     "name": "stderr",
     "output_type": "stream",
     "text": [
      "2024-08-09 12:47:03.173988: I tensorflow/core/kernels/data/shuffle_dataset_op.cc:450] ShuffleDatasetV3:4: Filling up shuffle buffer (this may take a while): 27664 of 105835\n",
      "2024-08-09 12:47:13.180641: I tensorflow/core/kernels/data/shuffle_dataset_op.cc:450] ShuffleDatasetV3:4: Filling up shuffle buffer (this may take a while): 55013 of 105835\n",
      "2024-08-09 12:47:31.724280: I tensorflow/core/kernels/data/shuffle_dataset_op.cc:480] Shuffle buffer filled.\n",
      "2024-08-09 12:47:31.876438: I tensorflow/core/kernels/data/shuffle_dataset_op.cc:450] ShuffleDatasetV3:10: Filling up shuffle buffer (this may take a while): 1 of 1000\n",
      "2024-08-09 12:47:31.877285: I tensorflow/core/kernels/data/shuffle_dataset_op.cc:480] Shuffle buffer filled.\n"
     ]
    },
    {
     "name": "stdout",
     "output_type": "stream",
     "text": [
      "\u001b[1m3242/3242\u001b[0m \u001b[32m━━━━━━━━━━━━━━━━━━━━\u001b[0m\u001b[37m\u001b[0m \u001b[1m126s\u001b[0m 27ms/step - accuracy: 0.6232 - loss: 1.2682 - val_accuracy: 0.6867 - val_loss: 1.0732\n",
      "Epoch 9/10\n"
     ]
    },
    {
     "name": "stderr",
     "output_type": "stream",
     "text": [
      "2024-08-09 12:47:42.184348: I tensorflow/core/kernels/data/shuffle_dataset_op.cc:450] ShuffleDatasetV3:4: Filling up shuffle buffer (this may take a while): 27298 of 105835\n",
      "2024-08-09 12:47:52.185154: I tensorflow/core/kernels/data/shuffle_dataset_op.cc:450] ShuffleDatasetV3:4: Filling up shuffle buffer (this may take a while): 54615 of 105835\n",
      "2024-08-09 12:48:02.185454: I tensorflow/core/kernels/data/shuffle_dataset_op.cc:450] ShuffleDatasetV3:4: Filling up shuffle buffer (this may take a while): 82297 of 105835\n"
     ]
    },
    {
     "name": "stdout",
     "output_type": "stream",
     "text": [
      "\u001b[1m  13/3242\u001b[0m \u001b[37m━━━━━━━━━━━━━━━━━━━━\u001b[0m \u001b[1m48s\u001b[0m 15ms/step - accuracy: 0.6273 - loss: 1.2277"
     ]
    },
    {
     "name": "stderr",
     "output_type": "stream",
     "text": [
      "2024-08-09 12:48:10.839170: I tensorflow/core/kernels/data/shuffle_dataset_op.cc:480] Shuffle buffer filled.\n",
      "2024-08-09 12:48:10.840456: I tensorflow/core/kernels/data/shuffle_dataset_op.cc:480] Shuffle buffer filled.\n"
     ]
    },
    {
     "name": "stdout",
     "output_type": "stream",
     "text": [
      "\u001b[1m3241/3242\u001b[0m \u001b[32m━━━━━━━━━━━━━━━━━━━\u001b[0m\u001b[37m━\u001b[0m \u001b[1m0s\u001b[0m 15ms/step - accuracy: 0.6619 - loss: 1.1405"
     ]
    },
    {
     "name": "stderr",
     "output_type": "stream",
     "text": [
      "2024-08-09 12:49:09.872056: I tensorflow/core/kernels/data/shuffle_dataset_op.cc:450] ShuffleDatasetV3:4: Filling up shuffle buffer (this may take a while): 27696 of 105835\n",
      "2024-08-09 12:49:29.754799: I tensorflow/core/kernels/data/shuffle_dataset_op.cc:450] ShuffleDatasetV3:4: Filling up shuffle buffer (this may take a while): 82280 of 105835\n",
      "2024-08-09 12:49:38.312561: I tensorflow/core/kernels/data/shuffle_dataset_op.cc:480] Shuffle buffer filled.\n",
      "2024-08-09 12:49:38.470091: I tensorflow/core/kernels/data/shuffle_dataset_op.cc:480] Shuffle buffer filled.\n"
     ]
    },
    {
     "name": "stdout",
     "output_type": "stream",
     "text": [
      "\u001b[1m3242/3242\u001b[0m \u001b[32m━━━━━━━━━━━━━━━━━━━━\u001b[0m\u001b[37m\u001b[0m \u001b[1m127s\u001b[0m 27ms/step - accuracy: 0.6619 - loss: 1.1405 - val_accuracy: 0.7098 - val_loss: 1.0062\n",
      "Epoch 10/10\n"
     ]
    },
    {
     "name": "stderr",
     "output_type": "stream",
     "text": [
      "2024-08-09 12:49:48.812908: I tensorflow/core/kernels/data/shuffle_dataset_op.cc:450] ShuffleDatasetV3:4: Filling up shuffle buffer (this may take a while): 27232 of 105835\n",
      "2024-08-09 12:49:58.814776: I tensorflow/core/kernels/data/shuffle_dataset_op.cc:450] ShuffleDatasetV3:4: Filling up shuffle buffer (this may take a while): 54564 of 105835\n"
     ]
    },
    {
     "name": "stdout",
     "output_type": "stream",
     "text": [
      "\u001b[1m  13/3242\u001b[0m \u001b[37m━━━━━━━━━━━━━━━━━━━━\u001b[0m \u001b[1m49s\u001b[0m 15ms/step - accuracy: 0.7083 - loss: 1.0484"
     ]
    },
    {
     "name": "stderr",
     "output_type": "stream",
     "text": [
      "2024-08-09 12:50:17.485418: I tensorflow/core/kernels/data/shuffle_dataset_op.cc:480] Shuffle buffer filled.\n",
      "2024-08-09 12:50:17.485466: I tensorflow/core/kernels/data/shuffle_dataset_op.cc:450] ShuffleDatasetV3:7: Filling up shuffle buffer (this may take a while): 1 of 1000\n",
      "2024-08-09 12:50:17.486773: I tensorflow/core/kernels/data/shuffle_dataset_op.cc:480] Shuffle buffer filled.\n"
     ]
    },
    {
     "name": "stdout",
     "output_type": "stream",
     "text": [
      "\u001b[1m3241/3242\u001b[0m \u001b[32m━━━━━━━━━━━━━━━━━━━\u001b[0m\u001b[37m━\u001b[0m \u001b[1m0s\u001b[0m 15ms/step - accuracy: 0.6960 - loss: 1.0307"
     ]
    },
    {
     "name": "stderr",
     "output_type": "stream",
     "text": [
      "2024-08-09 12:51:16.311610: I tensorflow/core/kernels/data/shuffle_dataset_op.cc:450] ShuffleDatasetV3:4: Filling up shuffle buffer (this may take a while): 27734 of 105835\n",
      "2024-08-09 12:51:36.308984: I tensorflow/core/kernels/data/shuffle_dataset_op.cc:450] ShuffleDatasetV3:4: Filling up shuffle buffer (this may take a while): 82364 of 105835\n",
      "2024-08-09 12:51:44.842957: I tensorflow/core/kernels/data/shuffle_dataset_op.cc:480] Shuffle buffer filled.\n",
      "2024-08-09 12:51:44.996898: I tensorflow/core/kernels/data/shuffle_dataset_op.cc:480] Shuffle buffer filled.\n"
     ]
    },
    {
     "name": "stdout",
     "output_type": "stream",
     "text": [
      "\u001b[1m3242/3242\u001b[0m \u001b[32m━━━━━━━━━━━━━━━━━━━━\u001b[0m\u001b[37m\u001b[0m \u001b[1m127s\u001b[0m 27ms/step - accuracy: 0.6960 - loss: 1.0308 - val_accuracy: 0.7264 - val_loss: 0.9427\n"
     ]
    }
   ],
   "source": [
    "history_time_domain = model_time_domain.fit(train_dataset, epochs=10, validation_data=val_dataset)\n"
   ]
  },
  {
   "cell_type": "code",
   "execution_count": 31,
   "id": "0be2c048",
   "metadata": {},
   "outputs": [],
   "source": [
    "def plot_history(history):\n",
    "    # Resumo do histórico de precisão\n",
    "    plt.figure(figsize=(12, 4))\n",
    "\n",
    "    plt.subplot(1, 2, 1)\n",
    "    plt.plot(history.history['accuracy'], label='Acurácia de Treinamento')\n",
    "    plt.plot(history.history['val_accuracy'], label='Acurácia de Validação')\n",
    "    plt.title('Acurácia do Modelo')\n",
    "    plt.xlabel('Época')\n",
    "    plt.ylabel('Acurácia')\n",
    "    plt.legend(loc='lower right')\n",
    "\n",
    "    # Resumo do histórico de perda\n",
    "    plt.subplot(1, 2, 2)\n",
    "    plt.plot(history.history['loss'], label='Perda de Treinamento')\n",
    "    plt.plot(history.history['val_loss'], label='Perda de Validação')\n",
    "    plt.title('Perda do Modelo')\n",
    "    plt.xlabel('Época')\n",
    "    plt.ylabel('Perda')\n",
    "    plt.legend(loc='upper right')\n",
    "\n",
    "    plt.tight_layout()\n",
    "    plt.show()\n"
   ]
  },
  {
   "cell_type": "code",
   "execution_count": 32,
   "id": "52799613",
   "metadata": {},
   "outputs": [
    {
     "data": {
      "image/png": "[encoded data removed]",
      "text/plain": [
       "<Figure size 1200x400 with 2 Axes>"
      ]
     },
     "metadata": {},
     "output_type": "display_data"
    }
   ],
   "source": [
    "plot_history(history_time_domain)"
   ]
  },
  {
   "cell_type": "markdown",
   "id": "66aaed50",
   "metadata": {},
   "source": [
    "# Aula 2 - Mudando o domínio"
   ]
  },
  {
   "cell_type": "markdown",
   "id": "f2154fe2",
   "metadata": {},
   "source": [
    "## Vídeo 2.1 - Aplicando a FFT"
   ]
  },
  {
   "cell_type": "code",
   "execution_count": 33,
   "id": "4312427d",
   "metadata": {},
   "outputs": [
    {
     "data": {
      "image/png": "[encoded data removed]",
      "text/plain": [
       "<Figure size 1000x600 with 1 Axes>"
      ]
     },
     "metadata": {},
     "output_type": "display_data"
    }
   ],
   "source": [
    "# Plotar a forma de onda\n",
    "plt.figure(figsize=(10, 6))\n",
    "plt.plot(audio.numpy())\n",
    "plt.title(f'Forma de onda para {example_audio_path}')\n",
    "plt.xlabel('Amostras')\n",
    "plt.ylabel('Amplitude')\n",
    "plt.show()"
   ]
  },
  {
   "cell_type": "code",
   "execution_count": 34,
   "id": "b352db87",
   "metadata": {},
   "outputs": [],
   "source": [
    "def espectrograma(formadeonda):\n",
    "    # Converte a forma de onda para um espectro grama usando STFT.\n",
    "    espect = tf.signal.stft(\n",
    "      formadeonda, frame_length=255, frame_step=128)\n",
    "\n",
    "    espect = tf.abs(espect)\n",
    "\n",
    "    # Adiciona uma dimensão `channels`, \n",
    "    # para que o espectrograma possa ser usado \n",
    "    # como dados de entrada semelhantes a imagens \n",
    "    # com camadas de convolução \n",
    "    # (que esperam # formato (`batch_size`, `height`, `width`, `channels`).\n",
    "    espect = espect[..., tf.newaxis]\n",
    "    return espect\n",
    "\n",
    "\n",
    "    "
   ]
  },
  {
   "cell_type": "code",
   "execution_count": 35,
   "id": "d6b84d69",
   "metadata": {},
   "outputs": [],
   "source": [
    "espect = espectrograma(audio.numpy())"
   ]
  },
  {
   "cell_type": "code",
   "execution_count": 36,
   "id": "e801c943",
   "metadata": {},
   "outputs": [],
   "source": [
    "def plota_espectrograma(espectrograma):\n",
    "    if len(espectrograma.shape) > 2:\n",
    "        assert len(espectrograma.shape) == 3\n",
    "        espectrograma = np.squeeze(espectrograma, axis=-1)\n",
    "    # Convert the frequencies to log scale and transpose, so that the time is\n",
    "    # represented on the x-axis (columns).\n",
    "    # Add an epsilon to avoid taking a log of zero.\n",
    "    log_spec = np.log(espectrograma.T + np.finfo(float).eps)\n",
    "    height = log_spec.shape[0]\n",
    "    width = log_spec.shape[1]\n",
    "    X = np.linspace(0, np.size(espectrograma), num=width, dtype=int)\n",
    "    Y = range(height)\n",
    "    plt.pcolormesh(X, Y, log_spec)"
   ]
  },
  {
   "cell_type": "code",
   "execution_count": 37,
   "id": "46249b6e",
   "metadata": {},
   "outputs": [
    {
     "data": {
      "image/png": "[encoded data removed]",
      "text/plain": [
       "<Figure size 640x480 with 1 Axes>"
      ]
     },
     "metadata": {},
     "output_type": "display_data"
    }
   ],
   "source": [
    "plota_espectrograma(espect)"
   ]
  },
  {
   "cell_type": "markdown",
   "id": "9b5c4718",
   "metadata": {},
   "source": [
    "## Vídeo 2.2 - Reprocessando os dados"
   ]
  },
  {
   "cell_type": "code",
   "execution_count": 38,
   "id": "09724599",
   "metadata": {},
   "outputs": [],
   "source": [
    "def get_spectrogram_and_label_id(audio, label):\n",
    "    espect = espectrograma(audio)\n",
    "    return espect, label"
   ]
  },
  {
   "cell_type": "code",
   "execution_count": 39,
   "id": "0915889e",
   "metadata": {},
   "outputs": [],
   "source": [
    "train_spec = train_dataset.map(map_func=get_spectrogram_and_label_id,num_parallel_calls=tf.data.AUTOTUNE)\n",
    "val_spec = val_dataset.map(map_func=get_spectrogram_and_label_id,num_parallel_calls=tf.data.AUTOTUNE)"
   ]
  },
  {
   "cell_type": "code",
   "execution_count": 40,
   "id": "693bee4a",
   "metadata": {},
   "outputs": [
    {
     "name": "stderr",
     "output_type": "stream",
     "text": [
      "2024-08-09 12:53:14.394983: I tensorflow/core/kernels/data/shuffle_dataset_op.cc:450] ShuffleDatasetV3:4: Filling up shuffle buffer (this may take a while): 27596 of 105835\n",
      "2024-08-09 12:53:34.336132: I tensorflow/core/kernels/data/shuffle_dataset_op.cc:450] ShuffleDatasetV3:4: Filling up shuffle buffer (this may take a while): 82922 of 105835\n",
      "2024-08-09 12:53:42.572183: I tensorflow/core/kernels/data/shuffle_dataset_op.cc:480] Shuffle buffer filled.\n",
      "2024-08-09 12:53:42.573441: I tensorflow/core/kernels/data/shuffle_dataset_op.cc:480] Shuffle buffer filled.\n",
      "2024-08-09 12:53:42.691711: I tensorflow/core/framework/local_rendezvous.cc:404] Local rendezvous is aborting with status: OUT_OF_RANGE: End of sequence\n"
     ]
    }
   ],
   "source": [
    "# Normalize the spectrograms.\n",
    "norm_layer = tf.keras.layers.Normalization()\n",
    "# Get a batch of spectrograms to adapt the norm layer\n",
    "for spectrogram, _ in train_spec.take(1):\n",
    "    norm_layer.adapt(spectrogram)"
   ]
  },
  {
   "cell_type": "code",
   "execution_count": 41,
   "id": "c1358c1c",
   "metadata": {},
   "outputs": [],
   "source": [
    "# Number of labels\n",
    "num_labels = len(np.unique(all_labels))"
   ]
  },
  {
   "cell_type": "code",
   "execution_count": 42,
   "id": "15586813",
   "metadata": {},
   "outputs": [
    {
     "name": "stderr",
     "output_type": "stream",
     "text": [
      "2024-08-09 12:53:52.821520: I tensorflow/core/kernels/data/shuffle_dataset_op.cc:450] ShuffleDatasetV3:4: Filling up shuffle buffer (this may take a while): 27352 of 105835\n",
      "2024-08-09 12:54:02.822564: I tensorflow/core/kernels/data/shuffle_dataset_op.cc:450] ShuffleDatasetV3:4: Filling up shuffle buffer (this may take a while): 54825 of 105835\n",
      "2024-08-09 12:54:21.293721: I tensorflow/core/kernels/data/shuffle_dataset_op.cc:480] Shuffle buffer filled.\n",
      "2024-08-09 12:54:21.293776: I tensorflow/core/kernels/data/shuffle_dataset_op.cc:450] ShuffleDatasetV3:7: Filling up shuffle buffer (this may take a while): 1 of 1000\n",
      "2024-08-09 12:54:21.295031: I tensorflow/core/kernels/data/shuffle_dataset_op.cc:480] Shuffle buffer filled.\n",
      "2024-08-09 12:54:21.378273: I tensorflow/core/framework/local_rendezvous.cc:404] Local rendezvous is aborting with status: OUT_OF_RANGE: End of sequence\n"
     ]
    }
   ],
   "source": [
    "# Get the input shape from the spectrograms\n",
    "for spectrogram, _ in train_spec.take(1):\n",
    "    input_shape = spectrogram.shape[1:]"
   ]
  },
  {
   "cell_type": "markdown",
   "id": "4641e412",
   "metadata": {},
   "source": [
    "## Vídeo 2.3 - Adaptando a rede"
   ]
  },
  {
   "cell_type": "code",
   "execution_count": 43,
   "id": "906fc913",
   "metadata": {},
   "outputs": [
    {
     "data": {
      "text/plain": [
       "TensorShape([124, 129, 1])"
      ]
     },
     "execution_count": 43,
     "metadata": {},
     "output_type": "execute_result"
    }
   ],
   "source": [
    "input_shape"
   ]
  },
  {
   "cell_type": "code",
   "execution_count": 44,
   "id": "9be1cd15",
   "metadata": {},
   "outputs": [],
   "source": [
    "train_spec = train_dataset.map(map_func=get_spectrogram_and_label_id, num_parallel_calls=tf.data.AUTOTUNE)\n",
    "val_spec = val_dataset.map(map_func=get_spectrogram_and_label_id, num_parallel_calls=tf.data.AUTOTUNE)"
   ]
  },
  {
   "cell_type": "code",
   "execution_count": 45,
   "id": "7614be4e",
   "metadata": {},
   "outputs": [],
   "source": [
    "model_spectrogram = models.Sequential([\n",
    "    layers.Input(shape=input_shape),\n",
    "    layers.Resizing(32, 32),\n",
    "    norm_layer,\n",
    "    layers.Conv2D(32, 3, activation='relu'),\n",
    "    layers.Conv2D(64, 3, activation='relu'),\n",
    "    layers.MaxPooling2D(),\n",
    "    layers.Dropout(0.25),\n",
    "    layers.Flatten(),\n",
    "    layers.Dense(128, activation='relu'),\n",
    "    layers.Dropout(0.5),\n",
    "    layers.Dense(num_labels, activation='softmax')\n",
    "])"
   ]
  },
  {
   "cell_type": "code",
   "execution_count": 46,
   "id": "b767e512",
   "metadata": {},
   "outputs": [],
   "source": [
    "model_spectrogram.compile(optimizer='adam',\n",
    "                          loss='sparse_categorical_crossentropy',\n",
    "                          metrics=['accuracy'])"
   ]
  },
  {
   "cell_type": "code",
   "execution_count": 47,
   "id": "3b1bfb12",
   "metadata": {},
   "outputs": [
    {
     "name": "stdout",
     "output_type": "stream",
     "text": [
      "Epoch 1/10\n"
     ]
    },
    {
     "name": "stderr",
     "output_type": "stream",
     "text": [
      "2024-08-09 12:54:40.629303: I tensorflow/core/kernels/data/shuffle_dataset_op.cc:450] ShuffleDatasetV3:4: Filling up shuffle buffer (this may take a while): 27419 of 105835\n",
      "2024-08-09 12:54:50.636537: I tensorflow/core/kernels/data/shuffle_dataset_op.cc:450] ShuffleDatasetV3:4: Filling up shuffle buffer (this may take a while): 55193 of 105835\n",
      "2024-08-09 12:55:09.015274: I tensorflow/core/kernels/data/shuffle_dataset_op.cc:480] Shuffle buffer filled.\n",
      "2024-08-09 12:55:09.015325: I tensorflow/core/kernels/data/shuffle_dataset_op.cc:450] ShuffleDatasetV3:7: Filling up shuffle buffer (this may take a while): 1 of 1000\n",
      "2024-08-09 12:55:09.016557: I tensorflow/core/kernels/data/shuffle_dataset_op.cc:480] Shuffle buffer filled.\n"
     ]
    },
    {
     "name": "stdout",
     "output_type": "stream",
     "text": [
      "\u001b[1m3242/3242\u001b[0m \u001b[32m━━━━━━━━━━━━━━━━━━━━\u001b[0m\u001b[37m\u001b[0m \u001b[1m0s\u001b[0m 3ms/step - accuracy: 0.3550 - loss: 2.3111"
     ]
    },
    {
     "name": "stderr",
     "output_type": "stream",
     "text": [
      "2024-08-09 12:55:31.320994: I tensorflow/core/kernels/data/shuffle_dataset_op.cc:450] ShuffleDatasetV3:4: Filling up shuffle buffer (this may take a while): 27404 of 105835\n",
      "2024-08-09 12:55:41.323262: I tensorflow/core/kernels/data/shuffle_dataset_op.cc:450] ShuffleDatasetV3:4: Filling up shuffle buffer (this may take a while): 54704 of 105835\n",
      "2024-08-09 12:56:00.027256: I tensorflow/core/kernels/data/shuffle_dataset_op.cc:480] Shuffle buffer filled.\n",
      "2024-08-09 12:56:00.186984: I tensorflow/core/kernels/data/shuffle_dataset_op.cc:450] ShuffleDatasetV3:10: Filling up shuffle buffer (this may take a while): 1 of 1000\n",
      "2024-08-09 12:56:00.187852: I tensorflow/core/kernels/data/shuffle_dataset_op.cc:480] Shuffle buffer filled.\n"
     ]
    },
    {
     "name": "stdout",
     "output_type": "stream",
     "text": [
      "\u001b[1m3242/3242\u001b[0m \u001b[32m━━━━━━━━━━━━━━━━━━━━\u001b[0m\u001b[37m\u001b[0m \u001b[1m93s\u001b[0m 16ms/step - accuracy: 0.3550 - loss: 2.3109 - val_accuracy: 0.7651 - val_loss: 0.8400\n",
      "Epoch 2/10\n"
     ]
    },
    {
     "name": "stderr",
     "output_type": "stream",
     "text": [
      "2024-08-09 12:56:12.489002: I tensorflow/core/kernels/data/shuffle_dataset_op.cc:450] ShuffleDatasetV3:4: Filling up shuffle buffer (this may take a while): 27614 of 105835\n",
      "2024-08-09 12:56:32.489427: I tensorflow/core/kernels/data/shuffle_dataset_op.cc:450] ShuffleDatasetV3:4: Filling up shuffle buffer (this may take a while): 82213 of 105835\n"
     ]
    },
    {
     "name": "stdout",
     "output_type": "stream",
     "text": [
      "\u001b[1m  67/3242\u001b[0m \u001b[37m━━━━━━━━━━━━━━━━━━━━\u001b[0m \u001b[1m7s\u001b[0m 2ms/step - accuracy: 0.6326 - loss: 1.1927  "
     ]
    },
    {
     "name": "stderr",
     "output_type": "stream",
     "text": [
      "2024-08-09 12:56:41.052343: I tensorflow/core/kernels/data/shuffle_dataset_op.cc:480] Shuffle buffer filled.\n",
      "2024-08-09 12:56:41.053652: I tensorflow/core/kernels/data/shuffle_dataset_op.cc:480] Shuffle buffer filled.\n"
     ]
    },
    {
     "name": "stdout",
     "output_type": "stream",
     "text": [
      "\u001b[1m3236/3242\u001b[0m \u001b[32m━━━━━━━━━━━━━━━━━━━\u001b[0m\u001b[37m━\u001b[0m \u001b[1m0s\u001b[0m 2ms/step - accuracy: 0.6611 - loss: 1.1421"
     ]
    },
    {
     "name": "stderr",
     "output_type": "stream",
     "text": [
      "2024-08-09 12:56:58.422067: I tensorflow/core/kernels/data/shuffle_dataset_op.cc:450] ShuffleDatasetV3:4: Filling up shuffle buffer (this may take a while): 27320 of 105835\n",
      "2024-08-09 12:57:08.422194: I tensorflow/core/kernels/data/shuffle_dataset_op.cc:450] ShuffleDatasetV3:4: Filling up shuffle buffer (this may take a while): 55030 of 105835\n",
      "2024-08-09 12:57:26.903322: I tensorflow/core/kernels/data/shuffle_dataset_op.cc:480] Shuffle buffer filled.\n",
      "2024-08-09 12:57:27.056115: I tensorflow/core/kernels/data/shuffle_dataset_op.cc:450] ShuffleDatasetV3:10: Filling up shuffle buffer (this may take a while): 1 of 1000\n",
      "2024-08-09 12:57:27.056980: I tensorflow/core/kernels/data/shuffle_dataset_op.cc:480] Shuffle buffer filled.\n"
     ]
    },
    {
     "name": "stdout",
     "output_type": "stream",
     "text": [
      "\u001b[1m3242/3242\u001b[0m \u001b[32m━━━━━━━━━━━━━━━━━━━━\u001b[0m\u001b[37m\u001b[0m \u001b[1m85s\u001b[0m 14ms/step - accuracy: 0.6612 - loss: 1.1420 - val_accuracy: 0.8431 - val_loss: 0.5715\n",
      "Epoch 3/10\n"
     ]
    },
    {
     "name": "stderr",
     "output_type": "stream",
     "text": [
      "2024-08-09 12:57:37.376575: I tensorflow/core/kernels/data/shuffle_dataset_op.cc:450] ShuffleDatasetV3:4: Filling up shuffle buffer (this may take a while): 27278 of 105835\n",
      "2024-08-09 12:57:57.377408: I tensorflow/core/kernels/data/shuffle_dataset_op.cc:450] ShuffleDatasetV3:4: Filling up shuffle buffer (this may take a while): 82368 of 105835\n"
     ]
    },
    {
     "name": "stdout",
     "output_type": "stream",
     "text": [
      "\u001b[1m  67/3242\u001b[0m \u001b[37m━━━━━━━━━━━━━━━━━━━━\u001b[0m \u001b[1m7s\u001b[0m 2ms/step - accuracy: 0.7015 - loss: 0.9814  "
     ]
    },
    {
     "name": "stderr",
     "output_type": "stream",
     "text": [
      "2024-08-09 12:58:05.994637: I tensorflow/core/kernels/data/shuffle_dataset_op.cc:480] Shuffle buffer filled.\n",
      "2024-08-09 12:58:05.995989: I tensorflow/core/kernels/data/shuffle_dataset_op.cc:480] Shuffle buffer filled.\n"
     ]
    },
    {
     "name": "stdout",
     "output_type": "stream",
     "text": [
      "\u001b[1m3217/3242\u001b[0m \u001b[32m━━━━━━━━━━━━━━━━━━━\u001b[0m\u001b[37m━\u001b[0m \u001b[1m0s\u001b[0m 2ms/step - accuracy: 0.7176 - loss: 0.9463"
     ]
    },
    {
     "name": "stderr",
     "output_type": "stream",
     "text": [
      "2024-08-09 12:58:23.284900: I tensorflow/core/kernels/data/shuffle_dataset_op.cc:450] ShuffleDatasetV3:4: Filling up shuffle buffer (this may take a while): 27747 of 105835\n",
      "2024-08-09 12:58:43.283361: I tensorflow/core/kernels/data/shuffle_dataset_op.cc:450] ShuffleDatasetV3:4: Filling up shuffle buffer (this may take a while): 82404 of 105835\n",
      "2024-08-09 12:58:51.774067: I tensorflow/core/kernels/data/shuffle_dataset_op.cc:480] Shuffle buffer filled.\n",
      "2024-08-09 12:58:51.928050: I tensorflow/core/kernels/data/shuffle_dataset_op.cc:480] Shuffle buffer filled.\n"
     ]
    },
    {
     "name": "stdout",
     "output_type": "stream",
     "text": [
      "\u001b[1m3242/3242\u001b[0m \u001b[32m━━━━━━━━━━━━━━━━━━━━\u001b[0m\u001b[37m\u001b[0m \u001b[1m85s\u001b[0m 14ms/step - accuracy: 0.7176 - loss: 0.9462 - val_accuracy: 0.8611 - val_loss: 0.4917\n",
      "Epoch 4/10\n"
     ]
    },
    {
     "name": "stderr",
     "output_type": "stream",
     "text": [
      "2024-08-09 12:59:02.203819: I tensorflow/core/kernels/data/shuffle_dataset_op.cc:450] ShuffleDatasetV3:4: Filling up shuffle buffer (this may take a while): 27351 of 105835\n",
      "2024-08-09 12:59:12.208793: I tensorflow/core/kernels/data/shuffle_dataset_op.cc:450] ShuffleDatasetV3:4: Filling up shuffle buffer (this may take a while): 55201 of 105835\n"
     ]
    },
    {
     "name": "stdout",
     "output_type": "stream",
     "text": [
      "\u001b[1m  69/3242\u001b[0m \u001b[37m━━━━━━━━━━━━━━━━━━━━\u001b[0m \u001b[1m7s\u001b[0m 2ms/step - accuracy: 0.7492 - loss: 0.8302  "
     ]
    },
    {
     "name": "stderr",
     "output_type": "stream",
     "text": [
      "2024-08-09 12:59:30.559359: I tensorflow/core/kernels/data/shuffle_dataset_op.cc:480] Shuffle buffer filled.\n",
      "2024-08-09 12:59:30.559413: I tensorflow/core/kernels/data/shuffle_dataset_op.cc:450] ShuffleDatasetV3:7: Filling up shuffle buffer (this may take a while): 1 of 1000\n",
      "2024-08-09 12:59:30.560656: I tensorflow/core/kernels/data/shuffle_dataset_op.cc:480] Shuffle buffer filled.\n"
     ]
    },
    {
     "name": "stdout",
     "output_type": "stream",
     "text": [
      "\u001b[1m3225/3242\u001b[0m \u001b[32m━━━━━━━━━━━━━━━━━━━\u001b[0m\u001b[37m━\u001b[0m \u001b[1m0s\u001b[0m 2ms/step - accuracy: 0.7492 - loss: 0.8327"
     ]
    },
    {
     "name": "stderr",
     "output_type": "stream",
     "text": [
      "2024-08-09 12:59:47.850846: I tensorflow/core/kernels/data/shuffle_dataset_op.cc:450] ShuffleDatasetV3:4: Filling up shuffle buffer (this may take a while): 27269 of 105835\n",
      "2024-08-09 13:00:07.844727: I tensorflow/core/kernels/data/shuffle_dataset_op.cc:450] ShuffleDatasetV3:4: Filling up shuffle buffer (this may take a while): 82311 of 105835\n",
      "2024-08-09 13:00:16.496793: I tensorflow/core/kernels/data/shuffle_dataset_op.cc:480] Shuffle buffer filled.\n",
      "2024-08-09 13:00:16.649715: I tensorflow/core/kernels/data/shuffle_dataset_op.cc:480] Shuffle buffer filled.\n"
     ]
    },
    {
     "name": "stdout",
     "output_type": "stream",
     "text": [
      "\u001b[1m3242/3242\u001b[0m \u001b[32m━━━━━━━━━━━━━━━━━━━━\u001b[0m\u001b[37m\u001b[0m \u001b[1m85s\u001b[0m 14ms/step - accuracy: 0.7492 - loss: 0.8326 - val_accuracy: 0.8724 - val_loss: 0.4112\n",
      "Epoch 5/10\n"
     ]
    },
    {
     "name": "stderr",
     "output_type": "stream",
     "text": [
      "2024-08-09 13:00:26.941697: I tensorflow/core/kernels/data/shuffle_dataset_op.cc:450] ShuffleDatasetV3:4: Filling up shuffle buffer (this may take a while): 27655 of 105835\n",
      "2024-08-09 13:00:46.936204: I tensorflow/core/kernels/data/shuffle_dataset_op.cc:450] ShuffleDatasetV3:4: Filling up shuffle buffer (this may take a while): 82213 of 105835\n"
     ]
    },
    {
     "name": "stdout",
     "output_type": "stream",
     "text": [
      "\u001b[1m  67/3242\u001b[0m \u001b[37m━━━━━━━━━━━━━━━━━━━━\u001b[0m \u001b[1m7s\u001b[0m 2ms/step - accuracy: 0.7993 - loss: 0.7219  "
     ]
    },
    {
     "name": "stderr",
     "output_type": "stream",
     "text": [
      "2024-08-09 13:00:55.474375: I tensorflow/core/kernels/data/shuffle_dataset_op.cc:480] Shuffle buffer filled.\n",
      "2024-08-09 13:00:55.475685: I tensorflow/core/kernels/data/shuffle_dataset_op.cc:480] Shuffle buffer filled.\n"
     ]
    },
    {
     "name": "stdout",
     "output_type": "stream",
     "text": [
      "\u001b[1m3226/3242\u001b[0m \u001b[32m━━━━━━━━━━━━━━━━━━━\u001b[0m\u001b[37m━\u001b[0m \u001b[1m0s\u001b[0m 2ms/step - accuracy: 0.7706 - loss: 0.7578"
     ]
    },
    {
     "name": "stderr",
     "output_type": "stream",
     "text": [
      "2024-08-09 13:01:12.767876: I tensorflow/core/kernels/data/shuffle_dataset_op.cc:450] ShuffleDatasetV3:4: Filling up shuffle buffer (this may take a while): 27242 of 105835\n",
      "2024-08-09 13:01:22.768206: I tensorflow/core/kernels/data/shuffle_dataset_op.cc:450] ShuffleDatasetV3:4: Filling up shuffle buffer (this may take a while): 54563 of 105835\n",
      "2024-08-09 13:01:32.771828: I tensorflow/core/kernels/data/shuffle_dataset_op.cc:450] ShuffleDatasetV3:4: Filling up shuffle buffer (this may take a while): 82248 of 105835\n",
      "2024-08-09 13:01:41.429102: I tensorflow/core/kernels/data/shuffle_dataset_op.cc:480] Shuffle buffer filled.\n",
      "2024-08-09 13:01:41.582722: I tensorflow/core/kernels/data/shuffle_dataset_op.cc:480] Shuffle buffer filled.\n"
     ]
    },
    {
     "name": "stdout",
     "output_type": "stream",
     "text": [
      "\u001b[1m3242/3242\u001b[0m \u001b[32m━━━━━━━━━━━━━━━━━━━━\u001b[0m\u001b[37m\u001b[0m \u001b[1m85s\u001b[0m 14ms/step - accuracy: 0.7706 - loss: 0.7578 - val_accuracy: 0.8951 - val_loss: 0.3844\n",
      "Epoch 6/10\n"
     ]
    },
    {
     "name": "stderr",
     "output_type": "stream",
     "text": [
      "2024-08-09 13:01:51.841387: I tensorflow/core/kernels/data/shuffle_dataset_op.cc:450] ShuffleDatasetV3:4: Filling up shuffle buffer (this may take a while): 27703 of 105835\n",
      "2024-08-09 13:02:11.836695: I tensorflow/core/kernels/data/shuffle_dataset_op.cc:450] ShuffleDatasetV3:4: Filling up shuffle buffer (this may take a while): 82244 of 105835\n"
     ]
    },
    {
     "name": "stdout",
     "output_type": "stream",
     "text": [
      "\u001b[1m  67/3242\u001b[0m \u001b[37m━━━━━━━━━━━━━━━━━━━━\u001b[0m \u001b[1m7s\u001b[0m 2ms/step - accuracy: 0.7802 - loss: 0.7282  "
     ]
    },
    {
     "name": "stderr",
     "output_type": "stream",
     "text": [
      "2024-08-09 13:02:20.352258: I tensorflow/core/kernels/data/shuffle_dataset_op.cc:480] Shuffle buffer filled.\n",
      "2024-08-09 13:02:20.353550: I tensorflow/core/kernels/data/shuffle_dataset_op.cc:480] Shuffle buffer filled.\n"
     ]
    },
    {
     "name": "stdout",
     "output_type": "stream",
     "text": [
      "\u001b[1m3228/3242\u001b[0m \u001b[32m━━━━━━━━━━━━━━━━━━━\u001b[0m\u001b[37m━\u001b[0m \u001b[1m0s\u001b[0m 2ms/step - accuracy: 0.7862 - loss: 0.7094"
     ]
    },
    {
     "name": "stderr",
     "output_type": "stream",
     "text": [
      "2024-08-09 13:02:37.775142: I tensorflow/core/kernels/data/shuffle_dataset_op.cc:450] ShuffleDatasetV3:4: Filling up shuffle buffer (this may take a while): 27254 of 105835\n",
      "2024-08-09 13:02:47.778665: I tensorflow/core/kernels/data/shuffle_dataset_op.cc:450] ShuffleDatasetV3:4: Filling up shuffle buffer (this may take a while): 54947 of 105835\n",
      "2024-08-09 13:03:06.291941: I tensorflow/core/kernels/data/shuffle_dataset_op.cc:480] Shuffle buffer filled.\n",
      "2024-08-09 13:03:06.442974: I tensorflow/core/kernels/data/shuffle_dataset_op.cc:450] ShuffleDatasetV3:10: Filling up shuffle buffer (this may take a while): 1 of 1000\n",
      "2024-08-09 13:03:06.443820: I tensorflow/core/kernels/data/shuffle_dataset_op.cc:480] Shuffle buffer filled.\n"
     ]
    },
    {
     "name": "stdout",
     "output_type": "stream",
     "text": [
      "\u001b[1m3242/3242\u001b[0m \u001b[32m━━━━━━━━━━━━━━━━━━━━\u001b[0m\u001b[37m\u001b[0m \u001b[1m85s\u001b[0m 14ms/step - accuracy: 0.7862 - loss: 0.7094 - val_accuracy: 0.8998 - val_loss: 0.3749\n",
      "Epoch 7/10\n"
     ]
    },
    {
     "name": "stderr",
     "output_type": "stream",
     "text": [
      "2024-08-09 13:03:16.800894: I tensorflow/core/kernels/data/shuffle_dataset_op.cc:450] ShuffleDatasetV3:4: Filling up shuffle buffer (this may take a while): 27287 of 105835\n",
      "2024-08-09 13:03:26.804209: I tensorflow/core/kernels/data/shuffle_dataset_op.cc:450] ShuffleDatasetV3:4: Filling up shuffle buffer (this may take a while): 54581 of 105835\n"
     ]
    },
    {
     "name": "stdout",
     "output_type": "stream",
     "text": [
      "\u001b[1m  69/3242\u001b[0m \u001b[37m━━━━━━━━━━━━━━━━━━━━\u001b[0m \u001b[1m7s\u001b[0m 2ms/step - accuracy: 0.8079 - loss: 0.6413  "
     ]
    },
    {
     "name": "stderr",
     "output_type": "stream",
     "text": [
      "2024-08-09 13:03:45.456027: I tensorflow/core/kernels/data/shuffle_dataset_op.cc:480] Shuffle buffer filled.\n",
      "2024-08-09 13:03:45.456073: I tensorflow/core/kernels/data/shuffle_dataset_op.cc:450] ShuffleDatasetV3:7: Filling up shuffle buffer (this may take a while): 1 of 1000\n",
      "2024-08-09 13:03:45.457350: I tensorflow/core/kernels/data/shuffle_dataset_op.cc:480] Shuffle buffer filled.\n"
     ]
    },
    {
     "name": "stdout",
     "output_type": "stream",
     "text": [
      "\u001b[1m3219/3242\u001b[0m \u001b[32m━━━━━━━━━━━━━━━━━━━\u001b[0m\u001b[37m━\u001b[0m \u001b[1m0s\u001b[0m 2ms/step - accuracy: 0.7981 - loss: 0.6595"
     ]
    },
    {
     "name": "stderr",
     "output_type": "stream",
     "text": [
      "2024-08-09 13:04:02.751130: I tensorflow/core/kernels/data/shuffle_dataset_op.cc:450] ShuffleDatasetV3:4: Filling up shuffle buffer (this may take a while): 27338 of 105835\n",
      "2024-08-09 13:04:12.755061: I tensorflow/core/kernels/data/shuffle_dataset_op.cc:450] ShuffleDatasetV3:4: Filling up shuffle buffer (this may take a while): 55014 of 105835\n",
      "2024-08-09 13:04:31.327525: I tensorflow/core/kernels/data/shuffle_dataset_op.cc:480] Shuffle buffer filled.\n",
      "2024-08-09 13:04:31.478615: I tensorflow/core/kernels/data/shuffle_dataset_op.cc:450] ShuffleDatasetV3:10: Filling up shuffle buffer (this may take a while): 1 of 1000\n",
      "2024-08-09 13:04:31.479462: I tensorflow/core/kernels/data/shuffle_dataset_op.cc:480] Shuffle buffer filled.\n"
     ]
    },
    {
     "name": "stdout",
     "output_type": "stream",
     "text": [
      "\u001b[1m3242/3242\u001b[0m \u001b[32m━━━━━━━━━━━━━━━━━━━━\u001b[0m\u001b[37m\u001b[0m \u001b[1m85s\u001b[0m 14ms/step - accuracy: 0.7981 - loss: 0.6595 - val_accuracy: 0.9050 - val_loss: 0.3308\n",
      "Epoch 8/10\n"
     ]
    },
    {
     "name": "stderr",
     "output_type": "stream",
     "text": [
      "2024-08-09 13:04:41.796505: I tensorflow/core/kernels/data/shuffle_dataset_op.cc:450] ShuffleDatasetV3:4: Filling up shuffle buffer (this may take a while): 27231 of 105835\n",
      "2024-08-09 13:04:51.796729: I tensorflow/core/kernels/data/shuffle_dataset_op.cc:450] ShuffleDatasetV3:4: Filling up shuffle buffer (this may take a while): 54537 of 105835\n"
     ]
    },
    {
     "name": "stdout",
     "output_type": "stream",
     "text": [
      "\u001b[1m  67/3242\u001b[0m \u001b[37m━━━━━━━━━━━━━━━━━━━━\u001b[0m \u001b[1m7s\u001b[0m 2ms/step - accuracy: 0.8071 - loss: 0.6229  "
     ]
    },
    {
     "name": "stderr",
     "output_type": "stream",
     "text": [
      "2024-08-09 13:05:10.473007: I tensorflow/core/kernels/data/shuffle_dataset_op.cc:480] Shuffle buffer filled.\n",
      "2024-08-09 13:05:10.473061: I tensorflow/core/kernels/data/shuffle_dataset_op.cc:450] ShuffleDatasetV3:7: Filling up shuffle buffer (this may take a while): 1 of 1000\n",
      "2024-08-09 13:05:10.474333: I tensorflow/core/kernels/data/shuffle_dataset_op.cc:480] Shuffle buffer filled.\n"
     ]
    },
    {
     "name": "stdout",
     "output_type": "stream",
     "text": [
      "\u001b[1m3239/3242\u001b[0m \u001b[32m━━━━━━━━━━━━━━━━━━━\u001b[0m\u001b[37m━\u001b[0m \u001b[1m0s\u001b[0m 2ms/step - accuracy: 0.8070 - loss: 0.6327"
     ]
    },
    {
     "name": "stderr",
     "output_type": "stream",
     "text": [
      "2024-08-09 13:05:27.841156: I tensorflow/core/kernels/data/shuffle_dataset_op.cc:450] ShuffleDatasetV3:4: Filling up shuffle buffer (this may take a while): 27678 of 105835\n",
      "2024-08-09 13:05:47.838341: I tensorflow/core/kernels/data/shuffle_dataset_op.cc:450] ShuffleDatasetV3:4: Filling up shuffle buffer (this may take a while): 82730 of 105835\n",
      "2024-08-09 13:05:56.315070: I tensorflow/core/kernels/data/shuffle_dataset_op.cc:480] Shuffle buffer filled.\n",
      "2024-08-09 13:05:56.468536: I tensorflow/core/kernels/data/shuffle_dataset_op.cc:480] Shuffle buffer filled.\n"
     ]
    },
    {
     "name": "stdout",
     "output_type": "stream",
     "text": [
      "\u001b[1m3242/3242\u001b[0m \u001b[32m━━━━━━━━━━━━━━━━━━━━\u001b[0m\u001b[37m\u001b[0m \u001b[1m85s\u001b[0m 14ms/step - accuracy: 0.8070 - loss: 0.6327 - val_accuracy: 0.9301 - val_loss: 0.2734\n",
      "Epoch 9/10\n"
     ]
    },
    {
     "name": "stderr",
     "output_type": "stream",
     "text": [
      "2024-08-09 13:06:06.802255: I tensorflow/core/kernels/data/shuffle_dataset_op.cc:450] ShuffleDatasetV3:4: Filling up shuffle buffer (this may take a while): 27294 of 105835\n",
      "2024-08-09 13:06:26.801886: I tensorflow/core/kernels/data/shuffle_dataset_op.cc:450] ShuffleDatasetV3:4: Filling up shuffle buffer (this may take a while): 82381 of 105835\n"
     ]
    },
    {
     "name": "stdout",
     "output_type": "stream",
     "text": [
      "\u001b[1m  67/3242\u001b[0m \u001b[37m━━━━━━━━━━━━━━━━━━━━\u001b[0m \u001b[1m7s\u001b[0m 2ms/step - accuracy: 0.8092 - loss: 0.5919  "
     ]
    },
    {
     "name": "stderr",
     "output_type": "stream",
     "text": [
      "2024-08-09 13:06:35.289479: I tensorflow/core/kernels/data/shuffle_dataset_op.cc:480] Shuffle buffer filled.\n",
      "2024-08-09 13:06:35.290812: I tensorflow/core/kernels/data/shuffle_dataset_op.cc:480] Shuffle buffer filled.\n"
     ]
    },
    {
     "name": "stdout",
     "output_type": "stream",
     "text": [
      "\u001b[1m3223/3242\u001b[0m \u001b[32m━━━━━━━━━━━━━━━━━━━\u001b[0m\u001b[37m━\u001b[0m \u001b[1m0s\u001b[0m 2ms/step - accuracy: 0.8158 - loss: 0.6008"
     ]
    },
    {
     "name": "stderr",
     "output_type": "stream",
     "text": [
      "2024-08-09 13:06:52.576362: I tensorflow/core/kernels/data/shuffle_dataset_op.cc:450] ShuffleDatasetV3:4: Filling up shuffle buffer (this may take a while): 27261 of 105835\n",
      "2024-08-09 13:07:12.576231: I tensorflow/core/kernels/data/shuffle_dataset_op.cc:450] ShuffleDatasetV3:4: Filling up shuffle buffer (this may take a while): 82338 of 105835\n",
      "2024-08-09 13:07:21.222515: I tensorflow/core/kernels/data/shuffle_dataset_op.cc:480] Shuffle buffer filled.\n",
      "2024-08-09 13:07:21.376627: I tensorflow/core/kernels/data/shuffle_dataset_op.cc:480] Shuffle buffer filled.\n"
     ]
    },
    {
     "name": "stdout",
     "output_type": "stream",
     "text": [
      "\u001b[1m3242/3242\u001b[0m \u001b[32m━━━━━━━━━━━━━━━━━━━━\u001b[0m\u001b[37m\u001b[0m \u001b[1m85s\u001b[0m 14ms/step - accuracy: 0.8158 - loss: 0.6008 - val_accuracy: 0.9164 - val_loss: 0.2830\n",
      "Epoch 10/10\n"
     ]
    },
    {
     "name": "stderr",
     "output_type": "stream",
     "text": [
      "2024-08-09 13:07:31.682158: I tensorflow/core/kernels/data/shuffle_dataset_op.cc:450] ShuffleDatasetV3:4: Filling up shuffle buffer (this may take a while): 27699 of 105835\n",
      "2024-08-09 13:07:51.677885: I tensorflow/core/kernels/data/shuffle_dataset_op.cc:450] ShuffleDatasetV3:4: Filling up shuffle buffer (this may take a while): 82350 of 105835\n"
     ]
    },
    {
     "name": "stdout",
     "output_type": "stream",
     "text": [
      "\u001b[1m  69/3242\u001b[0m \u001b[37m━━━━━━━━━━━━━━━━━━━━\u001b[0m \u001b[1m7s\u001b[0m 2ms/step - accuracy: 0.8090 - loss: 0.6216  "
     ]
    },
    {
     "name": "stderr",
     "output_type": "stream",
     "text": [
      "2024-08-09 13:08:00.174843: I tensorflow/core/kernels/data/shuffle_dataset_op.cc:480] Shuffle buffer filled.\n",
      "2024-08-09 13:08:00.176161: I tensorflow/core/kernels/data/shuffle_dataset_op.cc:480] Shuffle buffer filled.\n"
     ]
    },
    {
     "name": "stdout",
     "output_type": "stream",
     "text": [
      "\u001b[1m3225/3242\u001b[0m \u001b[32m━━━━━━━━━━━━━━━━━━━\u001b[0m\u001b[37m━\u001b[0m \u001b[1m0s\u001b[0m 2ms/step - accuracy: 0.8220 - loss: 0.5796"
     ]
    },
    {
     "name": "stderr",
     "output_type": "stream",
     "text": [
      "2024-08-09 13:08:17.483679: I tensorflow/core/kernels/data/shuffle_dataset_op.cc:450] ShuffleDatasetV3:4: Filling up shuffle buffer (this may take a while): 27283 of 105835\n",
      "2024-08-09 13:08:27.488474: I tensorflow/core/kernels/data/shuffle_dataset_op.cc:450] ShuffleDatasetV3:4: Filling up shuffle buffer (this may take a while): 54932 of 105835\n",
      "2024-08-09 13:08:46.177772: I tensorflow/core/kernels/data/shuffle_dataset_op.cc:480] Shuffle buffer filled.\n",
      "2024-08-09 13:08:46.330907: I tensorflow/core/kernels/data/shuffle_dataset_op.cc:450] ShuffleDatasetV3:10: Filling up shuffle buffer (this may take a while): 1 of 1000\n",
      "2024-08-09 13:08:46.331754: I tensorflow/core/kernels/data/shuffle_dataset_op.cc:480] Shuffle buffer filled.\n"
     ]
    },
    {
     "name": "stdout",
     "output_type": "stream",
     "text": [
      "\u001b[1m3242/3242\u001b[0m \u001b[32m━━━━━━━━━━━━━━━━━━━━\u001b[0m\u001b[37m\u001b[0m \u001b[1m85s\u001b[0m 14ms/step - accuracy: 0.8220 - loss: 0.5797 - val_accuracy: 0.9348 - val_loss: 0.2496\n"
     ]
    }
   ],
   "source": [
    "history_spectrogram = model_spectrogram.fit(train_spec, epochs=10, validation_data=val_spec)"
   ]
  },
  {
   "cell_type": "code",
   "execution_count": 48,
   "id": "ab7296a4",
   "metadata": {},
   "outputs": [
    {
     "data": {
      "image/png": "[encoded data removed]",
      "text/plain": [
       "<Figure size 1200x400 with 2 Axes>"
      ]
     },
     "metadata": {},
     "output_type": "display_data"
    }
   ],
   "source": [
    "\n",
    "plot_history(history_spectrogram)\n"
   ]
  },
  {
   "cell_type": "markdown",
   "id": "8f4ee249",
   "metadata": {},
   "source": [
    "# Aula 3 - Mecanismos de atenção"
   ]
  },
  {
   "cell_type": "markdown",
   "id": "47909f0a",
   "metadata": {},
   "source": [
    "## Vídeo 3.1 - Implementando uma camada de atenção de canal"
   ]
  },
  {
   "cell_type": "markdown",
   "id": "8154466a",
   "metadata": {},
   "source": [
    "Funcionamento da Camada de Atenção de Canal\n",
    "A camada de atenção de canal funciona da seguinte maneira:\n",
    "\n",
    "Pooling Global: São realizadas operações de GlobalAveragePooling2D e GlobalMaxPooling2D para obter a média e o máximo globais de cada canal, resultando em dois vetores de características representando a importância média e máxima de cada canal.\n",
    "\n",
    "Camadas Densas: Os vetores de características são passados por duas camadas densas. A primeira camada reduz a dimensionalidade (controlada pelo parâmetro ratio), enquanto a segunda camada retorna a atenção (pesos) para cada canal.\n",
    "\n",
    "Combinação e Aplicação de Atenção: Os vetores de atenção resultantes das operações de pooling global são combinados e aplicados aos canais de entrada originais. Isso ajusta os valores dos canais com base em sua importância calculada."
   ]
  },
  {
   "cell_type": "code",
   "execution_count": 49,
   "id": "e790e6a3",
   "metadata": {},
   "outputs": [],
   "source": [
    "@tf.keras.utils.register_keras_serializable()\n",
    "class ChannelAttention(tf.keras.layers.Layer):\n",
    "    def __init__(self, ratio=8, **kwargs):\n",
    "        super(ChannelAttention, self).__init__(**kwargs)\n",
    "        self.ratio = ratio\n",
    "        self.avg_pool = layers.GlobalAveragePooling2D()\n",
    "        self.max_pool = layers.GlobalMaxPooling2D()\n",
    "\n",
    "    def build(self, input_shape):\n",
    "        self.fc1 = layers.Dense(units=input_shape[-1] // self.ratio, activation='relu')\n",
    "        self.fc2 = layers.Dense(units=input_shape[-1], activation='sigmoid')\n",
    "\n",
    "    def call(self, inputs):\n",
    "        avg_out = self.avg_pool(inputs)\n",
    "        max_out = self.max_pool(inputs)\n",
    "        avg_out = self.fc2(self.fc1(avg_out))\n",
    "        max_out = self.fc2(self.fc1(max_out))\n",
    "        out = avg_out + max_out\n",
    "        out = tf.expand_dims(tf.expand_dims(out, axis=1), axis=1)\n",
    "        return inputs * out\n"
   ]
  },
  {
   "cell_type": "markdown",
   "id": "b5cb4c77",
   "metadata": {},
   "source": [
    "## Vídeo 3.2 - Avaliação do modelo com atenção"
   ]
  },
  {
   "cell_type": "code",
   "execution_count": 50,
   "id": "96a2f4fa",
   "metadata": {},
   "outputs": [],
   "source": [
    "model_spectrogram = models.Sequential([\n",
    "    layers.Input(shape=input_shape),\n",
    "    layers.Resizing(32, 32),\n",
    "    norm_layer,\n",
    "    layers.Conv2D(32, 3, activation='relu'),\n",
    "    ChannelAttention(ratio=8),\n",
    "    layers.Conv2D(64, 3, activation='relu'),\n",
    "    ChannelAttention(ratio=8),\n",
    "    layers.MaxPooling2D(),\n",
    "    layers.Dropout(0.25),\n",
    "    layers.Flatten(),\n",
    "    layers.Dense(128, activation='relu'),\n",
    "    layers.Dropout(0.5),\n",
    "    layers.Dense(num_labels, activation='softmax')\n",
    "])"
   ]
  },
  {
   "cell_type": "code",
   "execution_count": 51,
   "id": "569f3890",
   "metadata": {},
   "outputs": [],
   "source": [
    "model_spectrogram.compile(optimizer='adam', loss='sparse_categorical_crossentropy', metrics=['accuracy'])"
   ]
  },
  {
   "cell_type": "code",
   "execution_count": 52,
   "id": "e0fac40d",
   "metadata": {},
   "outputs": [
    {
     "name": "stdout",
     "output_type": "stream",
     "text": [
      "Epoch 1/10\n"
     ]
    },
    {
     "name": "stderr",
     "output_type": "stream",
     "text": [
      "2024-08-09 13:09:42.594988: I tensorflow/core/kernels/data/shuffle_dataset_op.cc:450] ShuffleDatasetV3:4: Filling up shuffle buffer (this may take a while): 27197 of 105835\n",
      "2024-08-09 13:10:02.591870: I tensorflow/core/kernels/data/shuffle_dataset_op.cc:450] ShuffleDatasetV3:4: Filling up shuffle buffer (this may take a while): 82093 of 105835\n",
      "2024-08-09 13:10:11.207893: I tensorflow/core/kernels/data/shuffle_dataset_op.cc:480] Shuffle buffer filled.\n",
      "2024-08-09 13:10:11.209191: I tensorflow/core/kernels/data/shuffle_dataset_op.cc:480] Shuffle buffer filled.\n"
     ]
    },
    {
     "name": "stdout",
     "output_type": "stream",
     "text": [
      "\u001b[1m3242/3242\u001b[0m \u001b[32m━━━━━━━━━━━━━━━━━━━━\u001b[0m\u001b[37m\u001b[0m \u001b[1m0s\u001b[0m 4ms/step - accuracy: 0.3521 - loss: 2.3015"
     ]
    },
    {
     "name": "stderr",
     "output_type": "stream",
     "text": [
      "2024-08-09 13:10:37.581818: I tensorflow/core/kernels/data/shuffle_dataset_op.cc:450] ShuffleDatasetV3:4: Filling up shuffle buffer (this may take a while): 27110 of 105835\n",
      "2024-08-09 13:10:57.581759: I tensorflow/core/kernels/data/shuffle_dataset_op.cc:450] ShuffleDatasetV3:4: Filling up shuffle buffer (this may take a while): 81945 of 105835\n",
      "2024-08-09 13:11:06.409861: I tensorflow/core/kernels/data/shuffle_dataset_op.cc:480] Shuffle buffer filled.\n",
      "2024-08-09 13:11:06.567356: I tensorflow/core/kernels/data/shuffle_dataset_op.cc:480] Shuffle buffer filled.\n"
     ]
    },
    {
     "name": "stdout",
     "output_type": "stream",
     "text": [
      "\u001b[1m3242/3242\u001b[0m \u001b[32m━━━━━━━━━━━━━━━━━━━━\u001b[0m\u001b[37m\u001b[0m \u001b[1m97s\u001b[0m 16ms/step - accuracy: 0.3521 - loss: 2.3013 - val_accuracy: 0.7741 - val_loss: 0.8152\n",
      "Epoch 2/10\n"
     ]
    },
    {
     "name": "stderr",
     "output_type": "stream",
     "text": [
      "2024-08-09 13:11:18.408908: I tensorflow/core/kernels/data/shuffle_dataset_op.cc:450] ShuffleDatasetV3:4: Filling up shuffle buffer (this may take a while): 27586 of 105835\n",
      "2024-08-09 13:11:28.414830: I tensorflow/core/kernels/data/shuffle_dataset_op.cc:450] ShuffleDatasetV3:4: Filling up shuffle buffer (this may take a while): 54798 of 105835\n"
     ]
    },
    {
     "name": "stdout",
     "output_type": "stream",
     "text": [
      "\u001b[1m  60/3242\u001b[0m \u001b[37m━━━━━━━━━━━━━━━━━━━━\u001b[0m \u001b[1m8s\u001b[0m 3ms/step - accuracy: 0.6341 - loss: 1.1773  "
     ]
    },
    {
     "name": "stderr",
     "output_type": "stream",
     "text": [
      "2024-08-09 13:11:47.049497: I tensorflow/core/kernels/data/shuffle_dataset_op.cc:480] Shuffle buffer filled.\n",
      "2024-08-09 13:11:47.049549: I tensorflow/core/kernels/data/shuffle_dataset_op.cc:450] ShuffleDatasetV3:7: Filling up shuffle buffer (this may take a while): 1 of 1000\n",
      "2024-08-09 13:11:47.050830: I tensorflow/core/kernels/data/shuffle_dataset_op.cc:480] Shuffle buffer filled.\n"
     ]
    },
    {
     "name": "stdout",
     "output_type": "stream",
     "text": [
      "\u001b[1m3238/3242\u001b[0m \u001b[32m━━━━━━━━━━━━━━━━━━━\u001b[0m\u001b[37m━\u001b[0m \u001b[1m0s\u001b[0m 3ms/step - accuracy: 0.6561 - loss: 1.1486"
     ]
    },
    {
     "name": "stderr",
     "output_type": "stream",
     "text": [
      "2024-08-09 13:12:05.787344: I tensorflow/core/kernels/data/shuffle_dataset_op.cc:450] ShuffleDatasetV3:4: Filling up shuffle buffer (this may take a while): 27632 of 105835\n",
      "2024-08-09 13:12:15.793348: I tensorflow/core/kernels/data/shuffle_dataset_op.cc:450] ShuffleDatasetV3:4: Filling up shuffle buffer (this may take a while): 54853 of 105835\n",
      "2024-08-09 13:12:34.401030: I tensorflow/core/kernels/data/shuffle_dataset_op.cc:480] Shuffle buffer filled.\n",
      "2024-08-09 13:12:34.559645: I tensorflow/core/kernels/data/shuffle_dataset_op.cc:450] ShuffleDatasetV3:10: Filling up shuffle buffer (this may take a while): 1 of 1000\n",
      "2024-08-09 13:12:34.560507: I tensorflow/core/kernels/data/shuffle_dataset_op.cc:480] Shuffle buffer filled.\n"
     ]
    },
    {
     "name": "stdout",
     "output_type": "stream",
     "text": [
      "\u001b[1m3242/3242\u001b[0m \u001b[32m━━━━━━━━━━━━━━━━━━━━\u001b[0m\u001b[37m\u001b[0m \u001b[1m86s\u001b[0m 15ms/step - accuracy: 0.6561 - loss: 1.1485 - val_accuracy: 0.8275 - val_loss: 0.6198\n",
      "Epoch 3/10\n"
     ]
    },
    {
     "name": "stderr",
     "output_type": "stream",
     "text": [
      "2024-08-09 13:12:44.875889: I tensorflow/core/kernels/data/shuffle_dataset_op.cc:450] ShuffleDatasetV3:4: Filling up shuffle buffer (this may take a while): 27182 of 105835\n",
      "2024-08-09 13:13:04.871697: I tensorflow/core/kernels/data/shuffle_dataset_op.cc:450] ShuffleDatasetV3:4: Filling up shuffle buffer (this may take a while): 82004 of 105835\n"
     ]
    },
    {
     "name": "stdout",
     "output_type": "stream",
     "text": [
      "\u001b[1m  57/3242\u001b[0m \u001b[37m━━━━━━━━━━━━━━━━━━━━\u001b[0m \u001b[1m8s\u001b[0m 3ms/step - accuracy: 0.7417 - loss: 0.8751  "
     ]
    },
    {
     "name": "stderr",
     "output_type": "stream",
     "text": [
      "2024-08-09 13:13:13.521611: I tensorflow/core/kernels/data/shuffle_dataset_op.cc:480] Shuffle buffer filled.\n",
      "2024-08-09 13:13:13.522944: I tensorflow/core/kernels/data/shuffle_dataset_op.cc:480] Shuffle buffer filled.\n"
     ]
    },
    {
     "name": "stdout",
     "output_type": "stream",
     "text": [
      "\u001b[1m3220/3242\u001b[0m \u001b[32m━━━━━━━━━━━━━━━━━━━\u001b[0m\u001b[37m━\u001b[0m \u001b[1m0s\u001b[0m 3ms/step - accuracy: 0.7169 - loss: 0.9450"
     ]
    },
    {
     "name": "stderr",
     "output_type": "stream",
     "text": [
      "2024-08-09 13:13:32.135210: I tensorflow/core/kernels/data/shuffle_dataset_op.cc:450] ShuffleDatasetV3:4: Filling up shuffle buffer (this may take a while): 27221 of 105835\n",
      "2024-08-09 13:13:42.140296: I tensorflow/core/kernels/data/shuffle_dataset_op.cc:450] ShuffleDatasetV3:4: Filling up shuffle buffer (this may take a while): 54862 of 105835\n",
      "2024-08-09 13:14:00.775280: I tensorflow/core/kernels/data/shuffle_dataset_op.cc:480] Shuffle buffer filled.\n",
      "2024-08-09 13:14:00.927846: I tensorflow/core/kernels/data/shuffle_dataset_op.cc:450] ShuffleDatasetV3:10: Filling up shuffle buffer (this may take a while): 1 of 1000\n",
      "2024-08-09 13:14:00.928692: I tensorflow/core/kernels/data/shuffle_dataset_op.cc:480] Shuffle buffer filled.\n"
     ]
    },
    {
     "name": "stdout",
     "output_type": "stream",
     "text": [
      "\u001b[1m3242/3242\u001b[0m \u001b[32m━━━━━━━━━━━━━━━━━━━━\u001b[0m\u001b[37m\u001b[0m \u001b[1m86s\u001b[0m 15ms/step - accuracy: 0.7170 - loss: 0.9449 - val_accuracy: 0.8544 - val_loss: 0.5128\n",
      "Epoch 4/10\n"
     ]
    },
    {
     "name": "stderr",
     "output_type": "stream",
     "text": [
      "2024-08-09 13:14:11.249201: I tensorflow/core/kernels/data/shuffle_dataset_op.cc:450] ShuffleDatasetV3:4: Filling up shuffle buffer (this may take a while): 27165 of 105835\n",
      "2024-08-09 13:14:21.335925: I tensorflow/core/kernels/data/shuffle_dataset_op.cc:450] ShuffleDatasetV3:4: Filling up shuffle buffer (this may take a while): 54711 of 105835\n"
     ]
    },
    {
     "name": "stdout",
     "output_type": "stream",
     "text": [
      "\u001b[1m  59/3242\u001b[0m \u001b[37m━━━━━━━━━━━━━━━━━━━━\u001b[0m \u001b[1m8s\u001b[0m 3ms/step - accuracy: 0.7274 - loss: 0.8412  "
     ]
    },
    {
     "name": "stderr",
     "output_type": "stream",
     "text": [
      "2024-08-09 13:14:39.952594: I tensorflow/core/kernels/data/shuffle_dataset_op.cc:480] Shuffle buffer filled.\n",
      "2024-08-09 13:14:39.952646: I tensorflow/core/kernels/data/shuffle_dataset_op.cc:450] ShuffleDatasetV3:7: Filling up shuffle buffer (this may take a while): 1 of 1000\n",
      "2024-08-09 13:14:39.953880: I tensorflow/core/kernels/data/shuffle_dataset_op.cc:480] Shuffle buffer filled.\n"
     ]
    },
    {
     "name": "stdout",
     "output_type": "stream",
     "text": [
      "\u001b[1m3235/3242\u001b[0m \u001b[32m━━━━━━━━━━━━━━━━━━━\u001b[0m\u001b[37m━\u001b[0m \u001b[1m0s\u001b[0m 3ms/step - accuracy: 0.7449 - loss: 0.8379"
     ]
    },
    {
     "name": "stderr",
     "output_type": "stream",
     "text": [
      "2024-08-09 13:14:58.616552: I tensorflow/core/kernels/data/shuffle_dataset_op.cc:450] ShuffleDatasetV3:4: Filling up shuffle buffer (this may take a while): 27685 of 105835\n",
      "2024-08-09 13:15:08.621379: I tensorflow/core/kernels/data/shuffle_dataset_op.cc:450] ShuffleDatasetV3:4: Filling up shuffle buffer (this may take a while): 54926 of 105835\n",
      "2024-08-09 13:15:27.195387: I tensorflow/core/kernels/data/shuffle_dataset_op.cc:480] Shuffle buffer filled.\n",
      "2024-08-09 13:15:27.350408: I tensorflow/core/kernels/data/shuffle_dataset_op.cc:450] ShuffleDatasetV3:10: Filling up shuffle buffer (this may take a while): 1 of 1000\n",
      "2024-08-09 13:15:27.351293: I tensorflow/core/kernels/data/shuffle_dataset_op.cc:480] Shuffle buffer filled.\n"
     ]
    },
    {
     "name": "stdout",
     "output_type": "stream",
     "text": [
      "\u001b[1m3242/3242\u001b[0m \u001b[32m━━━━━━━━━━━━━━━━━━━━\u001b[0m\u001b[37m\u001b[0m \u001b[1m86s\u001b[0m 15ms/step - accuracy: 0.7449 - loss: 0.8379 - val_accuracy: 0.8672 - val_loss: 0.4584\n",
      "Epoch 5/10\n"
     ]
    },
    {
     "name": "stderr",
     "output_type": "stream",
     "text": [
      "2024-08-09 13:15:37.685875: I tensorflow/core/kernels/data/shuffle_dataset_op.cc:450] ShuffleDatasetV3:4: Filling up shuffle buffer (this may take a while): 27710 of 105835\n",
      "2024-08-09 13:15:57.820409: I tensorflow/core/kernels/data/shuffle_dataset_op.cc:450] ShuffleDatasetV3:4: Filling up shuffle buffer (this may take a while): 82587 of 105835\n"
     ]
    },
    {
     "name": "stdout",
     "output_type": "stream",
     "text": [
      "\u001b[1m  59/3242\u001b[0m \u001b[37m━━━━━━━━━━━━━━━━━━━━\u001b[0m \u001b[1m8s\u001b[0m 3ms/step - accuracy: 0.7543 - loss: 0.7998  "
     ]
    },
    {
     "name": "stderr",
     "output_type": "stream",
     "text": [
      "2024-08-09 13:16:06.234004: I tensorflow/core/kernels/data/shuffle_dataset_op.cc:480] Shuffle buffer filled.\n",
      "2024-08-09 13:16:06.235322: I tensorflow/core/kernels/data/shuffle_dataset_op.cc:480] Shuffle buffer filled.\n"
     ]
    },
    {
     "name": "stdout",
     "output_type": "stream",
     "text": [
      "\u001b[1m3231/3242\u001b[0m \u001b[32m━━━━━━━━━━━━━━━━━━━\u001b[0m\u001b[37m━\u001b[0m \u001b[1m0s\u001b[0m 3ms/step - accuracy: 0.7711 - loss: 0.7553"
     ]
    },
    {
     "name": "stderr",
     "output_type": "stream",
     "text": [
      "2024-08-09 13:16:24.930686: I tensorflow/core/kernels/data/shuffle_dataset_op.cc:450] ShuffleDatasetV3:4: Filling up shuffle buffer (this may take a while): 27217 of 105835\n",
      "2024-08-09 13:16:44.926764: I tensorflow/core/kernels/data/shuffle_dataset_op.cc:450] ShuffleDatasetV3:4: Filling up shuffle buffer (this may take a while): 82099 of 105835\n",
      "2024-08-09 13:16:53.511390: I tensorflow/core/kernels/data/shuffle_dataset_op.cc:480] Shuffle buffer filled.\n",
      "2024-08-09 13:16:53.664937: I tensorflow/core/kernels/data/shuffle_dataset_op.cc:480] Shuffle buffer filled.\n"
     ]
    },
    {
     "name": "stdout",
     "output_type": "stream",
     "text": [
      "\u001b[1m3242/3242\u001b[0m \u001b[32m━━━━━━━━━━━━━━━━━━━━\u001b[0m\u001b[37m\u001b[0m \u001b[1m86s\u001b[0m 15ms/step - accuracy: 0.7711 - loss: 0.7553 - val_accuracy: 0.8800 - val_loss: 0.3994\n",
      "Epoch 6/10\n"
     ]
    },
    {
     "name": "stderr",
     "output_type": "stream",
     "text": [
      "2024-08-09 13:17:03.980225: I tensorflow/core/kernels/data/shuffle_dataset_op.cc:450] ShuffleDatasetV3:4: Filling up shuffle buffer (this may take a while): 27171 of 105835\n",
      "2024-08-09 13:17:23.977592: I tensorflow/core/kernels/data/shuffle_dataset_op.cc:450] ShuffleDatasetV3:4: Filling up shuffle buffer (this may take a while): 81981 of 105835\n"
     ]
    },
    {
     "name": "stdout",
     "output_type": "stream",
     "text": [
      "\u001b[1m  57/3242\u001b[0m \u001b[37m━━━━━━━━━━━━━━━━━━━━\u001b[0m \u001b[1m8s\u001b[0m 3ms/step - accuracy: 0.7916 - loss: 0.6524  "
     ]
    },
    {
     "name": "stderr",
     "output_type": "stream",
     "text": [
      "2024-08-09 13:17:32.633332: I tensorflow/core/kernels/data/shuffle_dataset_op.cc:480] Shuffle buffer filled.\n",
      "2024-08-09 13:17:32.634666: I tensorflow/core/kernels/data/shuffle_dataset_op.cc:480] Shuffle buffer filled.\n"
     ]
    },
    {
     "name": "stdout",
     "output_type": "stream",
     "text": [
      "\u001b[1m3219/3242\u001b[0m \u001b[32m━━━━━━━━━━━━━━━━━━━\u001b[0m\u001b[37m━\u001b[0m \u001b[1m0s\u001b[0m 3ms/step - accuracy: 0.7826 - loss: 0.7042"
     ]
    },
    {
     "name": "stderr",
     "output_type": "stream",
     "text": [
      "2024-08-09 13:17:51.454840: I tensorflow/core/kernels/data/shuffle_dataset_op.cc:450] ShuffleDatasetV3:4: Filling up shuffle buffer (this may take a while): 27155 of 105835\n",
      "2024-08-09 13:18:01.457989: I tensorflow/core/kernels/data/shuffle_dataset_op.cc:450] ShuffleDatasetV3:4: Filling up shuffle buffer (this may take a while): 54371 of 105835\n",
      "2024-08-09 13:18:20.264922: I tensorflow/core/kernels/data/shuffle_dataset_op.cc:480] Shuffle buffer filled.\n",
      "2024-08-09 13:18:20.420771: I tensorflow/core/kernels/data/shuffle_dataset_op.cc:450] ShuffleDatasetV3:10: Filling up shuffle buffer (this may take a while): 1 of 1000\n",
      "2024-08-09 13:18:20.421642: I tensorflow/core/kernels/data/shuffle_dataset_op.cc:480] Shuffle buffer filled.\n"
     ]
    },
    {
     "name": "stdout",
     "output_type": "stream",
     "text": [
      "\u001b[1m3242/3242\u001b[0m \u001b[32m━━━━━━━━━━━━━━━━━━━━\u001b[0m\u001b[37m\u001b[0m \u001b[1m87s\u001b[0m 15ms/step - accuracy: 0.7826 - loss: 0.7042 - val_accuracy: 0.9036 - val_loss: 0.3279\n",
      "Epoch 7/10\n"
     ]
    },
    {
     "name": "stderr",
     "output_type": "stream",
     "text": [
      "2024-08-09 13:18:30.769692: I tensorflow/core/kernels/data/shuffle_dataset_op.cc:450] ShuffleDatasetV3:4: Filling up shuffle buffer (this may take a while): 27718 of 105835\n",
      "2024-08-09 13:18:50.768937: I tensorflow/core/kernels/data/shuffle_dataset_op.cc:450] ShuffleDatasetV3:4: Filling up shuffle buffer (this may take a while): 82800 of 105835\n"
     ]
    },
    {
     "name": "stdout",
     "output_type": "stream",
     "text": [
      "\u001b[1m  58/3242\u001b[0m \u001b[37m━━━━━━━━━━━━━━━━━━━━\u001b[0m \u001b[1m8s\u001b[0m 3ms/step - accuracy: 0.7849 - loss: 0.6734  "
     ]
    },
    {
     "name": "stderr",
     "output_type": "stream",
     "text": [
      "2024-08-09 13:18:59.222537: I tensorflow/core/kernels/data/shuffle_dataset_op.cc:480] Shuffle buffer filled.\n",
      "2024-08-09 13:18:59.223831: I tensorflow/core/kernels/data/shuffle_dataset_op.cc:480] Shuffle buffer filled.\n"
     ]
    },
    {
     "name": "stdout",
     "output_type": "stream",
     "text": [
      "\u001b[1m3221/3242\u001b[0m \u001b[32m━━━━━━━━━━━━━━━━━━━\u001b[0m\u001b[37m━\u001b[0m \u001b[1m0s\u001b[0m 3ms/step - accuracy: 0.7950 - loss: 0.6638"
     ]
    },
    {
     "name": "stderr",
     "output_type": "stream",
     "text": [
      "2024-08-09 13:19:17.999076: I tensorflow/core/kernels/data/shuffle_dataset_op.cc:450] ShuffleDatasetV3:4: Filling up shuffle buffer (this may take a while): 27272 of 105835\n",
      "2024-08-09 13:19:37.996216: I tensorflow/core/kernels/data/shuffle_dataset_op.cc:450] ShuffleDatasetV3:4: Filling up shuffle buffer (this may take a while): 82076 of 105835\n",
      "2024-08-09 13:19:46.626959: I tensorflow/core/kernels/data/shuffle_dataset_op.cc:480] Shuffle buffer filled.\n",
      "2024-08-09 13:19:46.782361: I tensorflow/core/kernels/data/shuffle_dataset_op.cc:480] Shuffle buffer filled.\n"
     ]
    },
    {
     "name": "stdout",
     "output_type": "stream",
     "text": [
      "\u001b[1m3242/3242\u001b[0m \u001b[32m━━━━━━━━━━━━━━━━━━━━\u001b[0m\u001b[37m\u001b[0m \u001b[1m86s\u001b[0m 15ms/step - accuracy: 0.7950 - loss: 0.6638 - val_accuracy: 0.9159 - val_loss: 0.2803\n",
      "Epoch 8/10\n"
     ]
    },
    {
     "name": "stderr",
     "output_type": "stream",
     "text": [
      "2024-08-09 13:19:57.086320: I tensorflow/core/kernels/data/shuffle_dataset_op.cc:450] ShuffleDatasetV3:4: Filling up shuffle buffer (this may take a while): 27102 of 105835\n",
      "2024-08-09 13:20:17.082184: I tensorflow/core/kernels/data/shuffle_dataset_op.cc:450] ShuffleDatasetV3:4: Filling up shuffle buffer (this may take a while): 81946 of 105835\n"
     ]
    },
    {
     "name": "stdout",
     "output_type": "stream",
     "text": [
      "\u001b[1m  60/3242\u001b[0m \u001b[37m━━━━━━━━━━━━━━━━━━━━\u001b[0m \u001b[1m8s\u001b[0m 3ms/step - accuracy: 0.8141 - loss: 0.5729  "
     ]
    },
    {
     "name": "stderr",
     "output_type": "stream",
     "text": [
      "2024-08-09 13:20:25.720971: I tensorflow/core/kernels/data/shuffle_dataset_op.cc:480] Shuffle buffer filled.\n",
      "2024-08-09 13:20:25.722278: I tensorflow/core/kernels/data/shuffle_dataset_op.cc:480] Shuffle buffer filled.\n"
     ]
    },
    {
     "name": "stdout",
     "output_type": "stream",
     "text": [
      "\u001b[1m3224/3242\u001b[0m \u001b[32m━━━━━━━━━━━━━━━━━━━\u001b[0m\u001b[37m━\u001b[0m \u001b[1m0s\u001b[0m 3ms/step - accuracy: 0.8069 - loss: 0.6197"
     ]
    },
    {
     "name": "stderr",
     "output_type": "stream",
     "text": [
      "2024-08-09 13:20:44.350296: I tensorflow/core/kernels/data/shuffle_dataset_op.cc:450] ShuffleDatasetV3:4: Filling up shuffle buffer (this may take a while): 27164 of 105835\n",
      "2024-08-09 13:20:54.353838: I tensorflow/core/kernels/data/shuffle_dataset_op.cc:450] ShuffleDatasetV3:4: Filling up shuffle buffer (this may take a while): 54813 of 105835\n",
      "2024-08-09 13:21:13.130857: I tensorflow/core/kernels/data/shuffle_dataset_op.cc:480] Shuffle buffer filled.\n",
      "2024-08-09 13:21:13.285513: I tensorflow/core/kernels/data/shuffle_dataset_op.cc:450] ShuffleDatasetV3:10: Filling up shuffle buffer (this may take a while): 1 of 1000\n",
      "2024-08-09 13:21:13.286383: I tensorflow/core/kernels/data/shuffle_dataset_op.cc:480] Shuffle buffer filled.\n"
     ]
    },
    {
     "name": "stdout",
     "output_type": "stream",
     "text": [
      "\u001b[1m3242/3242\u001b[0m \u001b[32m━━━━━━━━━━━━━━━━━━━━\u001b[0m\u001b[37m\u001b[0m \u001b[1m86s\u001b[0m 15ms/step - accuracy: 0.8069 - loss: 0.6197 - val_accuracy: 0.9121 - val_loss: 0.2994\n",
      "Epoch 9/10\n"
     ]
    },
    {
     "name": "stderr",
     "output_type": "stream",
     "text": [
      "2024-08-09 13:21:23.542998: I tensorflow/core/kernels/data/shuffle_dataset_op.cc:450] ShuffleDatasetV3:4: Filling up shuffle buffer (this may take a while): 27620 of 105835\n",
      "2024-08-09 13:21:43.540813: I tensorflow/core/kernels/data/shuffle_dataset_op.cc:450] ShuffleDatasetV3:4: Filling up shuffle buffer (this may take a while): 82507 of 105835\n"
     ]
    },
    {
     "name": "stdout",
     "output_type": "stream",
     "text": [
      "\u001b[1m  56/3242\u001b[0m \u001b[37m━━━━━━━━━━━━━━━━━━━━\u001b[0m \u001b[1m8s\u001b[0m 3ms/step - accuracy: 0.7882 - loss: 0.6387  "
     ]
    },
    {
     "name": "stderr",
     "output_type": "stream",
     "text": [
      "2024-08-09 13:21:52.141249: I tensorflow/core/kernels/data/shuffle_dataset_op.cc:480] Shuffle buffer filled.\n",
      "2024-08-09 13:21:52.142591: I tensorflow/core/kernels/data/shuffle_dataset_op.cc:480] Shuffle buffer filled.\n"
     ]
    },
    {
     "name": "stdout",
     "output_type": "stream",
     "text": [
      "\u001b[1m3228/3242\u001b[0m \u001b[32m━━━━━━━━━━━━━━━━━━━\u001b[0m\u001b[37m━\u001b[0m \u001b[1m0s\u001b[0m 3ms/step - accuracy: 0.8135 - loss: 0.5976"
     ]
    },
    {
     "name": "stderr",
     "output_type": "stream",
     "text": [
      "2024-08-09 13:22:10.883484: I tensorflow/core/kernels/data/shuffle_dataset_op.cc:450] ShuffleDatasetV3:4: Filling up shuffle buffer (this may take a while): 27633 of 105835\n",
      "2024-08-09 13:22:30.880556: I tensorflow/core/kernels/data/shuffle_dataset_op.cc:450] ShuffleDatasetV3:4: Filling up shuffle buffer (this may take a while): 82489 of 105835\n",
      "2024-08-09 13:22:39.502860: I tensorflow/core/kernels/data/shuffle_dataset_op.cc:480] Shuffle buffer filled.\n",
      "2024-08-09 13:22:39.658098: I tensorflow/core/kernels/data/shuffle_dataset_op.cc:480] Shuffle buffer filled.\n"
     ]
    },
    {
     "name": "stdout",
     "output_type": "stream",
     "text": [
      "\u001b[1m3242/3242\u001b[0m \u001b[32m━━━━━━━━━━━━━━━━━━━━\u001b[0m\u001b[37m\u001b[0m \u001b[1m86s\u001b[0m 15ms/step - accuracy: 0.8135 - loss: 0.5976 - val_accuracy: 0.9291 - val_loss: 0.2542\n",
      "Epoch 10/10\n"
     ]
    },
    {
     "name": "stderr",
     "output_type": "stream",
     "text": [
      "2024-08-09 13:22:49.959551: I tensorflow/core/kernels/data/shuffle_dataset_op.cc:450] ShuffleDatasetV3:4: Filling up shuffle buffer (this may take a while): 27121 of 105835\n",
      "2024-08-09 13:23:09.959747: I tensorflow/core/kernels/data/shuffle_dataset_op.cc:450] ShuffleDatasetV3:4: Filling up shuffle buffer (this may take a while): 81960 of 105835\n"
     ]
    },
    {
     "name": "stdout",
     "output_type": "stream",
     "text": [
      "\u001b[1m  54/3242\u001b[0m \u001b[37m━━━━━━━━━━━━━━━━━━━━\u001b[0m \u001b[1m9s\u001b[0m 3ms/step - accuracy: 0.8167 - loss: 0.5742  "
     ]
    },
    {
     "name": "stderr",
     "output_type": "stream",
     "text": [
      "2024-08-09 13:23:18.622905: I tensorflow/core/kernels/data/shuffle_dataset_op.cc:480] Shuffle buffer filled.\n",
      "2024-08-09 13:23:18.624206: I tensorflow/core/kernels/data/shuffle_dataset_op.cc:480] Shuffle buffer filled.\n"
     ]
    },
    {
     "name": "stdout",
     "output_type": "stream",
     "text": [
      "\u001b[1m3222/3242\u001b[0m \u001b[32m━━━━━━━━━━━━━━━━━━━\u001b[0m\u001b[37m━\u001b[0m \u001b[1m0s\u001b[0m 3ms/step - accuracy: 0.8217 - loss: 0.5729"
     ]
    },
    {
     "name": "stderr",
     "output_type": "stream",
     "text": [
      "2024-08-09 13:23:37.342988: I tensorflow/core/kernels/data/shuffle_dataset_op.cc:450] ShuffleDatasetV3:4: Filling up shuffle buffer (this may take a while): 27196 of 105835\n",
      "2024-08-09 13:23:57.340079: I tensorflow/core/kernels/data/shuffle_dataset_op.cc:450] ShuffleDatasetV3:4: Filling up shuffle buffer (this may take a while): 82108 of 105835\n",
      "2024-08-09 13:24:06.087873: I tensorflow/core/kernels/data/shuffle_dataset_op.cc:480] Shuffle buffer filled.\n",
      "2024-08-09 13:24:06.247037: I tensorflow/core/kernels/data/shuffle_dataset_op.cc:480] Shuffle buffer filled.\n"
     ]
    },
    {
     "name": "stdout",
     "output_type": "stream",
     "text": [
      "\u001b[1m3242/3242\u001b[0m \u001b[32m━━━━━━━━━━━━━━━━━━━━\u001b[0m\u001b[37m\u001b[0m \u001b[1m87s\u001b[0m 15ms/step - accuracy: 0.8217 - loss: 0.5730 - val_accuracy: 0.9192 - val_loss: 0.2909\n"
     ]
    }
   ],
   "source": [
    "history_spectrogram = model_spectrogram.fit(train_spec, epochs=10, validation_data=val_spec)"
   ]
  },
  {
   "cell_type": "code",
   "execution_count": 53,
   "id": "4c935cda",
   "metadata": {},
   "outputs": [
    {
     "data": {
      "image/png": "[encoded data removed]",
      "text/plain": [
       "<Figure size 1200x400 with 2 Axes>"
      ]
     },
     "metadata": {},
     "output_type": "display_data"
    }
   ],
   "source": [
    "plot_history(history_spectrogram)"
   ]
  },
  {
   "cell_type": "markdown",
   "id": "68a88dd3",
   "metadata": {},
   "source": [
    "## Vídeo 3.3 - Salvando e fazendo uma inferência"
   ]
  },
  {
   "cell_type": "code",
   "execution_count": 65,
   "id": "d9a1bdc5",
   "metadata": {},
   "outputs": [],
   "source": [
    "# Caminho do arquivo específico que você quer classificar\n",
    "specific_audio_path = '/teamspace/studios/this_studio/yes.wav'"
   ]
  },
  {
   "cell_type": "code",
   "execution_count": 66,
   "id": "63984fe5",
   "metadata": {},
   "outputs": [],
   "source": [
    "# Carregar e processar o áudio\n",
    "specific_audio = load_and_process_audio(specific_audio_path)\n",
    "specific_spectrogram = espectrograma(specific_audio.numpy())"
   ]
  },
  {
   "cell_type": "code",
   "execution_count": 67,
   "id": "6550f37a",
   "metadata": {},
   "outputs": [],
   "source": [
    "# Expandir a dimensão do batch para compatibilidade com o modelo\n",
    "specific_spectrogram_batch = np.expand_dims(specific_spectrogram, axis=0)"
   ]
  },
  {
   "cell_type": "code",
   "execution_count": 68,
   "id": "26767302",
   "metadata": {},
   "outputs": [
    {
     "name": "stdout",
     "output_type": "stream",
     "text": [
      "\u001b[1m1/1\u001b[0m \u001b[32m━━━━━━━━━━━━━━━━━━━━\u001b[0m\u001b[37m\u001b[0m \u001b[1m0s\u001b[0m 15ms/step\n"
     ]
    }
   ],
   "source": [
    "# Fazer a predição\n",
    "specific_predictions = model_spectrogram.predict(specific_spectrogram_batch)\n",
    "specific_predicted_label = np.argmax(specific_predictions, axis=-1)[0]"
   ]
  },
  {
   "cell_type": "code",
   "execution_count": 69,
   "id": "3f48ffe5",
   "metadata": {},
   "outputs": [
    {
     "data": {
      "text/plain": [
       "'yes'"
      ]
     },
     "execution_count": 69,
     "metadata": {},
     "output_type": "execute_result"
    }
   ],
   "source": [
    "# Obter o nome da classe correspondente\n",
    "predicted_class_name = label_encoder.inverse_transform([specific_predicted_label])[0]\n",
    "predicted_class_name"
   ]
  },
  {
   "cell_type": "code",
   "execution_count": 59,
   "id": "ca3a2824",
   "metadata": {},
   "outputs": [],
   "source": [
    "model_spectrogram.save(\"model_spectrogram.keras\")"
   ]
  },
  {
   "cell_type": "markdown",
   "id": "358892ff",
   "metadata": {},
   "source": [
    "# Aula 4 - Trabalhando com modelos pré-treinados"
   ]
  },
  {
   "cell_type": "markdown",
   "id": "53a0ccb0",
   "metadata": {},
   "source": [
    "## Vídeo 4.1 - Conhecendo o Yamnet"
   ]
  },
  {
   "cell_type": "markdown",
   "id": "9e645436",
   "metadata": {},
   "source": [
    "https://www.kaggle.com/models/google/yamnet"
   ]
  },
  {
   "cell_type": "code",
   "execution_count": 71,
   "id": "7ceed5bb",
   "metadata": {},
   "outputs": [
    {
     "name": "stdout",
     "output_type": "stream",
     "text": [
      "Collecting tensorflow_hub\n",
      "  Downloading tensorflow_hub-0.16.1-py2.py3-none-any.whl.metadata (1.3 kB)\n",
      "Requirement already satisfied: numpy>=1.12.0 in /system/conda/miniconda3/envs/cloudspace/lib/python3.10/site-packages (from tensorflow_hub) (1.26.4)\n",
      "Requirement already satisfied: protobuf>=3.19.6 in /system/conda/miniconda3/envs/cloudspace/lib/python3.10/site-packages (from tensorflow_hub) (4.23.4)\n",
      "Collecting tf-keras>=2.14.1 (from tensorflow_hub)\n",
      "  Downloading tf_keras-2.17.0-py3-none-any.whl.metadata (1.6 kB)\n",
      "Requirement already satisfied: tensorflow<2.18,>=2.17 in /system/conda/miniconda3/envs/cloudspace/lib/python3.10/site-packages (from tf-keras>=2.14.1->tensorflow_hub) (2.17.0)\n",
      "Requirement already satisfied: absl-py>=1.0.0 in /system/conda/miniconda3/envs/cloudspace/lib/python3.10/site-packages (from tensorflow<2.18,>=2.17->tf-keras>=2.14.1->tensorflow_hub) (2.1.0)\n",
      "Requirement already satisfied: astunparse>=1.6.0 in /system/conda/miniconda3/envs/cloudspace/lib/python3.10/site-packages (from tensorflow<2.18,>=2.17->tf-keras>=2.14.1->tensorflow_hub) (1.6.3)\n",
      "Requirement already satisfied: flatbuffers>=24.3.25 in /system/conda/miniconda3/envs/cloudspace/lib/python3.10/site-packages (from tensorflow<2.18,>=2.17->tf-keras>=2.14.1->tensorflow_hub) (24.3.25)\n",
      "Requirement already satisfied: gast!=0.5.0,!=0.5.1,!=0.5.2,>=0.2.1 in /system/conda/miniconda3/envs/cloudspace/lib/python3.10/site-packages (from tensorflow<2.18,>=2.17->tf-keras>=2.14.1->tensorflow_hub) (0.6.0)\n",
      "Requirement already satisfied: google-pasta>=0.1.1 in /system/conda/miniconda3/envs/cloudspace/lib/python3.10/site-packages (from tensorflow<2.18,>=2.17->tf-keras>=2.14.1->tensorflow_hub) (0.2.0)\n",
      "Requirement already satisfied: h5py>=3.10.0 in /system/conda/miniconda3/envs/cloudspace/lib/python3.10/site-packages (from tensorflow<2.18,>=2.17->tf-keras>=2.14.1->tensorflow_hub) (3.11.0)\n",
      "Requirement already satisfied: libclang>=13.0.0 in /system/conda/miniconda3/envs/cloudspace/lib/python3.10/site-packages (from tensorflow<2.18,>=2.17->tf-keras>=2.14.1->tensorflow_hub) (18.1.1)\n",
      "Requirement already satisfied: ml-dtypes<0.5.0,>=0.3.1 in /system/conda/miniconda3/envs/cloudspace/lib/python3.10/site-packages (from tensorflow<2.18,>=2.17->tf-keras>=2.14.1->tensorflow_hub) (0.4.0)\n",
      "Requirement already satisfied: opt-einsum>=2.3.2 in /system/conda/miniconda3/envs/cloudspace/lib/python3.10/site-packages (from tensorflow<2.18,>=2.17->tf-keras>=2.14.1->tensorflow_hub) (3.3.0)\n",
      "Requirement already satisfied: packaging in /system/conda/miniconda3/envs/cloudspace/lib/python3.10/site-packages (from tensorflow<2.18,>=2.17->tf-keras>=2.14.1->tensorflow_hub) (24.1)\n",
      "Requirement already satisfied: requests<3,>=2.21.0 in /system/conda/miniconda3/envs/cloudspace/lib/python3.10/site-packages (from tensorflow<2.18,>=2.17->tf-keras>=2.14.1->tensorflow_hub) (2.32.3)\n",
      "Requirement already satisfied: setuptools in /system/conda/miniconda3/envs/cloudspace/lib/python3.10/site-packages (from tensorflow<2.18,>=2.17->tf-keras>=2.14.1->tensorflow_hub) (69.5.1)\n",
      "Requirement already satisfied: six>=1.12.0 in /system/conda/miniconda3/envs/cloudspace/lib/python3.10/site-packages (from tensorflow<2.18,>=2.17->tf-keras>=2.14.1->tensorflow_hub) (1.16.0)\n",
      "Requirement already satisfied: termcolor>=1.1.0 in /system/conda/miniconda3/envs/cloudspace/lib/python3.10/site-packages (from tensorflow<2.18,>=2.17->tf-keras>=2.14.1->tensorflow_hub) (2.4.0)\n",
      "Requirement already satisfied: typing-extensions>=3.6.6 in /system/conda/miniconda3/envs/cloudspace/lib/python3.10/site-packages (from tensorflow<2.18,>=2.17->tf-keras>=2.14.1->tensorflow_hub) (4.12.2)\n",
      "Requirement already satisfied: wrapt>=1.11.0 in /system/conda/miniconda3/envs/cloudspace/lib/python3.10/site-packages (from tensorflow<2.18,>=2.17->tf-keras>=2.14.1->tensorflow_hub) (1.16.0)\n",
      "Requirement already satisfied: grpcio<2.0,>=1.24.3 in /system/conda/miniconda3/envs/cloudspace/lib/python3.10/site-packages (from tensorflow<2.18,>=2.17->tf-keras>=2.14.1->tensorflow_hub) (1.64.1)\n",
      "Requirement already satisfied: tensorboard<2.18,>=2.17 in /system/conda/miniconda3/envs/cloudspace/lib/python3.10/site-packages (from tensorflow<2.18,>=2.17->tf-keras>=2.14.1->tensorflow_hub) (2.17.0)\n",
      "Requirement already satisfied: keras>=3.2.0 in /system/conda/miniconda3/envs/cloudspace/lib/python3.10/site-packages (from tensorflow<2.18,>=2.17->tf-keras>=2.14.1->tensorflow_hub) (3.4.1)\n",
      "Requirement already satisfied: tensorflow-io-gcs-filesystem>=0.23.1 in /system/conda/miniconda3/envs/cloudspace/lib/python3.10/site-packages (from tensorflow<2.18,>=2.17->tf-keras>=2.14.1->tensorflow_hub) (0.37.1)\n",
      "Requirement already satisfied: wheel<1.0,>=0.23.0 in /system/conda/miniconda3/envs/cloudspace/lib/python3.10/site-packages (from astunparse>=1.6.0->tensorflow<2.18,>=2.17->tf-keras>=2.14.1->tensorflow_hub) (0.43.0)\n",
      "Requirement already satisfied: rich in /system/conda/miniconda3/envs/cloudspace/lib/python3.10/site-packages (from keras>=3.2.0->tensorflow<2.18,>=2.17->tf-keras>=2.14.1->tensorflow_hub) (13.7.1)\n",
      "Requirement already satisfied: namex in /system/conda/miniconda3/envs/cloudspace/lib/python3.10/site-packages (from keras>=3.2.0->tensorflow<2.18,>=2.17->tf-keras>=2.14.1->tensorflow_hub) (0.0.8)\n",
      "Requirement already satisfied: optree in /system/conda/miniconda3/envs/cloudspace/lib/python3.10/site-packages (from keras>=3.2.0->tensorflow<2.18,>=2.17->tf-keras>=2.14.1->tensorflow_hub) (0.12.1)\n",
      "Requirement already satisfied: charset-normalizer<4,>=2 in /system/conda/miniconda3/envs/cloudspace/lib/python3.10/site-packages (from requests<3,>=2.21.0->tensorflow<2.18,>=2.17->tf-keras>=2.14.1->tensorflow_hub) (3.3.2)\n",
      "Requirement already satisfied: idna<4,>=2.5 in /system/conda/miniconda3/envs/cloudspace/lib/python3.10/site-packages (from requests<3,>=2.21.0->tensorflow<2.18,>=2.17->tf-keras>=2.14.1->tensorflow_hub) (3.7)\n",
      "Requirement already satisfied: urllib3<3,>=1.21.1 in /system/conda/miniconda3/envs/cloudspace/lib/python3.10/site-packages (from requests<3,>=2.21.0->tensorflow<2.18,>=2.17->tf-keras>=2.14.1->tensorflow_hub) (2.2.2)\n",
      "Requirement already satisfied: certifi>=2017.4.17 in /system/conda/miniconda3/envs/cloudspace/lib/python3.10/site-packages (from requests<3,>=2.21.0->tensorflow<2.18,>=2.17->tf-keras>=2.14.1->tensorflow_hub) (2024.7.4)\n",
      "Requirement already satisfied: markdown>=2.6.8 in /system/conda/miniconda3/envs/cloudspace/lib/python3.10/site-packages (from tensorboard<2.18,>=2.17->tensorflow<2.18,>=2.17->tf-keras>=2.14.1->tensorflow_hub) (3.6)\n",
      "Requirement already satisfied: tensorboard-data-server<0.8.0,>=0.7.0 in /system/conda/miniconda3/envs/cloudspace/lib/python3.10/site-packages (from tensorboard<2.18,>=2.17->tensorflow<2.18,>=2.17->tf-keras>=2.14.1->tensorflow_hub) (0.7.2)\n",
      "Requirement already satisfied: werkzeug>=1.0.1 in /system/conda/miniconda3/envs/cloudspace/lib/python3.10/site-packages (from tensorboard<2.18,>=2.17->tensorflow<2.18,>=2.17->tf-keras>=2.14.1->tensorflow_hub) (3.0.3)\n",
      "Requirement already satisfied: MarkupSafe>=2.1.1 in /system/conda/miniconda3/envs/cloudspace/lib/python3.10/site-packages (from werkzeug>=1.0.1->tensorboard<2.18,>=2.17->tensorflow<2.18,>=2.17->tf-keras>=2.14.1->tensorflow_hub) (2.1.5)\n",
      "Requirement already satisfied: markdown-it-py>=2.2.0 in /system/conda/miniconda3/envs/cloudspace/lib/python3.10/site-packages (from rich->keras>=3.2.0->tensorflow<2.18,>=2.17->tf-keras>=2.14.1->tensorflow_hub) (3.0.0)\n",
      "Requirement already satisfied: pygments<3.0.0,>=2.13.0 in /system/conda/miniconda3/envs/cloudspace/lib/python3.10/site-packages (from rich->keras>=3.2.0->tensorflow<2.18,>=2.17->tf-keras>=2.14.1->tensorflow_hub) (2.18.0)\n",
      "Requirement already satisfied: mdurl~=0.1 in /system/conda/miniconda3/envs/cloudspace/lib/python3.10/site-packages (from markdown-it-py>=2.2.0->rich->keras>=3.2.0->tensorflow<2.18,>=2.17->tf-keras>=2.14.1->tensorflow_hub) (0.1.2)\n",
      "Downloading tensorflow_hub-0.16.1-py2.py3-none-any.whl (30 kB)\n",
      "Downloading tf_keras-2.17.0-py3-none-any.whl (1.7 MB)\n",
      "\u001b[2K   \u001b[90m━━━━━━━━━━━━━━━━━━━━━━━━━━━━━━━━━━━━━━━━\u001b[0m \u001b[32m1.7/1.7 MB\u001b[0m \u001b[31m77.5 MB/s\u001b[0m eta \u001b[36m0:00:00\u001b[0m\n",
      "\u001b[?25hInstalling collected packages: tf-keras, tensorflow_hub\n",
      "Successfully installed tensorflow_hub-0.16.1 tf-keras-2.17.0\n",
      "\n",
      "\u001b[1m[\u001b[0m\u001b[34;49mnotice\u001b[0m\u001b[1;39;49m]\u001b[0m\u001b[39;49m A new release of pip is available: \u001b[0m\u001b[31;49m24.1.2\u001b[0m\u001b[39;49m -> \u001b[0m\u001b[32;49m24.2\u001b[0m\n",
      "\u001b[1m[\u001b[0m\u001b[34;49mnotice\u001b[0m\u001b[1;39;49m]\u001b[0m\u001b[39;49m To update, run: \u001b[0m\u001b[32;49mpip install --upgrade pip\u001b[0m\n"
     ]
    }
   ],
   "source": [
    "#!pip install tensorflow_hub"
   ]
  },
  {
   "cell_type": "code",
   "execution_count": 52,
   "id": "9400f850",
   "metadata": {},
   "outputs": [],
   "source": [
    "import tensorflow as tf\n",
    "import tensorflow_hub as hub\n",
    "import numpy as np\n",
    "import pandas as pd\n",
    "import io\n",
    "import os"
   ]
  },
  {
   "cell_type": "code",
   "execution_count": 53,
   "id": "0a382e2e",
   "metadata": {},
   "outputs": [],
   "source": [
    "# Load the model.\n",
    "model = hub.load('https://www.kaggle.com/models/google/yamnet/TensorFlow2/yamnet/1')"
   ]
  },
  {
   "cell_type": "code",
   "execution_count": 54,
   "id": "588d8dff",
   "metadata": {},
   "outputs": [],
   "source": [
    "# Input: 3 seconds of silence as mono 16 kHz waveform samples.\n",
    "waveform = np.zeros(3 * 16000, dtype=np.float32)"
   ]
  },
  {
   "cell_type": "code",
   "execution_count": 55,
   "id": "809a0917",
   "metadata": {},
   "outputs": [],
   "source": [
    "scores, embeddings, log_mel_spectrogram = model(waveform)"
   ]
  },
  {
   "cell_type": "code",
   "execution_count": 56,
   "id": "ef797902",
   "metadata": {},
   "outputs": [
    {
     "data": {
      "text/plain": [
       "<tf.Tensor: shape=(6, 521), dtype=float32, numpy=\n",
       "array([[8.2153974e-08, 0.0000000e+00, 0.0000000e+00, ..., 0.0000000e+00,\n",
       "        0.0000000e+00, 0.0000000e+00],\n",
       "       [8.2153974e-08, 0.0000000e+00, 0.0000000e+00, ..., 0.0000000e+00,\n",
       "        0.0000000e+00, 0.0000000e+00],\n",
       "       [8.2153974e-08, 0.0000000e+00, 0.0000000e+00, ..., 0.0000000e+00,\n",
       "        0.0000000e+00, 0.0000000e+00],\n",
       "       [8.2153974e-08, 0.0000000e+00, 0.0000000e+00, ..., 0.0000000e+00,\n",
       "        0.0000000e+00, 0.0000000e+00],\n",
       "       [8.2153974e-08, 0.0000000e+00, 0.0000000e+00, ..., 0.0000000e+00,\n",
       "        0.0000000e+00, 0.0000000e+00],\n",
       "       [8.2153974e-08, 0.0000000e+00, 0.0000000e+00, ..., 0.0000000e+00,\n",
       "        0.0000000e+00, 0.0000000e+00]], dtype=float32)>"
      ]
     },
     "execution_count": 56,
     "metadata": {},
     "output_type": "execute_result"
    }
   ],
   "source": [
    "scores"
   ]
  },
  {
   "cell_type": "code",
   "execution_count": 57,
   "id": "c673cf33",
   "metadata": {},
   "outputs": [],
   "source": [
    "def class_names_from_csv(class_map_csv_text):\n",
    "    \"\"\"Retorna uma lista de nomes de classes correspondentes ao vetor de pontuação.\"\"\"\n",
    "    class_map_df = pd.read_csv(io.StringIO(class_map_csv_text))\n",
    "    class_names = class_map_df['display_name'].tolist()\n",
    "    return class_names  "
   ]
  },
  {
   "cell_type": "code",
   "execution_count": 58,
   "id": "14d8b2e5",
   "metadata": {},
   "outputs": [],
   "source": [
    "class_map_path = model.class_map_path().numpy()"
   ]
  },
  {
   "cell_type": "code",
   "execution_count": 59,
   "id": "8640c70c",
   "metadata": {},
   "outputs": [
    {
     "data": {
      "text/plain": [
       "['Speech',\n",
       " 'Child speech, kid speaking',\n",
       " 'Conversation',\n",
       " 'Narration, monologue',\n",
       " 'Babbling',\n",
       " 'Speech synthesizer',\n",
       " 'Shout',\n",
       " 'Bellow',\n",
       " 'Whoop',\n",
       " 'Yell',\n",
       " 'Children shouting',\n",
       " 'Screaming',\n",
       " 'Whispering',\n",
       " 'Laughter',\n",
       " 'Baby laughter',\n",
       " 'Giggle',\n",
       " 'Snicker',\n",
       " 'Belly laugh',\n",
       " 'Chuckle, chortle',\n",
       " 'Crying, sobbing',\n",
       " 'Baby cry, infant cry',\n",
       " 'Whimper',\n",
       " 'Wail, moan',\n",
       " 'Sigh',\n",
       " 'Singing',\n",
       " 'Choir',\n",
       " 'Yodeling',\n",
       " 'Chant',\n",
       " 'Mantra',\n",
       " 'Child singing',\n",
       " 'Synthetic singing',\n",
       " 'Rapping',\n",
       " 'Humming',\n",
       " 'Groan',\n",
       " 'Grunt',\n",
       " 'Whistling',\n",
       " 'Breathing',\n",
       " 'Wheeze',\n",
       " 'Snoring',\n",
       " 'Gasp',\n",
       " 'Pant',\n",
       " 'Snort',\n",
       " 'Cough',\n",
       " 'Throat clearing',\n",
       " 'Sneeze',\n",
       " 'Sniff',\n",
       " 'Run',\n",
       " 'Shuffle',\n",
       " 'Walk, footsteps',\n",
       " 'Chewing, mastication',\n",
       " 'Biting',\n",
       " 'Gargling',\n",
       " 'Stomach rumble',\n",
       " 'Burping, eructation',\n",
       " 'Hiccup',\n",
       " 'Fart',\n",
       " 'Hands',\n",
       " 'Finger snapping',\n",
       " 'Clapping',\n",
       " 'Heart sounds, heartbeat',\n",
       " 'Heart murmur',\n",
       " 'Cheering',\n",
       " 'Applause',\n",
       " 'Chatter',\n",
       " 'Crowd',\n",
       " 'Hubbub, speech noise, speech babble',\n",
       " 'Children playing',\n",
       " 'Animal',\n",
       " 'Domestic animals, pets',\n",
       " 'Dog',\n",
       " 'Bark',\n",
       " 'Yip',\n",
       " 'Howl',\n",
       " 'Bow-wow',\n",
       " 'Growling',\n",
       " 'Whimper (dog)',\n",
       " 'Cat',\n",
       " 'Purr',\n",
       " 'Meow',\n",
       " 'Hiss',\n",
       " 'Caterwaul',\n",
       " 'Livestock, farm animals, working animals',\n",
       " 'Horse',\n",
       " 'Clip-clop',\n",
       " 'Neigh, whinny',\n",
       " 'Cattle, bovinae',\n",
       " 'Moo',\n",
       " 'Cowbell',\n",
       " 'Pig',\n",
       " 'Oink',\n",
       " 'Goat',\n",
       " 'Bleat',\n",
       " 'Sheep',\n",
       " 'Fowl',\n",
       " 'Chicken, rooster',\n",
       " 'Cluck',\n",
       " 'Crowing, cock-a-doodle-doo',\n",
       " 'Turkey',\n",
       " 'Gobble',\n",
       " 'Duck',\n",
       " 'Quack',\n",
       " 'Goose',\n",
       " 'Honk',\n",
       " 'Wild animals',\n",
       " 'Roaring cats (lions, tigers)',\n",
       " 'Roar',\n",
       " 'Bird',\n",
       " 'Bird vocalization, bird call, bird song',\n",
       " 'Chirp, tweet',\n",
       " 'Squawk',\n",
       " 'Pigeon, dove',\n",
       " 'Coo',\n",
       " 'Crow',\n",
       " 'Caw',\n",
       " 'Owl',\n",
       " 'Hoot',\n",
       " 'Bird flight, flapping wings',\n",
       " 'Canidae, dogs, wolves',\n",
       " 'Rodents, rats, mice',\n",
       " 'Mouse',\n",
       " 'Patter',\n",
       " 'Insect',\n",
       " 'Cricket',\n",
       " 'Mosquito',\n",
       " 'Fly, housefly',\n",
       " 'Buzz',\n",
       " 'Bee, wasp, etc.',\n",
       " 'Frog',\n",
       " 'Croak',\n",
       " 'Snake',\n",
       " 'Rattle',\n",
       " 'Whale vocalization',\n",
       " 'Music',\n",
       " 'Musical instrument',\n",
       " 'Plucked string instrument',\n",
       " 'Guitar',\n",
       " 'Electric guitar',\n",
       " 'Bass guitar',\n",
       " 'Acoustic guitar',\n",
       " 'Steel guitar, slide guitar',\n",
       " 'Tapping (guitar technique)',\n",
       " 'Strum',\n",
       " 'Banjo',\n",
       " 'Sitar',\n",
       " 'Mandolin',\n",
       " 'Zither',\n",
       " 'Ukulele',\n",
       " 'Keyboard (musical)',\n",
       " 'Piano',\n",
       " 'Electric piano',\n",
       " 'Organ',\n",
       " 'Electronic organ',\n",
       " 'Hammond organ',\n",
       " 'Synthesizer',\n",
       " 'Sampler',\n",
       " 'Harpsichord',\n",
       " 'Percussion',\n",
       " 'Drum kit',\n",
       " 'Drum machine',\n",
       " 'Drum',\n",
       " 'Snare drum',\n",
       " 'Rimshot',\n",
       " 'Drum roll',\n",
       " 'Bass drum',\n",
       " 'Timpani',\n",
       " 'Tabla',\n",
       " 'Cymbal',\n",
       " 'Hi-hat',\n",
       " 'Wood block',\n",
       " 'Tambourine',\n",
       " 'Rattle (instrument)',\n",
       " 'Maraca',\n",
       " 'Gong',\n",
       " 'Tubular bells',\n",
       " 'Mallet percussion',\n",
       " 'Marimba, xylophone',\n",
       " 'Glockenspiel',\n",
       " 'Vibraphone',\n",
       " 'Steelpan',\n",
       " 'Orchestra',\n",
       " 'Brass instrument',\n",
       " 'French horn',\n",
       " 'Trumpet',\n",
       " 'Trombone',\n",
       " 'Bowed string instrument',\n",
       " 'String section',\n",
       " 'Violin, fiddle',\n",
       " 'Pizzicato',\n",
       " 'Cello',\n",
       " 'Double bass',\n",
       " 'Wind instrument, woodwind instrument',\n",
       " 'Flute',\n",
       " 'Saxophone',\n",
       " 'Clarinet',\n",
       " 'Harp',\n",
       " 'Bell',\n",
       " 'Church bell',\n",
       " 'Jingle bell',\n",
       " 'Bicycle bell',\n",
       " 'Tuning fork',\n",
       " 'Chime',\n",
       " 'Wind chime',\n",
       " 'Change ringing (campanology)',\n",
       " 'Harmonica',\n",
       " 'Accordion',\n",
       " 'Bagpipes',\n",
       " 'Didgeridoo',\n",
       " 'Shofar',\n",
       " 'Theremin',\n",
       " 'Singing bowl',\n",
       " 'Scratching (performance technique)',\n",
       " 'Pop music',\n",
       " 'Hip hop music',\n",
       " 'Beatboxing',\n",
       " 'Rock music',\n",
       " 'Heavy metal',\n",
       " 'Punk rock',\n",
       " 'Grunge',\n",
       " 'Progressive rock',\n",
       " 'Rock and roll',\n",
       " 'Psychedelic rock',\n",
       " 'Rhythm and blues',\n",
       " 'Soul music',\n",
       " 'Reggae',\n",
       " 'Country',\n",
       " 'Swing music',\n",
       " 'Bluegrass',\n",
       " 'Funk',\n",
       " 'Folk music',\n",
       " 'Middle Eastern music',\n",
       " 'Jazz',\n",
       " 'Disco',\n",
       " 'Classical music',\n",
       " 'Opera',\n",
       " 'Electronic music',\n",
       " 'House music',\n",
       " 'Techno',\n",
       " 'Dubstep',\n",
       " 'Drum and bass',\n",
       " 'Electronica',\n",
       " 'Electronic dance music',\n",
       " 'Ambient music',\n",
       " 'Trance music',\n",
       " 'Music of Latin America',\n",
       " 'Salsa music',\n",
       " 'Flamenco',\n",
       " 'Blues',\n",
       " 'Music for children',\n",
       " 'New-age music',\n",
       " 'Vocal music',\n",
       " 'A capella',\n",
       " 'Music of Africa',\n",
       " 'Afrobeat',\n",
       " 'Christian music',\n",
       " 'Gospel music',\n",
       " 'Music of Asia',\n",
       " 'Carnatic music',\n",
       " 'Music of Bollywood',\n",
       " 'Ska',\n",
       " 'Traditional music',\n",
       " 'Independent music',\n",
       " 'Song',\n",
       " 'Background music',\n",
       " 'Theme music',\n",
       " 'Jingle (music)',\n",
       " 'Soundtrack music',\n",
       " 'Lullaby',\n",
       " 'Video game music',\n",
       " 'Christmas music',\n",
       " 'Dance music',\n",
       " 'Wedding music',\n",
       " 'Happy music',\n",
       " 'Sad music',\n",
       " 'Tender music',\n",
       " 'Exciting music',\n",
       " 'Angry music',\n",
       " 'Scary music',\n",
       " 'Wind',\n",
       " 'Rustling leaves',\n",
       " 'Wind noise (microphone)',\n",
       " 'Thunderstorm',\n",
       " 'Thunder',\n",
       " 'Water',\n",
       " 'Rain',\n",
       " 'Raindrop',\n",
       " 'Rain on surface',\n",
       " 'Stream',\n",
       " 'Waterfall',\n",
       " 'Ocean',\n",
       " 'Waves, surf',\n",
       " 'Steam',\n",
       " 'Gurgling',\n",
       " 'Fire',\n",
       " 'Crackle',\n",
       " 'Vehicle',\n",
       " 'Boat, Water vehicle',\n",
       " 'Sailboat, sailing ship',\n",
       " 'Rowboat, canoe, kayak',\n",
       " 'Motorboat, speedboat',\n",
       " 'Ship',\n",
       " 'Motor vehicle (road)',\n",
       " 'Car',\n",
       " 'Vehicle horn, car horn, honking',\n",
       " 'Toot',\n",
       " 'Car alarm',\n",
       " 'Power windows, electric windows',\n",
       " 'Skidding',\n",
       " 'Tire squeal',\n",
       " 'Car passing by',\n",
       " 'Race car, auto racing',\n",
       " 'Truck',\n",
       " 'Air brake',\n",
       " 'Air horn, truck horn',\n",
       " 'Reversing beeps',\n",
       " 'Ice cream truck, ice cream van',\n",
       " 'Bus',\n",
       " 'Emergency vehicle',\n",
       " 'Police car (siren)',\n",
       " 'Ambulance (siren)',\n",
       " 'Fire engine, fire truck (siren)',\n",
       " 'Motorcycle',\n",
       " 'Traffic noise, roadway noise',\n",
       " 'Rail transport',\n",
       " 'Train',\n",
       " 'Train whistle',\n",
       " 'Train horn',\n",
       " 'Railroad car, train wagon',\n",
       " 'Train wheels squealing',\n",
       " 'Subway, metro, underground',\n",
       " 'Aircraft',\n",
       " 'Aircraft engine',\n",
       " 'Jet engine',\n",
       " 'Propeller, airscrew',\n",
       " 'Helicopter',\n",
       " 'Fixed-wing aircraft, airplane',\n",
       " 'Bicycle',\n",
       " 'Skateboard',\n",
       " 'Engine',\n",
       " 'Light engine (high frequency)',\n",
       " \"Dental drill, dentist's drill\",\n",
       " 'Lawn mower',\n",
       " 'Chainsaw',\n",
       " 'Medium engine (mid frequency)',\n",
       " 'Heavy engine (low frequency)',\n",
       " 'Engine knocking',\n",
       " 'Engine starting',\n",
       " 'Idling',\n",
       " 'Accelerating, revving, vroom',\n",
       " 'Door',\n",
       " 'Doorbell',\n",
       " 'Ding-dong',\n",
       " 'Sliding door',\n",
       " 'Slam',\n",
       " 'Knock',\n",
       " 'Tap',\n",
       " 'Squeak',\n",
       " 'Cupboard open or close',\n",
       " 'Drawer open or close',\n",
       " 'Dishes, pots, and pans',\n",
       " 'Cutlery, silverware',\n",
       " 'Chopping (food)',\n",
       " 'Frying (food)',\n",
       " 'Microwave oven',\n",
       " 'Blender',\n",
       " 'Water tap, faucet',\n",
       " 'Sink (filling or washing)',\n",
       " 'Bathtub (filling or washing)',\n",
       " 'Hair dryer',\n",
       " 'Toilet flush',\n",
       " 'Toothbrush',\n",
       " 'Electric toothbrush',\n",
       " 'Vacuum cleaner',\n",
       " 'Zipper (clothing)',\n",
       " 'Keys jangling',\n",
       " 'Coin (dropping)',\n",
       " 'Scissors',\n",
       " 'Electric shaver, electric razor',\n",
       " 'Shuffling cards',\n",
       " 'Typing',\n",
       " 'Typewriter',\n",
       " 'Computer keyboard',\n",
       " 'Writing',\n",
       " 'Alarm',\n",
       " 'Telephone',\n",
       " 'Telephone bell ringing',\n",
       " 'Ringtone',\n",
       " 'Telephone dialing, DTMF',\n",
       " 'Dial tone',\n",
       " 'Busy signal',\n",
       " 'Alarm clock',\n",
       " 'Siren',\n",
       " 'Civil defense siren',\n",
       " 'Buzzer',\n",
       " 'Smoke detector, smoke alarm',\n",
       " 'Fire alarm',\n",
       " 'Foghorn',\n",
       " 'Whistle',\n",
       " 'Steam whistle',\n",
       " 'Mechanisms',\n",
       " 'Ratchet, pawl',\n",
       " 'Clock',\n",
       " 'Tick',\n",
       " 'Tick-tock',\n",
       " 'Gears',\n",
       " 'Pulleys',\n",
       " 'Sewing machine',\n",
       " 'Mechanical fan',\n",
       " 'Air conditioning',\n",
       " 'Cash register',\n",
       " 'Printer',\n",
       " 'Camera',\n",
       " 'Single-lens reflex camera',\n",
       " 'Tools',\n",
       " 'Hammer',\n",
       " 'Jackhammer',\n",
       " 'Sawing',\n",
       " 'Filing (rasp)',\n",
       " 'Sanding',\n",
       " 'Power tool',\n",
       " 'Drill',\n",
       " 'Explosion',\n",
       " 'Gunshot, gunfire',\n",
       " 'Machine gun',\n",
       " 'Fusillade',\n",
       " 'Artillery fire',\n",
       " 'Cap gun',\n",
       " 'Fireworks',\n",
       " 'Firecracker',\n",
       " 'Burst, pop',\n",
       " 'Eruption',\n",
       " 'Boom',\n",
       " 'Wood',\n",
       " 'Chop',\n",
       " 'Splinter',\n",
       " 'Crack',\n",
       " 'Glass',\n",
       " 'Chink, clink',\n",
       " 'Shatter',\n",
       " 'Liquid',\n",
       " 'Splash, splatter',\n",
       " 'Slosh',\n",
       " 'Squish',\n",
       " 'Drip',\n",
       " 'Pour',\n",
       " 'Trickle, dribble',\n",
       " 'Gush',\n",
       " 'Fill (with liquid)',\n",
       " 'Spray',\n",
       " 'Pump (liquid)',\n",
       " 'Stir',\n",
       " 'Boiling',\n",
       " 'Sonar',\n",
       " 'Arrow',\n",
       " 'Whoosh, swoosh, swish',\n",
       " 'Thump, thud',\n",
       " 'Thunk',\n",
       " 'Electronic tuner',\n",
       " 'Effects unit',\n",
       " 'Chorus effect',\n",
       " 'Basketball bounce',\n",
       " 'Bang',\n",
       " 'Slap, smack',\n",
       " 'Whack, thwack',\n",
       " 'Smash, crash',\n",
       " 'Breaking',\n",
       " 'Bouncing',\n",
       " 'Whip',\n",
       " 'Flap',\n",
       " 'Scratch',\n",
       " 'Scrape',\n",
       " 'Rub',\n",
       " 'Roll',\n",
       " 'Crushing',\n",
       " 'Crumpling, crinkling',\n",
       " 'Tearing',\n",
       " 'Beep, bleep',\n",
       " 'Ping',\n",
       " 'Ding',\n",
       " 'Clang',\n",
       " 'Squeal',\n",
       " 'Creak',\n",
       " 'Rustle',\n",
       " 'Whir',\n",
       " 'Clatter',\n",
       " 'Sizzle',\n",
       " 'Clicking',\n",
       " 'Clickety-clack',\n",
       " 'Rumble',\n",
       " 'Plop',\n",
       " 'Jingle, tinkle',\n",
       " 'Hum',\n",
       " 'Zing',\n",
       " 'Boing',\n",
       " 'Crunch',\n",
       " 'Silence',\n",
       " 'Sine wave',\n",
       " 'Harmonic',\n",
       " 'Chirp tone',\n",
       " 'Sound effect',\n",
       " 'Pulse',\n",
       " 'Inside, small room',\n",
       " 'Inside, large room or hall',\n",
       " 'Inside, public space',\n",
       " 'Outside, urban or manmade',\n",
       " 'Outside, rural or natural',\n",
       " 'Reverberation',\n",
       " 'Echo',\n",
       " 'Noise',\n",
       " 'Environmental noise',\n",
       " 'Static',\n",
       " 'Mains hum',\n",
       " 'Distortion',\n",
       " 'Sidetone',\n",
       " 'Cacophony',\n",
       " 'White noise',\n",
       " 'Pink noise',\n",
       " 'Throbbing',\n",
       " 'Vibration',\n",
       " 'Television',\n",
       " 'Radio',\n",
       " 'Field recording']"
      ]
     },
     "execution_count": 59,
     "metadata": {},
     "output_type": "execute_result"
    }
   ],
   "source": [
    "class_names = class_names_from_csv(tf.io.read_file(class_map_path).numpy().decode('utf-8'))\n",
    "class_names\n"
   ]
  },
  {
   "cell_type": "code",
   "execution_count": 60,
   "id": "e4aaf554",
   "metadata": {},
   "outputs": [
    {
     "data": {
      "text/plain": [
       "'Silence'"
      ]
     },
     "execution_count": 60,
     "metadata": {},
     "output_type": "execute_result"
    }
   ],
   "source": [
    "class_names[np.argmax(scores.numpy().mean(axis=0))]"
   ]
  },
  {
   "cell_type": "markdown",
   "id": "c76913c7",
   "metadata": {},
   "source": [
    "## Vídeo 4.2 - Aplicando em diferentes tipos de áudio"
   ]
  },
  {
   "cell_type": "code",
   "execution_count": 61,
   "id": "254e29b2",
   "metadata": {},
   "outputs": [],
   "source": [
    "#!pip install librosa"
   ]
  },
  {
   "cell_type": "code",
   "execution_count": 62,
   "id": "32f06977",
   "metadata": {},
   "outputs": [],
   "source": [
    "import librosa"
   ]
  },
  {
   "cell_type": "code",
   "execution_count": 63,
   "id": "ae32415c",
   "metadata": {},
   "outputs": [],
   "source": [
    "def load_audio(file_path):\n",
    "    \"\"\"\n",
    "    Carrega um arquivo de áudio MP3 e retorna o waveform e a taxa de amostragem.\n",
    "\n",
    "    Args:\n",
    "    file_path (str): Caminho para o arquivo de áudio MP3.\n",
    "\n",
    "    Returns:\n",
    "    tuple: waveform (np.ndarray), sample_rate (int)\n",
    "    \"\"\"\n",
    "    waveform, sample_rate = librosa.load(file_path, sr=None)\n",
    "    return waveform, sample_rate"
   ]
  },
  {
   "cell_type": "code",
   "execution_count": 64,
   "id": "f2b16a47",
   "metadata": {},
   "outputs": [],
   "source": [
    "# Caminho para o arquivo barking.mp3\n",
    "file_path = '/teamspace/studios/this_studio/dog-barking-70772.mp3'"
   ]
  },
  {
   "cell_type": "code",
   "execution_count": 65,
   "id": "b035c76d",
   "metadata": {},
   "outputs": [],
   "source": [
    "# Carrega o arquivo de áudio\n",
    "waveform, sample_rate = load_audio(file_path)"
   ]
  },
  {
   "cell_type": "code",
   "execution_count": 66,
   "id": "1abc164b",
   "metadata": {},
   "outputs": [],
   "source": [
    "import matplotlib.pyplot as plt"
   ]
  },
  {
   "cell_type": "code",
   "execution_count": 67,
   "id": "c3a07900",
   "metadata": {},
   "outputs": [
    {
     "data": {
      "text/plain": [
       "[<matplotlib.lines.Line2D at 0x7f9cecdf8310>]"
      ]
     },
     "execution_count": 67,
     "metadata": {},
     "output_type": "execute_result"
    },
    {
     "data": {
      "image/png": "[encoded data removed]",
      "text/plain": [
       "<Figure size 640x480 with 1 Axes>"
      ]
     },
     "metadata": {},
     "output_type": "display_data"
    }
   ],
   "source": [
    "plt.plot(waveform)"
   ]
  },
  {
   "cell_type": "code",
   "execution_count": 68,
   "id": "2d52b46e",
   "metadata": {},
   "outputs": [],
   "source": [
    "scores, embeddings, log_mel_spectrogram = model(waveform)"
   ]
  },
  {
   "cell_type": "code",
   "execution_count": 69,
   "id": "1951e09e",
   "metadata": {},
   "outputs": [
    {
     "data": {
      "text/plain": [
       "'Animal'"
      ]
     },
     "execution_count": 69,
     "metadata": {},
     "output_type": "execute_result"
    }
   ],
   "source": [
    "class_names[np.argmax(scores.numpy().mean(axis=0))]"
   ]
  },
  {
   "cell_type": "code",
   "execution_count": 70,
   "id": "3a726bd6",
   "metadata": {},
   "outputs": [
    {
     "data": {
      "text/plain": [
       "<tf.Tensor: shape=(51, 521), dtype=float32, numpy=\n",
       "array([[6.9663050e-03, 2.2335460e-04, 9.7923694e-05, ..., 2.4216286e-05,\n",
       "        9.1223710e-06, 1.2670462e-08],\n",
       "       [2.1255390e-04, 4.3409645e-07, 1.8451232e-07, ..., 6.4708710e-09,\n",
       "        4.0296374e-08, 1.0892806e-12],\n",
       "       [8.0767544e-03, 7.6120334e-05, 1.8801491e-05, ..., 1.8574796e-05,\n",
       "        2.1754194e-04, 6.5904731e-09],\n",
       "       ...,\n",
       "       [6.7678449e-04, 4.0605796e-06, 1.9492431e-06, ..., 1.0290094e-06,\n",
       "        3.2662399e-07, 1.7064310e-09],\n",
       "       [4.5288508e-03, 4.6727215e-05, 3.1295334e-05, ..., 2.8772123e-05,\n",
       "        8.5006068e-06, 3.7170942e-08],\n",
       "       [8.1542815e-04, 3.1290935e-11, 6.5388917e-11, ..., 9.7561780e-15,\n",
       "        2.4063165e-12, 4.5017156e-24]], dtype=float32)>"
      ]
     },
     "execution_count": 70,
     "metadata": {},
     "output_type": "execute_result"
    }
   ],
   "source": [
    "scores"
   ]
  },
  {
   "cell_type": "code",
   "execution_count": 71,
   "id": "52e976ec",
   "metadata": {},
   "outputs": [],
   "source": [
    "def plot_top_classes(scores, class_names, top_n=10):\n",
    "    \"\"\"\n",
    "    Plota as top N classes mais prováveis com base nos scores.\n",
    "\n",
    "    Args:\n",
    "    scores (np.ndarray): Vetor de pontuações.\n",
    "    class_names (list): Lista de nomes das classes.\n",
    "    top_n (int): Número de top classes a serem visualizadas.\n",
    "    \"\"\"\n",
    "    mean_scores = scores.mean(axis=0)\n",
    "    top_indices = np.argsort(mean_scores)[-top_n:][::-1]\n",
    "    top_scores = mean_scores[top_indices]\n",
    "    top_class_names = [class_names[i] for i in top_indices]\n",
    "\n",
    "    plt.figure(figsize=(10, 6))\n",
    "    plt.barh(top_class_names, top_scores)\n",
    "    plt.xlabel('Score')\n",
    "    plt.ylabel('Class')\n",
    "    plt.title(f'Top {top_n} Classes')\n",
    "    plt.gca().invert_yaxis()\n",
    "    plt.show()"
   ]
  },
  {
   "cell_type": "code",
   "execution_count": 72,
   "id": "1c33c9ff",
   "metadata": {},
   "outputs": [
    {
     "data": {
      "image/png": "[encoded data removed]",
      "text/plain": [
       "<Figure size 1000x600 with 1 Axes>"
      ]
     },
     "metadata": {},
     "output_type": "display_data"
    }
   ],
   "source": [
    "# Plotar as top 10 classes mais prováveis\n",
    "plot_top_classes(scores.numpy(), class_names)"
   ]
  },
  {
   "cell_type": "markdown",
   "id": "3453e4b9",
   "metadata": {},
   "source": [
    "## Vídeo 4.3 - Obtendo um novo dataset"
   ]
  },
  {
   "cell_type": "code",
   "execution_count": 73,
   "id": "001bd961",
   "metadata": {},
   "outputs": [],
   "source": [
    "_ = tf.keras.utils.get_file('esc-50.zip',\n",
    "                        'https://github.com/karoldvl/ESC-50/archive/master.zip',\n",
    "                        cache_dir='./',\n",
    "                        cache_subdir='datasets',\n",
    "                        extract=True)"
   ]
  },
  {
   "cell_type": "code",
   "execution_count": 74,
   "id": "dbd62c14",
   "metadata": {},
   "outputs": [],
   "source": [
    "esc50_csv = './datasets/ESC-50-master/meta/esc50.csv'\n",
    "base_data_path = './datasets/ESC-50-master/audio/'"
   ]
  },
  {
   "cell_type": "code",
   "execution_count": 75,
   "id": "506c8cd3",
   "metadata": {},
   "outputs": [
    {
     "data": {
      "text/html": [
       "<div>\n",
       "<style scoped>\n",
       "    .dataframe tbody tr th:only-of-type {\n",
       "        vertical-align: middle;\n",
       "    }\n",
       "\n",
       "    .dataframe tbody tr th {\n",
       "        vertical-align: top;\n",
       "    }\n",
       "\n",
       "    .dataframe thead th {\n",
       "        text-align: right;\n",
       "    }\n",
       "</style>\n",
       "<table border=\"1\" class=\"dataframe\">\n",
       "  <thead>\n",
       "    <tr style=\"text-align: right;\">\n",
       "      <th></th>\n",
       "      <th>filename</th>\n",
       "      <th>fold</th>\n",
       "      <th>target</th>\n",
       "      <th>category</th>\n",
       "      <th>esc10</th>\n",
       "      <th>src_file</th>\n",
       "      <th>take</th>\n",
       "    </tr>\n",
       "  </thead>\n",
       "  <tbody>\n",
       "    <tr>\n",
       "      <th>0</th>\n",
       "      <td>1-100032-A-0.wav</td>\n",
       "      <td>1</td>\n",
       "      <td>0</td>\n",
       "      <td>dog</td>\n",
       "      <td>True</td>\n",
       "      <td>100032</td>\n",
       "      <td>A</td>\n",
       "    </tr>\n",
       "    <tr>\n",
       "      <th>1</th>\n",
       "      <td>1-100038-A-14.wav</td>\n",
       "      <td>1</td>\n",
       "      <td>14</td>\n",
       "      <td>chirping_birds</td>\n",
       "      <td>False</td>\n",
       "      <td>100038</td>\n",
       "      <td>A</td>\n",
       "    </tr>\n",
       "    <tr>\n",
       "      <th>2</th>\n",
       "      <td>1-100210-A-36.wav</td>\n",
       "      <td>1</td>\n",
       "      <td>36</td>\n",
       "      <td>vacuum_cleaner</td>\n",
       "      <td>False</td>\n",
       "      <td>100210</td>\n",
       "      <td>A</td>\n",
       "    </tr>\n",
       "    <tr>\n",
       "      <th>3</th>\n",
       "      <td>1-100210-B-36.wav</td>\n",
       "      <td>1</td>\n",
       "      <td>36</td>\n",
       "      <td>vacuum_cleaner</td>\n",
       "      <td>False</td>\n",
       "      <td>100210</td>\n",
       "      <td>B</td>\n",
       "    </tr>\n",
       "    <tr>\n",
       "      <th>4</th>\n",
       "      <td>1-101296-A-19.wav</td>\n",
       "      <td>1</td>\n",
       "      <td>19</td>\n",
       "      <td>thunderstorm</td>\n",
       "      <td>False</td>\n",
       "      <td>101296</td>\n",
       "      <td>A</td>\n",
       "    </tr>\n",
       "  </tbody>\n",
       "</table>\n",
       "</div>"
      ],
      "text/plain": [
       "            filename  fold  target        category  esc10  src_file take\n",
       "0   1-100032-A-0.wav     1       0             dog   True    100032    A\n",
       "1  1-100038-A-14.wav     1      14  chirping_birds  False    100038    A\n",
       "2  1-100210-A-36.wav     1      36  vacuum_cleaner  False    100210    A\n",
       "3  1-100210-B-36.wav     1      36  vacuum_cleaner  False    100210    B\n",
       "4  1-101296-A-19.wav     1      19    thunderstorm  False    101296    A"
      ]
     },
     "execution_count": 75,
     "metadata": {},
     "output_type": "execute_result"
    }
   ],
   "source": [
    "df = pd.read_csv(esc50_csv)\n",
    "df.head()"
   ]
  },
  {
   "cell_type": "code",
   "execution_count": 76,
   "id": "0b7c5620",
   "metadata": {},
   "outputs": [
    {
     "data": {
      "text/plain": [
       "array(['dog', 'chirping_birds', 'vacuum_cleaner', 'thunderstorm',\n",
       "       'door_wood_knock', 'can_opening', 'crow', 'clapping', 'fireworks',\n",
       "       'chainsaw', 'airplane', 'mouse_click', 'pouring_water', 'train',\n",
       "       'sheep', 'water_drops', 'church_bells', 'clock_alarm',\n",
       "       'keyboard_typing', 'wind', 'footsteps', 'frog', 'cow',\n",
       "       'brushing_teeth', 'car_horn', 'crackling_fire', 'helicopter',\n",
       "       'drinking_sipping', 'rain', 'insects', 'laughing', 'hen', 'engine',\n",
       "       'breathing', 'crying_baby', 'hand_saw', 'coughing',\n",
       "       'glass_breaking', 'snoring', 'toilet_flush', 'pig',\n",
       "       'washing_machine', 'clock_tick', 'sneezing', 'rooster',\n",
       "       'sea_waves', 'siren', 'cat', 'door_wood_creaks', 'crickets'],\n",
       "      dtype=object)"
      ]
     },
     "execution_count": 76,
     "metadata": {},
     "output_type": "execute_result"
    }
   ],
   "source": [
    "df['category'].unique()"
   ]
  },
  {
   "cell_type": "code",
   "execution_count": 77,
   "id": "5ea64074",
   "metadata": {},
   "outputs": [],
   "source": [
    "classes = ['dog', 'door_wood_creaks', 'glass_breaking']\n",
    "mapeamento = {'dog':0, 'door_wood_creaks':1,'glass_breaking':2}"
   ]
  },
  {
   "cell_type": "code",
   "execution_count": 79,
   "id": "e561891e",
   "metadata": {},
   "outputs": [],
   "source": [
    "df_filtrado = df[df['category'].isin(classes)]"
   ]
  },
  {
   "cell_type": "code",
   "execution_count": 80,
   "id": "578b62e5",
   "metadata": {},
   "outputs": [
    {
     "data": {
      "text/html": [
       "<div>\n",
       "<style scoped>\n",
       "    .dataframe tbody tr th:only-of-type {\n",
       "        vertical-align: middle;\n",
       "    }\n",
       "\n",
       "    .dataframe tbody tr th {\n",
       "        vertical-align: top;\n",
       "    }\n",
       "\n",
       "    .dataframe thead th {\n",
       "        text-align: right;\n",
       "    }\n",
       "</style>\n",
       "<table border=\"1\" class=\"dataframe\">\n",
       "  <thead>\n",
       "    <tr style=\"text-align: right;\">\n",
       "      <th></th>\n",
       "      <th>filename</th>\n",
       "      <th>fold</th>\n",
       "      <th>target</th>\n",
       "      <th>category</th>\n",
       "      <th>esc10</th>\n",
       "      <th>src_file</th>\n",
       "      <th>take</th>\n",
       "    </tr>\n",
       "  </thead>\n",
       "  <tbody>\n",
       "    <tr>\n",
       "      <th>0</th>\n",
       "      <td>1-100032-A-0.wav</td>\n",
       "      <td>1</td>\n",
       "      <td>0</td>\n",
       "      <td>dog</td>\n",
       "      <td>True</td>\n",
       "      <td>100032</td>\n",
       "      <td>A</td>\n",
       "    </tr>\n",
       "    <tr>\n",
       "      <th>14</th>\n",
       "      <td>1-110389-A-0.wav</td>\n",
       "      <td>1</td>\n",
       "      <td>0</td>\n",
       "      <td>dog</td>\n",
       "      <td>True</td>\n",
       "      <td>110389</td>\n",
       "      <td>A</td>\n",
       "    </tr>\n",
       "    <tr>\n",
       "      <th>95</th>\n",
       "      <td>1-20133-A-39.wav</td>\n",
       "      <td>1</td>\n",
       "      <td>39</td>\n",
       "      <td>glass_breaking</td>\n",
       "      <td>False</td>\n",
       "      <td>20133</td>\n",
       "      <td>A</td>\n",
       "    </tr>\n",
       "    <tr>\n",
       "      <th>157</th>\n",
       "      <td>1-30226-A-0.wav</td>\n",
       "      <td>1</td>\n",
       "      <td>0</td>\n",
       "      <td>dog</td>\n",
       "      <td>True</td>\n",
       "      <td>30226</td>\n",
       "      <td>A</td>\n",
       "    </tr>\n",
       "    <tr>\n",
       "      <th>158</th>\n",
       "      <td>1-30344-A-0.wav</td>\n",
       "      <td>1</td>\n",
       "      <td>0</td>\n",
       "      <td>dog</td>\n",
       "      <td>True</td>\n",
       "      <td>30344</td>\n",
       "      <td>A</td>\n",
       "    </tr>\n",
       "    <tr>\n",
       "      <th>...</th>\n",
       "      <td>...</td>\n",
       "      <td>...</td>\n",
       "      <td>...</td>\n",
       "      <td>...</td>\n",
       "      <td>...</td>\n",
       "      <td>...</td>\n",
       "      <td>...</td>\n",
       "    </tr>\n",
       "    <tr>\n",
       "      <th>1971</th>\n",
       "      <td>5-257642-A-39.wav</td>\n",
       "      <td>5</td>\n",
       "      <td>39</td>\n",
       "      <td>glass_breaking</td>\n",
       "      <td>False</td>\n",
       "      <td>257642</td>\n",
       "      <td>A</td>\n",
       "    </tr>\n",
       "    <tr>\n",
       "      <th>1979</th>\n",
       "      <td>5-260432-A-39.wav</td>\n",
       "      <td>5</td>\n",
       "      <td>39</td>\n",
       "      <td>glass_breaking</td>\n",
       "      <td>False</td>\n",
       "      <td>260432</td>\n",
       "      <td>A</td>\n",
       "    </tr>\n",
       "    <tr>\n",
       "      <th>1980</th>\n",
       "      <td>5-260433-A-39.wav</td>\n",
       "      <td>5</td>\n",
       "      <td>39</td>\n",
       "      <td>glass_breaking</td>\n",
       "      <td>False</td>\n",
       "      <td>260433</td>\n",
       "      <td>A</td>\n",
       "    </tr>\n",
       "    <tr>\n",
       "      <th>1981</th>\n",
       "      <td>5-260434-A-39.wav</td>\n",
       "      <td>5</td>\n",
       "      <td>39</td>\n",
       "      <td>glass_breaking</td>\n",
       "      <td>False</td>\n",
       "      <td>260434</td>\n",
       "      <td>A</td>\n",
       "    </tr>\n",
       "    <tr>\n",
       "      <th>1999</th>\n",
       "      <td>5-9032-A-0.wav</td>\n",
       "      <td>5</td>\n",
       "      <td>0</td>\n",
       "      <td>dog</td>\n",
       "      <td>True</td>\n",
       "      <td>9032</td>\n",
       "      <td>A</td>\n",
       "    </tr>\n",
       "  </tbody>\n",
       "</table>\n",
       "<p>120 rows × 7 columns</p>\n",
       "</div>"
      ],
      "text/plain": [
       "               filename  fold  target        category  esc10  src_file take\n",
       "0      1-100032-A-0.wav     1       0             dog   True    100032    A\n",
       "14     1-110389-A-0.wav     1       0             dog   True    110389    A\n",
       "95     1-20133-A-39.wav     1      39  glass_breaking  False     20133    A\n",
       "157     1-30226-A-0.wav     1       0             dog   True     30226    A\n",
       "158     1-30344-A-0.wav     1       0             dog   True     30344    A\n",
       "...                 ...   ...     ...             ...    ...       ...  ...\n",
       "1971  5-257642-A-39.wav     5      39  glass_breaking  False    257642    A\n",
       "1979  5-260432-A-39.wav     5      39  glass_breaking  False    260432    A\n",
       "1980  5-260433-A-39.wav     5      39  glass_breaking  False    260433    A\n",
       "1981  5-260434-A-39.wav     5      39  glass_breaking  False    260434    A\n",
       "1999     5-9032-A-0.wav     5       0             dog   True      9032    A\n",
       "\n",
       "[120 rows x 7 columns]"
      ]
     },
     "execution_count": 80,
     "metadata": {},
     "output_type": "execute_result"
    }
   ],
   "source": [
    "df_filtrado"
   ]
  },
  {
   "cell_type": "code",
   "execution_count": 81,
   "id": "f0ddd6c5",
   "metadata": {},
   "outputs": [
    {
     "name": "stderr",
     "output_type": "stream",
     "text": [
      "/tmp/ipykernel_73603/1854891678.py:2: SettingWithCopyWarning: \n",
      "A value is trying to be set on a copy of a slice from a DataFrame.\n",
      "Try using .loc[row_indexer,col_indexer] = value instead\n",
      "\n",
      "See the caveats in the documentation: https://pandas.pydata.org/pandas-docs/stable/user_guide/indexing.html#returning-a-view-versus-a-copy\n",
      "  df_filtrado.loc[:, 'alvo'] = df_filtrado['category'].apply(lambda name: mapeamento[name])\n"
     ]
    }
   ],
   "source": [
    "# Aplicar o mapeamento usando loc\n",
    "df_filtrado.loc[:, 'alvo'] = df_filtrado['category'].apply(lambda name: mapeamento[name])"
   ]
  },
  {
   "cell_type": "code",
   "execution_count": 82,
   "id": "c8bf73b9",
   "metadata": {},
   "outputs": [
    {
     "data": {
      "text/html": [
       "<div>\n",
       "<style scoped>\n",
       "    .dataframe tbody tr th:only-of-type {\n",
       "        vertical-align: middle;\n",
       "    }\n",
       "\n",
       "    .dataframe tbody tr th {\n",
       "        vertical-align: top;\n",
       "    }\n",
       "\n",
       "    .dataframe thead th {\n",
       "        text-align: right;\n",
       "    }\n",
       "</style>\n",
       "<table border=\"1\" class=\"dataframe\">\n",
       "  <thead>\n",
       "    <tr style=\"text-align: right;\">\n",
       "      <th></th>\n",
       "      <th>filename</th>\n",
       "      <th>fold</th>\n",
       "      <th>target</th>\n",
       "      <th>category</th>\n",
       "      <th>esc10</th>\n",
       "      <th>src_file</th>\n",
       "      <th>take</th>\n",
       "      <th>alvo</th>\n",
       "    </tr>\n",
       "  </thead>\n",
       "  <tbody>\n",
       "    <tr>\n",
       "      <th>0</th>\n",
       "      <td>./datasets/ESC-50-master/audio/1-100032-A-0.wav</td>\n",
       "      <td>1</td>\n",
       "      <td>0</td>\n",
       "      <td>dog</td>\n",
       "      <td>True</td>\n",
       "      <td>100032</td>\n",
       "      <td>A</td>\n",
       "      <td>0</td>\n",
       "    </tr>\n",
       "    <tr>\n",
       "      <th>14</th>\n",
       "      <td>./datasets/ESC-50-master/audio/1-110389-A-0.wav</td>\n",
       "      <td>1</td>\n",
       "      <td>0</td>\n",
       "      <td>dog</td>\n",
       "      <td>True</td>\n",
       "      <td>110389</td>\n",
       "      <td>A</td>\n",
       "      <td>0</td>\n",
       "    </tr>\n",
       "    <tr>\n",
       "      <th>95</th>\n",
       "      <td>./datasets/ESC-50-master/audio/1-20133-A-39.wav</td>\n",
       "      <td>1</td>\n",
       "      <td>39</td>\n",
       "      <td>glass_breaking</td>\n",
       "      <td>False</td>\n",
       "      <td>20133</td>\n",
       "      <td>A</td>\n",
       "      <td>2</td>\n",
       "    </tr>\n",
       "    <tr>\n",
       "      <th>157</th>\n",
       "      <td>./datasets/ESC-50-master/audio/1-30226-A-0.wav</td>\n",
       "      <td>1</td>\n",
       "      <td>0</td>\n",
       "      <td>dog</td>\n",
       "      <td>True</td>\n",
       "      <td>30226</td>\n",
       "      <td>A</td>\n",
       "      <td>0</td>\n",
       "    </tr>\n",
       "    <tr>\n",
       "      <th>158</th>\n",
       "      <td>./datasets/ESC-50-master/audio/1-30344-A-0.wav</td>\n",
       "      <td>1</td>\n",
       "      <td>0</td>\n",
       "      <td>dog</td>\n",
       "      <td>True</td>\n",
       "      <td>30344</td>\n",
       "      <td>A</td>\n",
       "      <td>0</td>\n",
       "    </tr>\n",
       "    <tr>\n",
       "      <th>...</th>\n",
       "      <td>...</td>\n",
       "      <td>...</td>\n",
       "      <td>...</td>\n",
       "      <td>...</td>\n",
       "      <td>...</td>\n",
       "      <td>...</td>\n",
       "      <td>...</td>\n",
       "      <td>...</td>\n",
       "    </tr>\n",
       "    <tr>\n",
       "      <th>1971</th>\n",
       "      <td>./datasets/ESC-50-master/audio/5-257642-A-39.wav</td>\n",
       "      <td>5</td>\n",
       "      <td>39</td>\n",
       "      <td>glass_breaking</td>\n",
       "      <td>False</td>\n",
       "      <td>257642</td>\n",
       "      <td>A</td>\n",
       "      <td>2</td>\n",
       "    </tr>\n",
       "    <tr>\n",
       "      <th>1979</th>\n",
       "      <td>./datasets/ESC-50-master/audio/5-260432-A-39.wav</td>\n",
       "      <td>5</td>\n",
       "      <td>39</td>\n",
       "      <td>glass_breaking</td>\n",
       "      <td>False</td>\n",
       "      <td>260432</td>\n",
       "      <td>A</td>\n",
       "      <td>2</td>\n",
       "    </tr>\n",
       "    <tr>\n",
       "      <th>1980</th>\n",
       "      <td>./datasets/ESC-50-master/audio/5-260433-A-39.wav</td>\n",
       "      <td>5</td>\n",
       "      <td>39</td>\n",
       "      <td>glass_breaking</td>\n",
       "      <td>False</td>\n",
       "      <td>260433</td>\n",
       "      <td>A</td>\n",
       "      <td>2</td>\n",
       "    </tr>\n",
       "    <tr>\n",
       "      <th>1981</th>\n",
       "      <td>./datasets/ESC-50-master/audio/5-260434-A-39.wav</td>\n",
       "      <td>5</td>\n",
       "      <td>39</td>\n",
       "      <td>glass_breaking</td>\n",
       "      <td>False</td>\n",
       "      <td>260434</td>\n",
       "      <td>A</td>\n",
       "      <td>2</td>\n",
       "    </tr>\n",
       "    <tr>\n",
       "      <th>1999</th>\n",
       "      <td>./datasets/ESC-50-master/audio/5-9032-A-0.wav</td>\n",
       "      <td>5</td>\n",
       "      <td>0</td>\n",
       "      <td>dog</td>\n",
       "      <td>True</td>\n",
       "      <td>9032</td>\n",
       "      <td>A</td>\n",
       "      <td>0</td>\n",
       "    </tr>\n",
       "  </tbody>\n",
       "</table>\n",
       "<p>120 rows × 8 columns</p>\n",
       "</div>"
      ],
      "text/plain": [
       "                                              filename  fold  target  \\\n",
       "0      ./datasets/ESC-50-master/audio/1-100032-A-0.wav     1       0   \n",
       "14     ./datasets/ESC-50-master/audio/1-110389-A-0.wav     1       0   \n",
       "95     ./datasets/ESC-50-master/audio/1-20133-A-39.wav     1      39   \n",
       "157     ./datasets/ESC-50-master/audio/1-30226-A-0.wav     1       0   \n",
       "158     ./datasets/ESC-50-master/audio/1-30344-A-0.wav     1       0   \n",
       "...                                                ...   ...     ...   \n",
       "1971  ./datasets/ESC-50-master/audio/5-257642-A-39.wav     5      39   \n",
       "1979  ./datasets/ESC-50-master/audio/5-260432-A-39.wav     5      39   \n",
       "1980  ./datasets/ESC-50-master/audio/5-260433-A-39.wav     5      39   \n",
       "1981  ./datasets/ESC-50-master/audio/5-260434-A-39.wav     5      39   \n",
       "1999     ./datasets/ESC-50-master/audio/5-9032-A-0.wav     5       0   \n",
       "\n",
       "            category  esc10  src_file take  alvo  \n",
       "0                dog   True    100032    A     0  \n",
       "14               dog   True    110389    A     0  \n",
       "95    glass_breaking  False     20133    A     2  \n",
       "157              dog   True     30226    A     0  \n",
       "158              dog   True     30344    A     0  \n",
       "...              ...    ...       ...  ...   ...  \n",
       "1971  glass_breaking  False    257642    A     2  \n",
       "1979  glass_breaking  False    260432    A     2  \n",
       "1980  glass_breaking  False    260433    A     2  \n",
       "1981  glass_breaking  False    260434    A     2  \n",
       "1999             dog   True      9032    A     0  \n",
       "\n",
       "[120 rows x 8 columns]"
      ]
     },
     "execution_count": 82,
     "metadata": {},
     "output_type": "execute_result"
    }
   ],
   "source": [
    "full_path = df_filtrado['filename'].apply(lambda row: os.path.join(base_data_path, row))\n",
    "df_filtrado = df_filtrado.assign(filename=full_path)\n",
    "df_filtrado"
   ]
  }
 ],
 "metadata": {},
 "nbformat": 4,
 "nbformat_minor": 5
}