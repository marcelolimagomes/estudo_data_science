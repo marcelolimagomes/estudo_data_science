{
 "cells": [
  {
   "cell_type": "code",
   "execution_count": 134,
   "metadata": {},
   "outputs": [],
   "source": [
    "import pandas as pd\n",
    "import sklearn.tree as T\n",
    "import sklearn.ensemble as E \n",
    "from sklearn.preprocessing import LabelEncoder\n",
    "from sklearn import tree\n",
    "import matplotlib.pyplot as plt\n",
    "import numpy as np\n",
    "from sklearn.model_selection import train_test_split\n",
    "from sklearn import metrics as M"
   ]
  },
  {
   "cell_type": "code",
   "execution_count": 135,
   "metadata": {},
   "outputs": [],
   "source": [
    "def idade_media(df_train: pd.DataFrame, df_test: pd.DataFrame):\n",
    "    _df_test = pd.DataFrame.copy(df_test)\n",
    "    _df_train = pd.DataFrame.copy(df_train)\n",
    "\n",
    "    _df_test['Survived'] = 0\n",
    "\n",
    "    df = pd.concat([_df_train, _df_test], ignore_index=True)\n",
    "    df.dropna(subset=['Age'], how='all', inplace=True)\n",
    "    return df.groupby('Saudacao')['Age'].mean()\n",
    "\n",
    "def set_idade_media_if_null(row: pd.Series, media):\n",
    "    result = row['Age']\n",
    "    if ( np.isnan(row['Age']) ):\n",
    "        result = media[row['Saudacao']]\n",
    "    return result\n",
    "\n",
    "def tipoIdade(x):\n",
    "    if x < 18:\n",
    "        return 'Crianca'\n",
    "    elif x >= 18 and x < 50:\n",
    "        return 'Adulto'\n",
    "    else:\n",
    "        return 'Idoso'"
   ]
  },
  {
   "cell_type": "code",
   "execution_count": 136,
   "metadata": {},
   "outputs": [],
   "source": [
    "# Load the data\n",
    "split_train = True\n",
    "if split_train:\n",
    "  df = pd.read_csv(\"train.csv\")\n",
    "  train, test = train_test_split(df, test_size=0.3, random_state=100)\n",
    "else:\n",
    "  train = pd.read_csv(\"train.csv\")\n",
    "  test = pd.read_csv(\"test.csv\")"
   ]
  },
  {
   "cell_type": "code",
   "execution_count": 137,
   "metadata": {},
   "outputs": [],
   "source": [
    "train['Cabin'] = train['Cabin'].str[0:1]\n",
    "train['Cabin'].fillna('C', inplace=True)\n",
    "test['Cabin'] = test['Cabin'].str[0:1]\n",
    "test['Cabin'].fillna('C', inplace=True)\n",
    "\n",
    "train['Tam_Familia'] = train['SibSp'] + train['Parch']\n",
    "test['Tam_Familia'] = test['SibSp'] + test['Parch']\n",
    "\n",
    "train['Saudacao'] = train['Name'].str.extract(\"([A-Za-z]+)\\.\")\n",
    "test['Saudacao'] = test['Name'].str.extract(\"([A-Za-z]+)\\.\")\n",
    "\n",
    "_idade_media = idade_media(train, test)\n",
    "train['Age'] = train.apply(set_idade_media_if_null, axis=1, media=_idade_media)\n",
    "test['Age'] = test.apply(set_idade_media_if_null, axis=1, media=_idade_media)\n",
    "\n",
    "train['Age'] = train['Age'].round(0)\n",
    "test['Age'] = test['Age'].round(0)\n",
    "\n",
    "# Reduzindo possibilidades para padronizar modelo, pois em teste não há todos os tipos existentes e treino\n",
    "train['Saudacao']\\\n",
    "  .replace(['Mlle','Mme', 'Ms',  'Dr','Major','Lady','Countess','Jonkheer','Col',  'Rev',  'Capt','Sir','Don'],\n",
    "           ['Miss','Miss','Miss','Mr','Mr',   'Mrs', 'Mrs',     'Other',   'Other','Other','Mr',  'Mr', 'Mr'], inplace=True)\n",
    "test['Saudacao']\\\n",
    "  .replace(['Dona','Mlle','Mme', 'Ms',  'Dr','Major','Lady','Countess','Jonkheer','Col',  'Rev',  'Capt','Sir','Don'],\n",
    "           ['Miss','Miss','Miss','Miss','Mr','Mr',   'Mrs', 'Mrs',     'Other',   'Other','Other','Mr',  'Mr',  'Mr'], inplace=True)\n",
    "\n",
    "# Classificando idade por Criança, Adulto, Idoso\n",
    "train['t_idade'] = train['Age'].apply(lambda x: tipoIdade(x))\n",
    "test['t_idade'] = test['Age'].apply(lambda x: tipoIdade(x))"
   ]
  },
  {
   "cell_type": "code",
   "execution_count": 138,
   "metadata": {},
   "outputs": [],
   "source": [
    "# Preprocess the data\n",
    "le = LabelEncoder()\n",
    "train['Sex'] = le.fit_transform(train['Sex'].astype(str))\n",
    "train['t_idade'] = le.fit_transform(train['t_idade'].astype(str))\n",
    "train['Saudacao'] = le.fit_transform(train['Saudacao'].astype(str))\n",
    "train['Embarked'] = le.fit_transform(train['Embarked'].astype(str))\n",
    "train['Cabin'] = le.fit_transform(train['Cabin'].astype(str))\n",
    "train['Age'] = le.fit_transform(train['Age'].astype(str))\n",
    "\n",
    "test['Sex'] = le.fit_transform(test['Sex'].astype(str))\n",
    "test['t_idade'] = le.fit_transform(test['t_idade'].astype(str))\n",
    "test['Saudacao'] = le.fit_transform(test['Saudacao'].astype(str))\n",
    "test['Embarked'] = le.fit_transform(test['Embarked'].astype(str))\n",
    "test['Cabin'] = le.fit_transform(test['Cabin'].astype(str))\n",
    "test['Age'] = le.fit_transform(test['Age'].astype(str))\n",
    "#train"
   ]
  },
  {
   "cell_type": "code",
   "execution_count": 139,
   "metadata": {},
   "outputs": [
    {
     "name": "stdout",
     "output_type": "stream",
     "text": [
      "0.832089552238806\n",
      "[1 1 0 1 0 1 0 0 1 0 1 0 0 1 0 0 1 0 1 0 0 1 0 1 0 0 1 0 0 0 0 1 0 0 1 0 1\n",
      " 1 1 0 1 1 0 1 0 1 0 1 0 1 0 0 0 0 0 0 0 0 1 0 0 1 0 0 0 1 0 1 1 0 0 0 0 1\n",
      " 0 0 0 0 0 0 0 0 1 1 1 0 0 1 0 0 0 1 0 0 1 1 1 1 0 1 0 0 0 1 0 1 0 1 1 0 0\n",
      " 0 0 0 1 0 0 0 0 0 0 0 1 0 0 1 0 0 1 0 1 0 0 1 0 0 0 0 1 0 1 1 0 0 0 0 1 1\n",
      " 0 1 1 0 0 1 0 1 0 1 0 0 1 1 0 0 1 0 1 0 0 1 0 1 0 1 1 1 0 0 1 0 0 0 1 0 1\n",
      " 0 0 0 1 1 1 0 1 0 0 0 0 0 1 0 1 0 1 0 0 0 0 0 0 1 1 0 0 1 0 0 1 1 0 0 0 1\n",
      " 1 0 1 0 0 1 0 0 1 0 0 1 0 0 1 1 0 1 0 0 0 0 0 0 0 0 0 0 0 0 0 0 1 1 0 0 0\n",
      " 0 1 1 1 1 1 0 1 0]\n"
     ]
    }
   ],
   "source": [
    "# Fit the model\n",
    "features = ['Sex', 'Tam_Familia', 'Cabin', 't_idade'] #'t_idade', 'Tam_Familia', 'Cabin']\n",
    "\n",
    "X = train[features]\n",
    "y = train['Survived']\n",
    "# mod = T.DecisionTreeClassifier()\n",
    "# mod = E.GradientBoostingClassifier()\n",
    "mod = E.HistGradientBoostingClassifier()\n",
    "mod.fit(X, y)\n",
    "predict = mod.predict(test[features])\n",
    "df_pred = test.loc[:,['PassengerId']]\n",
    "df_pred['Survived'] = predict\n",
    "if split_train:\n",
    "  print(M.accuracy_score(test['Survived'], predict))\n",
    "print(predict)"
   ]
  },
  {
   "cell_type": "code",
   "execution_count": 140,
   "metadata": {},
   "outputs": [],
   "source": [
    "# Plot the decision tree\n",
    "#plt.figure(figsize=(10, 10))\n",
    "#tree.plot_tree(mod, feature_names=features, class_names=['0', '1'], filled=True)\n",
    "#plt.show()"
   ]
  },
  {
   "cell_type": "code",
   "execution_count": 141,
   "metadata": {},
   "outputs": [],
   "source": [
    "df_pred = test.loc[:,['PassengerId']]\n",
    "df_pred['Survived'] = predict\n",
    "df_pred.to_csv('predict_Classf.csv', index=False) "
   ]
  }
 ],
 "metadata": {
  "kernelspec": {
   "display_name": ".venv",
   "language": "python",
   "name": "python3"
  },
  "language_info": {
   "codemirror_mode": {
    "name": "ipython",
    "version": 3
   },
   "file_extension": ".py",
   "mimetype": "text/x-python",
   "name": "python",
   "nbconvert_exporter": "python",
   "pygments_lexer": "ipython3",
   "version": "3.11.3"
  },
  "orig_nbformat": 4
 },
 "nbformat": 4,
 "nbformat_minor": 2
}
