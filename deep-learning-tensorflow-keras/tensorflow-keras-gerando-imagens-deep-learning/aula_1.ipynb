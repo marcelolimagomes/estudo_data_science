{
 "cells": [
  {
   "cell_type": "markdown",
   "id": "022cd0e9",
   "metadata": {
    "id": "0vyizWCxt91x"
   },
   "source": [
    "# Aula 1 - Criando um gerador"
   ]
  },
  {
   "cell_type": "markdown",
   "id": "3c7f80fb",
   "metadata": {
    "id": "4cCz4y4JuCov"
   },
   "source": [
    "## Vídeo 1.2 - Carregando o fmnist"
   ]
  },
  {
   "cell_type": "code",
   "execution_count": null,
   "id": "2bb053d3",
   "metadata": {},
   "outputs": [],
   "source": [
    "import tensorflow as tf\n",
    "import matplotlib.pyplot as plt\n",
    "import warnings\n",
    "warnings.filterwarnings(\"ignore\")"
   ]
  },
  {
   "cell_type": "code",
   "execution_count": null,
   "id": "6e024e13",
   "metadata": {},
   "outputs": [],
   "source": [
    "tf.__version__"
   ]
  },
  {
   "cell_type": "code",
   "execution_count": null,
   "id": "ae870e74",
   "metadata": {
    "id": "zx9k7PnGt2AY"
   },
   "outputs": [],
   "source": [
    "import tensorflow_datasets as tfds"
   ]
  },
  {
   "cell_type": "code",
   "execution_count": null,
   "id": "5ce03f80",
   "metadata": {
    "id": "tcKJA4fluAfT"
   },
   "outputs": [],
   "source": [
    "# Carregar o dataset Fashion MNIST\n",
    "(train_images, train_labels), _ = tf.keras.datasets.fashion_mnist.load_data()\n",
    "\n",
    "# Normalizar as imagens para o intervalo [-1, 1]\n",
    "train_images = train_images.reshape(train_images.shape[0], 28, 28, 1).astype('float32')\n",
    "train_images = (train_images - 127.5) / 127.5  # Normalizar para [-1, 1]\n",
    "\n",
    "# Definir o batch size e preparar o dataset para treinamento\n",
    "batch_size = 256\n",
    "\n",
    "# Criar o dataset de treino\n",
    "train_ds = tf.data.Dataset.from_tensor_slices(train_images).shuffle(60000).batch(batch_size)"
   ]
  },
  {
   "cell_type": "code",
   "execution_count": null,
   "id": "9700e7fd",
   "metadata": {},
   "outputs": [],
   "source": [
    "# Exibir algumas imagens de exemplo\n",
    "num_images_to_show = 10\n",
    "plt.figure(figsize=(10, 10))\n",
    "for i in range(num_images_to_show):\n",
    "    plt.subplot(1, num_images_to_show, i + 1)\n",
    "    plt.imshow(train_images[i].reshape(28, 28), cmap='gray')\n",
    "    plt.axis('off')\n",
    "plt.show()"
   ]
  },
  {
   "cell_type": "markdown",
   "id": "14e23df9",
   "metadata": {
    "id": "_jShPRfUdKZd"
   },
   "source": [
    "## Vídeo 1.3 - Estruturando um gerador"
   ]
  },
  {
   "cell_type": "code",
   "execution_count": null,
   "id": "437f314c",
   "metadata": {
    "id": "clxKbCZb0Lia"
   },
   "outputs": [],
   "source": [
    "from tensorflow.keras import layers\n",
    "from tensorflow.keras.models import Sequential"
   ]
  },
  {
   "cell_type": "code",
   "execution_count": null,
   "id": "474ea11d",
   "metadata": {
    "id": "VLwsCwkKepwg"
   },
   "outputs": [],
   "source": [
    "def constroi_gerador():\n",
    "    modelo = Sequential()\n",
    "\n",
    "    modelo.add(layers.Input(shape=(100,)))\n",
    "    modelo.add(layers.Dense(7*7*256, use_bias=False))\n",
    "    modelo.add(layers.BatchNormalization())\n",
    "    modelo.add(layers.LeakyReLU())\n",
    "\n",
    "    modelo.add(layers.Reshape((7, 7, 256)))\n",
    "    modelo.add(layers.Conv2DTranspose(128, (5, 5), strides=(1, 1), padding='same', use_bias=False))\n",
    "    modelo.add(layers.BatchNormalization())\n",
    "    modelo.add(layers.LeakyReLU())\n",
    "\n",
    "    modelo.add(layers.Conv2DTranspose(64, (5, 5), strides=(2, 2), padding='same', use_bias=False))\n",
    "    modelo.add(layers.BatchNormalization())\n",
    "    modelo.add(layers.LeakyReLU())\n",
    "\n",
    "    modelo.add(layers.Conv2DTranspose(1, (5, 5), strides=(2, 2), padding='same', use_bias=False, activation='tanh'))\n",
    "\n",
    "    return modelo\n"
   ]
  },
  {
   "cell_type": "markdown",
   "id": "823646e8",
   "metadata": {
    "id": "M5ClnLX-e0lb"
   },
   "source": [
    "## Vídeo 1.4 - Gerando uma imagem"
   ]
  },
  {
   "cell_type": "code",
   "execution_count": null,
   "id": "45275738",
   "metadata": {
    "id": "Ulo-HN3RevHf"
   },
   "outputs": [],
   "source": [
    "# Criação do gerador\n",
    "gerador = constroi_gerador()"
   ]
  },
  {
   "cell_type": "code",
   "execution_count": null,
   "id": "18736412",
   "metadata": {
    "id": "Sunt5us_e6d0"
   },
   "outputs": [],
   "source": [
    "# Gerar Vetor de Ruído\n",
    "dimensao_ruido = 100\n",
    "ruido = tf.random.normal([1, dimensao_ruido])"
   ]
  },
  {
   "cell_type": "code",
   "execution_count": null,
   "id": "8bdcd794",
   "metadata": {
    "id": "wgG6cpNSe7ol"
   },
   "outputs": [],
   "source": [
    "# Gerar imagem a partir do vetor de ruído\n",
    "imagem_gerada = gerador(ruido, training=False)"
   ]
  },
  {
   "cell_type": "code",
   "execution_count": null,
   "id": "46567730",
   "metadata": {
    "colab": {
     "base_uri": "https://localhost:8080/",
     "height": 406
    },
    "id": "L7dztwv6e9gR",
    "outputId": "e2f42702-b20f-4e9c-da1e-3f94e79589df"
   },
   "outputs": [],
   "source": [
    "# Visualizar a imagem gerada\n",
    "import matplotlib.pyplot as plt\n",
    "plt.imshow((imagem_gerada[0] * 127.5 + 127.5).numpy())\n",
    "plt.axis('off')\n",
    "plt.show()"
   ]
  }
 ],
 "metadata": {
  "kernelspec": {
   "display_name": "tf215",
   "language": "python",
   "name": "python3"
  },
  "language_info": {
   "codemirror_mode": {
    "name": "ipython",
    "version": 3
   },
   "file_extension": ".py",
   "mimetype": "text/x-python",
   "name": "python",
   "nbconvert_exporter": "python",
   "pygments_lexer": "ipython3",
   "version": "3.10.14"
  }
 },
 "nbformat": 4,
 "nbformat_minor": 5
}
