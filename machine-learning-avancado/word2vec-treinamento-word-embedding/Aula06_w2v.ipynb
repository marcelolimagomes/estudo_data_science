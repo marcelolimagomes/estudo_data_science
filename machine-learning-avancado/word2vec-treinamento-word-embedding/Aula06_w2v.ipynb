{
  "cells": [
    {
      "cell_type": "code",
      "execution_count": 1,
      "metadata": {
        "colab": {
          "base_uri": "https://localhost:8080/",
          "height": 619
        },
        "colab_type": "code",
        "id": "lwFC0pOSITsz",
        "outputId": "f5b6b875-ef14-4389-dbfb-6fe5cbb25fac"
      },
      "outputs": [
        {
          "name": "stdout",
          "output_type": "stream",
          "text": [
            "Collecting pt-core-news-sm==3.7.0\n",
            "  Downloading https://github.com/explosion/spacy-models/releases/download/pt_core_news_sm-3.7.0/pt_core_news_sm-3.7.0-py3-none-any.whl (13.0 MB)\n",
            "\u001b[2K     \u001b[38;2;114;156;31m━━━━━━━━━━━━━━━━━━━━━━━━━━━━━━━━━━━━━━━━\u001b[0m \u001b[32m13.0/13.0 MB\u001b[0m \u001b[31m74.7 MB/s\u001b[0m eta \u001b[36m0:00:00\u001b[0m31m57.8 MB/s\u001b[0m eta \u001b[36m0:00:01\u001b[0m\n",
            "\u001b[?25hRequirement already satisfied: spacy<3.8.0,>=3.7.0 in /home/marcelo/miniconda3/envs/rapids-24.04/lib/python3.11/site-packages (from pt-core-news-sm==3.7.0) (3.7.2)\n",
            "Requirement already satisfied: spacy-legacy<3.1.0,>=3.0.11 in /home/marcelo/miniconda3/envs/rapids-24.04/lib/python3.11/site-packages (from spacy<3.8.0,>=3.7.0->pt-core-news-sm==3.7.0) (3.0.12)\n",
            "Requirement already satisfied: spacy-loggers<2.0.0,>=1.0.0 in /home/marcelo/miniconda3/envs/rapids-24.04/lib/python3.11/site-packages (from spacy<3.8.0,>=3.7.0->pt-core-news-sm==3.7.0) (1.0.4)\n",
            "Requirement already satisfied: murmurhash<1.1.0,>=0.28.0 in /home/marcelo/miniconda3/envs/rapids-24.04/lib/python3.11/site-packages (from spacy<3.8.0,>=3.7.0->pt-core-news-sm==3.7.0) (1.0.7)\n",
            "Requirement already satisfied: cymem<2.1.0,>=2.0.2 in /home/marcelo/miniconda3/envs/rapids-24.04/lib/python3.11/site-packages (from spacy<3.8.0,>=3.7.0->pt-core-news-sm==3.7.0) (2.0.6)\n",
            "Requirement already satisfied: preshed<3.1.0,>=3.0.2 in /home/marcelo/miniconda3/envs/rapids-24.04/lib/python3.11/site-packages (from spacy<3.8.0,>=3.7.0->pt-core-news-sm==3.7.0) (3.0.6)\n",
            "Requirement already satisfied: thinc<8.3.0,>=8.1.8 in /home/marcelo/miniconda3/envs/rapids-24.04/lib/python3.11/site-packages (from spacy<3.8.0,>=3.7.0->pt-core-news-sm==3.7.0) (8.2.2)\n",
            "Requirement already satisfied: wasabi<1.2.0,>=0.9.1 in /home/marcelo/miniconda3/envs/rapids-24.04/lib/python3.11/site-packages (from spacy<3.8.0,>=3.7.0->pt-core-news-sm==3.7.0) (0.9.1)\n",
            "Requirement already satisfied: srsly<3.0.0,>=2.4.3 in /home/marcelo/miniconda3/envs/rapids-24.04/lib/python3.11/site-packages (from spacy<3.8.0,>=3.7.0->pt-core-news-sm==3.7.0) (2.4.8)\n",
            "Requirement already satisfied: catalogue<2.1.0,>=2.0.6 in /home/marcelo/miniconda3/envs/rapids-24.04/lib/python3.11/site-packages (from spacy<3.8.0,>=3.7.0->pt-core-news-sm==3.7.0) (2.0.10)\n",
            "Requirement already satisfied: weasel<0.4.0,>=0.1.0 in /home/marcelo/miniconda3/envs/rapids-24.04/lib/python3.11/site-packages (from spacy<3.8.0,>=3.7.0->pt-core-news-sm==3.7.0) (0.3.4)\n",
            "Requirement already satisfied: typer<0.10.0,>=0.3.0 in /home/marcelo/miniconda3/envs/rapids-24.04/lib/python3.11/site-packages (from spacy<3.8.0,>=3.7.0->pt-core-news-sm==3.7.0) (0.9.0)\n",
            "Requirement already satisfied: smart-open<7.0.0,>=5.2.1 in /home/marcelo/miniconda3/envs/rapids-24.04/lib/python3.11/site-packages (from spacy<3.8.0,>=3.7.0->pt-core-news-sm==3.7.0) (5.2.1)\n",
            "Requirement already satisfied: tqdm<5.0.0,>=4.38.0 in /home/marcelo/miniconda3/envs/rapids-24.04/lib/python3.11/site-packages (from spacy<3.8.0,>=3.7.0->pt-core-news-sm==3.7.0) (4.66.2)\n",
            "Requirement already satisfied: requests<3.0.0,>=2.13.0 in /home/marcelo/miniconda3/envs/rapids-24.04/lib/python3.11/site-packages (from spacy<3.8.0,>=3.7.0->pt-core-news-sm==3.7.0) (2.31.0)\n",
            "Requirement already satisfied: pydantic!=1.8,!=1.8.1,<3.0.0,>=1.7.4 in /home/marcelo/miniconda3/envs/rapids-24.04/lib/python3.11/site-packages (from spacy<3.8.0,>=3.7.0->pt-core-news-sm==3.7.0) (2.5.3)\n",
            "Requirement already satisfied: jinja2 in /home/marcelo/miniconda3/envs/rapids-24.04/lib/python3.11/site-packages (from spacy<3.8.0,>=3.7.0->pt-core-news-sm==3.7.0) (3.1.3)\n",
            "Requirement already satisfied: setuptools in /home/marcelo/miniconda3/envs/rapids-24.04/lib/python3.11/site-packages (from spacy<3.8.0,>=3.7.0->pt-core-news-sm==3.7.0) (69.5.1)\n",
            "Requirement already satisfied: packaging>=20.0 in /home/marcelo/miniconda3/envs/rapids-24.04/lib/python3.11/site-packages (from spacy<3.8.0,>=3.7.0->pt-core-news-sm==3.7.0) (24.0)\n",
            "Requirement already satisfied: langcodes<4.0.0,>=3.2.0 in /home/marcelo/miniconda3/envs/rapids-24.04/lib/python3.11/site-packages (from spacy<3.8.0,>=3.7.0->pt-core-news-sm==3.7.0) (3.3.0)\n",
            "Requirement already satisfied: numpy>=1.19.0 in /home/marcelo/miniconda3/envs/rapids-24.04/lib/python3.11/site-packages (from spacy<3.8.0,>=3.7.0->pt-core-news-sm==3.7.0) (1.26.4)\n",
            "Requirement already satisfied: annotated-types>=0.4.0 in /home/marcelo/miniconda3/envs/rapids-24.04/lib/python3.11/site-packages (from pydantic!=1.8,!=1.8.1,<3.0.0,>=1.7.4->spacy<3.8.0,>=3.7.0->pt-core-news-sm==3.7.0) (0.6.0)\n",
            "Requirement already satisfied: pydantic-core==2.14.6 in /home/marcelo/miniconda3/envs/rapids-24.04/lib/python3.11/site-packages (from pydantic!=1.8,!=1.8.1,<3.0.0,>=1.7.4->spacy<3.8.0,>=3.7.0->pt-core-news-sm==3.7.0) (2.14.6)\n",
            "Requirement already satisfied: typing-extensions>=4.6.1 in /home/marcelo/miniconda3/envs/rapids-24.04/lib/python3.11/site-packages (from pydantic!=1.8,!=1.8.1,<3.0.0,>=1.7.4->spacy<3.8.0,>=3.7.0->pt-core-news-sm==3.7.0) (4.11.0)\n",
            "Requirement already satisfied: charset-normalizer<4,>=2 in /home/marcelo/miniconda3/envs/rapids-24.04/lib/python3.11/site-packages (from requests<3.0.0,>=2.13.0->spacy<3.8.0,>=3.7.0->pt-core-news-sm==3.7.0) (3.3.2)\n",
            "Requirement already satisfied: idna<4,>=2.5 in /home/marcelo/miniconda3/envs/rapids-24.04/lib/python3.11/site-packages (from requests<3.0.0,>=2.13.0->spacy<3.8.0,>=3.7.0->pt-core-news-sm==3.7.0) (3.7)\n",
            "Requirement already satisfied: urllib3<3,>=1.21.1 in /home/marcelo/miniconda3/envs/rapids-24.04/lib/python3.11/site-packages (from requests<3.0.0,>=2.13.0->spacy<3.8.0,>=3.7.0->pt-core-news-sm==3.7.0) (1.26.18)\n",
            "Requirement already satisfied: certifi>=2017.4.17 in /home/marcelo/miniconda3/envs/rapids-24.04/lib/python3.11/site-packages (from requests<3.0.0,>=2.13.0->spacy<3.8.0,>=3.7.0->pt-core-news-sm==3.7.0) (2024.2.2)\n",
            "Requirement already satisfied: blis<0.8.0,>=0.7.8 in /home/marcelo/miniconda3/envs/rapids-24.04/lib/python3.11/site-packages (from thinc<8.3.0,>=8.1.8->spacy<3.8.0,>=3.7.0->pt-core-news-sm==3.7.0) (0.7.9)\n",
            "Requirement already satisfied: confection<1.0.0,>=0.0.1 in /home/marcelo/miniconda3/envs/rapids-24.04/lib/python3.11/site-packages (from thinc<8.3.0,>=8.1.8->spacy<3.8.0,>=3.7.0->pt-core-news-sm==3.7.0) (0.1.4)\n",
            "Requirement already satisfied: click<9.0.0,>=7.1.1 in /home/marcelo/miniconda3/envs/rapids-24.04/lib/python3.11/site-packages (from typer<0.10.0,>=0.3.0->spacy<3.8.0,>=3.7.0->pt-core-news-sm==3.7.0) (8.1.7)\n",
            "Requirement already satisfied: cloudpathlib<0.17.0,>=0.7.0 in /home/marcelo/miniconda3/envs/rapids-24.04/lib/python3.11/site-packages (from weasel<0.4.0,>=0.1.0->spacy<3.8.0,>=3.7.0->pt-core-news-sm==3.7.0) (0.16.0)\n",
            "Requirement already satisfied: MarkupSafe>=2.0 in /home/marcelo/miniconda3/envs/rapids-24.04/lib/python3.11/site-packages (from jinja2->spacy<3.8.0,>=3.7.0->pt-core-news-sm==3.7.0) (2.1.5)\n",
            "\u001b[38;5;2m✔ Download and installation successful\u001b[0m\n",
            "You can now load the package via spacy.load('pt_core_news_sm')\n"
          ]
        }
      ],
      "source": [
        "!python -m spacy download pt_core_news_sm"
      ]
    },
    {
      "cell_type": "code",
      "execution_count": 2,
      "metadata": {
        "colab": {
          "base_uri": "https://localhost:8080/",
          "height": 74
        },
        "colab_type": "code",
        "id": "kmUZvse1UCVb",
        "outputId": "2e2aa1b8-a0d1-4f28-8244-046ea458d42a"
      },
      "outputs": [],
      "source": [
        "import numpy as np\n",
        "import pandas as pd\n",
        "from gensim.models import KeyedVectors\n",
        "import spacy"
      ]
    },
    {
      "cell_type": "code",
      "execution_count": 3,
      "metadata": {},
      "outputs": [
        {
          "name": "stdout",
          "output_type": "stream",
          "text": [
            "True\n"
          ]
        }
      ],
      "source": [
        "gpu = spacy.require_gpu()\n",
        "print(gpu)"
      ]
    },
    {
      "cell_type": "code",
      "execution_count": 4,
      "metadata": {},
      "outputs": [],
      "source": [
        "w2v_modelo_cbow = KeyedVectors.load_word2vec_format(\"modelo_cbow.txt\")\n",
        "w2v_modelo_sg = KeyedVectors.load_word2vec_format(\"modelo_skipgram.txt\")"
      ]
    },
    {
      "cell_type": "code",
      "execution_count": 5,
      "metadata": {},
      "outputs": [],
      "source": [
        "# download ==> https://cdn3.gnarususercontent.com.br/1638-word-embedding/treino.csv\n",
        "artigo_treino = pd.read_csv(\"../introducao-word-embedding/treino.csv\")"
      ]
    },
    {
      "cell_type": "code",
      "execution_count": 6,
      "metadata": {},
      "outputs": [],
      "source": [
        "# download ==> https://cdn3.gnarususercontent.com.br/1638-word-embedding/teste.csv\n",
        "artigo_teste = pd.read_csv(\"../introducao-word-embedding/teste.csv\")"
      ]
    },
    {
      "cell_type": "code",
      "execution_count": 7,
      "metadata": {
        "colab": {
          "base_uri": "https://localhost:8080/",
          "height": 35
        },
        "colab_type": "code",
        "id": "0X5lI4-NSlRI",
        "outputId": "04266ca0-0d79-4016-877a-7b66480859e4"
      },
      "outputs": [
        {
          "name": "stdout",
          "output_type": "stream",
          "text": [
            "['rio', 'janeiro', 'cidade', 'maravilhosa']\n"
          ]
        }
      ],
      "source": [
        "nlp = spacy.load(\"pt_core_news_sm\", disable=[\"paser\", \"ner\", \"tagger\", \"textcat\"])\n",
        "\n",
        "\n",
        "def tokenizador(texto):\n",
        "\n",
        "  doc = nlp(texto)\n",
        "  tokens_validos = []\n",
        "  for token in doc:\n",
        "    e_valido = not token.is_stop and token.is_alpha\n",
        "    if e_valido:\n",
        "      tokens_validos.append(token.text.lower())\n",
        "\n",
        "  return tokens_validos\n",
        "\n",
        "\n",
        "texto = \"Rio de Janeiro 1231231 ***** @#$ é uma cidade maravilhosa!\"\n",
        "tokens = tokenizador(texto)\n",
        "print(tokens)"
      ]
    },
    {
      "cell_type": "code",
      "execution_count": 8,
      "metadata": {
        "colab": {
          "base_uri": "https://localhost:8080/",
          "height": 1000
        },
        "colab_type": "code",
        "id": "2_GCypILSVga",
        "outputId": "012711bc-b25b-41fe-ec06-188041c70091"
      },
      "outputs": [
        {
          "name": "stdout",
          "output_type": "stream",
          "text": [
            "(1, 300)\n",
            "[[-0.09780841  0.72173606  1.17411296 -1.873606    0.51987721  0.61661435\n",
            "  -1.61286213  0.51550058  0.53943124 -0.99019702  0.16840574  0.39348035\n",
            "  -0.89807041  0.37288859 -0.34885275 -1.80139849 -0.51982439 -1.18210216\n",
            "   1.57076284  0.24765467 -0.50578925 -1.43960032 -0.84900111  0.27550486\n",
            "  -0.25298117 -1.28743054  0.74339657  0.17569856  0.26850486  1.772517\n",
            "  -0.48592576 -2.60330783 -0.9228661   2.11483273  1.89938051 -0.10421474\n",
            "  -2.35170341 -1.98561734  1.29381786 -1.37437777  0.03397854  1.07148281\n",
            "   1.76533729 -1.11733511 -1.92881085 -0.582232    2.85874599 -0.68514413\n",
            "   1.4712524  -1.10186845 -1.78599739 -1.08320673  0.5267058  -1.0612969\n",
            "  -0.96316433  0.51537016  1.28116336 -1.17951236  2.67347413  0.98597488\n",
            "  -1.08900992 -2.37568307  1.14141631 -1.42069571  1.24463308  0.02878949\n",
            "   0.40156133  1.39224318  0.59681375 -0.71936318  0.71016029  2.68591028\n",
            "  -0.10795755 -0.07201315  0.95919481  0.49248065  0.94213992  0.35911627\n",
            "  -2.4872793   0.57996921 -0.8703493   2.06136921 -0.56315665  0.89829605\n",
            "  -0.30710405 -1.00448312  0.01617762 -0.0238162   0.45318815  0.19261967\n",
            "  -0.2065461  -0.20561035 -0.93531802 -1.45499262 -0.3844071   2.09266037\n",
            "   1.63053554  0.60634825 -0.12577742  2.03608744  0.63004269  1.02634299\n",
            "  -0.13303551  0.1762124  -1.05974225  1.54858194 -0.52342594  1.0708572\n",
            "  -1.12799384  0.29498558 -0.46339079 -0.31261054 -0.23668402 -0.94853915\n",
            "   0.85253674  0.42176782  0.22256833 -1.09532838 -1.34447873 -0.89339578\n",
            "   1.71376571 -0.48261276  0.54867804  1.5951373   0.16538523  4.44491386\n",
            "  -2.06098625 -2.04892985 -0.25710014  5.36904228  3.00613165  0.06392711\n",
            "   2.28209922 -0.4844611   0.25516361 -2.31218341 -1.08018559  2.09126211\n",
            "  -0.37991604 -0.19522103 -1.68941765 -1.32816736  2.04302952  1.51382793\n",
            "   0.95737556 -2.09353485 -1.07621454 -0.172829    0.91381039  0.89127394\n",
            "  -0.63837279 -3.2772987  -1.68459834 -0.79700568  1.07902316  0.48242691\n",
            "   0.55592687  0.98130772 -0.69351427  3.92215055  0.95747776  0.77766859\n",
            "   2.35529447 -0.8226293   1.85486026  0.73535441 -0.65812628  0.95922536\n",
            "  -0.09492514  0.36067219  0.23147035 -0.5318118  -0.8804711  -0.34812596\n",
            "   1.85181564  1.02586776  1.49271959  1.30457321  1.51964924 -0.43915549\n",
            "   1.18043136 -0.68129517  0.18844903 -1.05788387  0.8761051   0.33431733\n",
            "   0.44073351  1.71285706  1.33375515 -0.95019012 -0.06660283  2.02960569\n",
            "  -0.10521433  0.18864044 -2.44911897  0.699648    1.21822595 -0.43711225\n",
            "   1.00464673  0.39531738 -1.64006782  1.15834718  0.02552446  1.20600507\n",
            "   0.96520993 -0.46965799  2.01604816  1.85916511  1.66568649 -2.25906917\n",
            "  -0.68841618 -0.86148506 -1.98503295 -0.65048048 -0.42122865 -0.46994698\n",
            "   1.35173982 -0.45099321 -0.84345363 -2.2595045  -0.44984886  1.55590737\n",
            "   0.94216108 -0.91149508 -2.31689075  1.98725814  1.12077187 -1.61492695\n",
            "  -1.50178131 -0.52000734 -1.65686479 -1.32205325  0.1127224  -0.60431045\n",
            "  -1.38445616 -2.27435568 -0.94483896 -2.07629491 -0.25542575  0.1968623\n",
            "   1.23977701  0.54376446  1.38955279 -1.78604203  2.57262237 -0.88459063\n",
            "  -0.70238708 -0.03710425 -0.98591477 -2.07292711  0.80756273  1.91771948\n",
            "   3.10133719 -1.76962733 -0.60995393 -1.79168306  1.08661562 -1.03852659\n",
            "  -3.66561365 -2.25188321 -0.16660917 -0.03092179  0.4283032  -0.08937987\n",
            "  -0.29605013 -1.42725918 -0.33290656 -0.82450557 -4.74958941 -4.04740125\n",
            "  -2.0467339   2.73934858  0.17984368  0.78262545 -0.10595754  0.01978943\n",
            "   2.64575171  1.23151457 -0.74698742 -1.08280063 -1.54526953 -0.12853304\n",
            "  -1.71409677  1.65983005  3.17437039  0.13573714 -1.55038756 -2.0297873\n",
            "  -0.2600017  -1.15134317 -0.05252981  1.76666567  0.63322179  1.79866348\n",
            "   0.86211102 -0.81355632  0.93221543  1.26814802  1.06358937  1.16614532]]\n"
          ]
        }
      ],
      "source": [
        "def combinacao_de_vetores_por_soma(palavras, modelo):\n",
        "\n",
        "  vetor_resultante = np.zeros((1, 300))\n",
        "\n",
        "  for pn in palavras:\n",
        "    try:\n",
        "      vetor_resultante += modelo.get_vector(pn)\n",
        "\n",
        "    except KeyError:\n",
        "      pass\n",
        "\n",
        "  return vetor_resultante\n",
        "\n",
        "\n",
        "vetor_texto = combinacao_de_vetores_por_soma(tokens, w2v_modelo_cbow)\n",
        "print(vetor_texto.shape)\n",
        "print(vetor_texto)"
      ]
    },
    {
      "cell_type": "code",
      "execution_count": 9,
      "metadata": {
        "colab": {
          "base_uri": "https://localhost:8080/",
          "height": 54
        },
        "colab_type": "code",
        "id": "CSXjHM9sSQY8",
        "outputId": "74f5a18c-daed-40ee-cd07-b3a80806086f"
      },
      "outputs": [],
      "source": [
        "def matriz_vetores(textos, modelo):\n",
        "  x = len(textos)\n",
        "  y = 300\n",
        "  matriz = np.zeros((x, y))\n",
        "\n",
        "  for i in range(x):\n",
        "    palavras = tokenizador(textos.iloc[i])\n",
        "    matriz[i] = combinacao_de_vetores_por_soma(palavras, modelo)\n",
        "\n",
        "  return matriz"
      ]
    },
    {
      "cell_type": "code",
      "execution_count": 10,
      "metadata": {},
      "outputs": [],
      "source": [
        "matriz_vetores_treino_cbow = matriz_vetores(artigo_treino.title, w2v_modelo_cbow)"
      ]
    },
    {
      "cell_type": "code",
      "execution_count": 11,
      "metadata": {},
      "outputs": [],
      "source": [
        "matriz_vetores_teste_cbow = matriz_vetores(artigo_teste.title, w2v_modelo_cbow)"
      ]
    },
    {
      "cell_type": "code",
      "execution_count": 12,
      "metadata": {},
      "outputs": [
        {
          "name": "stdout",
          "output_type": "stream",
          "text": [
            "(90000, 300)\n",
            "(20513, 300)\n"
          ]
        }
      ],
      "source": [
        "print(matriz_vetores_treino_cbow.shape)\n",
        "print(matriz_vetores_teste_cbow.shape)"
      ]
    },
    {
      "cell_type": "code",
      "execution_count": 13,
      "metadata": {
        "colab": {
          "base_uri": "https://localhost:8080/",
          "height": 254
        },
        "colab_type": "code",
        "id": "tr5VDmj3lkf0",
        "outputId": "bd25ca15-9b5f-43cb-dab1-00df472b69b4"
      },
      "outputs": [
        {
          "name": "stdout",
          "output_type": "stream",
          "text": [
            "              precision    recall  f1-score   support\n",
            "\n",
            "     colunas       0.80      0.71      0.75      6103\n",
            "   cotidiano       0.64      0.80      0.71      1698\n",
            "     esporte       0.93      0.86      0.89      4663\n",
            "   ilustrada       0.13      0.85      0.23       131\n",
            "     mercado       0.84      0.78      0.81      5867\n",
            "       mundo       0.74      0.83      0.79      2051\n",
            "\n",
            "    accuracy                           0.79     20513\n",
            "   macro avg       0.68      0.81      0.70     20513\n",
            "weighted avg       0.82      0.79      0.80     20513\n",
            "\n"
          ]
        }
      ],
      "source": [
        "from sklearn.linear_model import LogisticRegression\n",
        "from sklearn.metrics import classification_report\n",
        "\n",
        "\n",
        "def classificador(modelo, x_treino, y_treino, x_teste, y_teste):\n",
        "\n",
        "  RL = LogisticRegression(max_iter=800)\n",
        "  RL.fit(x_treino, y_treino)\n",
        "  categorias = RL.predict(x_teste)\n",
        "  resultados = classification_report(y_teste, categorias)\n",
        "  print(resultados)\n",
        "\n",
        "  return RL\n",
        "\n",
        "\n",
        "RL_cbow = classificador(\n",
        "    w2v_modelo_cbow,\n",
        "    matriz_vetores_treino_cbow,\n",
        "    artigo_treino.category,\n",
        "    matriz_vetores_teste_cbow,\n",
        "    artigo_teste.category,\n",
        ")"
      ]
    },
    {
      "cell_type": "code",
      "execution_count": 14,
      "metadata": {
        "colab": {
          "base_uri": "https://localhost:8080/",
          "height": 254
        },
        "colab_type": "code",
        "id": "WlKOJ9AGsseD",
        "outputId": "120d2f70-2fb9-4c7d-eb46-761e9ac35939"
      },
      "outputs": [
        {
          "name": "stdout",
          "output_type": "stream",
          "text": [
            "              precision    recall  f1-score   support\n",
            "\n",
            "     colunas       0.81      0.71      0.76      6103\n",
            "   cotidiano       0.65      0.81      0.72      1698\n",
            "     esporte       0.93      0.87      0.90      4663\n",
            "   ilustrada       0.14      0.87      0.24       131\n",
            "     mercado       0.84      0.79      0.82      5867\n",
            "       mundo       0.76      0.84      0.80      2051\n",
            "\n",
            "    accuracy                           0.79     20513\n",
            "   macro avg       0.69      0.82      0.70     20513\n",
            "weighted avg       0.82      0.79      0.80     20513\n",
            "\n"
          ]
        }
      ],
      "source": [
        "matriz_vetores_treino_sg = matriz_vetores(artigo_treino.title, w2v_modelo_sg)\n",
        "matriz_vetores_teste_sg = matriz_vetores(artigo_teste.title, w2v_modelo_sg)\n",
        "\n",
        "RL_sg = classificador(\n",
        "    w2v_modelo_sg,\n",
        "    matriz_vetores_treino_sg,\n",
        "    artigo_treino.category,\n",
        "    matriz_vetores_teste_sg,\n",
        "    artigo_teste.category,\n",
        ")"
      ]
    },
    {
      "cell_type": "code",
      "execution_count": 15,
      "metadata": {
        "colab": {},
        "colab_type": "code",
        "id": "q8mAwV5ctfxI"
      },
      "outputs": [],
      "source": [
        "import pickle\n",
        "\n",
        "with open(\"rl_cbow.pkl\", \"wb\") as f:\n",
        "    pickle.dump(RL_cbow, f)"
      ]
    },
    {
      "cell_type": "code",
      "execution_count": 16,
      "metadata": {
        "colab": {},
        "colab_type": "code",
        "id": "1Y6OxXfNwzuz"
      },
      "outputs": [],
      "source": [
        "with open(\"rl_sg.pkl\", \"wb\") as f:\n",
        "    pickle.dump(RL_sg, f)"
      ]
    }
  ],
  "metadata": {
    "colab": {
      "name": "Aula06_w2v.ipynb",
      "provenance": []
    },
    "kernelspec": {
      "display_name": "Python 3",
      "name": "python3"
    },
    "language_info": {
      "codemirror_mode": {
        "name": "ipython",
        "version": 3
      },
      "file_extension": ".py",
      "mimetype": "text/x-python",
      "name": "python",
      "nbconvert_exporter": "python",
      "pygments_lexer": "ipython3",
      "version": "3.11.9"
    }
  },
  "nbformat": 4,
  "nbformat_minor": 0
}
