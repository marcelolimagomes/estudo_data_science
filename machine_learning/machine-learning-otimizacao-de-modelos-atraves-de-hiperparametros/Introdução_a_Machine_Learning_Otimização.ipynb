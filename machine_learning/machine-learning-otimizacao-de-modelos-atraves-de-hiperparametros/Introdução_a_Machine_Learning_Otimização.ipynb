{
  "cells": [
    {
      "cell_type": "code",
      "execution_count": null,
      "metadata": {
        "colab": {
          "base_uri": "https://localhost:8080/",
          "height": 339
        },
        "colab_type": "code",
        "id": "yku6GxC9PujF",
        "outputId": "03c85f56-cc2c-44cc-f4e0-2ef493d04e05"
      },
      "outputs": [],
      "source": [
        "%pip install graphviz\n",
        "%pip install pydot\n",
        "%pip install seaborn\n",
        "\n",
        "#!apt-get install graphviz"
      ]
    },
    {
      "cell_type": "code",
      "execution_count": 4,
      "metadata": {
        "colab": {
          "base_uri": "https://localhost:8080/",
          "height": 195
        },
        "colab_type": "code",
        "id": "y7ik04NlDZMA",
        "outputId": "3e60f174-f855-49bd-d378-60b6d840638b"
      },
      "outputs": [
        {
          "data": {
            "text/html": [
              "<div>\n",
              "<style scoped>\n",
              "    .dataframe tbody tr th:only-of-type {\n",
              "        vertical-align: middle;\n",
              "    }\n",
              "\n",
              "    .dataframe tbody tr th {\n",
              "        vertical-align: top;\n",
              "    }\n",
              "\n",
              "    .dataframe thead th {\n",
              "        text-align: right;\n",
              "    }\n",
              "</style>\n",
              "<table border=\"1\" class=\"dataframe\">\n",
              "  <thead>\n",
              "    <tr style=\"text-align: right;\">\n",
              "      <th></th>\n",
              "      <th>preco</th>\n",
              "      <th>vendido</th>\n",
              "      <th>idade_do_modelo</th>\n",
              "      <th>km_por_ano</th>\n",
              "    </tr>\n",
              "  </thead>\n",
              "  <tbody>\n",
              "    <tr>\n",
              "      <th>0</th>\n",
              "      <td>30941.02</td>\n",
              "      <td>1</td>\n",
              "      <td>18</td>\n",
              "      <td>35085.22134</td>\n",
              "    </tr>\n",
              "    <tr>\n",
              "      <th>1</th>\n",
              "      <td>40557.96</td>\n",
              "      <td>1</td>\n",
              "      <td>20</td>\n",
              "      <td>12622.05362</td>\n",
              "    </tr>\n",
              "    <tr>\n",
              "      <th>2</th>\n",
              "      <td>89627.50</td>\n",
              "      <td>0</td>\n",
              "      <td>12</td>\n",
              "      <td>11440.79806</td>\n",
              "    </tr>\n",
              "    <tr>\n",
              "      <th>3</th>\n",
              "      <td>95276.14</td>\n",
              "      <td>0</td>\n",
              "      <td>3</td>\n",
              "      <td>43167.32682</td>\n",
              "    </tr>\n",
              "    <tr>\n",
              "      <th>4</th>\n",
              "      <td>117384.68</td>\n",
              "      <td>1</td>\n",
              "      <td>4</td>\n",
              "      <td>12770.11290</td>\n",
              "    </tr>\n",
              "  </tbody>\n",
              "</table>\n",
              "</div>"
            ],
            "text/plain": [
              "       preco  vendido  idade_do_modelo   km_por_ano\n",
              "0   30941.02        1               18  35085.22134\n",
              "1   40557.96        1               20  12622.05362\n",
              "2   89627.50        0               12  11440.79806\n",
              "3   95276.14        0                3  43167.32682\n",
              "4  117384.68        1                4  12770.11290"
            ]
          },
          "execution_count": 4,
          "metadata": {},
          "output_type": "execute_result"
        }
      ],
      "source": [
        "import pandas as pd\n",
        "\n",
        "uri = \"machine-learning-carros-simulacao.csv\"\n",
        "dados = pd.read_csv(uri).drop(columns=[\"Unnamed: 0\"], axis=1)\n",
        "dados.head()"
      ]
    },
    {
      "cell_type": "code",
      "execution_count": 5,
      "metadata": {
        "colab": {
          "base_uri": "https://localhost:8080/",
          "height": 195
        },
        "colab_type": "code",
        "id": "b52E4e1hjegN",
        "outputId": "46e32461-13ce-4b78-d64f-96e0a89576ba"
      },
      "outputs": [
        {
          "data": {
            "text/html": [
              "<div>\n",
              "<style scoped>\n",
              "    .dataframe tbody tr th:only-of-type {\n",
              "        vertical-align: middle;\n",
              "    }\n",
              "\n",
              "    .dataframe tbody tr th {\n",
              "        vertical-align: top;\n",
              "    }\n",
              "\n",
              "    .dataframe thead th {\n",
              "        text-align: right;\n",
              "    }\n",
              "</style>\n",
              "<table border=\"1\" class=\"dataframe\">\n",
              "  <thead>\n",
              "    <tr style=\"text-align: right;\">\n",
              "      <th></th>\n",
              "      <th>preco</th>\n",
              "      <th>vendido</th>\n",
              "      <th>idade_do_modelo</th>\n",
              "      <th>km_por_ano</th>\n",
              "    </tr>\n",
              "  </thead>\n",
              "  <tbody>\n",
              "    <tr>\n",
              "      <th>4999</th>\n",
              "      <td>74023.29</td>\n",
              "      <td>0</td>\n",
              "      <td>12</td>\n",
              "      <td>24812.80412</td>\n",
              "    </tr>\n",
              "    <tr>\n",
              "      <th>5322</th>\n",
              "      <td>84843.49</td>\n",
              "      <td>0</td>\n",
              "      <td>13</td>\n",
              "      <td>23095.63834</td>\n",
              "    </tr>\n",
              "    <tr>\n",
              "      <th>5319</th>\n",
              "      <td>83100.27</td>\n",
              "      <td>0</td>\n",
              "      <td>19</td>\n",
              "      <td>36240.72746</td>\n",
              "    </tr>\n",
              "    <tr>\n",
              "      <th>5316</th>\n",
              "      <td>87932.13</td>\n",
              "      <td>0</td>\n",
              "      <td>16</td>\n",
              "      <td>32249.56426</td>\n",
              "    </tr>\n",
              "    <tr>\n",
              "      <th>5315</th>\n",
              "      <td>77937.01</td>\n",
              "      <td>0</td>\n",
              "      <td>15</td>\n",
              "      <td>28414.50704</td>\n",
              "    </tr>\n",
              "  </tbody>\n",
              "</table>\n",
              "</div>"
            ],
            "text/plain": [
              "         preco  vendido  idade_do_modelo   km_por_ano\n",
              "4999  74023.29        0               12  24812.80412\n",
              "5322  84843.49        0               13  23095.63834\n",
              "5319  83100.27        0               19  36240.72746\n",
              "5316  87932.13        0               16  32249.56426\n",
              "5315  77937.01        0               15  28414.50704"
            ]
          },
          "execution_count": 5,
          "metadata": {},
          "output_type": "execute_result"
        }
      ],
      "source": [
        "# situação horrível de \"azar\" onde as classes estão ordenadas por padrão\n",
        "\n",
        "dados_azar = dados.sort_values(\"vendido\", ascending=True)\n",
        "x_azar = dados_azar[[\"preco\", \"idade_do_modelo\",\"km_por_ano\"]]\n",
        "y_azar = dados_azar[\"vendido\"]\n",
        "dados_azar.head()"
      ]
    },
    {
      "cell_type": "code",
      "execution_count": 6,
      "metadata": {
        "colab": {
          "base_uri": "https://localhost:8080/",
          "height": 34
        },
        "colab_type": "code",
        "id": "ZNT26vFEeYmz",
        "outputId": "5cd367dd-e297-40cc-c81d-e09bbc7bf41f"
      },
      "outputs": [
        {
          "name": "stdout",
          "output_type": "stream",
          "text": [
            "Accuracy com dummy stratified, 10 = [58.00, 58.00]\n"
          ]
        }
      ],
      "source": [
        "from sklearn.model_selection import cross_validate\n",
        "from sklearn.dummy import DummyClassifier\n",
        "import numpy as np\n",
        "\n",
        "SEED = 301\n",
        "np.random.seed(SEED)\n",
        "\n",
        "modelo = DummyClassifier()\n",
        "results = cross_validate(modelo, x_azar, y_azar, cv = 10, return_train_score=False)\n",
        "media = results['test_score'].mean()\n",
        "desvio_padrao = results['test_score'].std()\n",
        "print(\"Accuracy com dummy stratified, 10 = [%.2f, %.2f]\" % ((media - 2 * desvio_padrao)*100, (media + 2 * desvio_padrao) * 100))"
      ]
    },
    {
      "cell_type": "code",
      "execution_count": 7,
      "metadata": {
        "colab": {
          "base_uri": "https://localhost:8080/",
          "height": 34
        },
        "colab_type": "code",
        "id": "73mCcFA_eG_K",
        "outputId": "6f585741-6e82-4e9e-9d6a-d74ed8224503"
      },
      "outputs": [
        {
          "name": "stdout",
          "output_type": "stream",
          "text": [
            "Accuracy com cross validation, 10 = [73.83, 77.73]\n"
          ]
        }
      ],
      "source": [
        "from sklearn.model_selection import cross_validate\n",
        "from sklearn.tree import DecisionTreeClassifier\n",
        "\n",
        "SEED = 301\n",
        "np.random.seed(SEED)\n",
        "\n",
        "modelo = DecisionTreeClassifier(max_depth=2)\n",
        "results = cross_validate(modelo, x_azar, y_azar, cv = 10, return_train_score=False)\n",
        "media = results['test_score'].mean()\n",
        "desvio_padrao = results['test_score'].std()\n",
        "print(\"Accuracy com cross validation, 10 = [%.2f, %.2f]\" % ((media - 2 * desvio_padrao)*100, (media + 2 * desvio_padrao) * 100))"
      ]
    },
    {
      "cell_type": "code",
      "execution_count": 8,
      "metadata": {
        "colab": {
          "base_uri": "https://localhost:8080/",
          "height": 195
        },
        "colab_type": "code",
        "id": "5C8Y6J-PGpYf",
        "outputId": "dcf93fa7-ff87-4bd9-b4aa-a3dfab869f84"
      },
      "outputs": [
        {
          "data": {
            "text/html": [
              "<div>\n",
              "<style scoped>\n",
              "    .dataframe tbody tr th:only-of-type {\n",
              "        vertical-align: middle;\n",
              "    }\n",
              "\n",
              "    .dataframe tbody tr th {\n",
              "        vertical-align: top;\n",
              "    }\n",
              "\n",
              "    .dataframe thead th {\n",
              "        text-align: right;\n",
              "    }\n",
              "</style>\n",
              "<table border=\"1\" class=\"dataframe\">\n",
              "  <thead>\n",
              "    <tr style=\"text-align: right;\">\n",
              "      <th></th>\n",
              "      <th>preco</th>\n",
              "      <th>vendido</th>\n",
              "      <th>idade_do_modelo</th>\n",
              "      <th>km_por_ano</th>\n",
              "      <th>modelo</th>\n",
              "    </tr>\n",
              "  </thead>\n",
              "  <tbody>\n",
              "    <tr>\n",
              "      <th>0</th>\n",
              "      <td>30941.02</td>\n",
              "      <td>1</td>\n",
              "      <td>18</td>\n",
              "      <td>35085.22134</td>\n",
              "      <td>18</td>\n",
              "    </tr>\n",
              "    <tr>\n",
              "      <th>1</th>\n",
              "      <td>40557.96</td>\n",
              "      <td>1</td>\n",
              "      <td>20</td>\n",
              "      <td>12622.05362</td>\n",
              "      <td>24</td>\n",
              "    </tr>\n",
              "    <tr>\n",
              "      <th>2</th>\n",
              "      <td>89627.50</td>\n",
              "      <td>0</td>\n",
              "      <td>12</td>\n",
              "      <td>11440.79806</td>\n",
              "      <td>14</td>\n",
              "    </tr>\n",
              "    <tr>\n",
              "      <th>3</th>\n",
              "      <td>95276.14</td>\n",
              "      <td>0</td>\n",
              "      <td>3</td>\n",
              "      <td>43167.32682</td>\n",
              "      <td>6</td>\n",
              "    </tr>\n",
              "    <tr>\n",
              "      <th>4</th>\n",
              "      <td>117384.68</td>\n",
              "      <td>1</td>\n",
              "      <td>4</td>\n",
              "      <td>12770.11290</td>\n",
              "      <td>5</td>\n",
              "    </tr>\n",
              "  </tbody>\n",
              "</table>\n",
              "</div>"
            ],
            "text/plain": [
              "       preco  vendido  idade_do_modelo   km_por_ano  modelo\n",
              "0   30941.02        1               18  35085.22134      18\n",
              "1   40557.96        1               20  12622.05362      24\n",
              "2   89627.50        0               12  11440.79806      14\n",
              "3   95276.14        0                3  43167.32682       6\n",
              "4  117384.68        1                4  12770.11290       5"
            ]
          },
          "execution_count": 8,
          "metadata": {},
          "output_type": "execute_result"
        }
      ],
      "source": [
        "# gerando dados elatorios de modelo de carro para simulacao de agrupamento ao usar nosso estimador\n",
        "\n",
        "np.random.seed(SEED)\n",
        "dados['modelo'] = dados.idade_do_modelo + np.random.randint(-2, 3, size=10000)\n",
        "dados.modelo = dados.modelo + abs(dados.modelo.min()) + 1\n",
        "dados.head()"
      ]
    },
    {
      "cell_type": "code",
      "execution_count": 9,
      "metadata": {
        "colab": {},
        "colab_type": "code",
        "id": "3hmjt7qPHOZY"
      },
      "outputs": [],
      "source": [
        "def imprime_resultados(results):\n",
        "  media = results['test_score'].mean() * 100\n",
        "  desvio = results['test_score'].std() * 100\n",
        "  print(\"Accuracy médio %.2f\" % media)\n",
        "  print(\"Intervalo [%.2f, %.2f]\" % (media - 2 * desvio, media + 2 * desvio))"
      ]
    },
    {
      "cell_type": "code",
      "execution_count": 11,
      "metadata": {
        "colab": {
          "base_uri": "https://localhost:8080/",
          "height": 50
        },
        "colab_type": "code",
        "id": "goijy0rSS7n-",
        "outputId": "bf0df175-81db-4ee7-8ae4-591a31eb66db"
      },
      "outputs": [
        {
          "name": "stdout",
          "output_type": "stream",
          "text": [
            "Accuracy médio 76.68\n",
            "Intervalo [74.28, 79.08]\n"
          ]
        }
      ],
      "source": [
        "# GroupKFold em um pipeline com StandardScaler e SVC\n",
        "from sklearn.model_selection import GroupKFold\n",
        "\n",
        "from sklearn.preprocessing import StandardScaler\n",
        "from sklearn.svm import SVC\n",
        "from sklearn.pipeline import Pipeline\n",
        "\n",
        "SEED = 301\n",
        "np.random.seed(SEED)\n",
        "\n",
        "scaler = StandardScaler()\n",
        "modelo = SVC()\n",
        "\n",
        "pipeline = Pipeline([('transformacao',scaler), ('estimador',modelo)])\n",
        "\n",
        "cv = GroupKFold(n_splits = 10)\n",
        "results = cross_validate(pipeline, x_azar, y_azar, cv = cv, groups = dados.modelo, return_train_score=False)\n",
        "imprime_resultados(results)"
      ]
    },
    {
      "cell_type": "code",
      "execution_count": 12,
      "metadata": {
        "colab": {
          "base_uri": "https://localhost:8080/",
          "height": 50
        },
        "colab_type": "code",
        "id": "IKD8uaWkNcUL",
        "outputId": "c5430f13-067a-4d6a-e840-46d4669e931a"
      },
      "outputs": [
        {
          "name": "stdout",
          "output_type": "stream",
          "text": [
            "Accuracy médio 75.78\n",
            "Intervalo [73.67, 77.90]\n"
          ]
        }
      ],
      "source": [
        "# GroupKFold para analisar como o modelo se comporta com novos grupos\n",
        "\n",
        "from sklearn.model_selection import GroupKFold\n",
        "\n",
        "SEED = 301\n",
        "np.random.seed(SEED)\n",
        "\n",
        "cv = GroupKFold(n_splits = 10)\n",
        "modelo = DecisionTreeClassifier(max_depth=2)\n",
        "results = cross_validate(modelo, x_azar, y_azar, cv = cv, groups = dados.modelo, return_train_score=False)\n",
        "imprime_resultados(results)"
      ]
    },
    {
      "cell_type": "code",
      "execution_count": 13,
      "metadata": {
        "colab": {
          "base_uri": "https://localhost:8080/",
          "height": 440
        },
        "colab_type": "code",
        "id": "WhJEIZ4bO3J6",
        "outputId": "9ac2fe01-dbbc-41d8-e4c4-b32ffeb75fd7"
      },
      "outputs": [
        {
          "data": {
            "image/svg+xml": [
              "<?xml version=\"1.0\" encoding=\"UTF-8\" standalone=\"no\"?>\n",
              "<!DOCTYPE svg PUBLIC \"-//W3C//DTD SVG 1.1//EN\"\n",
              " \"http://www.w3.org/Graphics/SVG/1.1/DTD/svg11.dtd\">\n",
              "<!-- Generated by graphviz version 2.50.0 (0)\n",
              " -->\n",
              "<!-- Title: Tree Pages: 1 -->\n",
              "<svg width=\"696pt\" height=\"314pt\"\n",
              " viewBox=\"0.00 0.00 696.00 314.00\" xmlns=\"http://www.w3.org/2000/svg\" xmlns:xlink=\"http://www.w3.org/1999/xlink\">\n",
              "<g id=\"graph0\" class=\"graph\" transform=\"scale(1 1) rotate(0) translate(4 310)\">\n",
              "<title>Tree</title>\n",
              "<polygon fill=\"white\" stroke=\"transparent\" points=\"-4,4 -4,-310 692,-310 692,4 -4,4\"/>\n",
              "<!-- 0 -->\n",
              "<g id=\"node1\" class=\"node\">\n",
              "<title>0</title>\n",
              "<path fill=\"#c8e4f8\" stroke=\"black\" d=\"M403.5,-306C403.5,-306 260.5,-306 260.5,-306 254.5,-306 248.5,-300 248.5,-294 248.5,-294 248.5,-235 248.5,-235 248.5,-229 254.5,-223 260.5,-223 260.5,-223 403.5,-223 403.5,-223 409.5,-223 415.5,-229 415.5,-235 415.5,-235 415.5,-294 415.5,-294 415.5,-300 409.5,-306 403.5,-306\"/>\n",
              "<text text-anchor=\"middle\" x=\"332\" y=\"-290.8\" font-family=\"Helvetica,sans-Serif\" font-size=\"14.00\">preco &lt;= 59982.246</text>\n",
              "<text text-anchor=\"middle\" x=\"332\" y=\"-275.8\" font-family=\"Helvetica,sans-Serif\" font-size=\"14.00\">gini = 0.487</text>\n",
              "<text text-anchor=\"middle\" x=\"332\" y=\"-260.8\" font-family=\"Helvetica,sans-Serif\" font-size=\"14.00\">samples = 10000</text>\n",
              "<text text-anchor=\"middle\" x=\"332\" y=\"-245.8\" font-family=\"Helvetica,sans-Serif\" font-size=\"14.00\">value = [4200, 5800]</text>\n",
              "<text text-anchor=\"middle\" x=\"332\" y=\"-230.8\" font-family=\"Helvetica,sans-Serif\" font-size=\"14.00\">class = sim</text>\n",
              "</g>\n",
              "<!-- 1 -->\n",
              "<g id=\"node2\" class=\"node\">\n",
              "<title>1</title>\n",
              "<path fill=\"#52a9e8\" stroke=\"black\" d=\"M300,-187C300,-187 160,-187 160,-187 154,-187 148,-181 148,-175 148,-175 148,-116 148,-116 148,-110 154,-104 160,-104 160,-104 300,-104 300,-104 306,-104 312,-110 312,-116 312,-116 312,-175 312,-175 312,-181 306,-187 300,-187\"/>\n",
              "<text text-anchor=\"middle\" x=\"230\" y=\"-171.8\" font-family=\"Helvetica,sans-Serif\" font-size=\"14.00\">preco &lt;= 40083.385</text>\n",
              "<text text-anchor=\"middle\" x=\"230\" y=\"-156.8\" font-family=\"Helvetica,sans-Serif\" font-size=\"14.00\">gini = 0.198</text>\n",
              "<text text-anchor=\"middle\" x=\"230\" y=\"-141.8\" font-family=\"Helvetica,sans-Serif\" font-size=\"14.00\">samples = 4347</text>\n",
              "<text text-anchor=\"middle\" x=\"230\" y=\"-126.8\" font-family=\"Helvetica,sans-Serif\" font-size=\"14.00\">value = [484, 3863]</text>\n",
              "<text text-anchor=\"middle\" x=\"230\" y=\"-111.8\" font-family=\"Helvetica,sans-Serif\" font-size=\"14.00\">class = sim</text>\n",
              "</g>\n",
              "<!-- 0&#45;&gt;1 -->\n",
              "<g id=\"edge1\" class=\"edge\">\n",
              "<title>0&#45;&gt;1</title>\n",
              "<path fill=\"none\" stroke=\"black\" d=\"M296.61,-222.91C288.7,-213.83 280.23,-204.12 272.08,-194.77\"/>\n",
              "<polygon fill=\"black\" stroke=\"black\" points=\"274.54,-192.26 265.33,-187.02 269.26,-196.86 274.54,-192.26\"/>\n",
              "<text text-anchor=\"middle\" x=\"263.62\" y=\"-208.26\" font-family=\"Helvetica,sans-Serif\" font-size=\"14.00\">True</text>\n",
              "</g>\n",
              "<!-- 4 -->\n",
              "<g id=\"node5\" class=\"node\">\n",
              "<title>4</title>\n",
              "<path fill=\"#f3c3a0\" stroke=\"black\" d=\"M528,-187C528,-187 342,-187 342,-187 336,-187 330,-181 330,-175 330,-175 330,-116 330,-116 330,-110 336,-104 342,-104 342,-104 528,-104 528,-104 534,-104 540,-110 540,-116 540,-116 540,-175 540,-175 540,-181 534,-187 528,-187\"/>\n",
              "<text text-anchor=\"middle\" x=\"435\" y=\"-171.8\" font-family=\"Helvetica,sans-Serif\" font-size=\"14.00\">km_por_ano &lt;= 24124.006</text>\n",
              "<text text-anchor=\"middle\" x=\"435\" y=\"-156.8\" font-family=\"Helvetica,sans-Serif\" font-size=\"14.00\">gini = 0.45</text>\n",
              "<text text-anchor=\"middle\" x=\"435\" y=\"-141.8\" font-family=\"Helvetica,sans-Serif\" font-size=\"14.00\">samples = 5653</text>\n",
              "<text text-anchor=\"middle\" x=\"435\" y=\"-126.8\" font-family=\"Helvetica,sans-Serif\" font-size=\"14.00\">value = [3716, 1937]</text>\n",
              "<text text-anchor=\"middle\" x=\"435\" y=\"-111.8\" font-family=\"Helvetica,sans-Serif\" font-size=\"14.00\">class = não</text>\n",
              "</g>\n",
              "<!-- 0&#45;&gt;4 -->\n",
              "<g id=\"edge4\" class=\"edge\">\n",
              "<title>0&#45;&gt;4</title>\n",
              "<path fill=\"none\" stroke=\"black\" d=\"M367.74,-222.91C375.72,-213.83 384.27,-204.12 392.51,-194.77\"/>\n",
              "<polygon fill=\"black\" stroke=\"black\" points=\"395.35,-196.84 399.33,-187.02 390.09,-192.21 395.35,-196.84\"/>\n",
              "<text text-anchor=\"middle\" x=\"400.92\" y=\"-208.27\" font-family=\"Helvetica,sans-Serif\" font-size=\"14.00\">False</text>\n",
              "</g>\n",
              "<!-- 2 -->\n",
              "<g id=\"node3\" class=\"node\">\n",
              "<title>2</title>\n",
              "<path fill=\"#399de5\" stroke=\"black\" d=\"M128,-68C128,-68 12,-68 12,-68 6,-68 0,-62 0,-56 0,-56 0,-12 0,-12 0,-6 6,0 12,0 12,0 128,0 128,0 134,0 140,-6 140,-12 140,-12 140,-56 140,-56 140,-62 134,-68 128,-68\"/>\n",
              "<text text-anchor=\"middle\" x=\"70\" y=\"-52.8\" font-family=\"Helvetica,sans-Serif\" font-size=\"14.00\">gini = 0.0</text>\n",
              "<text text-anchor=\"middle\" x=\"70\" y=\"-37.8\" font-family=\"Helvetica,sans-Serif\" font-size=\"14.00\">samples = 1935</text>\n",
              "<text text-anchor=\"middle\" x=\"70\" y=\"-22.8\" font-family=\"Helvetica,sans-Serif\" font-size=\"14.00\">value = [0, 1935]</text>\n",
              "<text text-anchor=\"middle\" x=\"70\" y=\"-7.8\" font-family=\"Helvetica,sans-Serif\" font-size=\"14.00\">class = sim</text>\n",
              "</g>\n",
              "<!-- 1&#45;&gt;2 -->\n",
              "<g id=\"edge2\" class=\"edge\">\n",
              "<title>1&#45;&gt;2</title>\n",
              "<path fill=\"none\" stroke=\"black\" d=\"M170.42,-103.73C156.22,-94.01 141.1,-83.66 127.02,-74.02\"/>\n",
              "<polygon fill=\"black\" stroke=\"black\" points=\"128.63,-70.88 118.4,-68.13 124.68,-76.66 128.63,-70.88\"/>\n",
              "</g>\n",
              "<!-- 3 -->\n",
              "<g id=\"node4\" class=\"node\">\n",
              "<title>3</title>\n",
              "<path fill=\"#6bb6ec\" stroke=\"black\" d=\"M304,-68C304,-68 170,-68 170,-68 164,-68 158,-62 158,-56 158,-56 158,-12 158,-12 158,-6 164,0 170,0 170,0 304,0 304,0 310,0 316,-6 316,-12 316,-12 316,-56 316,-56 316,-62 310,-68 304,-68\"/>\n",
              "<text text-anchor=\"middle\" x=\"237\" y=\"-52.8\" font-family=\"Helvetica,sans-Serif\" font-size=\"14.00\">gini = 0.321</text>\n",
              "<text text-anchor=\"middle\" x=\"237\" y=\"-37.8\" font-family=\"Helvetica,sans-Serif\" font-size=\"14.00\">samples = 2412</text>\n",
              "<text text-anchor=\"middle\" x=\"237\" y=\"-22.8\" font-family=\"Helvetica,sans-Serif\" font-size=\"14.00\">value = [484, 1928]</text>\n",
              "<text text-anchor=\"middle\" x=\"237\" y=\"-7.8\" font-family=\"Helvetica,sans-Serif\" font-size=\"14.00\">class = sim</text>\n",
              "</g>\n",
              "<!-- 1&#45;&gt;3 -->\n",
              "<g id=\"edge3\" class=\"edge\">\n",
              "<title>1&#45;&gt;3</title>\n",
              "<path fill=\"none\" stroke=\"black\" d=\"M232.61,-103.73C233.14,-95.43 233.7,-86.67 234.23,-78.28\"/>\n",
              "<polygon fill=\"black\" stroke=\"black\" points=\"237.73,-78.5 234.87,-68.3 230.74,-78.06 237.73,-78.5\"/>\n",
              "</g>\n",
              "<!-- 5 -->\n",
              "<g id=\"node6\" class=\"node\">\n",
              "<title>5</title>\n",
              "<path fill=\"#fcefe5\" stroke=\"black\" d=\"M500.5,-68C500.5,-68 357.5,-68 357.5,-68 351.5,-68 345.5,-62 345.5,-56 345.5,-56 345.5,-12 345.5,-12 345.5,-6 351.5,0 357.5,0 357.5,0 500.5,0 500.5,0 506.5,0 512.5,-6 512.5,-12 512.5,-12 512.5,-56 512.5,-56 512.5,-62 506.5,-68 500.5,-68\"/>\n",
              "<text text-anchor=\"middle\" x=\"429\" y=\"-52.8\" font-family=\"Helvetica,sans-Serif\" font-size=\"14.00\">gini = 0.498</text>\n",
              "<text text-anchor=\"middle\" x=\"429\" y=\"-37.8\" font-family=\"Helvetica,sans-Serif\" font-size=\"14.00\">samples = 3513</text>\n",
              "<text text-anchor=\"middle\" x=\"429\" y=\"-22.8\" font-family=\"Helvetica,sans-Serif\" font-size=\"14.00\">value = [1879, 1634]</text>\n",
              "<text text-anchor=\"middle\" x=\"429\" y=\"-7.8\" font-family=\"Helvetica,sans-Serif\" font-size=\"14.00\">class = não</text>\n",
              "</g>\n",
              "<!-- 4&#45;&gt;5 -->\n",
              "<g id=\"edge5\" class=\"edge\">\n",
              "<title>4&#45;&gt;5</title>\n",
              "<path fill=\"none\" stroke=\"black\" d=\"M432.77,-103.73C432.32,-95.52 431.84,-86.86 431.39,-78.56\"/>\n",
              "<polygon fill=\"black\" stroke=\"black\" points=\"434.87,-78.09 430.82,-68.3 427.88,-78.48 434.87,-78.09\"/>\n",
              "</g>\n",
              "<!-- 6 -->\n",
              "<g id=\"node7\" class=\"node\">\n",
              "<title>6</title>\n",
              "<path fill=\"#e9965a\" stroke=\"black\" d=\"M676,-68C676,-68 542,-68 542,-68 536,-68 530,-62 530,-56 530,-56 530,-12 530,-12 530,-6 536,0 542,0 542,0 676,0 676,0 682,0 688,-6 688,-12 688,-12 688,-56 688,-56 688,-62 682,-68 676,-68\"/>\n",
              "<text text-anchor=\"middle\" x=\"609\" y=\"-52.8\" font-family=\"Helvetica,sans-Serif\" font-size=\"14.00\">gini = 0.243</text>\n",
              "<text text-anchor=\"middle\" x=\"609\" y=\"-37.8\" font-family=\"Helvetica,sans-Serif\" font-size=\"14.00\">samples = 2140</text>\n",
              "<text text-anchor=\"middle\" x=\"609\" y=\"-22.8\" font-family=\"Helvetica,sans-Serif\" font-size=\"14.00\">value = [1837, 303]</text>\n",
              "<text text-anchor=\"middle\" x=\"609\" y=\"-7.8\" font-family=\"Helvetica,sans-Serif\" font-size=\"14.00\">class = não</text>\n",
              "</g>\n",
              "<!-- 4&#45;&gt;6 -->\n",
              "<g id=\"edge6\" class=\"edge\">\n",
              "<title>4&#45;&gt;6</title>\n",
              "<path fill=\"none\" stroke=\"black\" d=\"M499.79,-103.73C515.53,-93.82 532.3,-83.27 547.86,-73.48\"/>\n",
              "<polygon fill=\"black\" stroke=\"black\" points=\"549.76,-76.41 556.36,-68.13 546.03,-70.49 549.76,-76.41\"/>\n",
              "</g>\n",
              "</g>\n",
              "</svg>\n"
            ],
            "text/plain": [
              "<graphviz.sources.Source at 0x7f0200155e90>"
            ]
          },
          "execution_count": 13,
          "metadata": {},
          "output_type": "execute_result"
        }
      ],
      "source": [
        "from sklearn.tree import export_graphviz\n",
        "import graphviz\n",
        "\n",
        "modelo.fit(x_azar, y_azar)\n",
        "features = x_azar.columns\n",
        "dot_data = export_graphviz(modelo, out_file=None, filled=True, rounded=True,\n",
        "                          class_names=[\"não\",\"sim\"],\n",
        "                          feature_names = features)\n",
        "graph = graphviz.Source(dot_data)\n",
        "graph"
      ]
    },
    {
      "cell_type": "code",
      "execution_count": 14,
      "metadata": {
        "colab": {
          "base_uri": "https://localhost:8080/",
          "height": 50
        },
        "colab_type": "code",
        "id": "zdfgLexRPQ54",
        "outputId": "c8c75555-27f2-4ceb-e31b-57d7938723f3"
      },
      "outputs": [
        {
          "name": "stdout",
          "output_type": "stream",
          "text": [
            "Accuracy médio 78.67\n",
            "Intervalo [76.40, 80.94]\n"
          ]
        }
      ],
      "source": [
        "# GroupKFold para analisar como o modelo se comporta com novos grupos\n",
        "\n",
        "from sklearn.model_selection import GroupKFold\n",
        "\n",
        "SEED = 301\n",
        "np.random.seed(SEED)\n",
        "\n",
        "cv = GroupKFold(n_splits = 10)\n",
        "modelo = DecisionTreeClassifier(max_depth=3)\n",
        "results = cross_validate(modelo, x_azar, y_azar, cv = cv, groups = dados.modelo, return_train_score=False)\n",
        "imprime_resultados(results)"
      ]
    },
    {
      "cell_type": "code",
      "execution_count": 15,
      "metadata": {
        "colab": {
          "base_uri": "https://localhost:8080/",
          "height": 618
        },
        "colab_type": "code",
        "id": "kSe6rPpdQ4Wy",
        "outputId": "e93cc869-3790-4c65-d712-fb1dc82111dc"
      },
      "outputs": [
        {
          "data": {
            "image/svg+xml": [
              "<?xml version=\"1.0\" encoding=\"UTF-8\" standalone=\"no\"?>\n",
              "<!DOCTYPE svg PUBLIC \"-//W3C//DTD SVG 1.1//EN\"\n",
              " \"http://www.w3.org/Graphics/SVG/1.1/DTD/svg11.dtd\">\n",
              "<!-- Generated by graphviz version 2.50.0 (0)\n",
              " -->\n",
              "<!-- Title: Tree Pages: 1 -->\n",
              "<svg width=\"1013pt\" height=\"433pt\"\n",
              " viewBox=\"0.00 0.00 1012.50 433.00\" xmlns=\"http://www.w3.org/2000/svg\" xmlns:xlink=\"http://www.w3.org/1999/xlink\">\n",
              "<g id=\"graph0\" class=\"graph\" transform=\"scale(1 1) rotate(0) translate(4 429)\">\n",
              "<title>Tree</title>\n",
              "<polygon fill=\"white\" stroke=\"transparent\" points=\"-4,4 -4,-429 1008.5,-429 1008.5,4 -4,4\"/>\n",
              "<!-- 0 -->\n",
              "<g id=\"node1\" class=\"node\">\n",
              "<title>0</title>\n",
              "<path fill=\"#c8e4f8\" stroke=\"black\" d=\"M413.5,-425C413.5,-425 270.5,-425 270.5,-425 264.5,-425 258.5,-419 258.5,-413 258.5,-413 258.5,-354 258.5,-354 258.5,-348 264.5,-342 270.5,-342 270.5,-342 413.5,-342 413.5,-342 419.5,-342 425.5,-348 425.5,-354 425.5,-354 425.5,-413 425.5,-413 425.5,-419 419.5,-425 413.5,-425\"/>\n",
              "<text text-anchor=\"middle\" x=\"342\" y=\"-409.8\" font-family=\"Helvetica,sans-Serif\" font-size=\"14.00\">preco &lt;= 59982.246</text>\n",
              "<text text-anchor=\"middle\" x=\"342\" y=\"-394.8\" font-family=\"Helvetica,sans-Serif\" font-size=\"14.00\">gini = 0.487</text>\n",
              "<text text-anchor=\"middle\" x=\"342\" y=\"-379.8\" font-family=\"Helvetica,sans-Serif\" font-size=\"14.00\">samples = 10000</text>\n",
              "<text text-anchor=\"middle\" x=\"342\" y=\"-364.8\" font-family=\"Helvetica,sans-Serif\" font-size=\"14.00\">value = [4200, 5800]</text>\n",
              "<text text-anchor=\"middle\" x=\"342\" y=\"-349.8\" font-family=\"Helvetica,sans-Serif\" font-size=\"14.00\">class = sim</text>\n",
              "</g>\n",
              "<!-- 1 -->\n",
              "<g id=\"node2\" class=\"node\">\n",
              "<title>1</title>\n",
              "<path fill=\"#52a9e8\" stroke=\"black\" d=\"M310,-306C310,-306 170,-306 170,-306 164,-306 158,-300 158,-294 158,-294 158,-235 158,-235 158,-229 164,-223 170,-223 170,-223 310,-223 310,-223 316,-223 322,-229 322,-235 322,-235 322,-294 322,-294 322,-300 316,-306 310,-306\"/>\n",
              "<text text-anchor=\"middle\" x=\"240\" y=\"-290.8\" font-family=\"Helvetica,sans-Serif\" font-size=\"14.00\">preco &lt;= 40083.385</text>\n",
              "<text text-anchor=\"middle\" x=\"240\" y=\"-275.8\" font-family=\"Helvetica,sans-Serif\" font-size=\"14.00\">gini = 0.198</text>\n",
              "<text text-anchor=\"middle\" x=\"240\" y=\"-260.8\" font-family=\"Helvetica,sans-Serif\" font-size=\"14.00\">samples = 4347</text>\n",
              "<text text-anchor=\"middle\" x=\"240\" y=\"-245.8\" font-family=\"Helvetica,sans-Serif\" font-size=\"14.00\">value = [484, 3863]</text>\n",
              "<text text-anchor=\"middle\" x=\"240\" y=\"-230.8\" font-family=\"Helvetica,sans-Serif\" font-size=\"14.00\">class = sim</text>\n",
              "</g>\n",
              "<!-- 0&#45;&gt;1 -->\n",
              "<g id=\"edge1\" class=\"edge\">\n",
              "<title>0&#45;&gt;1</title>\n",
              "<path fill=\"none\" stroke=\"black\" d=\"M306.61,-341.91C298.7,-332.83 290.23,-323.12 282.08,-313.77\"/>\n",
              "<polygon fill=\"black\" stroke=\"black\" points=\"284.54,-311.26 275.33,-306.02 279.26,-315.86 284.54,-311.26\"/>\n",
              "<text text-anchor=\"middle\" x=\"273.62\" y=\"-327.26\" font-family=\"Helvetica,sans-Serif\" font-size=\"14.00\">True</text>\n",
              "</g>\n",
              "<!-- 6 -->\n",
              "<g id=\"node7\" class=\"node\">\n",
              "<title>6</title>\n",
              "<path fill=\"#f3c3a0\" stroke=\"black\" d=\"M603,-306C603,-306 417,-306 417,-306 411,-306 405,-300 405,-294 405,-294 405,-235 405,-235 405,-229 411,-223 417,-223 417,-223 603,-223 603,-223 609,-223 615,-229 615,-235 615,-235 615,-294 615,-294 615,-300 609,-306 603,-306\"/>\n",
              "<text text-anchor=\"middle\" x=\"510\" y=\"-290.8\" font-family=\"Helvetica,sans-Serif\" font-size=\"14.00\">km_por_ano &lt;= 24124.006</text>\n",
              "<text text-anchor=\"middle\" x=\"510\" y=\"-275.8\" font-family=\"Helvetica,sans-Serif\" font-size=\"14.00\">gini = 0.45</text>\n",
              "<text text-anchor=\"middle\" x=\"510\" y=\"-260.8\" font-family=\"Helvetica,sans-Serif\" font-size=\"14.00\">samples = 5653</text>\n",
              "<text text-anchor=\"middle\" x=\"510\" y=\"-245.8\" font-family=\"Helvetica,sans-Serif\" font-size=\"14.00\">value = [3716, 1937]</text>\n",
              "<text text-anchor=\"middle\" x=\"510\" y=\"-230.8\" font-family=\"Helvetica,sans-Serif\" font-size=\"14.00\">class = não</text>\n",
              "</g>\n",
              "<!-- 0&#45;&gt;6 -->\n",
              "<g id=\"edge6\" class=\"edge\">\n",
              "<title>0&#45;&gt;6</title>\n",
              "<path fill=\"none\" stroke=\"black\" d=\"M400.29,-341.91C414.23,-332.2 429.22,-321.76 443.5,-311.81\"/>\n",
              "<polygon fill=\"black\" stroke=\"black\" points=\"445.61,-314.61 451.82,-306.02 441.61,-308.86 445.61,-314.61\"/>\n",
              "<text text-anchor=\"middle\" x=\"447.41\" y=\"-326.93\" font-family=\"Helvetica,sans-Serif\" font-size=\"14.00\">False</text>\n",
              "</g>\n",
              "<!-- 2 -->\n",
              "<g id=\"node3\" class=\"node\">\n",
              "<title>2</title>\n",
              "<path fill=\"#399de5\" stroke=\"black\" d=\"M128,-179.5C128,-179.5 12,-179.5 12,-179.5 6,-179.5 0,-173.5 0,-167.5 0,-167.5 0,-123.5 0,-123.5 0,-117.5 6,-111.5 12,-111.5 12,-111.5 128,-111.5 128,-111.5 134,-111.5 140,-117.5 140,-123.5 140,-123.5 140,-167.5 140,-167.5 140,-173.5 134,-179.5 128,-179.5\"/>\n",
              "<text text-anchor=\"middle\" x=\"70\" y=\"-164.3\" font-family=\"Helvetica,sans-Serif\" font-size=\"14.00\">gini = 0.0</text>\n",
              "<text text-anchor=\"middle\" x=\"70\" y=\"-149.3\" font-family=\"Helvetica,sans-Serif\" font-size=\"14.00\">samples = 1935</text>\n",
              "<text text-anchor=\"middle\" x=\"70\" y=\"-134.3\" font-family=\"Helvetica,sans-Serif\" font-size=\"14.00\">value = [0, 1935]</text>\n",
              "<text text-anchor=\"middle\" x=\"70\" y=\"-119.3\" font-family=\"Helvetica,sans-Serif\" font-size=\"14.00\">class = sim</text>\n",
              "</g>\n",
              "<!-- 1&#45;&gt;2 -->\n",
              "<g id=\"edge2\" class=\"edge\">\n",
              "<title>1&#45;&gt;2</title>\n",
              "<path fill=\"none\" stroke=\"black\" d=\"M181.02,-222.91C163.38,-210.77 144.09,-197.49 126.61,-185.46\"/>\n",
              "<polygon fill=\"black\" stroke=\"black\" points=\"128.41,-182.45 118.19,-179.67 124.44,-188.22 128.41,-182.45\"/>\n",
              "</g>\n",
              "<!-- 3 -->\n",
              "<g id=\"node4\" class=\"node\">\n",
              "<title>3</title>\n",
              "<path fill=\"#6bb6ec\" stroke=\"black\" d=\"M310,-187C310,-187 170,-187 170,-187 164,-187 158,-181 158,-175 158,-175 158,-116 158,-116 158,-110 164,-104 170,-104 170,-104 310,-104 310,-104 316,-104 322,-110 322,-116 322,-116 322,-175 322,-175 322,-181 316,-187 310,-187\"/>\n",
              "<text text-anchor=\"middle\" x=\"240\" y=\"-171.8\" font-family=\"Helvetica,sans-Serif\" font-size=\"14.00\">preco &lt;= 41083.029</text>\n",
              "<text text-anchor=\"middle\" x=\"240\" y=\"-156.8\" font-family=\"Helvetica,sans-Serif\" font-size=\"14.00\">gini = 0.321</text>\n",
              "<text text-anchor=\"middle\" x=\"240\" y=\"-141.8\" font-family=\"Helvetica,sans-Serif\" font-size=\"14.00\">samples = 2412</text>\n",
              "<text text-anchor=\"middle\" x=\"240\" y=\"-126.8\" font-family=\"Helvetica,sans-Serif\" font-size=\"14.00\">value = [484, 1928]</text>\n",
              "<text text-anchor=\"middle\" x=\"240\" y=\"-111.8\" font-family=\"Helvetica,sans-Serif\" font-size=\"14.00\">class = sim</text>\n",
              "</g>\n",
              "<!-- 1&#45;&gt;3 -->\n",
              "<g id=\"edge3\" class=\"edge\">\n",
              "<title>1&#45;&gt;3</title>\n",
              "<path fill=\"none\" stroke=\"black\" d=\"M240,-222.91C240,-214.65 240,-205.86 240,-197.3\"/>\n",
              "<polygon fill=\"black\" stroke=\"black\" points=\"243.5,-197.02 240,-187.02 236.5,-197.02 243.5,-197.02\"/>\n",
              "</g>\n",
              "<!-- 4 -->\n",
              "<g id=\"node5\" class=\"node\">\n",
              "<title>4</title>\n",
              "<path fill=\"#95cbf1\" stroke=\"black\" d=\"M130.5,-68C130.5,-68 23.5,-68 23.5,-68 17.5,-68 11.5,-62 11.5,-56 11.5,-56 11.5,-12 11.5,-12 11.5,-6 17.5,0 23.5,0 23.5,0 130.5,0 130.5,0 136.5,0 142.5,-6 142.5,-12 142.5,-12 142.5,-56 142.5,-56 142.5,-62 136.5,-68 130.5,-68\"/>\n",
              "<text text-anchor=\"middle\" x=\"77\" y=\"-52.8\" font-family=\"Helvetica,sans-Serif\" font-size=\"14.00\">gini = 0.434</text>\n",
              "<text text-anchor=\"middle\" x=\"77\" y=\"-37.8\" font-family=\"Helvetica,sans-Serif\" font-size=\"14.00\">samples = 110</text>\n",
              "<text text-anchor=\"middle\" x=\"77\" y=\"-22.8\" font-family=\"Helvetica,sans-Serif\" font-size=\"14.00\">value = [35, 75]</text>\n",
              "<text text-anchor=\"middle\" x=\"77\" y=\"-7.8\" font-family=\"Helvetica,sans-Serif\" font-size=\"14.00\">class = sim</text>\n",
              "</g>\n",
              "<!-- 3&#45;&gt;4 -->\n",
              "<g id=\"edge4\" class=\"edge\">\n",
              "<title>3&#45;&gt;4</title>\n",
              "<path fill=\"none\" stroke=\"black\" d=\"M179.3,-103.73C164.7,-93.92 149.14,-83.46 134.68,-73.75\"/>\n",
              "<polygon fill=\"black\" stroke=\"black\" points=\"136.56,-70.8 126.31,-68.13 132.66,-76.61 136.56,-70.8\"/>\n",
              "</g>\n",
              "<!-- 5 -->\n",
              "<g id=\"node6\" class=\"node\">\n",
              "<title>5</title>\n",
              "<path fill=\"#69b5eb\" stroke=\"black\" d=\"M307,-68C307,-68 173,-68 173,-68 167,-68 161,-62 161,-56 161,-56 161,-12 161,-12 161,-6 167,0 173,0 173,0 307,0 307,0 313,0 319,-6 319,-12 319,-12 319,-56 319,-56 319,-62 313,-68 307,-68\"/>\n",
              "<text text-anchor=\"middle\" x=\"240\" y=\"-52.8\" font-family=\"Helvetica,sans-Serif\" font-size=\"14.00\">gini = 0.314</text>\n",
              "<text text-anchor=\"middle\" x=\"240\" y=\"-37.8\" font-family=\"Helvetica,sans-Serif\" font-size=\"14.00\">samples = 2302</text>\n",
              "<text text-anchor=\"middle\" x=\"240\" y=\"-22.8\" font-family=\"Helvetica,sans-Serif\" font-size=\"14.00\">value = [449, 1853]</text>\n",
              "<text text-anchor=\"middle\" x=\"240\" y=\"-7.8\" font-family=\"Helvetica,sans-Serif\" font-size=\"14.00\">class = sim</text>\n",
              "</g>\n",
              "<!-- 3&#45;&gt;5 -->\n",
              "<g id=\"edge5\" class=\"edge\">\n",
              "<title>3&#45;&gt;5</title>\n",
              "<path fill=\"none\" stroke=\"black\" d=\"M240,-103.73C240,-95.52 240,-86.86 240,-78.56\"/>\n",
              "<polygon fill=\"black\" stroke=\"black\" points=\"243.5,-78.3 240,-68.3 236.5,-78.3 243.5,-78.3\"/>\n",
              "</g>\n",
              "<!-- 7 -->\n",
              "<g id=\"node8\" class=\"node\">\n",
              "<title>7</title>\n",
              "<path fill=\"#fcefe5\" stroke=\"black\" d=\"M581.5,-187C581.5,-187 438.5,-187 438.5,-187 432.5,-187 426.5,-181 426.5,-175 426.5,-175 426.5,-116 426.5,-116 426.5,-110 432.5,-104 438.5,-104 438.5,-104 581.5,-104 581.5,-104 587.5,-104 593.5,-110 593.5,-116 593.5,-116 593.5,-175 593.5,-175 593.5,-181 587.5,-187 581.5,-187\"/>\n",
              "<text text-anchor=\"middle\" x=\"510\" y=\"-171.8\" font-family=\"Helvetica,sans-Serif\" font-size=\"14.00\">preco &lt;= 99974.41</text>\n",
              "<text text-anchor=\"middle\" x=\"510\" y=\"-156.8\" font-family=\"Helvetica,sans-Serif\" font-size=\"14.00\">gini = 0.498</text>\n",
              "<text text-anchor=\"middle\" x=\"510\" y=\"-141.8\" font-family=\"Helvetica,sans-Serif\" font-size=\"14.00\">samples = 3513</text>\n",
              "<text text-anchor=\"middle\" x=\"510\" y=\"-126.8\" font-family=\"Helvetica,sans-Serif\" font-size=\"14.00\">value = [1879, 1634]</text>\n",
              "<text text-anchor=\"middle\" x=\"510\" y=\"-111.8\" font-family=\"Helvetica,sans-Serif\" font-size=\"14.00\">class = não</text>\n",
              "</g>\n",
              "<!-- 6&#45;&gt;7 -->\n",
              "<g id=\"edge7\" class=\"edge\">\n",
              "<title>6&#45;&gt;7</title>\n",
              "<path fill=\"none\" stroke=\"black\" d=\"M510,-222.91C510,-214.65 510,-205.86 510,-197.3\"/>\n",
              "<polygon fill=\"black\" stroke=\"black\" points=\"513.5,-197.02 510,-187.02 506.5,-197.02 513.5,-197.02\"/>\n",
              "</g>\n",
              "<!-- 10 -->\n",
              "<g id=\"node11\" class=\"node\">\n",
              "<title>10</title>\n",
              "<path fill=\"#e9965a\" stroke=\"black\" d=\"M837.5,-187C837.5,-187 688.5,-187 688.5,-187 682.5,-187 676.5,-181 676.5,-175 676.5,-175 676.5,-116 676.5,-116 676.5,-110 682.5,-104 688.5,-104 688.5,-104 837.5,-104 837.5,-104 843.5,-104 849.5,-110 849.5,-116 849.5,-116 849.5,-175 849.5,-175 849.5,-181 843.5,-187 837.5,-187\"/>\n",
              "<text text-anchor=\"middle\" x=\"763\" y=\"-171.8\" font-family=\"Helvetica,sans-Serif\" font-size=\"14.00\">preco &lt;= 100076.957</text>\n",
              "<text text-anchor=\"middle\" x=\"763\" y=\"-156.8\" font-family=\"Helvetica,sans-Serif\" font-size=\"14.00\">gini = 0.243</text>\n",
              "<text text-anchor=\"middle\" x=\"763\" y=\"-141.8\" font-family=\"Helvetica,sans-Serif\" font-size=\"14.00\">samples = 2140</text>\n",
              "<text text-anchor=\"middle\" x=\"763\" y=\"-126.8\" font-family=\"Helvetica,sans-Serif\" font-size=\"14.00\">value = [1837, 303]</text>\n",
              "<text text-anchor=\"middle\" x=\"763\" y=\"-111.8\" font-family=\"Helvetica,sans-Serif\" font-size=\"14.00\">class = não</text>\n",
              "</g>\n",
              "<!-- 6&#45;&gt;10 -->\n",
              "<g id=\"edge10\" class=\"edge\">\n",
              "<title>6&#45;&gt;10</title>\n",
              "<path fill=\"none\" stroke=\"black\" d=\"M597.78,-222.91C620.1,-212.58 644.21,-201.43 666.93,-190.93\"/>\n",
              "<polygon fill=\"black\" stroke=\"black\" points=\"668.63,-194 676.23,-186.63 665.69,-187.65 668.63,-194\"/>\n",
              "</g>\n",
              "<!-- 8 -->\n",
              "<g id=\"node9\" class=\"node\">\n",
              "<title>8</title>\n",
              "<path fill=\"#f9e0ce\" stroke=\"black\" d=\"M491.5,-68C491.5,-68 348.5,-68 348.5,-68 342.5,-68 336.5,-62 336.5,-56 336.5,-56 336.5,-12 336.5,-12 336.5,-6 342.5,0 348.5,0 348.5,0 491.5,0 491.5,0 497.5,0 503.5,-6 503.5,-12 503.5,-12 503.5,-56 503.5,-56 503.5,-62 497.5,-68 491.5,-68\"/>\n",
              "<text text-anchor=\"middle\" x=\"420\" y=\"-52.8\" font-family=\"Helvetica,sans-Serif\" font-size=\"14.00\">gini = 0.49</text>\n",
              "<text text-anchor=\"middle\" x=\"420\" y=\"-37.8\" font-family=\"Helvetica,sans-Serif\" font-size=\"14.00\">samples = 2944</text>\n",
              "<text text-anchor=\"middle\" x=\"420\" y=\"-22.8\" font-family=\"Helvetica,sans-Serif\" font-size=\"14.00\">value = [1682, 1262]</text>\n",
              "<text text-anchor=\"middle\" x=\"420\" y=\"-7.8\" font-family=\"Helvetica,sans-Serif\" font-size=\"14.00\">class = não</text>\n",
              "</g>\n",
              "<!-- 7&#45;&gt;8 -->\n",
              "<g id=\"edge8\" class=\"edge\">\n",
              "<title>7&#45;&gt;8</title>\n",
              "<path fill=\"none\" stroke=\"black\" d=\"M476.49,-103.73C469.07,-94.7 461.2,-85.12 453.77,-76.08\"/>\n",
              "<polygon fill=\"black\" stroke=\"black\" points=\"456.42,-73.8 447.37,-68.3 451.02,-78.25 456.42,-73.8\"/>\n",
              "</g>\n",
              "<!-- 9 -->\n",
              "<g id=\"node10\" class=\"node\">\n",
              "<title>9</title>\n",
              "<path fill=\"#a2d1f3\" stroke=\"black\" d=\"M658.5,-68C658.5,-68 533.5,-68 533.5,-68 527.5,-68 521.5,-62 521.5,-56 521.5,-56 521.5,-12 521.5,-12 521.5,-6 527.5,0 533.5,0 533.5,0 658.5,0 658.5,0 664.5,0 670.5,-6 670.5,-12 670.5,-12 670.5,-56 670.5,-56 670.5,-62 664.5,-68 658.5,-68\"/>\n",
              "<text text-anchor=\"middle\" x=\"596\" y=\"-52.8\" font-family=\"Helvetica,sans-Serif\" font-size=\"14.00\">gini = 0.453</text>\n",
              "<text text-anchor=\"middle\" x=\"596\" y=\"-37.8\" font-family=\"Helvetica,sans-Serif\" font-size=\"14.00\">samples = 569</text>\n",
              "<text text-anchor=\"middle\" x=\"596\" y=\"-22.8\" font-family=\"Helvetica,sans-Serif\" font-size=\"14.00\">value = [197, 372]</text>\n",
              "<text text-anchor=\"middle\" x=\"596\" y=\"-7.8\" font-family=\"Helvetica,sans-Serif\" font-size=\"14.00\">class = sim</text>\n",
              "</g>\n",
              "<!-- 7&#45;&gt;9 -->\n",
              "<g id=\"edge9\" class=\"edge\">\n",
              "<title>7&#45;&gt;9</title>\n",
              "<path fill=\"none\" stroke=\"black\" d=\"M542.02,-103.73C549.04,-94.79 556.48,-85.32 563.52,-76.36\"/>\n",
              "<polygon fill=\"black\" stroke=\"black\" points=\"566.42,-78.33 569.85,-68.3 560.92,-74 566.42,-78.33\"/>\n",
              "</g>\n",
              "<!-- 11 -->\n",
              "<g id=\"node12\" class=\"node\">\n",
              "<title>11</title>\n",
              "<path fill=\"#e68742\" stroke=\"black\" d=\"M825.5,-68C825.5,-68 700.5,-68 700.5,-68 694.5,-68 688.5,-62 688.5,-56 688.5,-56 688.5,-12 688.5,-12 688.5,-6 694.5,0 700.5,0 700.5,0 825.5,0 825.5,0 831.5,0 837.5,-6 837.5,-12 837.5,-12 837.5,-56 837.5,-56 837.5,-62 831.5,-68 825.5,-68\"/>\n",
              "<text text-anchor=\"middle\" x=\"763\" y=\"-52.8\" font-family=\"Helvetica,sans-Serif\" font-size=\"14.00\">gini = 0.082</text>\n",
              "<text text-anchor=\"middle\" x=\"763\" y=\"-37.8\" font-family=\"Helvetica,sans-Serif\" font-size=\"14.00\">samples = 1809</text>\n",
              "<text text-anchor=\"middle\" x=\"763\" y=\"-22.8\" font-family=\"Helvetica,sans-Serif\" font-size=\"14.00\">value = [1732, 77]</text>\n",
              "<text text-anchor=\"middle\" x=\"763\" y=\"-7.8\" font-family=\"Helvetica,sans-Serif\" font-size=\"14.00\">class = não</text>\n",
              "</g>\n",
              "<!-- 10&#45;&gt;11 -->\n",
              "<g id=\"edge11\" class=\"edge\">\n",
              "<title>10&#45;&gt;11</title>\n",
              "<path fill=\"none\" stroke=\"black\" d=\"M763,-103.73C763,-95.52 763,-86.86 763,-78.56\"/>\n",
              "<polygon fill=\"black\" stroke=\"black\" points=\"766.5,-78.3 763,-68.3 759.5,-78.3 766.5,-78.3\"/>\n",
              "</g>\n",
              "<!-- 12 -->\n",
              "<g id=\"node13\" class=\"node\">\n",
              "<title>12</title>\n",
              "<path fill=\"#95cbf1\" stroke=\"black\" d=\"M992.5,-68C992.5,-68 867.5,-68 867.5,-68 861.5,-68 855.5,-62 855.5,-56 855.5,-56 855.5,-12 855.5,-12 855.5,-6 861.5,0 867.5,0 867.5,0 992.5,0 992.5,0 998.5,0 1004.5,-6 1004.5,-12 1004.5,-12 1004.5,-56 1004.5,-56 1004.5,-62 998.5,-68 992.5,-68\"/>\n",
              "<text text-anchor=\"middle\" x=\"930\" y=\"-52.8\" font-family=\"Helvetica,sans-Serif\" font-size=\"14.00\">gini = 0.433</text>\n",
              "<text text-anchor=\"middle\" x=\"930\" y=\"-37.8\" font-family=\"Helvetica,sans-Serif\" font-size=\"14.00\">samples = 331</text>\n",
              "<text text-anchor=\"middle\" x=\"930\" y=\"-22.8\" font-family=\"Helvetica,sans-Serif\" font-size=\"14.00\">value = [105, 226]</text>\n",
              "<text text-anchor=\"middle\" x=\"930\" y=\"-7.8\" font-family=\"Helvetica,sans-Serif\" font-size=\"14.00\">class = sim</text>\n",
              "</g>\n",
              "<!-- 10&#45;&gt;12 -->\n",
              "<g id=\"edge12\" class=\"edge\">\n",
              "<title>10&#45;&gt;12</title>\n",
              "<path fill=\"none\" stroke=\"black\" d=\"M825.18,-103.73C840.15,-93.92 856.09,-83.46 870.9,-73.75\"/>\n",
              "<polygon fill=\"black\" stroke=\"black\" points=\"873.04,-76.54 879.48,-68.13 869.2,-70.68 873.04,-76.54\"/>\n",
              "</g>\n",
              "</g>\n",
              "</svg>\n"
            ],
            "text/plain": [
              "<graphviz.sources.Source at 0x7f01ff322910>"
            ]
          },
          "execution_count": 15,
          "metadata": {},
          "output_type": "execute_result"
        }
      ],
      "source": [
        "from sklearn.tree import export_graphviz\n",
        "import graphviz\n",
        "\n",
        "modelo.fit(x_azar, y_azar)\n",
        "features = x_azar.columns\n",
        "dot_data = export_graphviz(modelo, out_file=None, filled=True, rounded=True,\n",
        "                          class_names=[\"não\",\"sim\"],\n",
        "                          feature_names = features)\n",
        "graph = graphviz.Source(dot_data)\n",
        "graph"
      ]
    },
    {
      "cell_type": "code",
      "execution_count": 16,
      "metadata": {
        "colab": {
          "base_uri": "https://localhost:8080/",
          "height": 50
        },
        "colab_type": "code",
        "id": "2mZNqHhCQ7DO",
        "outputId": "e74e04e4-ddf8-442d-f530-ab40b3db04dc"
      },
      "outputs": [
        {
          "name": "stdout",
          "output_type": "stream",
          "text": [
            "Accuracy médio 77.19\n",
            "Intervalo [75.26, 79.13]\n"
          ]
        }
      ],
      "source": [
        "# GroupKFold para analisar como o modelo se comporta com novos grupos\n",
        "\n",
        "from sklearn.model_selection import GroupKFold\n",
        "\n",
        "SEED = 301\n",
        "np.random.seed(SEED)\n",
        "\n",
        "cv = GroupKFold(n_splits = 10)\n",
        "modelo = DecisionTreeClassifier(max_depth=10)\n",
        "results = cross_validate(modelo, x_azar, y_azar, cv = cv, groups = dados.modelo, return_train_score=False)\n",
        "imprime_resultados(results)"
      ]
    },
    {
      "cell_type": "markdown",
      "metadata": {
        "colab_type": "text",
        "id": "GMXJcGqWTiIp"
      },
      "source": [
        "# Explorando hiper parâmetros em uma dimensão"
      ]
    },
    {
      "cell_type": "code",
      "execution_count": 17,
      "metadata": {
        "colab": {
          "base_uri": "https://localhost:8080/",
          "height": 733
        },
        "colab_type": "code",
        "id": "xTV7Tc4aRFTF",
        "outputId": "a5d355cc-fb81-4c99-d67c-bf445de7d9fc"
      },
      "outputs": [
        {
          "name": "stdout",
          "output_type": "stream",
          "text": [
            "Arvore max_depth = 1, treino = 75.79, teste = 75.78\n",
            "Arvore max_depth = 2, treino = 75.79, teste = 75.78\n",
            "Arvore max_depth = 3, treino = 78.75, teste = 78.67\n",
            "Arvore max_depth = 4, treino = 78.79, teste = 78.63\n",
            "Arvore max_depth = 5, treino = 78.94, teste = 78.56\n",
            "Arvore max_depth = 6, treino = 79.17, teste = 78.12\n",
            "Arvore max_depth = 7, treino = 79.50, teste = 77.96\n",
            "Arvore max_depth = 8, treino = 79.89, teste = 77.86\n",
            "Arvore max_depth = 9, treino = 80.46, teste = 77.38\n",
            "Arvore max_depth = 10, treino = 81.16, teste = 77.19\n",
            "Arvore max_depth = 11, treino = 82.03, teste = 76.97\n",
            "Arvore max_depth = 12, treino = 82.89, teste = 76.49\n",
            "Arvore max_depth = 13, treino = 83.95, teste = 75.81\n",
            "Arvore max_depth = 14, treino = 85.03, teste = 75.66\n",
            "Arvore max_depth = 15, treino = 86.14, teste = 75.16\n",
            "Arvore max_depth = 16, treino = 87.19, teste = 75.11\n",
            "Arvore max_depth = 17, treino = 88.31, teste = 74.74\n",
            "Arvore max_depth = 18, treino = 89.26, teste = 74.33\n",
            "Arvore max_depth = 19, treino = 90.32, teste = 74.34\n",
            "Arvore max_depth = 20, treino = 91.32, teste = 74.22\n",
            "Arvore max_depth = 21, treino = 92.14, teste = 73.80\n",
            "Arvore max_depth = 22, treino = 93.02, teste = 73.81\n",
            "Arvore max_depth = 23, treino = 93.80, teste = 73.38\n",
            "Arvore max_depth = 24, treino = 94.47, teste = 73.43\n",
            "Arvore max_depth = 25, treino = 95.16, teste = 73.14\n",
            "Arvore max_depth = 26, treino = 95.74, teste = 73.04\n",
            "Arvore max_depth = 27, treino = 96.33, teste = 72.91\n",
            "Arvore max_depth = 28, treino = 96.75, teste = 72.66\n",
            "Arvore max_depth = 29, treino = 97.10, teste = 72.73\n",
            "Arvore max_depth = 30, treino = 97.43, teste = 72.81\n",
            "Arvore max_depth = 31, treino = 97.80, teste = 72.86\n",
            "Arvore max_depth = 32, treino = 98.10, teste = 72.52\n"
          ]
        },
        {
          "data": {
            "text/html": [
              "<div>\n",
              "<style scoped>\n",
              "    .dataframe tbody tr th:only-of-type {\n",
              "        vertical-align: middle;\n",
              "    }\n",
              "\n",
              "    .dataframe tbody tr th {\n",
              "        vertical-align: top;\n",
              "    }\n",
              "\n",
              "    .dataframe thead th {\n",
              "        text-align: right;\n",
              "    }\n",
              "</style>\n",
              "<table border=\"1\" class=\"dataframe\">\n",
              "  <thead>\n",
              "    <tr style=\"text-align: right;\">\n",
              "      <th></th>\n",
              "      <th>max_depth</th>\n",
              "      <th>train</th>\n",
              "      <th>test</th>\n",
              "    </tr>\n",
              "  </thead>\n",
              "  <tbody>\n",
              "    <tr>\n",
              "      <th>0</th>\n",
              "      <td>1</td>\n",
              "      <td>75.791169</td>\n",
              "      <td>75.784219</td>\n",
              "    </tr>\n",
              "    <tr>\n",
              "      <th>1</th>\n",
              "      <td>2</td>\n",
              "      <td>75.791169</td>\n",
              "      <td>75.784219</td>\n",
              "    </tr>\n",
              "    <tr>\n",
              "      <th>2</th>\n",
              "      <td>3</td>\n",
              "      <td>78.750993</td>\n",
              "      <td>78.672633</td>\n",
              "    </tr>\n",
              "    <tr>\n",
              "      <th>3</th>\n",
              "      <td>4</td>\n",
              "      <td>78.787628</td>\n",
              "      <td>78.632803</td>\n",
              "    </tr>\n",
              "    <tr>\n",
              "      <th>4</th>\n",
              "      <td>5</td>\n",
              "      <td>78.941007</td>\n",
              "      <td>78.555912</td>\n",
              "    </tr>\n",
              "  </tbody>\n",
              "</table>\n",
              "</div>"
            ],
            "text/plain": [
              "   max_depth      train       test\n",
              "0          1  75.791169  75.784219\n",
              "1          2  75.791169  75.784219\n",
              "2          3  78.750993  78.672633\n",
              "3          4  78.787628  78.632803\n",
              "4          5  78.941007  78.555912"
            ]
          },
          "execution_count": 17,
          "metadata": {},
          "output_type": "execute_result"
        }
      ],
      "source": [
        "def roda_arvore_de_decisao(max_depth):\n",
        "  SEED = 301\n",
        "  np.random.seed(SEED)\n",
        "\n",
        "  cv = GroupKFold(n_splits = 10)\n",
        "  modelo = DecisionTreeClassifier(max_depth=max_depth)\n",
        "  results = cross_validate(modelo, x_azar, y_azar, cv = cv, groups = dados.modelo, return_train_score=True)\n",
        "  train_score = results['train_score'].mean() * 100\n",
        "  test_score = results['test_score'].mean() * 100\n",
        "  print(\"Arvore max_depth = %d, treino = %.2f, teste = %.2f\" % (max_depth, train_score, test_score))\n",
        "  tabela = [max_depth, train_score, test_score]\n",
        "  return tabela\n",
        "  \n",
        "resultados = [roda_arvore_de_decisao(i) for i in range(1,33)]\n",
        "resultados = pd.DataFrame(resultados, columns= [\"max_depth\",\"train\",\"test\"])\n",
        "resultados.head()"
      ]
    },
    {
      "cell_type": "code",
      "execution_count": 18,
      "metadata": {
        "colab": {
          "base_uri": "https://localhost:8080/",
          "height": 301
        },
        "colab_type": "code",
        "id": "6HBLCc7QTsLt",
        "outputId": "5c14e473-e4ac-4913-8e17-89a417896d2a"
      },
      "outputs": [
        {
          "data": {
            "text/plain": [
              "<Axes: xlabel='max_depth', ylabel='train'>"
            ]
          },
          "execution_count": 18,
          "metadata": {},
          "output_type": "execute_result"
        },
        {
          "data": {
            "image/png": "[encoded data removed]",
            "text/plain": [
              "<Figure size 640x480 with 1 Axes>"
            ]
          },
          "metadata": {},
          "output_type": "display_data"
        }
      ],
      "source": [
        "import seaborn as sns\n",
        "\n",
        "sns.lineplot(x = \"max_depth\", y = \"train\", data = resultados)"
      ]
    },
    {
      "cell_type": "markdown",
      "metadata": {
        "colab_type": "text",
        "id": "j-o6VtTrXbhu"
      },
      "source": [
        "# OVERFIT: ficou \"perfeito\" para o treino mas ruim para o teste"
      ]
    },
    {
      "cell_type": "code",
      "execution_count": 19,
      "metadata": {
        "colab": {
          "base_uri": "https://localhost:8080/",
          "height": 301
        },
        "colab_type": "code",
        "id": "OhwJ_FAnWOlq",
        "outputId": "b136f667-4257-48eb-9bc5-b7f0fe53f4fb"
      },
      "outputs": [
        {
          "data": {
            "text/plain": [
              "<matplotlib.legend.Legend at 0x7f01fe41d710>"
            ]
          },
          "execution_count": 19,
          "metadata": {},
          "output_type": "execute_result"
        },
        {
          "data": {
            "image/png": "[encoded data removed]",
            "text/plain": [
              "<Figure size 640x480 with 1 Axes>"
            ]
          },
          "metadata": {},
          "output_type": "display_data"
        }
      ],
      "source": [
        "import matplotlib.pyplot as plt\n",
        "\n",
        "sns.lineplot(x = \"max_depth\", y = \"train\", data = resultados)\n",
        "sns.lineplot(x = \"max_depth\", y = \"test\", data = resultados)\n",
        "plt.legend([\"Treino\", \"Teste\"])"
      ]
    },
    {
      "cell_type": "code",
      "execution_count": 20,
      "metadata": {
        "colab": {
          "base_uri": "https://localhost:8080/",
          "height": 195
        },
        "colab_type": "code",
        "id": "wXmQpoGaXXqP",
        "outputId": "40f9ea94-6de4-4dff-fff1-d8ebc7739f63"
      },
      "outputs": [
        {
          "data": {
            "text/html": [
              "<div>\n",
              "<style scoped>\n",
              "    .dataframe tbody tr th:only-of-type {\n",
              "        vertical-align: middle;\n",
              "    }\n",
              "\n",
              "    .dataframe tbody tr th {\n",
              "        vertical-align: top;\n",
              "    }\n",
              "\n",
              "    .dataframe thead th {\n",
              "        text-align: right;\n",
              "    }\n",
              "</style>\n",
              "<table border=\"1\" class=\"dataframe\">\n",
              "  <thead>\n",
              "    <tr style=\"text-align: right;\">\n",
              "      <th></th>\n",
              "      <th>max_depth</th>\n",
              "      <th>train</th>\n",
              "      <th>test</th>\n",
              "    </tr>\n",
              "  </thead>\n",
              "  <tbody>\n",
              "    <tr>\n",
              "      <th>2</th>\n",
              "      <td>3</td>\n",
              "      <td>78.750993</td>\n",
              "      <td>78.672633</td>\n",
              "    </tr>\n",
              "    <tr>\n",
              "      <th>3</th>\n",
              "      <td>4</td>\n",
              "      <td>78.787628</td>\n",
              "      <td>78.632803</td>\n",
              "    </tr>\n",
              "    <tr>\n",
              "      <th>4</th>\n",
              "      <td>5</td>\n",
              "      <td>78.941007</td>\n",
              "      <td>78.555912</td>\n",
              "    </tr>\n",
              "    <tr>\n",
              "      <th>5</th>\n",
              "      <td>6</td>\n",
              "      <td>79.170115</td>\n",
              "      <td>78.123266</td>\n",
              "    </tr>\n",
              "    <tr>\n",
              "      <th>6</th>\n",
              "      <td>7</td>\n",
              "      <td>79.496806</td>\n",
              "      <td>77.963185</td>\n",
              "    </tr>\n",
              "  </tbody>\n",
              "</table>\n",
              "</div>"
            ],
            "text/plain": [
              "   max_depth      train       test\n",
              "2          3  78.750993  78.672633\n",
              "3          4  78.787628  78.632803\n",
              "4          5  78.941007  78.555912\n",
              "5          6  79.170115  78.123266\n",
              "6          7  79.496806  77.963185"
            ]
          },
          "execution_count": 20,
          "metadata": {},
          "output_type": "execute_result"
        }
      ],
      "source": [
        "resultados.sort_values(\"test\", ascending=False).head()"
      ]
    },
    {
      "cell_type": "markdown",
      "metadata": {
        "colab_type": "text",
        "id": "SnW9-CTjcpWp"
      },
      "source": [
        "# Explorando hiper parâmetros em 2 dimensões"
      ]
    },
    {
      "cell_type": "code",
      "execution_count": 21,
      "metadata": {
        "colab": {
          "base_uri": "https://localhost:8080/",
          "height": 2346
        },
        "colab_type": "code",
        "id": "Odrf-gsWXl9u",
        "outputId": "5cd04740-d6c5-40f9-9032-21a12a3f0207"
      },
      "outputs": [
        {
          "name": "stdout",
          "output_type": "stream",
          "text": [
            "Arvore max_depth = 1, min_samples_leaf = 32, treino = 75.79, teste = 75.78\n",
            "Arvore max_depth = 1, min_samples_leaf = 64, treino = 75.79, teste = 75.78\n",
            "Arvore max_depth = 1, min_samples_leaf = 128, treino = 75.79, teste = 75.78\n",
            "Arvore max_depth = 1, min_samples_leaf = 256, treino = 75.79, teste = 75.78\n",
            "Arvore max_depth = 2, min_samples_leaf = 32, treino = 75.79, teste = 75.78\n",
            "Arvore max_depth = 2, min_samples_leaf = 64, treino = 75.79, teste = 75.78\n",
            "Arvore max_depth = 2, min_samples_leaf = 128, treino = 75.79, teste = 75.78\n",
            "Arvore max_depth = 2, min_samples_leaf = 256, treino = 75.79, teste = 75.78\n",
            "Arvore max_depth = 3, min_samples_leaf = 32, treino = 78.75, teste = 78.67\n",
            "Arvore max_depth = 3, min_samples_leaf = 64, treino = 78.75, teste = 78.67\n",
            "Arvore max_depth = 3, min_samples_leaf = 128, treino = 78.75, teste = 78.67\n",
            "Arvore max_depth = 3, min_samples_leaf = 256, treino = 78.75, teste = 78.67\n",
            "Arvore max_depth = 4, min_samples_leaf = 32, treino = 78.75, teste = 78.67\n",
            "Arvore max_depth = 4, min_samples_leaf = 64, treino = 78.75, teste = 78.67\n",
            "Arvore max_depth = 4, min_samples_leaf = 128, treino = 78.75, teste = 78.67\n",
            "Arvore max_depth = 4, min_samples_leaf = 256, treino = 78.75, teste = 78.67\n",
            "Arvore max_depth = 5, min_samples_leaf = 32, treino = 78.82, teste = 78.50\n",
            "Arvore max_depth = 5, min_samples_leaf = 64, treino = 78.79, teste = 78.45\n",
            "Arvore max_depth = 5, min_samples_leaf = 128, treino = 78.77, teste = 78.44\n",
            "Arvore max_depth = 5, min_samples_leaf = 256, treino = 78.77, teste = 78.44\n",
            "Arvore max_depth = 6, min_samples_leaf = 32, treino = 78.96, teste = 78.02\n",
            "Arvore max_depth = 6, min_samples_leaf = 64, treino = 78.92, teste = 78.09\n",
            "Arvore max_depth = 6, min_samples_leaf = 128, treino = 78.85, teste = 78.27\n",
            "Arvore max_depth = 6, min_samples_leaf = 256, treino = 78.79, teste = 78.27\n",
            "Arvore max_depth = 7, min_samples_leaf = 32, treino = 79.24, teste = 77.94\n",
            "Arvore max_depth = 7, min_samples_leaf = 64, treino = 79.18, teste = 78.05\n",
            "Arvore max_depth = 7, min_samples_leaf = 128, treino = 79.01, teste = 78.21\n",
            "Arvore max_depth = 7, min_samples_leaf = 256, treino = 78.85, teste = 78.08\n",
            "Arvore max_depth = 8, min_samples_leaf = 32, treino = 79.47, teste = 77.93\n",
            "Arvore max_depth = 8, min_samples_leaf = 64, treino = 79.30, teste = 77.99\n",
            "Arvore max_depth = 8, min_samples_leaf = 128, treino = 79.05, teste = 78.37\n",
            "Arvore max_depth = 8, min_samples_leaf = 256, treino = 78.89, teste = 77.94\n",
            "Arvore max_depth = 9, min_samples_leaf = 32, treino = 79.80, teste = 77.32\n",
            "Arvore max_depth = 9, min_samples_leaf = 64, treino = 79.46, teste = 77.55\n",
            "Arvore max_depth = 9, min_samples_leaf = 128, treino = 79.12, teste = 78.30\n",
            "Arvore max_depth = 9, min_samples_leaf = 256, treino = 78.90, teste = 77.85\n",
            "Arvore max_depth = 10, min_samples_leaf = 32, treino = 80.05, teste = 77.45\n",
            "Arvore max_depth = 10, min_samples_leaf = 64, treino = 79.55, teste = 77.64\n",
            "Arvore max_depth = 10, min_samples_leaf = 128, treino = 79.16, teste = 78.29\n",
            "Arvore max_depth = 10, min_samples_leaf = 256, treino = 78.90, teste = 77.85\n",
            "Arvore max_depth = 11, min_samples_leaf = 32, treino = 80.21, teste = 77.20\n",
            "Arvore max_depth = 11, min_samples_leaf = 64, treino = 79.60, teste = 77.53\n",
            "Arvore max_depth = 11, min_samples_leaf = 128, treino = 79.19, teste = 78.31\n",
            "Arvore max_depth = 11, min_samples_leaf = 256, treino = 78.90, teste = 77.85\n",
            "Arvore max_depth = 12, min_samples_leaf = 32, treino = 80.34, teste = 77.00\n",
            "Arvore max_depth = 12, min_samples_leaf = 64, treino = 79.72, teste = 77.29\n",
            "Arvore max_depth = 12, min_samples_leaf = 128, treino = 79.21, teste = 78.22\n",
            "Arvore max_depth = 12, min_samples_leaf = 256, treino = 78.90, teste = 77.85\n",
            "Arvore max_depth = 13, min_samples_leaf = 32, treino = 80.51, teste = 76.85\n",
            "Arvore max_depth = 13, min_samples_leaf = 64, treino = 79.74, teste = 77.34\n",
            "Arvore max_depth = 13, min_samples_leaf = 128, treino = 79.21, teste = 78.22\n",
            "Arvore max_depth = 13, min_samples_leaf = 256, treino = 78.90, teste = 77.85\n",
            "Arvore max_depth = 14, min_samples_leaf = 32, treino = 80.60, teste = 76.69\n",
            "Arvore max_depth = 14, min_samples_leaf = 64, treino = 79.77, teste = 77.26\n",
            "Arvore max_depth = 14, min_samples_leaf = 128, treino = 79.21, teste = 78.22\n",
            "Arvore max_depth = 14, min_samples_leaf = 256, treino = 78.90, teste = 77.85\n",
            "Arvore max_depth = 15, min_samples_leaf = 32, treino = 80.70, teste = 76.88\n",
            "Arvore max_depth = 15, min_samples_leaf = 64, treino = 79.79, teste = 77.30\n",
            "Arvore max_depth = 15, min_samples_leaf = 128, treino = 79.21, teste = 78.22\n",
            "Arvore max_depth = 15, min_samples_leaf = 256, treino = 78.90, teste = 77.85\n",
            "Arvore max_depth = 16, min_samples_leaf = 32, treino = 80.76, teste = 76.87\n",
            "Arvore max_depth = 16, min_samples_leaf = 64, treino = 79.79, teste = 77.30\n",
            "Arvore max_depth = 16, min_samples_leaf = 128, treino = 79.21, teste = 78.22\n",
            "Arvore max_depth = 16, min_samples_leaf = 256, treino = 78.90, teste = 77.85\n",
            "Arvore max_depth = 17, min_samples_leaf = 32, treino = 80.82, teste = 76.98\n",
            "Arvore max_depth = 17, min_samples_leaf = 64, treino = 79.79, teste = 77.30\n",
            "Arvore max_depth = 17, min_samples_leaf = 128, treino = 79.21, teste = 78.22\n",
            "Arvore max_depth = 17, min_samples_leaf = 256, treino = 78.90, teste = 77.85\n",
            "Arvore max_depth = 18, min_samples_leaf = 32, treino = 80.85, teste = 76.86\n",
            "Arvore max_depth = 18, min_samples_leaf = 64, treino = 79.79, teste = 77.30\n",
            "Arvore max_depth = 18, min_samples_leaf = 128, treino = 79.21, teste = 78.22\n",
            "Arvore max_depth = 18, min_samples_leaf = 256, treino = 78.90, teste = 77.85\n",
            "Arvore max_depth = 19, min_samples_leaf = 32, treino = 80.86, teste = 76.89\n",
            "Arvore max_depth = 19, min_samples_leaf = 64, treino = 79.79, teste = 77.30\n",
            "Arvore max_depth = 19, min_samples_leaf = 128, treino = 79.21, teste = 78.22\n",
            "Arvore max_depth = 19, min_samples_leaf = 256, treino = 78.90, teste = 77.85\n",
            "Arvore max_depth = 20, min_samples_leaf = 32, treino = 80.88, teste = 76.87\n",
            "Arvore max_depth = 20, min_samples_leaf = 64, treino = 79.79, teste = 77.30\n",
            "Arvore max_depth = 20, min_samples_leaf = 128, treino = 79.21, teste = 78.22\n",
            "Arvore max_depth = 20, min_samples_leaf = 256, treino = 78.90, teste = 77.85\n",
            "Arvore max_depth = 21, min_samples_leaf = 32, treino = 80.88, teste = 76.92\n",
            "Arvore max_depth = 21, min_samples_leaf = 64, treino = 79.79, teste = 77.30\n",
            "Arvore max_depth = 21, min_samples_leaf = 128, treino = 79.21, teste = 78.22\n",
            "Arvore max_depth = 21, min_samples_leaf = 256, treino = 78.90, teste = 77.85\n",
            "Arvore max_depth = 22, min_samples_leaf = 32, treino = 80.88, teste = 76.87\n",
            "Arvore max_depth = 22, min_samples_leaf = 64, treino = 79.79, teste = 77.30\n",
            "Arvore max_depth = 22, min_samples_leaf = 128, treino = 79.21, teste = 78.22\n",
            "Arvore max_depth = 22, min_samples_leaf = 256, treino = 78.90, teste = 77.85\n",
            "Arvore max_depth = 23, min_samples_leaf = 32, treino = 80.88, teste = 76.87\n",
            "Arvore max_depth = 23, min_samples_leaf = 64, treino = 79.79, teste = 77.30\n",
            "Arvore max_depth = 23, min_samples_leaf = 128, treino = 79.21, teste = 78.22\n",
            "Arvore max_depth = 23, min_samples_leaf = 256, treino = 78.90, teste = 77.85\n",
            "Arvore max_depth = 24, min_samples_leaf = 32, treino = 80.89, teste = 76.84\n",
            "Arvore max_depth = 24, min_samples_leaf = 64, treino = 79.79, teste = 77.30\n",
            "Arvore max_depth = 24, min_samples_leaf = 128, treino = 79.21, teste = 78.22\n",
            "Arvore max_depth = 24, min_samples_leaf = 256, treino = 78.90, teste = 77.85\n",
            "Arvore max_depth = 25, min_samples_leaf = 32, treino = 80.89, teste = 76.84\n",
            "Arvore max_depth = 25, min_samples_leaf = 64, treino = 79.79, teste = 77.30\n",
            "Arvore max_depth = 25, min_samples_leaf = 128, treino = 79.21, teste = 78.22\n",
            "Arvore max_depth = 25, min_samples_leaf = 256, treino = 78.90, teste = 77.85\n",
            "Arvore max_depth = 26, min_samples_leaf = 32, treino = 80.89, teste = 76.84\n",
            "Arvore max_depth = 26, min_samples_leaf = 64, treino = 79.79, teste = 77.30\n",
            "Arvore max_depth = 26, min_samples_leaf = 128, treino = 79.21, teste = 78.22\n",
            "Arvore max_depth = 26, min_samples_leaf = 256, treino = 78.90, teste = 77.85\n",
            "Arvore max_depth = 27, min_samples_leaf = 32, treino = 80.89, teste = 76.84\n",
            "Arvore max_depth = 27, min_samples_leaf = 64, treino = 79.79, teste = 77.30\n",
            "Arvore max_depth = 27, min_samples_leaf = 128, treino = 79.21, teste = 78.22\n",
            "Arvore max_depth = 27, min_samples_leaf = 256, treino = 78.90, teste = 77.85\n",
            "Arvore max_depth = 28, min_samples_leaf = 32, treino = 80.89, teste = 76.84\n",
            "Arvore max_depth = 28, min_samples_leaf = 64, treino = 79.79, teste = 77.30\n",
            "Arvore max_depth = 28, min_samples_leaf = 128, treino = 79.21, teste = 78.22\n",
            "Arvore max_depth = 28, min_samples_leaf = 256, treino = 78.90, teste = 77.85\n",
            "Arvore max_depth = 29, min_samples_leaf = 32, treino = 80.89, teste = 76.84\n",
            "Arvore max_depth = 29, min_samples_leaf = 64, treino = 79.79, teste = 77.30\n",
            "Arvore max_depth = 29, min_samples_leaf = 128, treino = 79.21, teste = 78.22\n",
            "Arvore max_depth = 29, min_samples_leaf = 256, treino = 78.90, teste = 77.85\n",
            "Arvore max_depth = 30, min_samples_leaf = 32, treino = 80.89, teste = 76.84\n",
            "Arvore max_depth = 30, min_samples_leaf = 64, treino = 79.79, teste = 77.30\n",
            "Arvore max_depth = 30, min_samples_leaf = 128, treino = 79.21, teste = 78.22\n",
            "Arvore max_depth = 30, min_samples_leaf = 256, treino = 78.90, teste = 77.85\n",
            "Arvore max_depth = 31, min_samples_leaf = 32, treino = 80.89, teste = 76.84\n",
            "Arvore max_depth = 31, min_samples_leaf = 64, treino = 79.79, teste = 77.30\n",
            "Arvore max_depth = 31, min_samples_leaf = 128, treino = 79.21, teste = 78.22\n",
            "Arvore max_depth = 31, min_samples_leaf = 256, treino = 78.90, teste = 77.85\n",
            "Arvore max_depth = 32, min_samples_leaf = 32, treino = 80.89, teste = 76.84\n",
            "Arvore max_depth = 32, min_samples_leaf = 64, treino = 79.79, teste = 77.30\n",
            "Arvore max_depth = 32, min_samples_leaf = 128, treino = 79.21, teste = 78.22\n",
            "Arvore max_depth = 32, min_samples_leaf = 256, treino = 78.90, teste = 77.85\n"
          ]
        },
        {
          "data": {
            "text/html": [
              "<div>\n",
              "<style scoped>\n",
              "    .dataframe tbody tr th:only-of-type {\n",
              "        vertical-align: middle;\n",
              "    }\n",
              "\n",
              "    .dataframe tbody tr th {\n",
              "        vertical-align: top;\n",
              "    }\n",
              "\n",
              "    .dataframe thead th {\n",
              "        text-align: right;\n",
              "    }\n",
              "</style>\n",
              "<table border=\"1\" class=\"dataframe\">\n",
              "  <thead>\n",
              "    <tr style=\"text-align: right;\">\n",
              "      <th></th>\n",
              "      <th>max_depth</th>\n",
              "      <th>min_samples_leaf</th>\n",
              "      <th>train</th>\n",
              "      <th>test</th>\n",
              "    </tr>\n",
              "  </thead>\n",
              "  <tbody>\n",
              "    <tr>\n",
              "      <th>0</th>\n",
              "      <td>1</td>\n",
              "      <td>32</td>\n",
              "      <td>75.791169</td>\n",
              "      <td>75.784219</td>\n",
              "    </tr>\n",
              "    <tr>\n",
              "      <th>1</th>\n",
              "      <td>1</td>\n",
              "      <td>64</td>\n",
              "      <td>75.791169</td>\n",
              "      <td>75.784219</td>\n",
              "    </tr>\n",
              "    <tr>\n",
              "      <th>2</th>\n",
              "      <td>1</td>\n",
              "      <td>128</td>\n",
              "      <td>75.791169</td>\n",
              "      <td>75.784219</td>\n",
              "    </tr>\n",
              "    <tr>\n",
              "      <th>3</th>\n",
              "      <td>1</td>\n",
              "      <td>256</td>\n",
              "      <td>75.791169</td>\n",
              "      <td>75.784219</td>\n",
              "    </tr>\n",
              "    <tr>\n",
              "      <th>4</th>\n",
              "      <td>2</td>\n",
              "      <td>32</td>\n",
              "      <td>75.791169</td>\n",
              "      <td>75.784219</td>\n",
              "    </tr>\n",
              "  </tbody>\n",
              "</table>\n",
              "</div>"
            ],
            "text/plain": [
              "   max_depth  min_samples_leaf      train       test\n",
              "0          1                32  75.791169  75.784219\n",
              "1          1                64  75.791169  75.784219\n",
              "2          1               128  75.791169  75.784219\n",
              "3          1               256  75.791169  75.784219\n",
              "4          2                32  75.791169  75.784219"
            ]
          },
          "execution_count": 21,
          "metadata": {},
          "output_type": "execute_result"
        }
      ],
      "source": [
        "def roda_arvore_de_decisao(max_depth, min_samples_leaf):\n",
        "  SEED = 301\n",
        "  np.random.seed(SEED)\n",
        "\n",
        "  cv = GroupKFold(n_splits = 10)\n",
        "  modelo = DecisionTreeClassifier(max_depth=max_depth, min_samples_leaf = min_samples_leaf)\n",
        "  results = cross_validate(modelo, x_azar, y_azar, cv = cv, groups = dados.modelo, return_train_score=True)\n",
        "  train_score = results['train_score'].mean() * 100\n",
        "  test_score = results['test_score'].mean() * 100\n",
        "  print(\"Arvore max_depth = %d, min_samples_leaf = %d, treino = %.2f, teste = %.2f\" % (max_depth, min_samples_leaf, train_score, test_score))\n",
        "  tabela = [max_depth, min_samples_leaf, train_score, test_score]\n",
        "  return tabela\n",
        "\n",
        "def busca():\n",
        "  resultados = []\n",
        "  for max_depth in range(1,33):\n",
        "    for min_samples_leaf in [32, 64, 128, 256]:\n",
        "      tabela = roda_arvore_de_decisao(max_depth, min_samples_leaf)\n",
        "      resultados.append(tabela)\n",
        "  resultados = pd.DataFrame(resultados, columns= [\"max_depth\",\"min_samples_leaf\",\"train\",\"test\"])\n",
        "  return resultados\n",
        "\n",
        "resultados = busca()\n",
        "resultados.head()"
      ]
    },
    {
      "cell_type": "code",
      "execution_count": 22,
      "metadata": {
        "colab": {
          "base_uri": "https://localhost:8080/",
          "height": 195
        },
        "colab_type": "code",
        "id": "FEl16TSwdQgW",
        "outputId": "fc9d64cb-cdce-4f25-ffa2-682fd581513a"
      },
      "outputs": [
        {
          "data": {
            "text/html": [
              "<div>\n",
              "<style scoped>\n",
              "    .dataframe tbody tr th:only-of-type {\n",
              "        vertical-align: middle;\n",
              "    }\n",
              "\n",
              "    .dataframe tbody tr th {\n",
              "        vertical-align: top;\n",
              "    }\n",
              "\n",
              "    .dataframe thead th {\n",
              "        text-align: right;\n",
              "    }\n",
              "</style>\n",
              "<table border=\"1\" class=\"dataframe\">\n",
              "  <thead>\n",
              "    <tr style=\"text-align: right;\">\n",
              "      <th></th>\n",
              "      <th>max_depth</th>\n",
              "      <th>min_samples_leaf</th>\n",
              "      <th>train</th>\n",
              "      <th>test</th>\n",
              "    </tr>\n",
              "  </thead>\n",
              "  <tbody>\n",
              "    <tr>\n",
              "      <th>15</th>\n",
              "      <td>4</td>\n",
              "      <td>256</td>\n",
              "      <td>78.750993</td>\n",
              "      <td>78.672633</td>\n",
              "    </tr>\n",
              "    <tr>\n",
              "      <th>12</th>\n",
              "      <td>4</td>\n",
              "      <td>32</td>\n",
              "      <td>78.750993</td>\n",
              "      <td>78.672633</td>\n",
              "    </tr>\n",
              "    <tr>\n",
              "      <th>14</th>\n",
              "      <td>4</td>\n",
              "      <td>128</td>\n",
              "      <td>78.750993</td>\n",
              "      <td>78.672633</td>\n",
              "    </tr>\n",
              "    <tr>\n",
              "      <th>13</th>\n",
              "      <td>4</td>\n",
              "      <td>64</td>\n",
              "      <td>78.750993</td>\n",
              "      <td>78.672633</td>\n",
              "    </tr>\n",
              "    <tr>\n",
              "      <th>8</th>\n",
              "      <td>3</td>\n",
              "      <td>32</td>\n",
              "      <td>78.750993</td>\n",
              "      <td>78.672633</td>\n",
              "    </tr>\n",
              "  </tbody>\n",
              "</table>\n",
              "</div>"
            ],
            "text/plain": [
              "    max_depth  min_samples_leaf      train       test\n",
              "15          4               256  78.750993  78.672633\n",
              "12          4                32  78.750993  78.672633\n",
              "14          4               128  78.750993  78.672633\n",
              "13          4                64  78.750993  78.672633\n",
              "8           3                32  78.750993  78.672633"
            ]
          },
          "execution_count": 22,
          "metadata": {},
          "output_type": "execute_result"
        }
      ],
      "source": [
        "resultados.sort_values(\"test\", ascending=False).head()"
      ]
    },
    {
      "cell_type": "code",
      "execution_count": 23,
      "metadata": {
        "colab": {
          "base_uri": "https://localhost:8080/",
          "height": 166
        },
        "colab_type": "code",
        "id": "lZsBCpgRd6Yh",
        "outputId": "31685b91-cbd8-4769-c9ce-aca5ec2cde09"
      },
      "outputs": [
        {
          "data": {
            "text/html": [
              "<div>\n",
              "<style scoped>\n",
              "    .dataframe tbody tr th:only-of-type {\n",
              "        vertical-align: middle;\n",
              "    }\n",
              "\n",
              "    .dataframe tbody tr th {\n",
              "        vertical-align: top;\n",
              "    }\n",
              "\n",
              "    .dataframe thead th {\n",
              "        text-align: right;\n",
              "    }\n",
              "</style>\n",
              "<table border=\"1\" class=\"dataframe\">\n",
              "  <thead>\n",
              "    <tr style=\"text-align: right;\">\n",
              "      <th></th>\n",
              "      <th>max_depth</th>\n",
              "      <th>min_samples_leaf</th>\n",
              "      <th>train</th>\n",
              "      <th>test</th>\n",
              "    </tr>\n",
              "  </thead>\n",
              "  <tbody>\n",
              "    <tr>\n",
              "      <th>max_depth</th>\n",
              "      <td>1.000000e+00</td>\n",
              "      <td>-2.780775e-16</td>\n",
              "      <td>0.536705</td>\n",
              "      <td>-0.027675</td>\n",
              "    </tr>\n",
              "    <tr>\n",
              "      <th>min_samples_leaf</th>\n",
              "      <td>-2.780775e-16</td>\n",
              "      <td>1.000000e+00</td>\n",
              "      <td>-0.409676</td>\n",
              "      <td>0.349011</td>\n",
              "    </tr>\n",
              "    <tr>\n",
              "      <th>train</th>\n",
              "      <td>5.367048e-01</td>\n",
              "      <td>-4.096762e-01</td>\n",
              "      <td>1.000000</td>\n",
              "      <td>0.116466</td>\n",
              "    </tr>\n",
              "    <tr>\n",
              "      <th>test</th>\n",
              "      <td>-2.767507e-02</td>\n",
              "      <td>3.490111e-01</td>\n",
              "      <td>0.116466</td>\n",
              "      <td>1.000000</td>\n",
              "    </tr>\n",
              "  </tbody>\n",
              "</table>\n",
              "</div>"
            ],
            "text/plain": [
              "                     max_depth  min_samples_leaf     train      test\n",
              "max_depth         1.000000e+00     -2.780775e-16  0.536705 -0.027675\n",
              "min_samples_leaf -2.780775e-16      1.000000e+00 -0.409676  0.349011\n",
              "train             5.367048e-01     -4.096762e-01  1.000000  0.116466\n",
              "test             -2.767507e-02      3.490111e-01  0.116466  1.000000"
            ]
          },
          "execution_count": 23,
          "metadata": {},
          "output_type": "execute_result"
        }
      ],
      "source": [
        "corr = resultados.corr()\n",
        "corr"
      ]
    },
    {
      "cell_type": "code",
      "execution_count": 24,
      "metadata": {
        "colab": {
          "base_uri": "https://localhost:8080/",
          "height": 365
        },
        "colab_type": "code",
        "id": "AdxtFwmZfmck",
        "outputId": "ede38ee9-12de-45f4-b2a1-c1986982a8ce"
      },
      "outputs": [
        {
          "data": {
            "text/plain": [
              "<Axes: >"
            ]
          },
          "execution_count": 24,
          "metadata": {},
          "output_type": "execute_result"
        },
        {
          "data": {
            "image/png": "[encoded data removed]",
            "text/plain": [
              "<Figure size 640x480 with 2 Axes>"
            ]
          },
          "metadata": {},
          "output_type": "display_data"
        }
      ],
      "source": [
        "sns.heatmap(corr)"
      ]
    },
    {
      "cell_type": "code",
      "execution_count": 26,
      "metadata": {
        "colab": {
          "base_uri": "https://localhost:8080/",
          "height": 845
        },
        "colab_type": "code",
        "id": "UWQaVyE-gKHI",
        "outputId": "5d2fefbe-e789-478f-c464-1f564a09ebc6"
      },
      "outputs": [
        {
          "data": {
            "text/plain": [
              "array([[<Axes: xlabel='max_depth', ylabel='max_depth'>,\n",
              "        <Axes: xlabel='min_samples_leaf', ylabel='max_depth'>,\n",
              "        <Axes: xlabel='train', ylabel='max_depth'>,\n",
              "        <Axes: xlabel='test', ylabel='max_depth'>],\n",
              "       [<Axes: xlabel='max_depth', ylabel='min_samples_leaf'>,\n",
              "        <Axes: xlabel='min_samples_leaf', ylabel='min_samples_leaf'>,\n",
              "        <Axes: xlabel='train', ylabel='min_samples_leaf'>,\n",
              "        <Axes: xlabel='test', ylabel='min_samples_leaf'>],\n",
              "       [<Axes: xlabel='max_depth', ylabel='train'>,\n",
              "        <Axes: xlabel='min_samples_leaf', ylabel='train'>,\n",
              "        <Axes: xlabel='train', ylabel='train'>,\n",
              "        <Axes: xlabel='test', ylabel='train'>],\n",
              "       [<Axes: xlabel='max_depth', ylabel='test'>,\n",
              "        <Axes: xlabel='min_samples_leaf', ylabel='test'>,\n",
              "        <Axes: xlabel='train', ylabel='test'>,\n",
              "        <Axes: xlabel='test', ylabel='test'>]], dtype=object)"
            ]
          },
          "execution_count": 26,
          "metadata": {},
          "output_type": "execute_result"
        },
        {
          "data": {
            "image/png": "[encoded data removed]",
            "text/plain": [
              "<Figure size 1400x800 with 16 Axes>"
            ]
          },
          "metadata": {},
          "output_type": "display_data"
        }
      ],
      "source": [
        "pd.plotting.scatter_matrix(resultados, figsize = (14, 8), alpha = 0.3)"
      ]
    },
    {
      "cell_type": "code",
      "execution_count": 27,
      "metadata": {
        "colab": {
          "base_uri": "https://localhost:8080/",
          "height": 746
        },
        "colab_type": "code",
        "id": "AcQnhOM3gnJ-",
        "outputId": "87f86d66-792a-4b17-fc84-993c75582a8d"
      },
      "outputs": [
        {
          "data": {
            "text/plain": [
              "<seaborn.axisgrid.PairGrid at 0x7f01fb8fc850>"
            ]
          },
          "execution_count": 27,
          "metadata": {},
          "output_type": "execute_result"
        },
        {
          "data": {
            "image/png": "[encoded data removed]",
            "text/plain": [
              "<Figure size 1000x1000 with 20 Axes>"
            ]
          },
          "metadata": {},
          "output_type": "display_data"
        }
      ],
      "source": [
        "sns.pairplot(resultados)"
      ]
    },
    {
      "cell_type": "code",
      "execution_count": 42,
      "metadata": {
        "colab": {
          "base_uri": "https://localhost:8080/",
          "height": 564
        },
        "colab_type": "code",
        "id": "sH5F3Gd8hAFG",
        "outputId": "bc6efbdc-f2f3-4ee5-9b96-6479fd8ad923"
      },
      "outputs": [
        {
          "data": {
            "text/plain": [
              "<Axes: >"
            ]
          },
          "execution_count": 42,
          "metadata": {},
          "output_type": "execute_result"
        },
        {
          "data": {
            "image/png": "[encoded data removed]",
            "text/plain": [
              "<Figure size 1100x900 with 2 Axes>"
            ]
          },
          "metadata": {},
          "output_type": "display_data"
        }
      ],
      "source": [
        "# Set up the matplotlib figure\n",
        "f, ax = plt.subplots(figsize=(11, 9))\n",
        "\n",
        "# Draw the heatmap with the mask and correct aspect ratio\n",
        "sns.heatmap(corr, vmax=.3, center=0,\n",
        "            square=True, linewidths=.5, cbar_kws={\"shrink\": .5})"
      ]
    },
    {
      "cell_type": "code",
      "execution_count": 29,
      "metadata": {
        "colab": {
          "base_uri": "https://localhost:8080/",
          "height": 2346
        },
        "colab_type": "code",
        "id": "fa3AUdNZiBEs",
        "outputId": "ca88efaa-d4e9-4494-85c0-46d404436308"
      },
      "outputs": [
        {
          "name": "stdout",
          "output_type": "stream",
          "text": [
            "Arvore max_depth = 1, min_samples_leaf = 128, treino = 75.79, teste = 75.78\n",
            "Arvore max_depth = 1, min_samples_leaf = 192, treino = 75.79, teste = 75.78\n",
            "Arvore max_depth = 1, min_samples_leaf = 256, treino = 75.79, teste = 75.78\n",
            "Arvore max_depth = 1, min_samples_leaf = 512, treino = 75.79, teste = 75.78\n",
            "Arvore max_depth = 2, min_samples_leaf = 128, treino = 75.79, teste = 75.78\n",
            "Arvore max_depth = 2, min_samples_leaf = 192, treino = 75.79, teste = 75.78\n",
            "Arvore max_depth = 2, min_samples_leaf = 256, treino = 75.79, teste = 75.78\n",
            "Arvore max_depth = 2, min_samples_leaf = 512, treino = 75.79, teste = 75.78\n",
            "Arvore max_depth = 3, min_samples_leaf = 128, treino = 78.75, teste = 78.67\n",
            "Arvore max_depth = 3, min_samples_leaf = 192, treino = 78.75, teste = 78.67\n",
            "Arvore max_depth = 3, min_samples_leaf = 256, treino = 78.75, teste = 78.67\n",
            "Arvore max_depth = 3, min_samples_leaf = 512, treino = 77.53, teste = 77.50\n",
            "Arvore max_depth = 4, min_samples_leaf = 128, treino = 78.75, teste = 78.67\n",
            "Arvore max_depth = 4, min_samples_leaf = 192, treino = 78.75, teste = 78.67\n",
            "Arvore max_depth = 4, min_samples_leaf = 256, treino = 78.75, teste = 78.67\n",
            "Arvore max_depth = 4, min_samples_leaf = 512, treino = 77.53, teste = 77.50\n",
            "Arvore max_depth = 5, min_samples_leaf = 128, treino = 78.77, teste = 78.44\n",
            "Arvore max_depth = 5, min_samples_leaf = 192, treino = 78.77, teste = 78.44\n",
            "Arvore max_depth = 5, min_samples_leaf = 256, treino = 78.77, teste = 78.44\n",
            "Arvore max_depth = 5, min_samples_leaf = 512, treino = 77.53, teste = 77.50\n",
            "Arvore max_depth = 6, min_samples_leaf = 128, treino = 78.85, teste = 78.27\n",
            "Arvore max_depth = 6, min_samples_leaf = 192, treino = 78.79, teste = 78.31\n",
            "Arvore max_depth = 6, min_samples_leaf = 256, treino = 78.79, teste = 78.27\n",
            "Arvore max_depth = 6, min_samples_leaf = 512, treino = 77.53, teste = 77.50\n",
            "Arvore max_depth = 7, min_samples_leaf = 128, treino = 79.01, teste = 78.21\n",
            "Arvore max_depth = 7, min_samples_leaf = 192, treino = 78.92, teste = 78.10\n",
            "Arvore max_depth = 7, min_samples_leaf = 256, treino = 78.85, teste = 78.08\n",
            "Arvore max_depth = 7, min_samples_leaf = 512, treino = 77.53, teste = 77.50\n",
            "Arvore max_depth = 8, min_samples_leaf = 128, treino = 79.05, teste = 78.37\n",
            "Arvore max_depth = 8, min_samples_leaf = 192, treino = 78.98, teste = 78.20\n",
            "Arvore max_depth = 8, min_samples_leaf = 256, treino = 78.89, teste = 77.94\n",
            "Arvore max_depth = 8, min_samples_leaf = 512, treino = 77.53, teste = 77.50\n",
            "Arvore max_depth = 9, min_samples_leaf = 128, treino = 79.12, teste = 78.30\n",
            "Arvore max_depth = 9, min_samples_leaf = 192, treino = 78.99, teste = 78.11\n",
            "Arvore max_depth = 9, min_samples_leaf = 256, treino = 78.90, teste = 77.85\n",
            "Arvore max_depth = 9, min_samples_leaf = 512, treino = 77.53, teste = 77.50\n",
            "Arvore max_depth = 10, min_samples_leaf = 128, treino = 79.16, teste = 78.29\n",
            "Arvore max_depth = 10, min_samples_leaf = 192, treino = 79.01, teste = 78.05\n",
            "Arvore max_depth = 10, min_samples_leaf = 256, treino = 78.90, teste = 77.85\n",
            "Arvore max_depth = 10, min_samples_leaf = 512, treino = 77.53, teste = 77.50\n",
            "Arvore max_depth = 11, min_samples_leaf = 128, treino = 79.19, teste = 78.31\n",
            "Arvore max_depth = 11, min_samples_leaf = 192, treino = 79.01, teste = 78.05\n",
            "Arvore max_depth = 11, min_samples_leaf = 256, treino = 78.90, teste = 77.85\n",
            "Arvore max_depth = 11, min_samples_leaf = 512, treino = 77.53, teste = 77.50\n",
            "Arvore max_depth = 12, min_samples_leaf = 128, treino = 79.21, teste = 78.22\n",
            "Arvore max_depth = 12, min_samples_leaf = 192, treino = 79.01, teste = 78.05\n",
            "Arvore max_depth = 12, min_samples_leaf = 256, treino = 78.90, teste = 77.85\n",
            "Arvore max_depth = 12, min_samples_leaf = 512, treino = 77.53, teste = 77.50\n",
            "Arvore max_depth = 13, min_samples_leaf = 128, treino = 79.21, teste = 78.22\n",
            "Arvore max_depth = 13, min_samples_leaf = 192, treino = 79.01, teste = 78.05\n",
            "Arvore max_depth = 13, min_samples_leaf = 256, treino = 78.90, teste = 77.85\n",
            "Arvore max_depth = 13, min_samples_leaf = 512, treino = 77.53, teste = 77.50\n",
            "Arvore max_depth = 14, min_samples_leaf = 128, treino = 79.21, teste = 78.22\n",
            "Arvore max_depth = 14, min_samples_leaf = 192, treino = 79.01, teste = 78.05\n",
            "Arvore max_depth = 14, min_samples_leaf = 256, treino = 78.90, teste = 77.85\n",
            "Arvore max_depth = 14, min_samples_leaf = 512, treino = 77.53, teste = 77.50\n",
            "Arvore max_depth = 15, min_samples_leaf = 128, treino = 79.21, teste = 78.22\n",
            "Arvore max_depth = 15, min_samples_leaf = 192, treino = 79.01, teste = 78.05\n",
            "Arvore max_depth = 15, min_samples_leaf = 256, treino = 78.90, teste = 77.85\n",
            "Arvore max_depth = 15, min_samples_leaf = 512, treino = 77.53, teste = 77.50\n",
            "Arvore max_depth = 16, min_samples_leaf = 128, treino = 79.21, teste = 78.22\n",
            "Arvore max_depth = 16, min_samples_leaf = 192, treino = 79.01, teste = 78.05\n",
            "Arvore max_depth = 16, min_samples_leaf = 256, treino = 78.90, teste = 77.85\n",
            "Arvore max_depth = 16, min_samples_leaf = 512, treino = 77.53, teste = 77.50\n",
            "Arvore max_depth = 17, min_samples_leaf = 128, treino = 79.21, teste = 78.22\n",
            "Arvore max_depth = 17, min_samples_leaf = 192, treino = 79.01, teste = 78.05\n",
            "Arvore max_depth = 17, min_samples_leaf = 256, treino = 78.90, teste = 77.85\n",
            "Arvore max_depth = 17, min_samples_leaf = 512, treino = 77.53, teste = 77.50\n",
            "Arvore max_depth = 18, min_samples_leaf = 128, treino = 79.21, teste = 78.22\n",
            "Arvore max_depth = 18, min_samples_leaf = 192, treino = 79.01, teste = 78.05\n",
            "Arvore max_depth = 18, min_samples_leaf = 256, treino = 78.90, teste = 77.85\n",
            "Arvore max_depth = 18, min_samples_leaf = 512, treino = 77.53, teste = 77.50\n",
            "Arvore max_depth = 19, min_samples_leaf = 128, treino = 79.21, teste = 78.22\n",
            "Arvore max_depth = 19, min_samples_leaf = 192, treino = 79.01, teste = 78.05\n",
            "Arvore max_depth = 19, min_samples_leaf = 256, treino = 78.90, teste = 77.85\n",
            "Arvore max_depth = 19, min_samples_leaf = 512, treino = 77.53, teste = 77.50\n",
            "Arvore max_depth = 20, min_samples_leaf = 128, treino = 79.21, teste = 78.22\n",
            "Arvore max_depth = 20, min_samples_leaf = 192, treino = 79.01, teste = 78.05\n",
            "Arvore max_depth = 20, min_samples_leaf = 256, treino = 78.90, teste = 77.85\n",
            "Arvore max_depth = 20, min_samples_leaf = 512, treino = 77.53, teste = 77.50\n",
            "Arvore max_depth = 21, min_samples_leaf = 128, treino = 79.21, teste = 78.22\n",
            "Arvore max_depth = 21, min_samples_leaf = 192, treino = 79.01, teste = 78.05\n",
            "Arvore max_depth = 21, min_samples_leaf = 256, treino = 78.90, teste = 77.85\n",
            "Arvore max_depth = 21, min_samples_leaf = 512, treino = 77.53, teste = 77.50\n",
            "Arvore max_depth = 22, min_samples_leaf = 128, treino = 79.21, teste = 78.22\n",
            "Arvore max_depth = 22, min_samples_leaf = 192, treino = 79.01, teste = 78.05\n",
            "Arvore max_depth = 22, min_samples_leaf = 256, treino = 78.90, teste = 77.85\n",
            "Arvore max_depth = 22, min_samples_leaf = 512, treino = 77.53, teste = 77.50\n",
            "Arvore max_depth = 23, min_samples_leaf = 128, treino = 79.21, teste = 78.22\n",
            "Arvore max_depth = 23, min_samples_leaf = 192, treino = 79.01, teste = 78.05\n",
            "Arvore max_depth = 23, min_samples_leaf = 256, treino = 78.90, teste = 77.85\n",
            "Arvore max_depth = 23, min_samples_leaf = 512, treino = 77.53, teste = 77.50\n",
            "Arvore max_depth = 24, min_samples_leaf = 128, treino = 79.21, teste = 78.22\n",
            "Arvore max_depth = 24, min_samples_leaf = 192, treino = 79.01, teste = 78.05\n",
            "Arvore max_depth = 24, min_samples_leaf = 256, treino = 78.90, teste = 77.85\n",
            "Arvore max_depth = 24, min_samples_leaf = 512, treino = 77.53, teste = 77.50\n",
            "Arvore max_depth = 25, min_samples_leaf = 128, treino = 79.21, teste = 78.22\n",
            "Arvore max_depth = 25, min_samples_leaf = 192, treino = 79.01, teste = 78.05\n",
            "Arvore max_depth = 25, min_samples_leaf = 256, treino = 78.90, teste = 77.85\n",
            "Arvore max_depth = 25, min_samples_leaf = 512, treino = 77.53, teste = 77.50\n",
            "Arvore max_depth = 26, min_samples_leaf = 128, treino = 79.21, teste = 78.22\n",
            "Arvore max_depth = 26, min_samples_leaf = 192, treino = 79.01, teste = 78.05\n",
            "Arvore max_depth = 26, min_samples_leaf = 256, treino = 78.90, teste = 77.85\n",
            "Arvore max_depth = 26, min_samples_leaf = 512, treino = 77.53, teste = 77.50\n",
            "Arvore max_depth = 27, min_samples_leaf = 128, treino = 79.21, teste = 78.22\n",
            "Arvore max_depth = 27, min_samples_leaf = 192, treino = 79.01, teste = 78.05\n",
            "Arvore max_depth = 27, min_samples_leaf = 256, treino = 78.90, teste = 77.85\n",
            "Arvore max_depth = 27, min_samples_leaf = 512, treino = 77.53, teste = 77.50\n",
            "Arvore max_depth = 28, min_samples_leaf = 128, treino = 79.21, teste = 78.22\n",
            "Arvore max_depth = 28, min_samples_leaf = 192, treino = 79.01, teste = 78.05\n",
            "Arvore max_depth = 28, min_samples_leaf = 256, treino = 78.90, teste = 77.85\n",
            "Arvore max_depth = 28, min_samples_leaf = 512, treino = 77.53, teste = 77.50\n",
            "Arvore max_depth = 29, min_samples_leaf = 128, treino = 79.21, teste = 78.22\n",
            "Arvore max_depth = 29, min_samples_leaf = 192, treino = 79.01, teste = 78.05\n",
            "Arvore max_depth = 29, min_samples_leaf = 256, treino = 78.90, teste = 77.85\n",
            "Arvore max_depth = 29, min_samples_leaf = 512, treino = 77.53, teste = 77.50\n",
            "Arvore max_depth = 30, min_samples_leaf = 128, treino = 79.21, teste = 78.22\n",
            "Arvore max_depth = 30, min_samples_leaf = 192, treino = 79.01, teste = 78.05\n",
            "Arvore max_depth = 30, min_samples_leaf = 256, treino = 78.90, teste = 77.85\n",
            "Arvore max_depth = 30, min_samples_leaf = 512, treino = 77.53, teste = 77.50\n",
            "Arvore max_depth = 31, min_samples_leaf = 128, treino = 79.21, teste = 78.22\n",
            "Arvore max_depth = 31, min_samples_leaf = 192, treino = 79.01, teste = 78.05\n",
            "Arvore max_depth = 31, min_samples_leaf = 256, treino = 78.90, teste = 77.85\n",
            "Arvore max_depth = 31, min_samples_leaf = 512, treino = 77.53, teste = 77.50\n",
            "Arvore max_depth = 32, min_samples_leaf = 128, treino = 79.21, teste = 78.22\n",
            "Arvore max_depth = 32, min_samples_leaf = 192, treino = 79.01, teste = 78.05\n",
            "Arvore max_depth = 32, min_samples_leaf = 256, treino = 78.90, teste = 77.85\n",
            "Arvore max_depth = 32, min_samples_leaf = 512, treino = 77.53, teste = 77.50\n"
          ]
        },
        {
          "data": {
            "text/html": [
              "<div>\n",
              "<style scoped>\n",
              "    .dataframe tbody tr th:only-of-type {\n",
              "        vertical-align: middle;\n",
              "    }\n",
              "\n",
              "    .dataframe tbody tr th {\n",
              "        vertical-align: top;\n",
              "    }\n",
              "\n",
              "    .dataframe thead th {\n",
              "        text-align: right;\n",
              "    }\n",
              "</style>\n",
              "<table border=\"1\" class=\"dataframe\">\n",
              "  <thead>\n",
              "    <tr style=\"text-align: right;\">\n",
              "      <th></th>\n",
              "      <th>max_depth</th>\n",
              "      <th>min_samples_leaf</th>\n",
              "      <th>train</th>\n",
              "      <th>test</th>\n",
              "    </tr>\n",
              "  </thead>\n",
              "  <tbody>\n",
              "    <tr>\n",
              "      <th>0</th>\n",
              "      <td>1</td>\n",
              "      <td>128</td>\n",
              "      <td>75.791169</td>\n",
              "      <td>75.784219</td>\n",
              "    </tr>\n",
              "    <tr>\n",
              "      <th>1</th>\n",
              "      <td>1</td>\n",
              "      <td>192</td>\n",
              "      <td>75.791169</td>\n",
              "      <td>75.784219</td>\n",
              "    </tr>\n",
              "    <tr>\n",
              "      <th>2</th>\n",
              "      <td>1</td>\n",
              "      <td>256</td>\n",
              "      <td>75.791169</td>\n",
              "      <td>75.784219</td>\n",
              "    </tr>\n",
              "    <tr>\n",
              "      <th>3</th>\n",
              "      <td>1</td>\n",
              "      <td>512</td>\n",
              "      <td>75.791169</td>\n",
              "      <td>75.784219</td>\n",
              "    </tr>\n",
              "    <tr>\n",
              "      <th>4</th>\n",
              "      <td>2</td>\n",
              "      <td>128</td>\n",
              "      <td>75.791169</td>\n",
              "      <td>75.784219</td>\n",
              "    </tr>\n",
              "  </tbody>\n",
              "</table>\n",
              "</div>"
            ],
            "text/plain": [
              "   max_depth  min_samples_leaf      train       test\n",
              "0          1               128  75.791169  75.784219\n",
              "1          1               192  75.791169  75.784219\n",
              "2          1               256  75.791169  75.784219\n",
              "3          1               512  75.791169  75.784219\n",
              "4          2               128  75.791169  75.784219"
            ]
          },
          "execution_count": 29,
          "metadata": {},
          "output_type": "execute_result"
        }
      ],
      "source": [
        "def busca():\n",
        "  resultados = []\n",
        "  for max_depth in range(1,33):\n",
        "    for min_samples_leaf in [128, 192, 256, 512]:\n",
        "      tabela = roda_arvore_de_decisao(max_depth, min_samples_leaf)\n",
        "      resultados.append(tabela)\n",
        "  resultados = pd.DataFrame(resultados, columns= [\"max_depth\",\"min_samples_leaf\",\"train\",\"test\"])\n",
        "  return resultados\n",
        "\n",
        "resultados = busca()\n",
        "resultados.head()"
      ]
    },
    {
      "cell_type": "code",
      "execution_count": 30,
      "metadata": {
        "colab": {},
        "colab_type": "code",
        "id": "GLMt71GYii3A"
      },
      "outputs": [],
      "source": [
        "corr = resultados.corr()"
      ]
    },
    {
      "cell_type": "code",
      "execution_count": 41,
      "metadata": {
        "colab": {
          "base_uri": "https://localhost:8080/",
          "height": 564
        },
        "colab_type": "code",
        "id": "3XjB5-HyinEM",
        "outputId": "9a52e183-ddad-426a-c25f-894f9fa421df"
      },
      "outputs": [
        {
          "data": {
            "text/plain": [
              "<Axes: >"
            ]
          },
          "execution_count": 41,
          "metadata": {},
          "output_type": "execute_result"
        },
        {
          "data": {
            "image/png": "[encoded data removed]",
            "text/plain": [
              "<Figure size 1100x900 with 2 Axes>"
            ]
          },
          "metadata": {},
          "output_type": "display_data"
        }
      ],
      "source": [
        "# Set up the matplotlib figure\n",
        "f, ax = plt.subplots(figsize=(11, 9))\n",
        "# Draw the heatmap with the mask and correct aspect ratio\n",
        "sns.heatmap(corr,  vmax=.3, center=0,\n",
        "            square=True, linewidths=.5, cbar_kws={\"shrink\": .5})"
      ]
    },
    {
      "cell_type": "code",
      "execution_count": 32,
      "metadata": {
        "colab": {
          "base_uri": "https://localhost:8080/",
          "height": 195
        },
        "colab_type": "code",
        "id": "7_yHHDkEiqCC",
        "outputId": "5569f2aa-acf9-4a40-89f0-45e56ed70a21"
      },
      "outputs": [
        {
          "data": {
            "text/html": [
              "<div>\n",
              "<style scoped>\n",
              "    .dataframe tbody tr th:only-of-type {\n",
              "        vertical-align: middle;\n",
              "    }\n",
              "\n",
              "    .dataframe tbody tr th {\n",
              "        vertical-align: top;\n",
              "    }\n",
              "\n",
              "    .dataframe thead th {\n",
              "        text-align: right;\n",
              "    }\n",
              "</style>\n",
              "<table border=\"1\" class=\"dataframe\">\n",
              "  <thead>\n",
              "    <tr style=\"text-align: right;\">\n",
              "      <th></th>\n",
              "      <th>max_depth</th>\n",
              "      <th>min_samples_leaf</th>\n",
              "      <th>train</th>\n",
              "      <th>test</th>\n",
              "    </tr>\n",
              "  </thead>\n",
              "  <tbody>\n",
              "    <tr>\n",
              "      <th>13</th>\n",
              "      <td>4</td>\n",
              "      <td>192</td>\n",
              "      <td>78.750993</td>\n",
              "      <td>78.672633</td>\n",
              "    </tr>\n",
              "    <tr>\n",
              "      <th>8</th>\n",
              "      <td>3</td>\n",
              "      <td>128</td>\n",
              "      <td>78.750993</td>\n",
              "      <td>78.672633</td>\n",
              "    </tr>\n",
              "    <tr>\n",
              "      <th>9</th>\n",
              "      <td>3</td>\n",
              "      <td>192</td>\n",
              "      <td>78.750993</td>\n",
              "      <td>78.672633</td>\n",
              "    </tr>\n",
              "    <tr>\n",
              "      <th>10</th>\n",
              "      <td>3</td>\n",
              "      <td>256</td>\n",
              "      <td>78.750993</td>\n",
              "      <td>78.672633</td>\n",
              "    </tr>\n",
              "    <tr>\n",
              "      <th>14</th>\n",
              "      <td>4</td>\n",
              "      <td>256</td>\n",
              "      <td>78.750993</td>\n",
              "      <td>78.672633</td>\n",
              "    </tr>\n",
              "  </tbody>\n",
              "</table>\n",
              "</div>"
            ],
            "text/plain": [
              "    max_depth  min_samples_leaf      train       test\n",
              "13          4               192  78.750993  78.672633\n",
              "8           3               128  78.750993  78.672633\n",
              "9           3               192  78.750993  78.672633\n",
              "10          3               256  78.750993  78.672633\n",
              "14          4               256  78.750993  78.672633"
            ]
          },
          "execution_count": 32,
          "metadata": {},
          "output_type": "execute_result"
        }
      ],
      "source": [
        "resultados.sort_values(\"test\", ascending=False).head()"
      ]
    },
    {
      "cell_type": "markdown",
      "metadata": {
        "colab_type": "text",
        "id": "pwwC1wHakOvC"
      },
      "source": [
        "# Explorando 3 dimensões de hiper parâmetros"
      ]
    },
    {
      "cell_type": "code",
      "execution_count": 33,
      "metadata": {
        "colab": {
          "base_uri": "https://localhost:8080/",
          "height": 195
        },
        "colab_type": "code",
        "id": "jlCg0np0kSsa",
        "outputId": "c4b1c47c-ba31-49a3-a68f-40804b2df126"
      },
      "outputs": [
        {
          "data": {
            "text/html": [
              "<div>\n",
              "<style scoped>\n",
              "    .dataframe tbody tr th:only-of-type {\n",
              "        vertical-align: middle;\n",
              "    }\n",
              "\n",
              "    .dataframe tbody tr th {\n",
              "        vertical-align: top;\n",
              "    }\n",
              "\n",
              "    .dataframe thead th {\n",
              "        text-align: right;\n",
              "    }\n",
              "</style>\n",
              "<table border=\"1\" class=\"dataframe\">\n",
              "  <thead>\n",
              "    <tr style=\"text-align: right;\">\n",
              "      <th></th>\n",
              "      <th>max_depth</th>\n",
              "      <th>min_samples_leaf</th>\n",
              "      <th>min_samples_split</th>\n",
              "      <th>train</th>\n",
              "      <th>test</th>\n",
              "      <th>fit_time</th>\n",
              "      <th>score_time</th>\n",
              "    </tr>\n",
              "  </thead>\n",
              "  <tbody>\n",
              "    <tr>\n",
              "      <th>0</th>\n",
              "      <td>1</td>\n",
              "      <td>32</td>\n",
              "      <td>32</td>\n",
              "      <td>75.791169</td>\n",
              "      <td>75.784219</td>\n",
              "      <td>0.010236</td>\n",
              "      <td>0.002633</td>\n",
              "    </tr>\n",
              "    <tr>\n",
              "      <th>1</th>\n",
              "      <td>1</td>\n",
              "      <td>32</td>\n",
              "      <td>64</td>\n",
              "      <td>75.791169</td>\n",
              "      <td>75.784219</td>\n",
              "      <td>0.002635</td>\n",
              "      <td>0.000667</td>\n",
              "    </tr>\n",
              "    <tr>\n",
              "      <th>2</th>\n",
              "      <td>1</td>\n",
              "      <td>32</td>\n",
              "      <td>128</td>\n",
              "      <td>75.791169</td>\n",
              "      <td>75.784219</td>\n",
              "      <td>0.002604</td>\n",
              "      <td>0.000663</td>\n",
              "    </tr>\n",
              "    <tr>\n",
              "      <th>3</th>\n",
              "      <td>1</td>\n",
              "      <td>32</td>\n",
              "      <td>256</td>\n",
              "      <td>75.791169</td>\n",
              "      <td>75.784219</td>\n",
              "      <td>0.002610</td>\n",
              "      <td>0.000663</td>\n",
              "    </tr>\n",
              "    <tr>\n",
              "      <th>4</th>\n",
              "      <td>1</td>\n",
              "      <td>64</td>\n",
              "      <td>32</td>\n",
              "      <td>75.791169</td>\n",
              "      <td>75.784219</td>\n",
              "      <td>0.002581</td>\n",
              "      <td>0.000642</td>\n",
              "    </tr>\n",
              "  </tbody>\n",
              "</table>\n",
              "</div>"
            ],
            "text/plain": [
              "   max_depth  min_samples_leaf  min_samples_split      train       test  \\\n",
              "0          1                32                 32  75.791169  75.784219   \n",
              "1          1                32                 64  75.791169  75.784219   \n",
              "2          1                32                128  75.791169  75.784219   \n",
              "3          1                32                256  75.791169  75.784219   \n",
              "4          1                64                 32  75.791169  75.784219   \n",
              "\n",
              "   fit_time  score_time  \n",
              "0  0.010236    0.002633  \n",
              "1  0.002635    0.000667  \n",
              "2  0.002604    0.000663  \n",
              "3  0.002610    0.000663  \n",
              "4  0.002581    0.000642  "
            ]
          },
          "execution_count": 33,
          "metadata": {},
          "output_type": "execute_result"
        }
      ],
      "source": [
        "def roda_arvore_de_decisao(max_depth, min_samples_leaf, min_samples_split):\n",
        "  SEED = 301\n",
        "  np.random.seed(SEED)\n",
        "\n",
        "  cv = GroupKFold(n_splits = 10)\n",
        "  modelo = DecisionTreeClassifier(max_depth=max_depth, min_samples_leaf = min_samples_leaf, min_samples_split = min_samples_split)\n",
        "  results = cross_validate(modelo, x_azar, y_azar, cv = cv, groups = dados.modelo, return_train_score=True)\n",
        "  fit_time = results['fit_time'].mean()\n",
        "  score_time = results['score_time'].mean()\n",
        "  train_score = results['train_score'].mean() * 100\n",
        "  test_score = results['test_score'].mean() * 100\n",
        "  tabela = [max_depth, min_samples_leaf, min_samples_split, train_score, test_score, fit_time, score_time]\n",
        "  return tabela\n",
        "\n",
        "def busca():\n",
        "  resultados = []\n",
        "  for max_depth in range(1,33):\n",
        "    for min_samples_leaf in [32, 64, 128, 256]:\n",
        "      for min_samples_split in [32, 64, 128, 256]:\n",
        "        tabela = roda_arvore_de_decisao(max_depth, min_samples_leaf, min_samples_split)\n",
        "        resultados.append(tabela)\n",
        "  resultados = pd.DataFrame(resultados, columns= [\"max_depth\",\"min_samples_leaf\",\"min_samples_split\",\"train\",\"test\", \"fit_time\", \"score_time\"])\n",
        "  return resultados\n",
        "\n",
        "resultados = busca()\n",
        "resultados.head()"
      ]
    },
    {
      "cell_type": "code",
      "execution_count": 34,
      "metadata": {
        "colab": {},
        "colab_type": "code",
        "id": "vUmCKerTkqdS"
      },
      "outputs": [],
      "source": [
        "corr = resultados.corr()\n"
      ]
    },
    {
      "cell_type": "code",
      "execution_count": 40,
      "metadata": {
        "colab": {
          "base_uri": "https://localhost:8080/",
          "height": 654
        },
        "colab_type": "code",
        "id": "a7d6zbMglbBJ",
        "outputId": "63e661b9-79da-4a7f-f13f-b3b2a8d110ee"
      },
      "outputs": [
        {
          "data": {
            "text/plain": [
              "<Axes: >"
            ]
          },
          "execution_count": 40,
          "metadata": {},
          "output_type": "execute_result"
        },
        {
          "data": {
            "image/png": "[encoded data removed]",
            "text/plain": [
              "<Figure size 1100x900 with 2 Axes>"
            ]
          },
          "metadata": {},
          "output_type": "display_data"
        }
      ],
      "source": [
        "# Set up the matplotlib figure\n",
        "f, ax = plt.subplots(figsize=(11, 9))\n",
        "\n",
        "\n",
        "# Draw the heatmap with the mask and correct aspect ratio\n",
        "sns.heatmap(corr,  vmax=.3, center=0,\n",
        "            square=True, linewidths=.5, cbar_kws={\"shrink\": .5})"
      ]
    },
    {
      "cell_type": "code",
      "execution_count": 43,
      "metadata": {
        "colab": {
          "base_uri": "https://localhost:8080/",
          "height": 195
        },
        "colab_type": "code",
        "id": "YY5vVBEGlctR",
        "outputId": "855cdcbd-8951-4c90-f307-d35fac841790"
      },
      "outputs": [
        {
          "data": {
            "text/html": [
              "<div>\n",
              "<style scoped>\n",
              "    .dataframe tbody tr th:only-of-type {\n",
              "        vertical-align: middle;\n",
              "    }\n",
              "\n",
              "    .dataframe tbody tr th {\n",
              "        vertical-align: top;\n",
              "    }\n",
              "\n",
              "    .dataframe thead th {\n",
              "        text-align: right;\n",
              "    }\n",
              "</style>\n",
              "<table border=\"1\" class=\"dataframe\">\n",
              "  <thead>\n",
              "    <tr style=\"text-align: right;\">\n",
              "      <th></th>\n",
              "      <th>max_depth</th>\n",
              "      <th>min_samples_leaf</th>\n",
              "      <th>min_samples_split</th>\n",
              "      <th>train</th>\n",
              "      <th>test</th>\n",
              "      <th>fit_time</th>\n",
              "      <th>score_time</th>\n",
              "    </tr>\n",
              "  </thead>\n",
              "  <tbody>\n",
              "    <tr>\n",
              "      <th>63</th>\n",
              "      <td>4</td>\n",
              "      <td>256</td>\n",
              "      <td>256</td>\n",
              "      <td>78.750993</td>\n",
              "      <td>78.672633</td>\n",
              "      <td>0.006137</td>\n",
              "      <td>0.000666</td>\n",
              "    </tr>\n",
              "    <tr>\n",
              "      <th>48</th>\n",
              "      <td>4</td>\n",
              "      <td>32</td>\n",
              "      <td>32</td>\n",
              "      <td>78.750993</td>\n",
              "      <td>78.672633</td>\n",
              "      <td>0.006357</td>\n",
              "      <td>0.000685</td>\n",
              "    </tr>\n",
              "    <tr>\n",
              "      <th>34</th>\n",
              "      <td>3</td>\n",
              "      <td>32</td>\n",
              "      <td>128</td>\n",
              "      <td>78.750993</td>\n",
              "      <td>78.672633</td>\n",
              "      <td>0.005354</td>\n",
              "      <td>0.000684</td>\n",
              "    </tr>\n",
              "    <tr>\n",
              "      <th>35</th>\n",
              "      <td>3</td>\n",
              "      <td>32</td>\n",
              "      <td>256</td>\n",
              "      <td>78.750993</td>\n",
              "      <td>78.672633</td>\n",
              "      <td>0.005300</td>\n",
              "      <td>0.000675</td>\n",
              "    </tr>\n",
              "    <tr>\n",
              "      <th>36</th>\n",
              "      <td>3</td>\n",
              "      <td>64</td>\n",
              "      <td>32</td>\n",
              "      <td>78.750993</td>\n",
              "      <td>78.672633</td>\n",
              "      <td>0.012117</td>\n",
              "      <td>0.001736</td>\n",
              "    </tr>\n",
              "  </tbody>\n",
              "</table>\n",
              "</div>"
            ],
            "text/plain": [
              "    max_depth  min_samples_leaf  min_samples_split      train       test  \\\n",
              "63          4               256                256  78.750993  78.672633   \n",
              "48          4                32                 32  78.750993  78.672633   \n",
              "34          3                32                128  78.750993  78.672633   \n",
              "35          3                32                256  78.750993  78.672633   \n",
              "36          3                64                 32  78.750993  78.672633   \n",
              "\n",
              "    fit_time  score_time  \n",
              "63  0.006137    0.000666  \n",
              "48  0.006357    0.000685  \n",
              "34  0.005354    0.000684  \n",
              "35  0.005300    0.000675  \n",
              "36  0.012117    0.001736  "
            ]
          },
          "execution_count": 43,
          "metadata": {},
          "output_type": "execute_result"
        }
      ],
      "source": [
        "resultados.sort_values(\"test\", ascending=False).head()"
      ]
    },
    {
      "cell_type": "markdown",
      "metadata": {
        "colab_type": "text",
        "id": "at5ydyJOqQMv"
      },
      "source": [
        "# Explorando espaço de hiper parâmetros com GridSearchCV"
      ]
    },
    {
      "cell_type": "code",
      "execution_count": 44,
      "metadata": {
        "colab": {
          "base_uri": "https://localhost:8080/",
          "height": 983
        },
        "colab_type": "code",
        "id": "Zb69KkJwljln",
        "outputId": "5a5b77b6-5659-43de-d7ef-6c0b1bcbe64f"
      },
      "outputs": [
        {
          "data": {
            "text/html": [
              "<div>\n",
              "<style scoped>\n",
              "    .dataframe tbody tr th:only-of-type {\n",
              "        vertical-align: middle;\n",
              "    }\n",
              "\n",
              "    .dataframe tbody tr th {\n",
              "        vertical-align: top;\n",
              "    }\n",
              "\n",
              "    .dataframe thead th {\n",
              "        text-align: right;\n",
              "    }\n",
              "</style>\n",
              "<table border=\"1\" class=\"dataframe\">\n",
              "  <thead>\n",
              "    <tr style=\"text-align: right;\">\n",
              "      <th></th>\n",
              "      <th>mean_fit_time</th>\n",
              "      <th>std_fit_time</th>\n",
              "      <th>mean_score_time</th>\n",
              "      <th>std_score_time</th>\n",
              "      <th>param_criterion</th>\n",
              "      <th>param_max_depth</th>\n",
              "      <th>param_min_samples_leaf</th>\n",
              "      <th>param_min_samples_split</th>\n",
              "      <th>params</th>\n",
              "      <th>split0_test_score</th>\n",
              "      <th>...</th>\n",
              "      <th>split3_test_score</th>\n",
              "      <th>split4_test_score</th>\n",
              "      <th>split5_test_score</th>\n",
              "      <th>split6_test_score</th>\n",
              "      <th>split7_test_score</th>\n",
              "      <th>split8_test_score</th>\n",
              "      <th>split9_test_score</th>\n",
              "      <th>mean_test_score</th>\n",
              "      <th>std_test_score</th>\n",
              "      <th>rank_test_score</th>\n",
              "    </tr>\n",
              "  </thead>\n",
              "  <tbody>\n",
              "    <tr>\n",
              "      <th>0</th>\n",
              "      <td>0.006837</td>\n",
              "      <td>0.002197</td>\n",
              "      <td>0.001048</td>\n",
              "      <td>0.000232</td>\n",
              "      <td>gini</td>\n",
              "      <td>3</td>\n",
              "      <td>32</td>\n",
              "      <td>32</td>\n",
              "      <td>{'criterion': 'gini', 'max_depth': 3, 'min_sam...</td>\n",
              "      <td>0.804757</td>\n",
              "      <td>...</td>\n",
              "      <td>0.78408</td>\n",
              "      <td>0.783181</td>\n",
              "      <td>0.797809</td>\n",
              "      <td>0.762866</td>\n",
              "      <td>0.781818</td>\n",
              "      <td>0.77551</td>\n",
              "      <td>0.790262</td>\n",
              "      <td>0.786726</td>\n",
              "      <td>0.011361</td>\n",
              "      <td>1</td>\n",
              "    </tr>\n",
              "    <tr>\n",
              "      <th>1</th>\n",
              "      <td>0.005583</td>\n",
              "      <td>0.000225</td>\n",
              "      <td>0.000841</td>\n",
              "      <td>0.000167</td>\n",
              "      <td>gini</td>\n",
              "      <td>3</td>\n",
              "      <td>32</td>\n",
              "      <td>64</td>\n",
              "      <td>{'criterion': 'gini', 'max_depth': 3, 'min_sam...</td>\n",
              "      <td>0.804757</td>\n",
              "      <td>...</td>\n",
              "      <td>0.78408</td>\n",
              "      <td>0.783181</td>\n",
              "      <td>0.797809</td>\n",
              "      <td>0.762866</td>\n",
              "      <td>0.781818</td>\n",
              "      <td>0.77551</td>\n",
              "      <td>0.790262</td>\n",
              "      <td>0.786726</td>\n",
              "      <td>0.011361</td>\n",
              "      <td>1</td>\n",
              "    </tr>\n",
              "    <tr>\n",
              "      <th>2</th>\n",
              "      <td>0.005334</td>\n",
              "      <td>0.000054</td>\n",
              "      <td>0.000711</td>\n",
              "      <td>0.000056</td>\n",
              "      <td>gini</td>\n",
              "      <td>3</td>\n",
              "      <td>32</td>\n",
              "      <td>128</td>\n",
              "      <td>{'criterion': 'gini', 'max_depth': 3, 'min_sam...</td>\n",
              "      <td>0.804757</td>\n",
              "      <td>...</td>\n",
              "      <td>0.78408</td>\n",
              "      <td>0.783181</td>\n",
              "      <td>0.797809</td>\n",
              "      <td>0.762866</td>\n",
              "      <td>0.781818</td>\n",
              "      <td>0.77551</td>\n",
              "      <td>0.790262</td>\n",
              "      <td>0.786726</td>\n",
              "      <td>0.011361</td>\n",
              "      <td>1</td>\n",
              "    </tr>\n",
              "    <tr>\n",
              "      <th>3</th>\n",
              "      <td>0.005301</td>\n",
              "      <td>0.000109</td>\n",
              "      <td>0.000693</td>\n",
              "      <td>0.000031</td>\n",
              "      <td>gini</td>\n",
              "      <td>3</td>\n",
              "      <td>64</td>\n",
              "      <td>32</td>\n",
              "      <td>{'criterion': 'gini', 'max_depth': 3, 'min_sam...</td>\n",
              "      <td>0.804757</td>\n",
              "      <td>...</td>\n",
              "      <td>0.78408</td>\n",
              "      <td>0.783181</td>\n",
              "      <td>0.797809</td>\n",
              "      <td>0.762866</td>\n",
              "      <td>0.781818</td>\n",
              "      <td>0.77551</td>\n",
              "      <td>0.790262</td>\n",
              "      <td>0.786726</td>\n",
              "      <td>0.011361</td>\n",
              "      <td>1</td>\n",
              "    </tr>\n",
              "    <tr>\n",
              "      <th>4</th>\n",
              "      <td>0.005385</td>\n",
              "      <td>0.000092</td>\n",
              "      <td>0.000702</td>\n",
              "      <td>0.000028</td>\n",
              "      <td>gini</td>\n",
              "      <td>3</td>\n",
              "      <td>64</td>\n",
              "      <td>64</td>\n",
              "      <td>{'criterion': 'gini', 'max_depth': 3, 'min_sam...</td>\n",
              "      <td>0.804757</td>\n",
              "      <td>...</td>\n",
              "      <td>0.78408</td>\n",
              "      <td>0.783181</td>\n",
              "      <td>0.797809</td>\n",
              "      <td>0.762866</td>\n",
              "      <td>0.781818</td>\n",
              "      <td>0.77551</td>\n",
              "      <td>0.790262</td>\n",
              "      <td>0.786726</td>\n",
              "      <td>0.011361</td>\n",
              "      <td>1</td>\n",
              "    </tr>\n",
              "  </tbody>\n",
              "</table>\n",
              "<p>5 rows × 22 columns</p>\n",
              "</div>"
            ],
            "text/plain": [
              "   mean_fit_time  std_fit_time  mean_score_time  std_score_time  \\\n",
              "0       0.006837      0.002197         0.001048        0.000232   \n",
              "1       0.005583      0.000225         0.000841        0.000167   \n",
              "2       0.005334      0.000054         0.000711        0.000056   \n",
              "3       0.005301      0.000109         0.000693        0.000031   \n",
              "4       0.005385      0.000092         0.000702        0.000028   \n",
              "\n",
              "  param_criterion param_max_depth param_min_samples_leaf  \\\n",
              "0            gini               3                     32   \n",
              "1            gini               3                     32   \n",
              "2            gini               3                     32   \n",
              "3            gini               3                     64   \n",
              "4            gini               3                     64   \n",
              "\n",
              "  param_min_samples_split                                             params  \\\n",
              "0                      32  {'criterion': 'gini', 'max_depth': 3, 'min_sam...   \n",
              "1                      64  {'criterion': 'gini', 'max_depth': 3, 'min_sam...   \n",
              "2                     128  {'criterion': 'gini', 'max_depth': 3, 'min_sam...   \n",
              "3                      32  {'criterion': 'gini', 'max_depth': 3, 'min_sam...   \n",
              "4                      64  {'criterion': 'gini', 'max_depth': 3, 'min_sam...   \n",
              "\n",
              "   split0_test_score  ...  split3_test_score  split4_test_score  \\\n",
              "0           0.804757  ...            0.78408           0.783181   \n",
              "1           0.804757  ...            0.78408           0.783181   \n",
              "2           0.804757  ...            0.78408           0.783181   \n",
              "3           0.804757  ...            0.78408           0.783181   \n",
              "4           0.804757  ...            0.78408           0.783181   \n",
              "\n",
              "   split5_test_score  split6_test_score  split7_test_score  split8_test_score  \\\n",
              "0           0.797809           0.762866           0.781818            0.77551   \n",
              "1           0.797809           0.762866           0.781818            0.77551   \n",
              "2           0.797809           0.762866           0.781818            0.77551   \n",
              "3           0.797809           0.762866           0.781818            0.77551   \n",
              "4           0.797809           0.762866           0.781818            0.77551   \n",
              "\n",
              "   split9_test_score  mean_test_score  std_test_score  rank_test_score  \n",
              "0           0.790262         0.786726        0.011361                1  \n",
              "1           0.790262         0.786726        0.011361                1  \n",
              "2           0.790262         0.786726        0.011361                1  \n",
              "3           0.790262         0.786726        0.011361                1  \n",
              "4           0.790262         0.786726        0.011361                1  \n",
              "\n",
              "[5 rows x 22 columns]"
            ]
          },
          "execution_count": 44,
          "metadata": {},
          "output_type": "execute_result"
        }
      ],
      "source": [
        "from sklearn.model_selection import GridSearchCV\n",
        "\n",
        "SEED=301\n",
        "np.random.seed(SEED)\n",
        "\n",
        "espaco_de_parametros = {\n",
        "    \"max_depth\" : [3, 5],\n",
        "    \"min_samples_split\" : [32, 64, 128],\n",
        "    \"min_samples_leaf\" : [32, 64, 128],\n",
        "    \"criterion\" : [\"gini\", \"entropy\"]\n",
        "}\n",
        "\n",
        "busca = GridSearchCV(DecisionTreeClassifier(),\n",
        "                    espaco_de_parametros,\n",
        "                    cv = GroupKFold(n_splits = 10))\n",
        "busca.fit(x_azar, y_azar, groups = dados.modelo)\n",
        "resultados = pd.DataFrame(busca.cv_results_)\n",
        "resultados.head()"
      ]
    },
    {
      "cell_type": "code",
      "execution_count": 45,
      "metadata": {
        "colab": {
          "base_uri": "https://localhost:8080/",
          "height": 50
        },
        "colab_type": "code",
        "id": "xGEqRLcUrMuF",
        "outputId": "ada074b6-eedf-40eb-bc35-9af10deba1ea"
      },
      "outputs": [
        {
          "name": "stdout",
          "output_type": "stream",
          "text": [
            "{'criterion': 'gini', 'max_depth': 3, 'min_samples_leaf': 32, 'min_samples_split': 32}\n",
            "78.67263337284332\n"
          ]
        }
      ],
      "source": [
        "print(busca.best_params_)\n",
        "print(busca.best_score_ * 100)"
      ]
    },
    {
      "cell_type": "code",
      "execution_count": 46,
      "metadata": {
        "colab": {
          "base_uri": "https://localhost:8080/",
          "height": 118
        },
        "colab_type": "code",
        "id": "EcXir723rbI5",
        "outputId": "46abd9f6-d8f6-4883-f730-478f8a116f6f"
      },
      "outputs": [
        {
          "data": {
            "text/html": [
              "<style>#sk-container-id-1 {color: black;background-color: white;}#sk-container-id-1 pre{padding: 0;}#sk-container-id-1 div.sk-toggleable {background-color: white;}#sk-container-id-1 label.sk-toggleable__label {cursor: pointer;display: block;width: 100%;margin-bottom: 0;padding: 0.3em;box-sizing: border-box;text-align: center;}#sk-container-id-1 label.sk-toggleable__label-arrow:before {content: \"▸\";float: left;margin-right: 0.25em;color: #696969;}#sk-container-id-1 label.sk-toggleable__label-arrow:hover:before {color: black;}#sk-container-id-1 div.sk-estimator:hover label.sk-toggleable__label-arrow:before {color: black;}#sk-container-id-1 div.sk-toggleable__content {max-height: 0;max-width: 0;overflow: hidden;text-align: left;background-color: #f0f8ff;}#sk-container-id-1 div.sk-toggleable__content pre {margin: 0.2em;color: black;border-radius: 0.25em;background-color: #f0f8ff;}#sk-container-id-1 input.sk-toggleable__control:checked~div.sk-toggleable__content {max-height: 200px;max-width: 100%;overflow: auto;}#sk-container-id-1 input.sk-toggleable__control:checked~label.sk-toggleable__label-arrow:before {content: \"▾\";}#sk-container-id-1 div.sk-estimator input.sk-toggleable__control:checked~label.sk-toggleable__label {background-color: #d4ebff;}#sk-container-id-1 div.sk-label input.sk-toggleable__control:checked~label.sk-toggleable__label {background-color: #d4ebff;}#sk-container-id-1 input.sk-hidden--visually {border: 0;clip: rect(1px 1px 1px 1px);clip: rect(1px, 1px, 1px, 1px);height: 1px;margin: -1px;overflow: hidden;padding: 0;position: absolute;width: 1px;}#sk-container-id-1 div.sk-estimator {font-family: monospace;background-color: #f0f8ff;border: 1px dotted black;border-radius: 0.25em;box-sizing: border-box;margin-bottom: 0.5em;}#sk-container-id-1 div.sk-estimator:hover {background-color: #d4ebff;}#sk-container-id-1 div.sk-parallel-item::after {content: \"\";width: 100%;border-bottom: 1px solid gray;flex-grow: 1;}#sk-container-id-1 div.sk-label:hover label.sk-toggleable__label {background-color: #d4ebff;}#sk-container-id-1 div.sk-serial::before {content: \"\";position: absolute;border-left: 1px solid gray;box-sizing: border-box;top: 0;bottom: 0;left: 50%;z-index: 0;}#sk-container-id-1 div.sk-serial {display: flex;flex-direction: column;align-items: center;background-color: white;padding-right: 0.2em;padding-left: 0.2em;position: relative;}#sk-container-id-1 div.sk-item {position: relative;z-index: 1;}#sk-container-id-1 div.sk-parallel {display: flex;align-items: stretch;justify-content: center;background-color: white;position: relative;}#sk-container-id-1 div.sk-item::before, #sk-container-id-1 div.sk-parallel-item::before {content: \"\";position: absolute;border-left: 1px solid gray;box-sizing: border-box;top: 0;bottom: 0;left: 50%;z-index: -1;}#sk-container-id-1 div.sk-parallel-item {display: flex;flex-direction: column;z-index: 1;position: relative;background-color: white;}#sk-container-id-1 div.sk-parallel-item:first-child::after {align-self: flex-end;width: 50%;}#sk-container-id-1 div.sk-parallel-item:last-child::after {align-self: flex-start;width: 50%;}#sk-container-id-1 div.sk-parallel-item:only-child::after {width: 0;}#sk-container-id-1 div.sk-dashed-wrapped {border: 1px dashed gray;margin: 0 0.4em 0.5em 0.4em;box-sizing: border-box;padding-bottom: 0.4em;background-color: white;}#sk-container-id-1 div.sk-label label {font-family: monospace;font-weight: bold;display: inline-block;line-height: 1.2em;}#sk-container-id-1 div.sk-label-container {text-align: center;}#sk-container-id-1 div.sk-container {/* jupyter's `normalize.less` sets `[hidden] { display: none; }` but bootstrap.min.css set `[hidden] { display: none !important; }` so we also need the `!important` here to be able to override the default hidden behavior on the sphinx rendered scikit-learn.org. See: https://github.com/scikit-learn/scikit-learn/issues/21755 */display: inline-block !important;position: relative;}#sk-container-id-1 div.sk-text-repr-fallback {display: none;}</style><div id=\"sk-container-id-1\" class=\"sk-top-container\"><div class=\"sk-text-repr-fallback\"><pre>DecisionTreeClassifier(max_depth=3, min_samples_leaf=32, min_samples_split=32)</pre><b>In a Jupyter environment, please rerun this cell to show the HTML representation or trust the notebook. <br />On GitHub, the HTML representation is unable to render, please try loading this page with nbviewer.org.</b></div><div class=\"sk-container\" hidden><div class=\"sk-item\"><div class=\"sk-estimator sk-toggleable\"><input class=\"sk-toggleable__control sk-hidden--visually\" id=\"sk-estimator-id-1\" type=\"checkbox\" checked><label for=\"sk-estimator-id-1\" class=\"sk-toggleable__label sk-toggleable__label-arrow\">DecisionTreeClassifier</label><div class=\"sk-toggleable__content\"><pre>DecisionTreeClassifier(max_depth=3, min_samples_leaf=32, min_samples_split=32)</pre></div></div></div></div></div>"
            ],
            "text/plain": [
              "DecisionTreeClassifier(max_depth=3, min_samples_leaf=32, min_samples_split=32)"
            ]
          },
          "execution_count": 46,
          "metadata": {},
          "output_type": "execute_result"
        }
      ],
      "source": [
        "melhor = busca.best_estimator_\n",
        "melhor"
      ]
    },
    {
      "cell_type": "code",
      "execution_count": 47,
      "metadata": {
        "colab": {
          "base_uri": "https://localhost:8080/",
          "height": 34
        },
        "colab_type": "code",
        "id": "fBUiCF3krkZo",
        "outputId": "4c93a18a-4dd2-4e3d-bd5e-a7be0e881f03"
      },
      "outputs": [
        {
          "name": "stdout",
          "output_type": "stream",
          "text": [
            "Accuracy para os dados foi 78.75%\n"
          ]
        }
      ],
      "source": [
        "from sklearn.metrics import accuracy_score\n",
        "\n",
        "# evitar essa abordagem pois estará sendo otimista\n",
        "\n",
        "predicoes = melhor.predict(x_azar)\n",
        "accuracy = accuracy_score(predicoes, y_azar) * 100\n",
        "print(\"Accuracy para os dados foi %.2f%%\" % accuracy)"
      ]
    },
    {
      "cell_type": "markdown",
      "metadata": {
        "colab_type": "text",
        "id": "mM-vg1Mrtj7V"
      },
      "source": [
        "# Como ter uma estimativa sem esse vício nos dados que eu já vi?\n",
        "\n",
        "No caso de cross validation com busca de hiper parâmetros, fazemos uma nova validação cruzada. Chama-se nested cross validation"
      ]
    },
    {
      "cell_type": "code",
      "execution_count": 49,
      "metadata": {
        "colab": {
          "base_uri": "https://localhost:8080/",
          "height": 1980
        },
        "colab_type": "code",
        "id": "cqZznVDKr--h",
        "outputId": "f444dc7b-47ba-493c-deac-a0b618300f3f"
      },
      "outputs": [
        {
          "ename": "ValueError",
          "evalue": "The 'groups' parameter should not be None.",
          "output_type": "error",
          "traceback": [
            "\u001b[0;31m---------------------------------------------------------------------------\u001b[0m",
            "\u001b[0;31mValueError\u001b[0m                                Traceback (most recent call last)",
            "\u001b[1;32m/home/marcelo/des/estudo_data_science/machine_learning/machine-learning-otimizacao-de-modelos-atraves-de-hiperparametros/Introdução_a_Machine_Learning_Otimização.ipynb Célula 43\u001b[0m line \u001b[0;36m3\n\u001b[1;32m      <a href='vscode-notebook-cell:/home/marcelo/des/estudo_data_science/machine_learning/machine-learning-otimizacao-de-modelos-atraves-de-hiperparametros/Introdu%C3%A7%C3%A3o_a_Machine_Learning_Otimiza%C3%A7%C3%A3o.ipynb#X60sZmlsZQ%3D%3D?line=0'>1</a>\u001b[0m \u001b[39mfrom\u001b[39;00m \u001b[39msklearn\u001b[39;00m\u001b[39m.\u001b[39;00m\u001b[39mmodel_selection\u001b[39;00m \u001b[39mimport\u001b[39;00m cross_val_score\n\u001b[0;32m----> <a href='vscode-notebook-cell:/home/marcelo/des/estudo_data_science/machine_learning/machine-learning-otimizacao-de-modelos-atraves-de-hiperparametros/Introdu%C3%A7%C3%A3o_a_Machine_Learning_Otimiza%C3%A7%C3%A3o.ipynb#X60sZmlsZQ%3D%3D?line=2'>3</a>\u001b[0m scores \u001b[39m=\u001b[39m cross_val_score(busca, x_azar, y_azar, cv \u001b[39m=\u001b[39;49m GroupKFold(n_splits\u001b[39m=\u001b[39;49m\u001b[39m10\u001b[39;49m), groups \u001b[39m=\u001b[39;49m dados\u001b[39m.\u001b[39;49mmodelo, error_score\u001b[39m=\u001b[39;49m\u001b[39m'\u001b[39;49m\u001b[39mraise\u001b[39;49m\u001b[39m'\u001b[39;49m)\n",
            "File \u001b[0;32m~/des/estudo_data_science/.venv/lib64/python3.11/site-packages/sklearn/model_selection/_validation.py:515\u001b[0m, in \u001b[0;36mcross_val_score\u001b[0;34m(estimator, X, y, groups, scoring, cv, n_jobs, verbose, fit_params, pre_dispatch, error_score)\u001b[0m\n\u001b[1;32m    512\u001b[0m \u001b[39m# To ensure multimetric format is not supported\u001b[39;00m\n\u001b[1;32m    513\u001b[0m scorer \u001b[39m=\u001b[39m check_scoring(estimator, scoring\u001b[39m=\u001b[39mscoring)\n\u001b[0;32m--> 515\u001b[0m cv_results \u001b[39m=\u001b[39m cross_validate(\n\u001b[1;32m    516\u001b[0m     estimator\u001b[39m=\u001b[39;49mestimator,\n\u001b[1;32m    517\u001b[0m     X\u001b[39m=\u001b[39;49mX,\n\u001b[1;32m    518\u001b[0m     y\u001b[39m=\u001b[39;49my,\n\u001b[1;32m    519\u001b[0m     groups\u001b[39m=\u001b[39;49mgroups,\n\u001b[1;32m    520\u001b[0m     scoring\u001b[39m=\u001b[39;49m{\u001b[39m\"\u001b[39;49m\u001b[39mscore\u001b[39;49m\u001b[39m\"\u001b[39;49m: scorer},\n\u001b[1;32m    521\u001b[0m     cv\u001b[39m=\u001b[39;49mcv,\n\u001b[1;32m    522\u001b[0m     n_jobs\u001b[39m=\u001b[39;49mn_jobs,\n\u001b[1;32m    523\u001b[0m     verbose\u001b[39m=\u001b[39;49mverbose,\n\u001b[1;32m    524\u001b[0m     fit_params\u001b[39m=\u001b[39;49mfit_params,\n\u001b[1;32m    525\u001b[0m     pre_dispatch\u001b[39m=\u001b[39;49mpre_dispatch,\n\u001b[1;32m    526\u001b[0m     error_score\u001b[39m=\u001b[39;49merror_score,\n\u001b[1;32m    527\u001b[0m )\n\u001b[1;32m    528\u001b[0m \u001b[39mreturn\u001b[39;00m cv_results[\u001b[39m\"\u001b[39m\u001b[39mtest_score\u001b[39m\u001b[39m\"\u001b[39m]\n",
            "File \u001b[0;32m~/des/estudo_data_science/.venv/lib64/python3.11/site-packages/sklearn/model_selection/_validation.py:266\u001b[0m, in \u001b[0;36mcross_validate\u001b[0;34m(estimator, X, y, groups, scoring, cv, n_jobs, verbose, fit_params, pre_dispatch, return_train_score, return_estimator, error_score)\u001b[0m\n\u001b[1;32m    263\u001b[0m \u001b[39m# We clone the estimator to make sure that all the folds are\u001b[39;00m\n\u001b[1;32m    264\u001b[0m \u001b[39m# independent, and that it is pickle-able.\u001b[39;00m\n\u001b[1;32m    265\u001b[0m parallel \u001b[39m=\u001b[39m Parallel(n_jobs\u001b[39m=\u001b[39mn_jobs, verbose\u001b[39m=\u001b[39mverbose, pre_dispatch\u001b[39m=\u001b[39mpre_dispatch)\n\u001b[0;32m--> 266\u001b[0m results \u001b[39m=\u001b[39m parallel(\n\u001b[1;32m    267\u001b[0m     delayed(_fit_and_score)(\n\u001b[1;32m    268\u001b[0m         clone(estimator),\n\u001b[1;32m    269\u001b[0m         X,\n\u001b[1;32m    270\u001b[0m         y,\n\u001b[1;32m    271\u001b[0m         scorers,\n\u001b[1;32m    272\u001b[0m         train,\n\u001b[1;32m    273\u001b[0m         test,\n\u001b[1;32m    274\u001b[0m         verbose,\n\u001b[1;32m    275\u001b[0m         \u001b[39mNone\u001b[39;49;00m,\n\u001b[1;32m    276\u001b[0m         fit_params,\n\u001b[1;32m    277\u001b[0m         return_train_score\u001b[39m=\u001b[39;49mreturn_train_score,\n\u001b[1;32m    278\u001b[0m         return_times\u001b[39m=\u001b[39;49m\u001b[39mTrue\u001b[39;49;00m,\n\u001b[1;32m    279\u001b[0m         return_estimator\u001b[39m=\u001b[39;49mreturn_estimator,\n\u001b[1;32m    280\u001b[0m         error_score\u001b[39m=\u001b[39;49merror_score,\n\u001b[1;32m    281\u001b[0m     )\n\u001b[1;32m    282\u001b[0m     \u001b[39mfor\u001b[39;49;00m train, test \u001b[39min\u001b[39;49;00m cv\u001b[39m.\u001b[39;49msplit(X, y, groups)\n\u001b[1;32m    283\u001b[0m )\n\u001b[1;32m    285\u001b[0m _warn_or_raise_about_fit_failures(results, error_score)\n\u001b[1;32m    287\u001b[0m \u001b[39m# For callabe scoring, the return type is only know after calling. If the\u001b[39;00m\n\u001b[1;32m    288\u001b[0m \u001b[39m# return type is a dictionary, the error scores can now be inserted with\u001b[39;00m\n\u001b[1;32m    289\u001b[0m \u001b[39m# the correct key.\u001b[39;00m\n",
            "File \u001b[0;32m~/des/estudo_data_science/.venv/lib64/python3.11/site-packages/sklearn/utils/parallel.py:63\u001b[0m, in \u001b[0;36mParallel.__call__\u001b[0;34m(self, iterable)\u001b[0m\n\u001b[1;32m     58\u001b[0m config \u001b[39m=\u001b[39m get_config()\n\u001b[1;32m     59\u001b[0m iterable_with_config \u001b[39m=\u001b[39m (\n\u001b[1;32m     60\u001b[0m     (_with_config(delayed_func, config), args, kwargs)\n\u001b[1;32m     61\u001b[0m     \u001b[39mfor\u001b[39;00m delayed_func, args, kwargs \u001b[39min\u001b[39;00m iterable\n\u001b[1;32m     62\u001b[0m )\n\u001b[0;32m---> 63\u001b[0m \u001b[39mreturn\u001b[39;00m \u001b[39msuper\u001b[39;49m()\u001b[39m.\u001b[39;49m\u001b[39m__call__\u001b[39;49m(iterable_with_config)\n",
            "File \u001b[0;32m~/des/estudo_data_science/.venv/lib64/python3.11/site-packages/joblib/parallel.py:1085\u001b[0m, in \u001b[0;36mParallel.__call__\u001b[0;34m(self, iterable)\u001b[0m\n\u001b[1;32m   1076\u001b[0m \u001b[39mtry\u001b[39;00m:\n\u001b[1;32m   1077\u001b[0m     \u001b[39m# Only set self._iterating to True if at least a batch\u001b[39;00m\n\u001b[1;32m   1078\u001b[0m     \u001b[39m# was dispatched. In particular this covers the edge\u001b[39;00m\n\u001b[0;32m   (...)\u001b[0m\n\u001b[1;32m   1082\u001b[0m     \u001b[39m# was very quick and its callback already dispatched all the\u001b[39;00m\n\u001b[1;32m   1083\u001b[0m     \u001b[39m# remaining jobs.\u001b[39;00m\n\u001b[1;32m   1084\u001b[0m     \u001b[39mself\u001b[39m\u001b[39m.\u001b[39m_iterating \u001b[39m=\u001b[39m \u001b[39mFalse\u001b[39;00m\n\u001b[0;32m-> 1085\u001b[0m     \u001b[39mif\u001b[39;00m \u001b[39mself\u001b[39;49m\u001b[39m.\u001b[39;49mdispatch_one_batch(iterator):\n\u001b[1;32m   1086\u001b[0m         \u001b[39mself\u001b[39m\u001b[39m.\u001b[39m_iterating \u001b[39m=\u001b[39m \u001b[39mself\u001b[39m\u001b[39m.\u001b[39m_original_iterator \u001b[39mis\u001b[39;00m \u001b[39mnot\u001b[39;00m \u001b[39mNone\u001b[39;00m\n\u001b[1;32m   1088\u001b[0m     \u001b[39mwhile\u001b[39;00m \u001b[39mself\u001b[39m\u001b[39m.\u001b[39mdispatch_one_batch(iterator):\n",
            "File \u001b[0;32m~/des/estudo_data_science/.venv/lib64/python3.11/site-packages/joblib/parallel.py:901\u001b[0m, in \u001b[0;36mParallel.dispatch_one_batch\u001b[0;34m(self, iterator)\u001b[0m\n\u001b[1;32m    899\u001b[0m     \u001b[39mreturn\u001b[39;00m \u001b[39mFalse\u001b[39;00m\n\u001b[1;32m    900\u001b[0m \u001b[39melse\u001b[39;00m:\n\u001b[0;32m--> 901\u001b[0m     \u001b[39mself\u001b[39;49m\u001b[39m.\u001b[39;49m_dispatch(tasks)\n\u001b[1;32m    902\u001b[0m     \u001b[39mreturn\u001b[39;00m \u001b[39mTrue\u001b[39;00m\n",
            "File \u001b[0;32m~/des/estudo_data_science/.venv/lib64/python3.11/site-packages/joblib/parallel.py:819\u001b[0m, in \u001b[0;36mParallel._dispatch\u001b[0;34m(self, batch)\u001b[0m\n\u001b[1;32m    817\u001b[0m \u001b[39mwith\u001b[39;00m \u001b[39mself\u001b[39m\u001b[39m.\u001b[39m_lock:\n\u001b[1;32m    818\u001b[0m     job_idx \u001b[39m=\u001b[39m \u001b[39mlen\u001b[39m(\u001b[39mself\u001b[39m\u001b[39m.\u001b[39m_jobs)\n\u001b[0;32m--> 819\u001b[0m     job \u001b[39m=\u001b[39m \u001b[39mself\u001b[39;49m\u001b[39m.\u001b[39;49m_backend\u001b[39m.\u001b[39;49mapply_async(batch, callback\u001b[39m=\u001b[39;49mcb)\n\u001b[1;32m    820\u001b[0m     \u001b[39m# A job can complete so quickly than its callback is\u001b[39;00m\n\u001b[1;32m    821\u001b[0m     \u001b[39m# called before we get here, causing self._jobs to\u001b[39;00m\n\u001b[1;32m    822\u001b[0m     \u001b[39m# grow. To ensure correct results ordering, .insert is\u001b[39;00m\n\u001b[1;32m    823\u001b[0m     \u001b[39m# used (rather than .append) in the following line\u001b[39;00m\n\u001b[1;32m    824\u001b[0m     \u001b[39mself\u001b[39m\u001b[39m.\u001b[39m_jobs\u001b[39m.\u001b[39minsert(job_idx, job)\n",
            "File \u001b[0;32m~/des/estudo_data_science/.venv/lib64/python3.11/site-packages/joblib/_parallel_backends.py:208\u001b[0m, in \u001b[0;36mSequentialBackend.apply_async\u001b[0;34m(self, func, callback)\u001b[0m\n\u001b[1;32m    206\u001b[0m \u001b[39mdef\u001b[39;00m \u001b[39mapply_async\u001b[39m(\u001b[39mself\u001b[39m, func, callback\u001b[39m=\u001b[39m\u001b[39mNone\u001b[39;00m):\n\u001b[1;32m    207\u001b[0m \u001b[39m    \u001b[39m\u001b[39m\"\"\"Schedule a func to be run\"\"\"\u001b[39;00m\n\u001b[0;32m--> 208\u001b[0m     result \u001b[39m=\u001b[39m ImmediateResult(func)\n\u001b[1;32m    209\u001b[0m     \u001b[39mif\u001b[39;00m callback:\n\u001b[1;32m    210\u001b[0m         callback(result)\n",
            "File \u001b[0;32m~/des/estudo_data_science/.venv/lib64/python3.11/site-packages/joblib/_parallel_backends.py:597\u001b[0m, in \u001b[0;36mImmediateResult.__init__\u001b[0;34m(self, batch)\u001b[0m\n\u001b[1;32m    594\u001b[0m \u001b[39mdef\u001b[39;00m \u001b[39m__init__\u001b[39m(\u001b[39mself\u001b[39m, batch):\n\u001b[1;32m    595\u001b[0m     \u001b[39m# Don't delay the application, to avoid keeping the input\u001b[39;00m\n\u001b[1;32m    596\u001b[0m     \u001b[39m# arguments in memory\u001b[39;00m\n\u001b[0;32m--> 597\u001b[0m     \u001b[39mself\u001b[39m\u001b[39m.\u001b[39mresults \u001b[39m=\u001b[39m batch()\n",
            "File \u001b[0;32m~/des/estudo_data_science/.venv/lib64/python3.11/site-packages/joblib/parallel.py:288\u001b[0m, in \u001b[0;36mBatchedCalls.__call__\u001b[0;34m(self)\u001b[0m\n\u001b[1;32m    284\u001b[0m \u001b[39mdef\u001b[39;00m \u001b[39m__call__\u001b[39m(\u001b[39mself\u001b[39m):\n\u001b[1;32m    285\u001b[0m     \u001b[39m# Set the default nested backend to self._backend but do not set the\u001b[39;00m\n\u001b[1;32m    286\u001b[0m     \u001b[39m# change the default number of processes to -1\u001b[39;00m\n\u001b[1;32m    287\u001b[0m     \u001b[39mwith\u001b[39;00m parallel_backend(\u001b[39mself\u001b[39m\u001b[39m.\u001b[39m_backend, n_jobs\u001b[39m=\u001b[39m\u001b[39mself\u001b[39m\u001b[39m.\u001b[39m_n_jobs):\n\u001b[0;32m--> 288\u001b[0m         \u001b[39mreturn\u001b[39;00m [func(\u001b[39m*\u001b[39;49margs, \u001b[39m*\u001b[39;49m\u001b[39m*\u001b[39;49mkwargs)\n\u001b[1;32m    289\u001b[0m                 \u001b[39mfor\u001b[39;49;00m func, args, kwargs \u001b[39min\u001b[39;49;00m \u001b[39mself\u001b[39;49m\u001b[39m.\u001b[39;49mitems]\n",
            "File \u001b[0;32m~/des/estudo_data_science/.venv/lib64/python3.11/site-packages/joblib/parallel.py:288\u001b[0m, in \u001b[0;36m<listcomp>\u001b[0;34m(.0)\u001b[0m\n\u001b[1;32m    284\u001b[0m \u001b[39mdef\u001b[39;00m \u001b[39m__call__\u001b[39m(\u001b[39mself\u001b[39m):\n\u001b[1;32m    285\u001b[0m     \u001b[39m# Set the default nested backend to self._backend but do not set the\u001b[39;00m\n\u001b[1;32m    286\u001b[0m     \u001b[39m# change the default number of processes to -1\u001b[39;00m\n\u001b[1;32m    287\u001b[0m     \u001b[39mwith\u001b[39;00m parallel_backend(\u001b[39mself\u001b[39m\u001b[39m.\u001b[39m_backend, n_jobs\u001b[39m=\u001b[39m\u001b[39mself\u001b[39m\u001b[39m.\u001b[39m_n_jobs):\n\u001b[0;32m--> 288\u001b[0m         \u001b[39mreturn\u001b[39;00m [func(\u001b[39m*\u001b[39;49margs, \u001b[39m*\u001b[39;49m\u001b[39m*\u001b[39;49mkwargs)\n\u001b[1;32m    289\u001b[0m                 \u001b[39mfor\u001b[39;00m func, args, kwargs \u001b[39min\u001b[39;00m \u001b[39mself\u001b[39m\u001b[39m.\u001b[39mitems]\n",
            "File \u001b[0;32m~/des/estudo_data_science/.venv/lib64/python3.11/site-packages/sklearn/utils/parallel.py:123\u001b[0m, in \u001b[0;36m_FuncWrapper.__call__\u001b[0;34m(self, *args, **kwargs)\u001b[0m\n\u001b[1;32m    121\u001b[0m     config \u001b[39m=\u001b[39m {}\n\u001b[1;32m    122\u001b[0m \u001b[39mwith\u001b[39;00m config_context(\u001b[39m*\u001b[39m\u001b[39m*\u001b[39mconfig):\n\u001b[0;32m--> 123\u001b[0m     \u001b[39mreturn\u001b[39;00m \u001b[39mself\u001b[39;49m\u001b[39m.\u001b[39;49mfunction(\u001b[39m*\u001b[39;49margs, \u001b[39m*\u001b[39;49m\u001b[39m*\u001b[39;49mkwargs)\n",
            "File \u001b[0;32m~/des/estudo_data_science/.venv/lib64/python3.11/site-packages/sklearn/model_selection/_validation.py:686\u001b[0m, in \u001b[0;36m_fit_and_score\u001b[0;34m(estimator, X, y, scorer, train, test, verbose, parameters, fit_params, return_train_score, return_parameters, return_n_test_samples, return_times, return_estimator, split_progress, candidate_progress, error_score)\u001b[0m\n\u001b[1;32m    684\u001b[0m         estimator\u001b[39m.\u001b[39mfit(X_train, \u001b[39m*\u001b[39m\u001b[39m*\u001b[39mfit_params)\n\u001b[1;32m    685\u001b[0m     \u001b[39melse\u001b[39;00m:\n\u001b[0;32m--> 686\u001b[0m         estimator\u001b[39m.\u001b[39;49mfit(X_train, y_train, \u001b[39m*\u001b[39;49m\u001b[39m*\u001b[39;49mfit_params)\n\u001b[1;32m    688\u001b[0m \u001b[39mexcept\u001b[39;00m \u001b[39mException\u001b[39;00m:\n\u001b[1;32m    689\u001b[0m     \u001b[39m# Note fit time as time until error\u001b[39;00m\n\u001b[1;32m    690\u001b[0m     fit_time \u001b[39m=\u001b[39m time\u001b[39m.\u001b[39mtime() \u001b[39m-\u001b[39m start_time\n",
            "File \u001b[0;32m~/des/estudo_data_science/.venv/lib64/python3.11/site-packages/sklearn/model_selection/_search.py:874\u001b[0m, in \u001b[0;36mBaseSearchCV.fit\u001b[0;34m(self, X, y, groups, **fit_params)\u001b[0m\n\u001b[1;32m    868\u001b[0m     results \u001b[39m=\u001b[39m \u001b[39mself\u001b[39m\u001b[39m.\u001b[39m_format_results(\n\u001b[1;32m    869\u001b[0m         all_candidate_params, n_splits, all_out, all_more_results\n\u001b[1;32m    870\u001b[0m     )\n\u001b[1;32m    872\u001b[0m     \u001b[39mreturn\u001b[39;00m results\n\u001b[0;32m--> 874\u001b[0m \u001b[39mself\u001b[39;49m\u001b[39m.\u001b[39;49m_run_search(evaluate_candidates)\n\u001b[1;32m    876\u001b[0m \u001b[39m# multimetric is determined here because in the case of a callable\u001b[39;00m\n\u001b[1;32m    877\u001b[0m \u001b[39m# self.scoring the return type is only known after calling\u001b[39;00m\n\u001b[1;32m    878\u001b[0m first_test_score \u001b[39m=\u001b[39m all_out[\u001b[39m0\u001b[39m][\u001b[39m\"\u001b[39m\u001b[39mtest_scores\u001b[39m\u001b[39m\"\u001b[39m]\n",
            "File \u001b[0;32m~/des/estudo_data_science/.venv/lib64/python3.11/site-packages/sklearn/model_selection/_search.py:1388\u001b[0m, in \u001b[0;36mGridSearchCV._run_search\u001b[0;34m(self, evaluate_candidates)\u001b[0m\n\u001b[1;32m   1386\u001b[0m \u001b[39mdef\u001b[39;00m \u001b[39m_run_search\u001b[39m(\u001b[39mself\u001b[39m, evaluate_candidates):\n\u001b[1;32m   1387\u001b[0m \u001b[39m    \u001b[39m\u001b[39m\"\"\"Search all candidates in param_grid\"\"\"\u001b[39;00m\n\u001b[0;32m-> 1388\u001b[0m     evaluate_candidates(ParameterGrid(\u001b[39mself\u001b[39;49m\u001b[39m.\u001b[39;49mparam_grid))\n",
            "File \u001b[0;32m~/des/estudo_data_science/.venv/lib64/python3.11/site-packages/sklearn/model_selection/_search.py:833\u001b[0m, in \u001b[0;36mBaseSearchCV.fit.<locals>.evaluate_candidates\u001b[0;34m(candidate_params, cv, more_results)\u001b[0m\n\u001b[1;32m    813\u001b[0m \u001b[39mif\u001b[39;00m \u001b[39mself\u001b[39m\u001b[39m.\u001b[39mverbose \u001b[39m>\u001b[39m \u001b[39m0\u001b[39m:\n\u001b[1;32m    814\u001b[0m     \u001b[39mprint\u001b[39m(\n\u001b[1;32m    815\u001b[0m         \u001b[39m\"\u001b[39m\u001b[39mFitting \u001b[39m\u001b[39m{0}\u001b[39;00m\u001b[39m folds for each of \u001b[39m\u001b[39m{1}\u001b[39;00m\u001b[39m candidates,\u001b[39m\u001b[39m\"\u001b[39m\n\u001b[1;32m    816\u001b[0m         \u001b[39m\"\u001b[39m\u001b[39m totalling \u001b[39m\u001b[39m{2}\u001b[39;00m\u001b[39m fits\u001b[39m\u001b[39m\"\u001b[39m\u001b[39m.\u001b[39mformat(\n\u001b[1;32m    817\u001b[0m             n_splits, n_candidates, n_candidates \u001b[39m*\u001b[39m n_splits\n\u001b[1;32m    818\u001b[0m         )\n\u001b[1;32m    819\u001b[0m     )\n\u001b[1;32m    821\u001b[0m out \u001b[39m=\u001b[39m parallel(\n\u001b[1;32m    822\u001b[0m     delayed(_fit_and_score)(\n\u001b[1;32m    823\u001b[0m         clone(base_estimator),\n\u001b[1;32m    824\u001b[0m         X,\n\u001b[1;32m    825\u001b[0m         y,\n\u001b[1;32m    826\u001b[0m         train\u001b[39m=\u001b[39mtrain,\n\u001b[1;32m    827\u001b[0m         test\u001b[39m=\u001b[39mtest,\n\u001b[1;32m    828\u001b[0m         parameters\u001b[39m=\u001b[39mparameters,\n\u001b[1;32m    829\u001b[0m         split_progress\u001b[39m=\u001b[39m(split_idx, n_splits),\n\u001b[1;32m    830\u001b[0m         candidate_progress\u001b[39m=\u001b[39m(cand_idx, n_candidates),\n\u001b[1;32m    831\u001b[0m         \u001b[39m*\u001b[39m\u001b[39m*\u001b[39mfit_and_score_kwargs,\n\u001b[1;32m    832\u001b[0m     )\n\u001b[0;32m--> 833\u001b[0m     \u001b[39mfor\u001b[39;00m (cand_idx, parameters), (split_idx, (train, test)) \u001b[39min\u001b[39;00m product(\n\u001b[1;32m    834\u001b[0m         \u001b[39menumerate\u001b[39;49m(candidate_params), \u001b[39menumerate\u001b[39;49m(cv\u001b[39m.\u001b[39;49msplit(X, y, groups))\n\u001b[1;32m    835\u001b[0m     )\n\u001b[1;32m    836\u001b[0m )\n\u001b[1;32m    838\u001b[0m \u001b[39mif\u001b[39;00m \u001b[39mlen\u001b[39m(out) \u001b[39m<\u001b[39m \u001b[39m1\u001b[39m:\n\u001b[1;32m    839\u001b[0m     \u001b[39mraise\u001b[39;00m \u001b[39mValueError\u001b[39;00m(\n\u001b[1;32m    840\u001b[0m         \u001b[39m\"\u001b[39m\u001b[39mNo fits were performed. \u001b[39m\u001b[39m\"\u001b[39m\n\u001b[1;32m    841\u001b[0m         \u001b[39m\"\u001b[39m\u001b[39mWas the CV iterator empty? \u001b[39m\u001b[39m\"\u001b[39m\n\u001b[1;32m    842\u001b[0m         \u001b[39m\"\u001b[39m\u001b[39mWere there no candidates?\u001b[39m\u001b[39m\"\u001b[39m\n\u001b[1;32m    843\u001b[0m     )\n",
            "File \u001b[0;32m~/des/estudo_data_science/.venv/lib64/python3.11/site-packages/sklearn/model_selection/_split.py:352\u001b[0m, in \u001b[0;36m_BaseKFold.split\u001b[0;34m(self, X, y, groups)\u001b[0m\n\u001b[1;32m    344\u001b[0m \u001b[39mif\u001b[39;00m \u001b[39mself\u001b[39m\u001b[39m.\u001b[39mn_splits \u001b[39m>\u001b[39m n_samples:\n\u001b[1;32m    345\u001b[0m     \u001b[39mraise\u001b[39;00m \u001b[39mValueError\u001b[39;00m(\n\u001b[1;32m    346\u001b[0m         (\n\u001b[1;32m    347\u001b[0m             \u001b[39m\"\u001b[39m\u001b[39mCannot have number of splits n_splits=\u001b[39m\u001b[39m{0}\u001b[39;00m\u001b[39m greater\u001b[39m\u001b[39m\"\u001b[39m\n\u001b[1;32m    348\u001b[0m             \u001b[39m\"\u001b[39m\u001b[39m than the number of samples: n_samples=\u001b[39m\u001b[39m{1}\u001b[39;00m\u001b[39m.\u001b[39m\u001b[39m\"\u001b[39m\n\u001b[1;32m    349\u001b[0m         )\u001b[39m.\u001b[39mformat(\u001b[39mself\u001b[39m\u001b[39m.\u001b[39mn_splits, n_samples)\n\u001b[1;32m    350\u001b[0m     )\n\u001b[0;32m--> 352\u001b[0m \u001b[39mfor\u001b[39;00m train, test \u001b[39min\u001b[39;00m \u001b[39msuper\u001b[39m()\u001b[39m.\u001b[39msplit(X, y, groups):\n\u001b[1;32m    353\u001b[0m     \u001b[39myield\u001b[39;00m train, test\n",
            "File \u001b[0;32m~/des/estudo_data_science/.venv/lib64/python3.11/site-packages/sklearn/model_selection/_split.py:85\u001b[0m, in \u001b[0;36mBaseCrossValidator.split\u001b[0;34m(self, X, y, groups)\u001b[0m\n\u001b[1;32m     83\u001b[0m X, y, groups \u001b[39m=\u001b[39m indexable(X, y, groups)\n\u001b[1;32m     84\u001b[0m indices \u001b[39m=\u001b[39m np\u001b[39m.\u001b[39marange(_num_samples(X))\n\u001b[0;32m---> 85\u001b[0m \u001b[39mfor\u001b[39;00m test_index \u001b[39min\u001b[39;00m \u001b[39mself\u001b[39m\u001b[39m.\u001b[39m_iter_test_masks(X, y, groups):\n\u001b[1;32m     86\u001b[0m     train_index \u001b[39m=\u001b[39m indices[np\u001b[39m.\u001b[39mlogical_not(test_index)]\n\u001b[1;32m     87\u001b[0m     test_index \u001b[39m=\u001b[39m indices[test_index]\n",
            "File \u001b[0;32m~/des/estudo_data_science/.venv/lib64/python3.11/site-packages/sklearn/model_selection/_split.py:97\u001b[0m, in \u001b[0;36mBaseCrossValidator._iter_test_masks\u001b[0;34m(self, X, y, groups)\u001b[0m\n\u001b[1;32m     92\u001b[0m \u001b[39mdef\u001b[39;00m \u001b[39m_iter_test_masks\u001b[39m(\u001b[39mself\u001b[39m, X\u001b[39m=\u001b[39m\u001b[39mNone\u001b[39;00m, y\u001b[39m=\u001b[39m\u001b[39mNone\u001b[39;00m, groups\u001b[39m=\u001b[39m\u001b[39mNone\u001b[39;00m):\n\u001b[1;32m     93\u001b[0m \u001b[39m    \u001b[39m\u001b[39m\"\"\"Generates boolean masks corresponding to test sets.\u001b[39;00m\n\u001b[1;32m     94\u001b[0m \n\u001b[1;32m     95\u001b[0m \u001b[39m    By default, delegates to _iter_test_indices(X, y, groups)\u001b[39;00m\n\u001b[1;32m     96\u001b[0m \u001b[39m    \"\"\"\u001b[39;00m\n\u001b[0;32m---> 97\u001b[0m     \u001b[39mfor\u001b[39;00m test_index \u001b[39min\u001b[39;00m \u001b[39mself\u001b[39m\u001b[39m.\u001b[39m_iter_test_indices(X, y, groups):\n\u001b[1;32m     98\u001b[0m         test_mask \u001b[39m=\u001b[39m np\u001b[39m.\u001b[39mzeros(_num_samples(X), dtype\u001b[39m=\u001b[39m\u001b[39mbool\u001b[39m)\n\u001b[1;32m     99\u001b[0m         test_mask[test_index] \u001b[39m=\u001b[39m \u001b[39mTrue\u001b[39;00m\n",
            "File \u001b[0;32m~/des/estudo_data_science/.venv/lib64/python3.11/site-packages/sklearn/model_selection/_split.py:530\u001b[0m, in \u001b[0;36mGroupKFold._iter_test_indices\u001b[0;34m(self, X, y, groups)\u001b[0m\n\u001b[1;32m    528\u001b[0m \u001b[39mdef\u001b[39;00m \u001b[39m_iter_test_indices\u001b[39m(\u001b[39mself\u001b[39m, X, y, groups):\n\u001b[1;32m    529\u001b[0m     \u001b[39mif\u001b[39;00m groups \u001b[39mis\u001b[39;00m \u001b[39mNone\u001b[39;00m:\n\u001b[0;32m--> 530\u001b[0m         \u001b[39mraise\u001b[39;00m \u001b[39mValueError\u001b[39;00m(\u001b[39m\"\u001b[39m\u001b[39mThe \u001b[39m\u001b[39m'\u001b[39m\u001b[39mgroups\u001b[39m\u001b[39m'\u001b[39m\u001b[39m parameter should not be None.\u001b[39m\u001b[39m\"\u001b[39m)\n\u001b[1;32m    531\u001b[0m     groups \u001b[39m=\u001b[39m check_array(groups, input_name\u001b[39m=\u001b[39m\u001b[39m\"\u001b[39m\u001b[39mgroups\u001b[39m\u001b[39m\"\u001b[39m, ensure_2d\u001b[39m=\u001b[39m\u001b[39mFalse\u001b[39;00m, dtype\u001b[39m=\u001b[39m\u001b[39mNone\u001b[39;00m)\n\u001b[1;32m    533\u001b[0m     unique_groups, groups \u001b[39m=\u001b[39m np\u001b[39m.\u001b[39munique(groups, return_inverse\u001b[39m=\u001b[39m\u001b[39mTrue\u001b[39;00m)\n",
            "\u001b[0;31mValueError\u001b[0m: The 'groups' parameter should not be None."
          ]
        }
      ],
      "source": [
        "from sklearn.model_selection import cross_val_score\n",
        "\n",
        "scores = cross_val_score(busca, x_azar, y_azar, cv = GroupKFold(n_splits=10), groups = dados.modelo, error_score='raise')"
      ]
    },
    {
      "cell_type": "markdown",
      "metadata": {
        "colab_type": "text",
        "id": "E_MEMPRYuWYT"
      },
      "source": [
        "# Infelizmente como o Pandas não suporta nested validation com group k fold não conseguimos prever o resultado para novos grupos"
      ]
    },
    {
      "cell_type": "code",
      "execution_count": 50,
      "metadata": {
        "colab": {
          "base_uri": "https://localhost:8080/",
          "height": 815
        },
        "colab_type": "code",
        "id": "9aYIMS1At7ZW",
        "outputId": "796c67c2-85f0-43cd-fb4e-439162257201"
      },
      "outputs": [
        {
          "data": {
            "text/html": [
              "<div>\n",
              "<style scoped>\n",
              "    .dataframe tbody tr th:only-of-type {\n",
              "        vertical-align: middle;\n",
              "    }\n",
              "\n",
              "    .dataframe tbody tr th {\n",
              "        vertical-align: top;\n",
              "    }\n",
              "\n",
              "    .dataframe thead th {\n",
              "        text-align: right;\n",
              "    }\n",
              "</style>\n",
              "<table border=\"1\" class=\"dataframe\">\n",
              "  <thead>\n",
              "    <tr style=\"text-align: right;\">\n",
              "      <th></th>\n",
              "      <th>mean_fit_time</th>\n",
              "      <th>std_fit_time</th>\n",
              "      <th>mean_score_time</th>\n",
              "      <th>std_score_time</th>\n",
              "      <th>param_criterion</th>\n",
              "      <th>param_max_depth</th>\n",
              "      <th>param_min_samples_leaf</th>\n",
              "      <th>param_min_samples_split</th>\n",
              "      <th>params</th>\n",
              "      <th>split0_test_score</th>\n",
              "      <th>split1_test_score</th>\n",
              "      <th>split2_test_score</th>\n",
              "      <th>split3_test_score</th>\n",
              "      <th>split4_test_score</th>\n",
              "      <th>mean_test_score</th>\n",
              "      <th>std_test_score</th>\n",
              "      <th>rank_test_score</th>\n",
              "    </tr>\n",
              "  </thead>\n",
              "  <tbody>\n",
              "    <tr>\n",
              "      <th>0</th>\n",
              "      <td>0.025005</td>\n",
              "      <td>0.000480</td>\n",
              "      <td>0.004396</td>\n",
              "      <td>0.000590</td>\n",
              "      <td>gini</td>\n",
              "      <td>3</td>\n",
              "      <td>32</td>\n",
              "      <td>32</td>\n",
              "      <td>{'criterion': 'gini', 'max_depth': 3, 'min_sam...</td>\n",
              "      <td>0.784</td>\n",
              "      <td>0.776</td>\n",
              "      <td>0.8025</td>\n",
              "      <td>0.793</td>\n",
              "      <td>0.7795</td>\n",
              "      <td>0.787</td>\n",
              "      <td>0.009618</td>\n",
              "      <td>1</td>\n",
              "    </tr>\n",
              "    <tr>\n",
              "      <th>1</th>\n",
              "      <td>0.014050</td>\n",
              "      <td>0.007224</td>\n",
              "      <td>0.002005</td>\n",
              "      <td>0.001136</td>\n",
              "      <td>gini</td>\n",
              "      <td>3</td>\n",
              "      <td>32</td>\n",
              "      <td>64</td>\n",
              "      <td>{'criterion': 'gini', 'max_depth': 3, 'min_sam...</td>\n",
              "      <td>0.784</td>\n",
              "      <td>0.776</td>\n",
              "      <td>0.8025</td>\n",
              "      <td>0.793</td>\n",
              "      <td>0.7795</td>\n",
              "      <td>0.787</td>\n",
              "      <td>0.009618</td>\n",
              "      <td>1</td>\n",
              "    </tr>\n",
              "    <tr>\n",
              "      <th>2</th>\n",
              "      <td>0.004764</td>\n",
              "      <td>0.000072</td>\n",
              "      <td>0.000718</td>\n",
              "      <td>0.000012</td>\n",
              "      <td>gini</td>\n",
              "      <td>3</td>\n",
              "      <td>32</td>\n",
              "      <td>128</td>\n",
              "      <td>{'criterion': 'gini', 'max_depth': 3, 'min_sam...</td>\n",
              "      <td>0.784</td>\n",
              "      <td>0.776</td>\n",
              "      <td>0.8025</td>\n",
              "      <td>0.793</td>\n",
              "      <td>0.7795</td>\n",
              "      <td>0.787</td>\n",
              "      <td>0.009618</td>\n",
              "      <td>1</td>\n",
              "    </tr>\n",
              "    <tr>\n",
              "      <th>3</th>\n",
              "      <td>0.004731</td>\n",
              "      <td>0.000029</td>\n",
              "      <td>0.000719</td>\n",
              "      <td>0.000011</td>\n",
              "      <td>gini</td>\n",
              "      <td>3</td>\n",
              "      <td>64</td>\n",
              "      <td>32</td>\n",
              "      <td>{'criterion': 'gini', 'max_depth': 3, 'min_sam...</td>\n",
              "      <td>0.784</td>\n",
              "      <td>0.776</td>\n",
              "      <td>0.8025</td>\n",
              "      <td>0.793</td>\n",
              "      <td>0.7795</td>\n",
              "      <td>0.787</td>\n",
              "      <td>0.009618</td>\n",
              "      <td>1</td>\n",
              "    </tr>\n",
              "    <tr>\n",
              "      <th>4</th>\n",
              "      <td>0.004783</td>\n",
              "      <td>0.000073</td>\n",
              "      <td>0.000733</td>\n",
              "      <td>0.000019</td>\n",
              "      <td>gini</td>\n",
              "      <td>3</td>\n",
              "      <td>64</td>\n",
              "      <td>64</td>\n",
              "      <td>{'criterion': 'gini', 'max_depth': 3, 'min_sam...</td>\n",
              "      <td>0.784</td>\n",
              "      <td>0.776</td>\n",
              "      <td>0.8025</td>\n",
              "      <td>0.793</td>\n",
              "      <td>0.7795</td>\n",
              "      <td>0.787</td>\n",
              "      <td>0.009618</td>\n",
              "      <td>1</td>\n",
              "    </tr>\n",
              "  </tbody>\n",
              "</table>\n",
              "</div>"
            ],
            "text/plain": [
              "   mean_fit_time  std_fit_time  mean_score_time  std_score_time  \\\n",
              "0       0.025005      0.000480         0.004396        0.000590   \n",
              "1       0.014050      0.007224         0.002005        0.001136   \n",
              "2       0.004764      0.000072         0.000718        0.000012   \n",
              "3       0.004731      0.000029         0.000719        0.000011   \n",
              "4       0.004783      0.000073         0.000733        0.000019   \n",
              "\n",
              "  param_criterion param_max_depth param_min_samples_leaf  \\\n",
              "0            gini               3                     32   \n",
              "1            gini               3                     32   \n",
              "2            gini               3                     32   \n",
              "3            gini               3                     64   \n",
              "4            gini               3                     64   \n",
              "\n",
              "  param_min_samples_split                                             params  \\\n",
              "0                      32  {'criterion': 'gini', 'max_depth': 3, 'min_sam...   \n",
              "1                      64  {'criterion': 'gini', 'max_depth': 3, 'min_sam...   \n",
              "2                     128  {'criterion': 'gini', 'max_depth': 3, 'min_sam...   \n",
              "3                      32  {'criterion': 'gini', 'max_depth': 3, 'min_sam...   \n",
              "4                      64  {'criterion': 'gini', 'max_depth': 3, 'min_sam...   \n",
              "\n",
              "   split0_test_score  split1_test_score  split2_test_score  split3_test_score  \\\n",
              "0              0.784              0.776             0.8025              0.793   \n",
              "1              0.784              0.776             0.8025              0.793   \n",
              "2              0.784              0.776             0.8025              0.793   \n",
              "3              0.784              0.776             0.8025              0.793   \n",
              "4              0.784              0.776             0.8025              0.793   \n",
              "\n",
              "   split4_test_score  mean_test_score  std_test_score  rank_test_score  \n",
              "0             0.7795            0.787        0.009618                1  \n",
              "1             0.7795            0.787        0.009618                1  \n",
              "2             0.7795            0.787        0.009618                1  \n",
              "3             0.7795            0.787        0.009618                1  \n",
              "4             0.7795            0.787        0.009618                1  "
            ]
          },
          "execution_count": 50,
          "metadata": {},
          "output_type": "execute_result"
        }
      ],
      "source": [
        "from sklearn.model_selection import GridSearchCV, KFold\n",
        "\n",
        "SEED=301\n",
        "np.random.seed(SEED)\n",
        "\n",
        "espaco_de_parametros = {\n",
        "    \"max_depth\" : [3, 5],\n",
        "    \"min_samples_split\" : [32, 64, 128],\n",
        "    \"min_samples_leaf\" : [32, 64, 128],\n",
        "    \"criterion\" : [\"gini\", \"entropy\"]\n",
        "}\n",
        "\n",
        "busca = GridSearchCV(DecisionTreeClassifier(),\n",
        "                    espaco_de_parametros,\n",
        "                    cv = KFold(n_splits = 5, shuffle=True))\n",
        "busca.fit(x_azar, y_azar)\n",
        "resultados = pd.DataFrame(busca.cv_results_)\n",
        "resultados.head()"
      ]
    },
    {
      "cell_type": "code",
      "execution_count": 51,
      "metadata": {
        "colab": {
          "base_uri": "https://localhost:8080/",
          "height": 34
        },
        "colab_type": "code",
        "id": "IHOi-91kulqx",
        "outputId": "8924bf96-8bc2-413b-ae11-2ce40000f072"
      },
      "outputs": [
        {
          "data": {
            "text/plain": [
              "array([0.7895, 0.7825, 0.7905, 0.7715, 0.7995])"
            ]
          },
          "execution_count": 51,
          "metadata": {},
          "output_type": "execute_result"
        }
      ],
      "source": [
        "from sklearn.model_selection import cross_val_score\n",
        "\n",
        "scores = cross_val_score(busca, x_azar, y_azar, cv = KFold(n_splits=5, shuffle=True))\n",
        "scores"
      ]
    },
    {
      "cell_type": "code",
      "execution_count": 52,
      "metadata": {
        "colab": {},
        "colab_type": "code",
        "id": "Lc5EU1Uou07O"
      },
      "outputs": [],
      "source": [
        "def imprime_score(scores):\n",
        "  media = scores.mean() * 100\n",
        "  desvio = scores.std() * 100\n",
        "  print(\"Accuracy médio %.2f\" % media)\n",
        "  print(\"Intervalo [%.2f, %.2f]\" % (media - 2 * desvio, media + 2 * desvio))"
      ]
    },
    {
      "cell_type": "code",
      "execution_count": 53,
      "metadata": {
        "colab": {
          "base_uri": "https://localhost:8080/",
          "height": 51
        },
        "colab_type": "code",
        "id": "VDRWxxyevJiz",
        "outputId": "42022718-23a6-428b-a265-18107042a0f1"
      },
      "outputs": [
        {
          "name": "stdout",
          "output_type": "stream",
          "text": [
            "Accuracy médio 78.67\n",
            "Intervalo [76.80, 80.54]\n"
          ]
        }
      ],
      "source": [
        "imprime_score(scores)"
      ]
    },
    {
      "cell_type": "code",
      "execution_count": 54,
      "metadata": {
        "colab": {
          "base_uri": "https://localhost:8080/",
          "height": 119
        },
        "colab_type": "code",
        "id": "7fUVmolpvKco",
        "outputId": "4673d25f-b94a-4ba9-c67d-5cc211717a21"
      },
      "outputs": [
        {
          "name": "stdout",
          "output_type": "stream",
          "text": [
            "DecisionTreeClassifier(max_depth=3, min_samples_leaf=32, min_samples_split=32)\n"
          ]
        }
      ],
      "source": [
        "melhor = busca.best_estimator_\n",
        "print(melhor)"
      ]
    },
    {
      "cell_type": "code",
      "execution_count": 55,
      "metadata": {
        "colab": {
          "base_uri": "https://localhost:8080/",
          "height": 618
        },
        "colab_type": "code",
        "id": "eDBL3kBxvPPi",
        "outputId": "0c840ac7-4430-4450-ee9f-90488d10c2c7"
      },
      "outputs": [
        {
          "data": {
            "image/svg+xml": [
              "<?xml version=\"1.0\" encoding=\"UTF-8\" standalone=\"no\"?>\n",
              "<!DOCTYPE svg PUBLIC \"-//W3C//DTD SVG 1.1//EN\"\n",
              " \"http://www.w3.org/Graphics/SVG/1.1/DTD/svg11.dtd\">\n",
              "<!-- Generated by graphviz version 2.50.0 (0)\n",
              " -->\n",
              "<!-- Title: Tree Pages: 1 -->\n",
              "<svg width=\"1013pt\" height=\"433pt\"\n",
              " viewBox=\"0.00 0.00 1012.50 433.00\" xmlns=\"http://www.w3.org/2000/svg\" xmlns:xlink=\"http://www.w3.org/1999/xlink\">\n",
              "<g id=\"graph0\" class=\"graph\" transform=\"scale(1 1) rotate(0) translate(4 429)\">\n",
              "<title>Tree</title>\n",
              "<polygon fill=\"white\" stroke=\"transparent\" points=\"-4,4 -4,-429 1008.5,-429 1008.5,4 -4,4\"/>\n",
              "<!-- 0 -->\n",
              "<g id=\"node1\" class=\"node\">\n",
              "<title>0</title>\n",
              "<path fill=\"#c8e4f8\" stroke=\"black\" d=\"M413.5,-425C413.5,-425 270.5,-425 270.5,-425 264.5,-425 258.5,-419 258.5,-413 258.5,-413 258.5,-354 258.5,-354 258.5,-348 264.5,-342 270.5,-342 270.5,-342 413.5,-342 413.5,-342 419.5,-342 425.5,-348 425.5,-354 425.5,-354 425.5,-413 425.5,-413 425.5,-419 419.5,-425 413.5,-425\"/>\n",
              "<text text-anchor=\"middle\" x=\"342\" y=\"-409.8\" font-family=\"Helvetica,sans-Serif\" font-size=\"14.00\">preco &lt;= 59982.246</text>\n",
              "<text text-anchor=\"middle\" x=\"342\" y=\"-394.8\" font-family=\"Helvetica,sans-Serif\" font-size=\"14.00\">gini = 0.487</text>\n",
              "<text text-anchor=\"middle\" x=\"342\" y=\"-379.8\" font-family=\"Helvetica,sans-Serif\" font-size=\"14.00\">samples = 10000</text>\n",
              "<text text-anchor=\"middle\" x=\"342\" y=\"-364.8\" font-family=\"Helvetica,sans-Serif\" font-size=\"14.00\">value = [4200, 5800]</text>\n",
              "<text text-anchor=\"middle\" x=\"342\" y=\"-349.8\" font-family=\"Helvetica,sans-Serif\" font-size=\"14.00\">class = sim</text>\n",
              "</g>\n",
              "<!-- 1 -->\n",
              "<g id=\"node2\" class=\"node\">\n",
              "<title>1</title>\n",
              "<path fill=\"#52a9e8\" stroke=\"black\" d=\"M310,-306C310,-306 170,-306 170,-306 164,-306 158,-300 158,-294 158,-294 158,-235 158,-235 158,-229 164,-223 170,-223 170,-223 310,-223 310,-223 316,-223 322,-229 322,-235 322,-235 322,-294 322,-294 322,-300 316,-306 310,-306\"/>\n",
              "<text text-anchor=\"middle\" x=\"240\" y=\"-290.8\" font-family=\"Helvetica,sans-Serif\" font-size=\"14.00\">preco &lt;= 40083.385</text>\n",
              "<text text-anchor=\"middle\" x=\"240\" y=\"-275.8\" font-family=\"Helvetica,sans-Serif\" font-size=\"14.00\">gini = 0.198</text>\n",
              "<text text-anchor=\"middle\" x=\"240\" y=\"-260.8\" font-family=\"Helvetica,sans-Serif\" font-size=\"14.00\">samples = 4347</text>\n",
              "<text text-anchor=\"middle\" x=\"240\" y=\"-245.8\" font-family=\"Helvetica,sans-Serif\" font-size=\"14.00\">value = [484, 3863]</text>\n",
              "<text text-anchor=\"middle\" x=\"240\" y=\"-230.8\" font-family=\"Helvetica,sans-Serif\" font-size=\"14.00\">class = sim</text>\n",
              "</g>\n",
              "<!-- 0&#45;&gt;1 -->\n",
              "<g id=\"edge1\" class=\"edge\">\n",
              "<title>0&#45;&gt;1</title>\n",
              "<path fill=\"none\" stroke=\"black\" d=\"M306.61,-341.91C298.7,-332.83 290.23,-323.12 282.08,-313.77\"/>\n",
              "<polygon fill=\"black\" stroke=\"black\" points=\"284.54,-311.26 275.33,-306.02 279.26,-315.86 284.54,-311.26\"/>\n",
              "<text text-anchor=\"middle\" x=\"273.62\" y=\"-327.26\" font-family=\"Helvetica,sans-Serif\" font-size=\"14.00\">True</text>\n",
              "</g>\n",
              "<!-- 6 -->\n",
              "<g id=\"node7\" class=\"node\">\n",
              "<title>6</title>\n",
              "<path fill=\"#f3c3a0\" stroke=\"black\" d=\"M603,-306C603,-306 417,-306 417,-306 411,-306 405,-300 405,-294 405,-294 405,-235 405,-235 405,-229 411,-223 417,-223 417,-223 603,-223 603,-223 609,-223 615,-229 615,-235 615,-235 615,-294 615,-294 615,-300 609,-306 603,-306\"/>\n",
              "<text text-anchor=\"middle\" x=\"510\" y=\"-290.8\" font-family=\"Helvetica,sans-Serif\" font-size=\"14.00\">km_por_ano &lt;= 24124.006</text>\n",
              "<text text-anchor=\"middle\" x=\"510\" y=\"-275.8\" font-family=\"Helvetica,sans-Serif\" font-size=\"14.00\">gini = 0.45</text>\n",
              "<text text-anchor=\"middle\" x=\"510\" y=\"-260.8\" font-family=\"Helvetica,sans-Serif\" font-size=\"14.00\">samples = 5653</text>\n",
              "<text text-anchor=\"middle\" x=\"510\" y=\"-245.8\" font-family=\"Helvetica,sans-Serif\" font-size=\"14.00\">value = [3716, 1937]</text>\n",
              "<text text-anchor=\"middle\" x=\"510\" y=\"-230.8\" font-family=\"Helvetica,sans-Serif\" font-size=\"14.00\">class = não</text>\n",
              "</g>\n",
              "<!-- 0&#45;&gt;6 -->\n",
              "<g id=\"edge6\" class=\"edge\">\n",
              "<title>0&#45;&gt;6</title>\n",
              "<path fill=\"none\" stroke=\"black\" d=\"M400.29,-341.91C414.23,-332.2 429.22,-321.76 443.5,-311.81\"/>\n",
              "<polygon fill=\"black\" stroke=\"black\" points=\"445.61,-314.61 451.82,-306.02 441.61,-308.86 445.61,-314.61\"/>\n",
              "<text text-anchor=\"middle\" x=\"447.41\" y=\"-326.93\" font-family=\"Helvetica,sans-Serif\" font-size=\"14.00\">False</text>\n",
              "</g>\n",
              "<!-- 2 -->\n",
              "<g id=\"node3\" class=\"node\">\n",
              "<title>2</title>\n",
              "<path fill=\"#399de5\" stroke=\"black\" d=\"M128,-179.5C128,-179.5 12,-179.5 12,-179.5 6,-179.5 0,-173.5 0,-167.5 0,-167.5 0,-123.5 0,-123.5 0,-117.5 6,-111.5 12,-111.5 12,-111.5 128,-111.5 128,-111.5 134,-111.5 140,-117.5 140,-123.5 140,-123.5 140,-167.5 140,-167.5 140,-173.5 134,-179.5 128,-179.5\"/>\n",
              "<text text-anchor=\"middle\" x=\"70\" y=\"-164.3\" font-family=\"Helvetica,sans-Serif\" font-size=\"14.00\">gini = 0.0</text>\n",
              "<text text-anchor=\"middle\" x=\"70\" y=\"-149.3\" font-family=\"Helvetica,sans-Serif\" font-size=\"14.00\">samples = 1935</text>\n",
              "<text text-anchor=\"middle\" x=\"70\" y=\"-134.3\" font-family=\"Helvetica,sans-Serif\" font-size=\"14.00\">value = [0, 1935]</text>\n",
              "<text text-anchor=\"middle\" x=\"70\" y=\"-119.3\" font-family=\"Helvetica,sans-Serif\" font-size=\"14.00\">class = sim</text>\n",
              "</g>\n",
              "<!-- 1&#45;&gt;2 -->\n",
              "<g id=\"edge2\" class=\"edge\">\n",
              "<title>1&#45;&gt;2</title>\n",
              "<path fill=\"none\" stroke=\"black\" d=\"M181.02,-222.91C163.38,-210.77 144.09,-197.49 126.61,-185.46\"/>\n",
              "<polygon fill=\"black\" stroke=\"black\" points=\"128.41,-182.45 118.19,-179.67 124.44,-188.22 128.41,-182.45\"/>\n",
              "</g>\n",
              "<!-- 3 -->\n",
              "<g id=\"node4\" class=\"node\">\n",
              "<title>3</title>\n",
              "<path fill=\"#6bb6ec\" stroke=\"black\" d=\"M310,-187C310,-187 170,-187 170,-187 164,-187 158,-181 158,-175 158,-175 158,-116 158,-116 158,-110 164,-104 170,-104 170,-104 310,-104 310,-104 316,-104 322,-110 322,-116 322,-116 322,-175 322,-175 322,-181 316,-187 310,-187\"/>\n",
              "<text text-anchor=\"middle\" x=\"240\" y=\"-171.8\" font-family=\"Helvetica,sans-Serif\" font-size=\"14.00\">preco &lt;= 41083.029</text>\n",
              "<text text-anchor=\"middle\" x=\"240\" y=\"-156.8\" font-family=\"Helvetica,sans-Serif\" font-size=\"14.00\">gini = 0.321</text>\n",
              "<text text-anchor=\"middle\" x=\"240\" y=\"-141.8\" font-family=\"Helvetica,sans-Serif\" font-size=\"14.00\">samples = 2412</text>\n",
              "<text text-anchor=\"middle\" x=\"240\" y=\"-126.8\" font-family=\"Helvetica,sans-Serif\" font-size=\"14.00\">value = [484, 1928]</text>\n",
              "<text text-anchor=\"middle\" x=\"240\" y=\"-111.8\" font-family=\"Helvetica,sans-Serif\" font-size=\"14.00\">class = sim</text>\n",
              "</g>\n",
              "<!-- 1&#45;&gt;3 -->\n",
              "<g id=\"edge3\" class=\"edge\">\n",
              "<title>1&#45;&gt;3</title>\n",
              "<path fill=\"none\" stroke=\"black\" d=\"M240,-222.91C240,-214.65 240,-205.86 240,-197.3\"/>\n",
              "<polygon fill=\"black\" stroke=\"black\" points=\"243.5,-197.02 240,-187.02 236.5,-197.02 243.5,-197.02\"/>\n",
              "</g>\n",
              "<!-- 4 -->\n",
              "<g id=\"node5\" class=\"node\">\n",
              "<title>4</title>\n",
              "<path fill=\"#95cbf1\" stroke=\"black\" d=\"M130.5,-68C130.5,-68 23.5,-68 23.5,-68 17.5,-68 11.5,-62 11.5,-56 11.5,-56 11.5,-12 11.5,-12 11.5,-6 17.5,0 23.5,0 23.5,0 130.5,0 130.5,0 136.5,0 142.5,-6 142.5,-12 142.5,-12 142.5,-56 142.5,-56 142.5,-62 136.5,-68 130.5,-68\"/>\n",
              "<text text-anchor=\"middle\" x=\"77\" y=\"-52.8\" font-family=\"Helvetica,sans-Serif\" font-size=\"14.00\">gini = 0.434</text>\n",
              "<text text-anchor=\"middle\" x=\"77\" y=\"-37.8\" font-family=\"Helvetica,sans-Serif\" font-size=\"14.00\">samples = 110</text>\n",
              "<text text-anchor=\"middle\" x=\"77\" y=\"-22.8\" font-family=\"Helvetica,sans-Serif\" font-size=\"14.00\">value = [35, 75]</text>\n",
              "<text text-anchor=\"middle\" x=\"77\" y=\"-7.8\" font-family=\"Helvetica,sans-Serif\" font-size=\"14.00\">class = sim</text>\n",
              "</g>\n",
              "<!-- 3&#45;&gt;4 -->\n",
              "<g id=\"edge4\" class=\"edge\">\n",
              "<title>3&#45;&gt;4</title>\n",
              "<path fill=\"none\" stroke=\"black\" d=\"M179.3,-103.73C164.7,-93.92 149.14,-83.46 134.68,-73.75\"/>\n",
              "<polygon fill=\"black\" stroke=\"black\" points=\"136.56,-70.8 126.31,-68.13 132.66,-76.61 136.56,-70.8\"/>\n",
              "</g>\n",
              "<!-- 5 -->\n",
              "<g id=\"node6\" class=\"node\">\n",
              "<title>5</title>\n",
              "<path fill=\"#69b5eb\" stroke=\"black\" d=\"M307,-68C307,-68 173,-68 173,-68 167,-68 161,-62 161,-56 161,-56 161,-12 161,-12 161,-6 167,0 173,0 173,0 307,0 307,0 313,0 319,-6 319,-12 319,-12 319,-56 319,-56 319,-62 313,-68 307,-68\"/>\n",
              "<text text-anchor=\"middle\" x=\"240\" y=\"-52.8\" font-family=\"Helvetica,sans-Serif\" font-size=\"14.00\">gini = 0.314</text>\n",
              "<text text-anchor=\"middle\" x=\"240\" y=\"-37.8\" font-family=\"Helvetica,sans-Serif\" font-size=\"14.00\">samples = 2302</text>\n",
              "<text text-anchor=\"middle\" x=\"240\" y=\"-22.8\" font-family=\"Helvetica,sans-Serif\" font-size=\"14.00\">value = [449, 1853]</text>\n",
              "<text text-anchor=\"middle\" x=\"240\" y=\"-7.8\" font-family=\"Helvetica,sans-Serif\" font-size=\"14.00\">class = sim</text>\n",
              "</g>\n",
              "<!-- 3&#45;&gt;5 -->\n",
              "<g id=\"edge5\" class=\"edge\">\n",
              "<title>3&#45;&gt;5</title>\n",
              "<path fill=\"none\" stroke=\"black\" d=\"M240,-103.73C240,-95.52 240,-86.86 240,-78.56\"/>\n",
              "<polygon fill=\"black\" stroke=\"black\" points=\"243.5,-78.3 240,-68.3 236.5,-78.3 243.5,-78.3\"/>\n",
              "</g>\n",
              "<!-- 7 -->\n",
              "<g id=\"node8\" class=\"node\">\n",
              "<title>7</title>\n",
              "<path fill=\"#fcefe5\" stroke=\"black\" d=\"M581.5,-187C581.5,-187 438.5,-187 438.5,-187 432.5,-187 426.5,-181 426.5,-175 426.5,-175 426.5,-116 426.5,-116 426.5,-110 432.5,-104 438.5,-104 438.5,-104 581.5,-104 581.5,-104 587.5,-104 593.5,-110 593.5,-116 593.5,-116 593.5,-175 593.5,-175 593.5,-181 587.5,-187 581.5,-187\"/>\n",
              "<text text-anchor=\"middle\" x=\"510\" y=\"-171.8\" font-family=\"Helvetica,sans-Serif\" font-size=\"14.00\">preco &lt;= 99974.41</text>\n",
              "<text text-anchor=\"middle\" x=\"510\" y=\"-156.8\" font-family=\"Helvetica,sans-Serif\" font-size=\"14.00\">gini = 0.498</text>\n",
              "<text text-anchor=\"middle\" x=\"510\" y=\"-141.8\" font-family=\"Helvetica,sans-Serif\" font-size=\"14.00\">samples = 3513</text>\n",
              "<text text-anchor=\"middle\" x=\"510\" y=\"-126.8\" font-family=\"Helvetica,sans-Serif\" font-size=\"14.00\">value = [1879, 1634]</text>\n",
              "<text text-anchor=\"middle\" x=\"510\" y=\"-111.8\" font-family=\"Helvetica,sans-Serif\" font-size=\"14.00\">class = não</text>\n",
              "</g>\n",
              "<!-- 6&#45;&gt;7 -->\n",
              "<g id=\"edge7\" class=\"edge\">\n",
              "<title>6&#45;&gt;7</title>\n",
              "<path fill=\"none\" stroke=\"black\" d=\"M510,-222.91C510,-214.65 510,-205.86 510,-197.3\"/>\n",
              "<polygon fill=\"black\" stroke=\"black\" points=\"513.5,-197.02 510,-187.02 506.5,-197.02 513.5,-197.02\"/>\n",
              "</g>\n",
              "<!-- 10 -->\n",
              "<g id=\"node11\" class=\"node\">\n",
              "<title>10</title>\n",
              "<path fill=\"#e9965a\" stroke=\"black\" d=\"M837.5,-187C837.5,-187 688.5,-187 688.5,-187 682.5,-187 676.5,-181 676.5,-175 676.5,-175 676.5,-116 676.5,-116 676.5,-110 682.5,-104 688.5,-104 688.5,-104 837.5,-104 837.5,-104 843.5,-104 849.5,-110 849.5,-116 849.5,-116 849.5,-175 849.5,-175 849.5,-181 843.5,-187 837.5,-187\"/>\n",
              "<text text-anchor=\"middle\" x=\"763\" y=\"-171.8\" font-family=\"Helvetica,sans-Serif\" font-size=\"14.00\">preco &lt;= 100076.957</text>\n",
              "<text text-anchor=\"middle\" x=\"763\" y=\"-156.8\" font-family=\"Helvetica,sans-Serif\" font-size=\"14.00\">gini = 0.243</text>\n",
              "<text text-anchor=\"middle\" x=\"763\" y=\"-141.8\" font-family=\"Helvetica,sans-Serif\" font-size=\"14.00\">samples = 2140</text>\n",
              "<text text-anchor=\"middle\" x=\"763\" y=\"-126.8\" font-family=\"Helvetica,sans-Serif\" font-size=\"14.00\">value = [1837, 303]</text>\n",
              "<text text-anchor=\"middle\" x=\"763\" y=\"-111.8\" font-family=\"Helvetica,sans-Serif\" font-size=\"14.00\">class = não</text>\n",
              "</g>\n",
              "<!-- 6&#45;&gt;10 -->\n",
              "<g id=\"edge10\" class=\"edge\">\n",
              "<title>6&#45;&gt;10</title>\n",
              "<path fill=\"none\" stroke=\"black\" d=\"M597.78,-222.91C620.1,-212.58 644.21,-201.43 666.93,-190.93\"/>\n",
              "<polygon fill=\"black\" stroke=\"black\" points=\"668.63,-194 676.23,-186.63 665.69,-187.65 668.63,-194\"/>\n",
              "</g>\n",
              "<!-- 8 -->\n",
              "<g id=\"node9\" class=\"node\">\n",
              "<title>8</title>\n",
              "<path fill=\"#f9e0ce\" stroke=\"black\" d=\"M491.5,-68C491.5,-68 348.5,-68 348.5,-68 342.5,-68 336.5,-62 336.5,-56 336.5,-56 336.5,-12 336.5,-12 336.5,-6 342.5,0 348.5,0 348.5,0 491.5,0 491.5,0 497.5,0 503.5,-6 503.5,-12 503.5,-12 503.5,-56 503.5,-56 503.5,-62 497.5,-68 491.5,-68\"/>\n",
              "<text text-anchor=\"middle\" x=\"420\" y=\"-52.8\" font-family=\"Helvetica,sans-Serif\" font-size=\"14.00\">gini = 0.49</text>\n",
              "<text text-anchor=\"middle\" x=\"420\" y=\"-37.8\" font-family=\"Helvetica,sans-Serif\" font-size=\"14.00\">samples = 2944</text>\n",
              "<text text-anchor=\"middle\" x=\"420\" y=\"-22.8\" font-family=\"Helvetica,sans-Serif\" font-size=\"14.00\">value = [1682, 1262]</text>\n",
              "<text text-anchor=\"middle\" x=\"420\" y=\"-7.8\" font-family=\"Helvetica,sans-Serif\" font-size=\"14.00\">class = não</text>\n",
              "</g>\n",
              "<!-- 7&#45;&gt;8 -->\n",
              "<g id=\"edge8\" class=\"edge\">\n",
              "<title>7&#45;&gt;8</title>\n",
              "<path fill=\"none\" stroke=\"black\" d=\"M476.49,-103.73C469.07,-94.7 461.2,-85.12 453.77,-76.08\"/>\n",
              "<polygon fill=\"black\" stroke=\"black\" points=\"456.42,-73.8 447.37,-68.3 451.02,-78.25 456.42,-73.8\"/>\n",
              "</g>\n",
              "<!-- 9 -->\n",
              "<g id=\"node10\" class=\"node\">\n",
              "<title>9</title>\n",
              "<path fill=\"#a2d1f3\" stroke=\"black\" d=\"M658.5,-68C658.5,-68 533.5,-68 533.5,-68 527.5,-68 521.5,-62 521.5,-56 521.5,-56 521.5,-12 521.5,-12 521.5,-6 527.5,0 533.5,0 533.5,0 658.5,0 658.5,0 664.5,0 670.5,-6 670.5,-12 670.5,-12 670.5,-56 670.5,-56 670.5,-62 664.5,-68 658.5,-68\"/>\n",
              "<text text-anchor=\"middle\" x=\"596\" y=\"-52.8\" font-family=\"Helvetica,sans-Serif\" font-size=\"14.00\">gini = 0.453</text>\n",
              "<text text-anchor=\"middle\" x=\"596\" y=\"-37.8\" font-family=\"Helvetica,sans-Serif\" font-size=\"14.00\">samples = 569</text>\n",
              "<text text-anchor=\"middle\" x=\"596\" y=\"-22.8\" font-family=\"Helvetica,sans-Serif\" font-size=\"14.00\">value = [197, 372]</text>\n",
              "<text text-anchor=\"middle\" x=\"596\" y=\"-7.8\" font-family=\"Helvetica,sans-Serif\" font-size=\"14.00\">class = sim</text>\n",
              "</g>\n",
              "<!-- 7&#45;&gt;9 -->\n",
              "<g id=\"edge9\" class=\"edge\">\n",
              "<title>7&#45;&gt;9</title>\n",
              "<path fill=\"none\" stroke=\"black\" d=\"M542.02,-103.73C549.04,-94.79 556.48,-85.32 563.52,-76.36\"/>\n",
              "<polygon fill=\"black\" stroke=\"black\" points=\"566.42,-78.33 569.85,-68.3 560.92,-74 566.42,-78.33\"/>\n",
              "</g>\n",
              "<!-- 11 -->\n",
              "<g id=\"node12\" class=\"node\">\n",
              "<title>11</title>\n",
              "<path fill=\"#e68742\" stroke=\"black\" d=\"M825.5,-68C825.5,-68 700.5,-68 700.5,-68 694.5,-68 688.5,-62 688.5,-56 688.5,-56 688.5,-12 688.5,-12 688.5,-6 694.5,0 700.5,0 700.5,0 825.5,0 825.5,0 831.5,0 837.5,-6 837.5,-12 837.5,-12 837.5,-56 837.5,-56 837.5,-62 831.5,-68 825.5,-68\"/>\n",
              "<text text-anchor=\"middle\" x=\"763\" y=\"-52.8\" font-family=\"Helvetica,sans-Serif\" font-size=\"14.00\">gini = 0.082</text>\n",
              "<text text-anchor=\"middle\" x=\"763\" y=\"-37.8\" font-family=\"Helvetica,sans-Serif\" font-size=\"14.00\">samples = 1809</text>\n",
              "<text text-anchor=\"middle\" x=\"763\" y=\"-22.8\" font-family=\"Helvetica,sans-Serif\" font-size=\"14.00\">value = [1732, 77]</text>\n",
              "<text text-anchor=\"middle\" x=\"763\" y=\"-7.8\" font-family=\"Helvetica,sans-Serif\" font-size=\"14.00\">class = não</text>\n",
              "</g>\n",
              "<!-- 10&#45;&gt;11 -->\n",
              "<g id=\"edge11\" class=\"edge\">\n",
              "<title>10&#45;&gt;11</title>\n",
              "<path fill=\"none\" stroke=\"black\" d=\"M763,-103.73C763,-95.52 763,-86.86 763,-78.56\"/>\n",
              "<polygon fill=\"black\" stroke=\"black\" points=\"766.5,-78.3 763,-68.3 759.5,-78.3 766.5,-78.3\"/>\n",
              "</g>\n",
              "<!-- 12 -->\n",
              "<g id=\"node13\" class=\"node\">\n",
              "<title>12</title>\n",
              "<path fill=\"#95cbf1\" stroke=\"black\" d=\"M992.5,-68C992.5,-68 867.5,-68 867.5,-68 861.5,-68 855.5,-62 855.5,-56 855.5,-56 855.5,-12 855.5,-12 855.5,-6 861.5,0 867.5,0 867.5,0 992.5,0 992.5,0 998.5,0 1004.5,-6 1004.5,-12 1004.5,-12 1004.5,-56 1004.5,-56 1004.5,-62 998.5,-68 992.5,-68\"/>\n",
              "<text text-anchor=\"middle\" x=\"930\" y=\"-52.8\" font-family=\"Helvetica,sans-Serif\" font-size=\"14.00\">gini = 0.433</text>\n",
              "<text text-anchor=\"middle\" x=\"930\" y=\"-37.8\" font-family=\"Helvetica,sans-Serif\" font-size=\"14.00\">samples = 331</text>\n",
              "<text text-anchor=\"middle\" x=\"930\" y=\"-22.8\" font-family=\"Helvetica,sans-Serif\" font-size=\"14.00\">value = [105, 226]</text>\n",
              "<text text-anchor=\"middle\" x=\"930\" y=\"-7.8\" font-family=\"Helvetica,sans-Serif\" font-size=\"14.00\">class = sim</text>\n",
              "</g>\n",
              "<!-- 10&#45;&gt;12 -->\n",
              "<g id=\"edge12\" class=\"edge\">\n",
              "<title>10&#45;&gt;12</title>\n",
              "<path fill=\"none\" stroke=\"black\" d=\"M825.18,-103.73C840.15,-93.92 856.09,-83.46 870.9,-73.75\"/>\n",
              "<polygon fill=\"black\" stroke=\"black\" points=\"873.04,-76.54 879.48,-68.13 869.2,-70.68 873.04,-76.54\"/>\n",
              "</g>\n",
              "</g>\n",
              "</svg>\n"
            ],
            "text/plain": [
              "<graphviz.sources.Source at 0x7f01f87ebc50>"
            ]
          },
          "execution_count": 55,
          "metadata": {},
          "output_type": "execute_result"
        }
      ],
      "source": [
        "from sklearn.tree import export_graphviz\n",
        "import graphviz\n",
        "\n",
        "features = x_azar.columns\n",
        "dot_data = export_graphviz(melhor, out_file=None, filled=True, rounded=True,\n",
        "                          class_names=[\"não\",\"sim\"],\n",
        "                          feature_names = features)\n",
        "graph = graphviz.Source(dot_data)\n",
        "graph"
      ]
    },
    {
      "cell_type": "code",
      "execution_count": null,
      "metadata": {
        "colab": {},
        "colab_type": "code",
        "id": "JiW754atvZ8N"
      },
      "outputs": [],
      "source": []
    }
  ],
  "metadata": {
    "colab": {
      "collapsed_sections": [],
      "name": "Introdução_a_Machine_Learning_Otimização.ipynb",
      "provenance": [],
      "version": "0.3.2"
    },
    "kernelspec": {
      "display_name": "Python 3",
      "name": "python3"
    },
    "language_info": {
      "codemirror_mode": {
        "name": "ipython",
        "version": 3
      },
      "file_extension": ".py",
      "mimetype": "text/x-python",
      "name": "python",
      "nbconvert_exporter": "python",
      "pygments_lexer": "ipython3",
      "version": "3.11.6"
    }
  },
  "nbformat": 4,
  "nbformat_minor": 0
}
