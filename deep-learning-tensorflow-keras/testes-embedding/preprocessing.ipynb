{
 "cells": [
  {
   "cell_type": "code",
   "execution_count": 34,
   "metadata": {},
   "outputs": [],
   "source": [
    "import gzip\n",
    "import json\n",
    "import re\n",
    "import string\n",
    "\n",
    "filename = './data/ptwiki-latest.json.gz'\n",
    "regex = r\"([\" + string.punctuation + '—–' + \"])\""
   ]
  },
  {
   "cell_type": "code",
   "execution_count": 35,
   "metadata": {},
   "outputs": [
    {
     "name": "stdout",
     "output_type": "stream",
     "text": [
      "([!\"#$%&'()*+,-./:;<=>?@[\\]^_`{|}~—–])\n"
     ]
    }
   ],
   "source": [
    "samples = 1000\n",
    "max_len = 21\n",
    "print(regex)"
   ]
  },
  {
   "cell_type": "code",
   "execution_count": 36,
   "metadata": {},
   "outputs": [],
   "source": [
    "count = 0\n",
    "with gzip.open(filename, 'rt') as f:\n",
    "    with open('./data/clearned_corpus.txt', 'w') as f_out:\n",
    "        for text in f:\n",
    "            j = json.loads(text)\n",
    "            for line in j['section_texts']:\n",
    "                line = re.sub(regex, ' ', line)\n",
    "                #line = line.replace('\\n','')\n",
    "                while '  ' in line:\n",
    "                    line = line.replace('  ', ' ')                \n",
    "                line = line.strip().lower()\n",
    "                _splited = line.split()\n",
    "                if len(_splited) > max_len-1:\n",
    "                    _splited = _splited[:max_len-1]\n",
    "                line = ' '.join(_splited) + ' [end]'\n",
    "                if len(line.strip().split()) < 10:\n",
    "                    continue\n",
    "                f_out.write(line + '\\n')\n",
    "                if count > samples:\n",
    "                    break\n",
    "                count += 1\n",
    "            if count > samples:\n",
    "                break"
   ]
  }
 ],
 "metadata": {
  "kernelspec": {
   "display_name": ".env",
   "language": "python",
   "name": "python3"
  },
  "language_info": {
   "codemirror_mode": {
    "name": "ipython",
    "version": 3
   },
   "file_extension": ".py",
   "mimetype": "text/x-python",
   "name": "python",
   "nbconvert_exporter": "python",
   "pygments_lexer": "ipython3",
   "version": "3.11.9"
  }
 },
 "nbformat": 4,
 "nbformat_minor": 2
}
