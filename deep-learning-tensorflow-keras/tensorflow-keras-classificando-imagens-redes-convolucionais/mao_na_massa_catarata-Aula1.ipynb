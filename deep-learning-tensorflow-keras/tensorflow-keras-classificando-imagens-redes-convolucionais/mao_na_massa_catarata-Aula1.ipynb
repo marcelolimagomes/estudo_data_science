{
  "cells": [
    {
      "cell_type": "markdown",
      "metadata": {
        "id": "lal403buF5a4"
      },
      "source": [
        "# Mão na massa - Aula 1"
      ]
    },
    {
      "cell_type": "code",
      "execution_count": 1,
      "metadata": {
        "id": "Ycq9_FY_EwyD"
      },
      "outputs": [],
      "source": [
        "url = '/content/drive/MyDrive/Alura/Cursos/3773 - TensorFlow Keras: Classificando imagens com redes convolucionais/Projeto/catarata'"
      ]
    },
    {
      "cell_type": "code",
      "execution_count": 2,
      "metadata": {
        "id": "5hsZohKfFW4d"
      },
      "outputs": [],
      "source": [
        "import pathlib"
      ]
    },
    {
      "cell_type": "code",
      "execution_count": 3,
      "metadata": {
        "id": "kAfpgleSFhql"
      },
      "outputs": [],
      "source": [
        "data_dir=pathlib.Path(url)"
      ]
    },
    {
      "cell_type": "code",
      "execution_count": 4,
      "metadata": {
        "id": "9605jTh-Fkh3"
      },
      "outputs": [],
      "source": [
        "import tensorflow as tf"
      ]
    },
    {
      "cell_type": "code",
      "execution_count": 5,
      "metadata": {
        "id": "t24llgaXFp-d"
      },
      "outputs": [],
      "source": [
        "batch_size = 64\n",
        "altura = 416\n",
        "largura = 416"
      ]
    },
    {
      "cell_type": "code",
      "execution_count": 6,
      "metadata": {
        "colab": {
          "base_uri": "https://localhost:8080/"
        },
        "id": "_SSQS86YFpc9",
        "outputId": "b0fac5ec-29de-40aa-ec92-ece8abe63125"
      },
      "outputs": [
        {
          "name": "stdout",
          "output_type": "stream",
          "text": [
            "Found 410 files belonging to 2 classes.\n",
            "Using 328 files for training.\n"
          ]
        }
      ],
      "source": [
        "treino = tf.keras.utils.image_dataset_from_directory(\n",
        "    data_dir,\n",
        "    validation_split=0.2,\n",
        "    subset='training',\n",
        "    seed=171,\n",
        "    image_size=(altura,largura),\n",
        "    batch_size=batch_size\n",
        ")"
      ]
    },
    {
      "cell_type": "code",
      "execution_count": 7,
      "metadata": {
        "colab": {
          "base_uri": "https://localhost:8080/"
        },
        "id": "MLlgFpPIFxsg",
        "outputId": "b267a846-8825-48cf-eda3-8683c6ab4970"
      },
      "outputs": [
        {
          "name": "stdout",
          "output_type": "stream",
          "text": [
            "Found 410 files belonging to 2 classes.\n",
            "Using 82 files for validation.\n"
          ]
        }
      ],
      "source": [
        "validacao = tf.keras.utils.image_dataset_from_directory(\n",
        "    data_dir,\n",
        "    validation_split=0.2,\n",
        "    subset='validation',\n",
        "    seed=171,\n",
        "    image_size=(altura,largura),\n",
        "    batch_size=batch_size\n",
        ")"
      ]
    },
    {
      "cell_type": "code",
      "execution_count": 8,
      "metadata": {
        "colab": {
          "base_uri": "https://localhost:8080/"
        },
        "id": "b74BKEZfF2fe",
        "outputId": "67e1496b-70ef-4740-c4c3-c852db76fdd9"
      },
      "outputs": [
        {
          "data": {
            "text/plain": [
              "['immature', 'mature']"
            ]
          },
          "execution_count": 8,
          "metadata": {},
          "output_type": "execute_result"
        }
      ],
      "source": [
        "treino.class_names"
      ]
    }
  ],
  "metadata": {
    "accelerator": "GPU",
    "colab": {
      "gpuType": "T4",
      "provenance": []
    },
    "kernelspec": {
      "display_name": "Python 3",
      "name": "python3"
    },
    "language_info": {
      "name": "python"
    }
  },
  "nbformat": 4,
  "nbformat_minor": 0
}
