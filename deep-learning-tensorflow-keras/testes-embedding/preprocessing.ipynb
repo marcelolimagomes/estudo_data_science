{
 "cells": [
  {
   "cell_type": "code",
   "execution_count": 27,
   "metadata": {},
   "outputs": [],
   "source": [
    "import gzip\n",
    "import json\n",
    "import re\n",
    "import string\n",
    "import gzip\n",
    "import pickle\n",
    "import pandas as pd\n",
    "\n",
    "filename = './data/ptwiki-latest.json.gz'\n",
    "clearned_corpus = f'./data/clearned_corpus.txt.gz'\n",
    "file_word_dict = './data/word_dict.pickle'\n",
    "file_count_words = './data/count_words.parquet'\n",
    "\n",
    "regex = r\"([\" + string.punctuation + '—–¿!' + \"])\""
   ]
  },
  {
   "cell_type": "code",
   "execution_count": 28,
   "metadata": {},
   "outputs": [],
   "source": [
    "samples = 300000\n",
    "#samples = 5000\n",
    "maxlen = 40"
   ]
  },
  {
   "cell_type": "code",
   "execution_count": 29,
   "metadata": {},
   "outputs": [],
   "source": [
    "count = 0\n",
    "with gzip.open(filename, 'rt') as f:\n",
    "    with gzip.open(clearned_corpus, 'wt') as f_out:\n",
    "        for text in f:\n",
    "            j = json.loads(text)\n",
    "            for line in j['section_texts']:\n",
    "                line = re.sub(regex, ' ', line)\n",
    "                #line = line.replace('\\n','')\n",
    "                while '  ' in line:\n",
    "                    line = line.replace('  ', ' ')                \n",
    "                line = line.strip().lower()\n",
    "                _splited = line.split()\n",
    "                if len(_splited) > maxlen-1:\n",
    "                    _splited = _splited[:maxlen-1]\n",
    "                _splited += ['[end]']\n",
    "                if len(_splited) < 10:\n",
    "                    continue               \n",
    "                for i in range(3, len(_splited)):                    \n",
    "                    f_out.write(' '.join(_splited[0:i+1]) + '\\n')\n",
    "                if count > samples:\n",
    "                    break\n",
    "                count += 1\n",
    "            if count > samples:\n",
    "                break"
   ]
  },
  {
   "cell_type": "code",
   "execution_count": 30,
   "metadata": {},
   "outputs": [],
   "source": [
    "def list_of_words(file: str):\n",
    "  list_unique_word_file = set()\n",
    "  list_count_words_file = {}\n",
    "  with gzip.open(file, 'rt') as f_in:\n",
    "    lines = f_in.readlines()\n",
    "    for line in lines:\n",
    "      for w in line.split():\n",
    "        list_unique_word_file.add(w)\n",
    "        if w in list_count_words_file:\n",
    "          list_count_words_file[w] += 1\n",
    "        else:\n",
    "          list_count_words_file[w] = 1\n",
    "    print(f'Size of Dict for file {file}: {len(list_unique_word_file)}')\n",
    "  return list_unique_word_file, list_count_words_file"
   ]
  },
  {
   "cell_type": "code",
   "execution_count": null,
   "metadata": {},
   "outputs": [],
   "source": [
    "list_unique_word_file, list_count_words_file = list_of_words(clearned_corpus)"
   ]
  },
  {
   "cell_type": "code",
   "execution_count": null,
   "metadata": {},
   "outputs": [],
   "source": [
    "word_dict = {}\n",
    "for i, word in enumerate(list_unique_word_file):\n",
    "  word_dict[i] = word\n",
    "print('size of word_dict:', len(word_dict))\n",
    "# Store data (serialize)\n",
    "with open(file_word_dict, 'wb') as handle:\n",
    "  pickle.dump(word_dict, handle, protocol=pickle.HIGHEST_PROTOCOL)\n",
    "  print(f'word_dict save to file: {file_word_dict}')"
   ]
  },
  {
   "cell_type": "code",
   "execution_count": null,
   "metadata": {},
   "outputs": [],
   "source": [
    "df = pd.DataFrame(list_count_words_file.items(), columns=['word', 'count'])\n",
    "df.info()"
   ]
  },
  {
   "cell_type": "code",
   "execution_count": null,
   "metadata": {},
   "outputs": [],
   "source": [
    "df.sort_values('count', ascending=False).head(100)"
   ]
  },
  {
   "cell_type": "code",
   "execution_count": 35,
   "metadata": {},
   "outputs": [],
   "source": [
    "df.to_parquet(file_count_words, engine='pyarrow', compression='gzip')"
   ]
  }
 ],
 "metadata": {
  "kernelspec": {
   "display_name": "nlp",
   "language": "python",
   "name": "python3"
  },
  "language_info": {
   "codemirror_mode": {
    "name": "ipython",
    "version": 3
   },
   "file_extension": ".py",
   "mimetype": "text/x-python",
   "name": "python",
   "nbconvert_exporter": "python",
   "pygments_lexer": "ipython3",
   "version": "3.12.8"
  }
 },
 "nbformat": 4,
 "nbformat_minor": 2
}
