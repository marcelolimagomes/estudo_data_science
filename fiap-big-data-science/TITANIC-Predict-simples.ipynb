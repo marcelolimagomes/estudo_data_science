{
 "cells": [
  {
   "cell_type": "code",
   "execution_count": 1,
   "metadata": {},
   "outputs": [],
   "source": [
    "import pandas as pd\n",
    "from sklearn.linear_model import LinearRegression\n",
    "from sklearn.preprocessing import MinMaxScaler\n",
    "from datetime import datetime\n",
    "\n",
    "df = pd.read_csv(\"https://raw.githubusercontent.com/diogenesjusto/FIAP/master/SHIFT/desafio/baba/BABA.csv\", )\n",
    "\n",
    "treino = df.iloc[0:365,]\n",
    "teste = df.iloc[366:396,]\n",
    "\n",
    "y_treino = treino['venda']\n",
    "x_treino = treino[['desconto']]\n",
    "x_teste = teste[['desconto']]\n",
    "\n",
    "mod = LinearRegression()\n",
    "mod.fit(x_treino, y_treino)\n",
    "prev = mod.predict(x_teste) # Substitui teste['desconto'] pelo resultado do predict\n",
    "\n",
    "pd.DataFrame(prev).to_csv('predict_lucca.csv')\n",
    "#files.download('predict.csv')"
   ]
  }
 ],
 "metadata": {
  "kernelspec": {
   "display_name": "env",
   "language": "python",
   "name": "python3"
  },
  "language_info": {
   "codemirror_mode": {
    "name": "ipython",
    "version": 3
   },
   "file_extension": ".py",
   "mimetype": "text/x-python",
   "name": "python",
   "nbconvert_exporter": "python",
   "pygments_lexer": "ipython3",
   "version": "3.9.16"
  },
  "orig_nbformat": 4
 },
 "nbformat": 4,
 "nbformat_minor": 2
}
