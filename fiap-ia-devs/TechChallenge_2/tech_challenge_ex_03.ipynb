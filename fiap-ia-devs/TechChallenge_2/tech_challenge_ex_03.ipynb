{
 "cells": [
  {
   "cell_type": "markdown",
   "metadata": {},
   "source": [
    "Considere que você é um Desenvolvedor de Software e precisa aplicar Algoritmos Genéticos para implementar um programa utilizando a linguagem python para escolher qual a melhor escala de trabalho vinte e quatro horas por sete dias. A escala de cada trabalhador é 8h por dia e preciso preencher 100 posições. Qual a melhor escala de trabalho para esse time?"
   ]
  },
  {
   "cell_type": "markdown",
   "metadata": {},
   "source": [
    "Para resolver esse problema utilizando Algoritmos Genéticos (AGs), vamos estruturar a solução em algumas etapas. Vamos começar com uma breve descrição do problema e da abordagem com Algoritmos Genéticos.\n",
    "\n",
    "Descrição do Problema\n",
    "Temos 100 postos de trabalho que precisam de cobertura 24 horas por dia, 7 dias por semana, com turnos de 8 horas. Precisamos calcular:\n",
    "\n",
    "Quantos profissionais são necessários para cobrir cada posto de trabalho.\n",
    "O total de profissionais necessários para cobrir todos os postos de trabalho.\n",
    "Abordagem com Algoritmos Genéticos\n",
    "Os Algoritmos Genéticos são técnicas de otimização e busca inspiradas na evolução natural. Eles trabalham com uma população de soluções candidatas, aplicando operadores genéticos como seleção, cruzamento e mutação para evoluir as soluções ao longo de várias gerações.\n",
    "\n",
    "Etapas do Algoritmo\n",
    "Representação: Cada indivíduo na população representará uma distribuição de profissionais nos postos de trabalho.\n",
    "Função de Avaliação (Fitness): Avalia a qualidade de cada indivíduo com base na cobertura dos turnos.\n",
    "Seleção: Seleciona os melhores indivíduos para reprodução.\n",
    "Cruzamento (Crossover): Combina partes de dois indivíduos para criar novos indivíduos.\n",
    "Mutação: Introduz variações nos indivíduos para manter a diversidade genética.\n",
    "Iteração: Repete o processo por várias gerações até encontrar uma solução satisfatória.\n",
    "Implementação\n",
    "A seguir, vou mostrar um exemplo de implementação básica de um Algoritmo Genético em Python para resolver este problema."
   ]
  },
  {
   "cell_type": "code",
   "execution_count": 1,
   "metadata": {},
   "outputs": [
    {
     "name": "stdout",
     "output_type": "stream",
     "text": [
      "Melhor distribuição de profissionais por posto: [10, 8, 8, 4, 10, 6, 5, 1, 10, 3, 5, 5, 4, 2, 1, 8, 4, 6, 7, 10, 4, 2, 6, 2, 2, 8, 8, 9, 10, 1, 10, 5, 6, 1, 7, 7, 4, 8, 5, 9, 1, 4, 2, 5, 5, 6, 7, 1, 10, 2, 4, 3, 5, 9, 8, 2, 6, 6, 10, 3, 8, 2, 2, 10, 3, 8, 3, 8, 10, 8, 10, 5, 2, 9, 7, 4, 9, 6, 2, 5, 4, 8, 1, 9, 7, 1, 7, 9, 9, 6, 3, 7, 2, 5, 1, 6, 5, 7, 3, 4]\n",
      "Número total de profissionais necessários: inf\n"
     ]
    }
   ],
   "source": [
    "import numpy as np\n",
    "import random\n",
    "\n",
    "# Parâmetros do AG\n",
    "pop_size = 100  # Tamanho da população\n",
    "num_generations = 500  # Número de gerações\n",
    "mutation_rate = 0.01  # Taxa de mutação\n",
    "num_postos = 100  # Número de postos de trabalho\n",
    "turnos_por_dia = 3  # Número de turnos por dia (8h cada)\n",
    "\n",
    "# Representação: Cada indivíduo é uma lista de números inteiros representando o número de profissionais por posto\n",
    "def create_individual():\n",
    "    return [random.randint(1, 10) for _ in range(num_postos)]\n",
    "\n",
    "# Função de avaliação: Calcula a \"fitness\" de um indivíduo\n",
    "def fitness(individual):\n",
    "    total_profissionais = sum(individual)\n",
    "    cobertura_satisfatoria = all(x >= turnos_por_dia for x in individual)\n",
    "    return total_profissionais if cobertura_satisfatoria else float('inf')\n",
    "\n",
    "# Seleção: Torneio\n",
    "def tournament_selection(pop, fitnesses, k=3):\n",
    "    selected = random.choices(range(len(pop)), k=k)\n",
    "    best = min(selected, key=lambda i: fitnesses[i])\n",
    "    return pop[best]\n",
    "\n",
    "# Cruzamento: Ponto único\n",
    "def crossover(parent1, parent2):\n",
    "    point = random.randint(1, num_postos - 1)\n",
    "    child1 = parent1[:point] + parent2[point:]\n",
    "    child2 = parent2[:point] + parent1[point:]\n",
    "    return child1, child2\n",
    "\n",
    "# Mutação: Muda um valor aleatório\n",
    "def mutate(individual):\n",
    "    if random.random() < mutation_rate:\n",
    "        index = random.randint(0, num_postos - 1)\n",
    "        individual[index] = random.randint(1, 10)\n",
    "\n",
    "# Inicialização da população\n",
    "population = [create_individual() for _ in range(pop_size)]\n",
    "\n",
    "# Evolução\n",
    "for generation in range(num_generations):\n",
    "    fitnesses = [fitness(ind) for ind in population]\n",
    "    new_population = []\n",
    "    for _ in range(pop_size // 2):\n",
    "        parent1 = tournament_selection(population, fitnesses)\n",
    "        parent2 = tournament_selection(population, fitnesses)\n",
    "        child1, child2 = crossover(parent1, parent2)\n",
    "        mutate(child1)\n",
    "        mutate(child2)\n",
    "        new_population.extend([child1, child2])\n",
    "    population = new_population\n",
    "\n",
    "# Melhor solução encontrada\n",
    "best_individual = min(population, key=fitness)\n",
    "best_fitness = fitness(best_individual)\n",
    "\n",
    "print(\"Melhor distribuição de profissionais por posto:\", best_individual)\n",
    "print(\"Número total de profissionais necessários:\", best_fitness)\n"
   ]
  },
  {
   "cell_type": "markdown",
   "metadata": {},
   "source": [
    "Explicação do Código\n",
    "Representação: Cada indivíduo é uma lista de inteiros representando o número de profissionais em cada posto.\n",
    "Função de Avaliação (Fitness): A função fitness calcula o total de profissionais e verifica se a cobertura é satisfatória (pelo menos 3 profissionais por posto).\n",
    "Seleção: Utiliza seleção por torneio.\n",
    "Cruzamento: Utiliza cruzamento de ponto único.\n",
    "Mutação: Modifica aleatoriamente um valor de um indivíduo.\n",
    "Inicialização da População: Cria uma população inicial aleatória.\n",
    "Evolução: Itera por várias gerações, aplicando seleção, cruzamento e mutação.\n",
    "Resultado: Imprime a melhor solução encontrada e o número total de profissionais necessários.\n",
    "Esta implementação é um ponto de partida. Para melhorar o desempenho e a precisão, ajustes podem ser feitos nos parâmetros do algoritmo e nas funções de avaliação, seleção, cruzamento e mutação."
   ]
  }
 ],
 "metadata": {
  "kernelspec": {
   "display_name": "rapids",
   "language": "python",
   "name": "python3"
  },
  "language_info": {
   "codemirror_mode": {
    "name": "ipython",
    "version": 3
   },
   "file_extension": ".py",
   "mimetype": "text/x-python",
   "name": "python",
   "nbconvert_exporter": "python",
   "pygments_lexer": "ipython3",
   "version": "3.1.undefined"
  }
 },
 "nbformat": 4,
 "nbformat_minor": 2
}
