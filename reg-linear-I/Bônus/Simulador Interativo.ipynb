{
 "cells": [
  {
   "attachments": {},
   "cell_type": "markdown",
   "metadata": {},
   "source": [
    "<h1 style='color: green; font-size: 36px; font-weight: bold;'>Data Science - Regressão Linear</h1>"
   ]
  },
  {
   "attachments": {},
   "cell_type": "markdown",
   "metadata": {},
   "source": [
    "# <font color='red' style='font-size: 30px;'>Bônus</font>\n",
    "<hr style='border: 2px solid red;'>"
   ]
  },
  {
   "attachments": {},
   "cell_type": "markdown",
   "metadata": {},
   "source": [
    "## Importando nosso modelo"
   ]
  },
  {
   "cell_type": "code",
   "execution_count": 1,
   "metadata": {},
   "outputs": [
    {
     "name": "stdout",
     "output_type": "stream",
     "text": [
      "$ 46389.80\n"
     ]
    },
    {
     "name": "stderr",
     "output_type": "stream",
     "text": [
      "/home/marcelo/des/estudo_data_science/.venv/lib64/python3.11/site-packages/sklearn/base.py:439: UserWarning: X does not have valid feature names, but LinearRegression was fitted with feature names\n",
      "  warnings.warn(\n"
     ]
    }
   ],
   "source": [
    "import pickle\n",
    "\n",
    "modelo = open('../Exercício/modelo_preço','rb')\n",
    "lm_new = pickle.load(modelo)\n",
    "modelo.close()\n",
    "\n",
    "area = 38\n",
    "garagem = 2\n",
    "banheiros = 4\n",
    "lareira = 4\n",
    "marmore = 0\n",
    "andares = 1\n",
    "\n",
    "entrada = [[area, garagem, banheiros, lareira, marmore, andares]]\n",
    "\n",
    "print('$ {0:.2f}'.format(lm_new.predict(entrada)[0]))"
   ]
  },
  {
   "attachments": {},
   "cell_type": "markdown",
   "metadata": {},
   "source": [
    "## Exemplo de um simulador interativo para Jupyter\n",
    "\n",
    "https://ipywidgets.readthedocs.io/en/stable/index.html\n",
    "\n",
    "https://github.com/jupyter-widgets/ipywidgets"
   ]
  },
  {
   "cell_type": "code",
   "execution_count": 2,
   "metadata": {},
   "outputs": [
    {
     "ename": "ValueError",
     "evalue": "could not convert string to float: 'True'",
     "output_type": "error",
     "traceback": [
      "\u001b[0;31m---------------------------------------------------------------------------\u001b[0m",
      "\u001b[0;31mValueError\u001b[0m                                Traceback (most recent call last)",
      "Cell \u001b[0;32mIn[2], line 28\u001b[0m, in \u001b[0;36msimulador\u001b[0;34m(sender)\u001b[0m\n\u001b[1;32m     22\u001b[0m \u001b[39mdef\u001b[39;00m \u001b[39msimulador\u001b[39m(sender):\n\u001b[1;32m     23\u001b[0m     entrada\u001b[39m=\u001b[39m[[\n\u001b[1;32m     24\u001b[0m                 \u001b[39mfloat\u001b[39m(area\u001b[39m.\u001b[39mvalue \u001b[39mif\u001b[39;00m area\u001b[39m.\u001b[39mvalue \u001b[39melse\u001b[39;00m \u001b[39m0\u001b[39m), \n\u001b[1;32m     25\u001b[0m                 \u001b[39mfloat\u001b[39m(garagem\u001b[39m.\u001b[39mvalue \u001b[39mif\u001b[39;00m garagem\u001b[39m.\u001b[39mvalue \u001b[39melse\u001b[39;00m \u001b[39m0\u001b[39m), \n\u001b[1;32m     26\u001b[0m                 \u001b[39mfloat\u001b[39m(banheiros\u001b[39m.\u001b[39mvalue \u001b[39mif\u001b[39;00m banheiros\u001b[39m.\u001b[39mvalue \u001b[39melse\u001b[39;00m \u001b[39m0\u001b[39m), \n\u001b[1;32m     27\u001b[0m                 \u001b[39mfloat\u001b[39m(lareira\u001b[39m.\u001b[39mvalue \u001b[39mif\u001b[39;00m lareira\u001b[39m.\u001b[39mvalue \u001b[39melse\u001b[39;00m \u001b[39m0\u001b[39m), \n\u001b[0;32m---> 28\u001b[0m                 \u001b[39mfloat\u001b[39;49m(marmore\u001b[39m.\u001b[39;49mvalue \u001b[39mif\u001b[39;49;00m marmore\u001b[39m.\u001b[39;49mvalue \u001b[39melse\u001b[39;49;00m \u001b[39m0\u001b[39;49m), \n\u001b[1;32m     29\u001b[0m                 \u001b[39mfloat\u001b[39m(andares\u001b[39m.\u001b[39mvalue \u001b[39mif\u001b[39;00m andares\u001b[39m.\u001b[39mvalue \u001b[39melse\u001b[39;00m \u001b[39m0\u001b[39m)\n\u001b[1;32m     30\u001b[0m              ]]\n\u001b[1;32m     31\u001b[0m     \u001b[39mprint\u001b[39m(\u001b[39m'\u001b[39m\u001b[39m$ \u001b[39m\u001b[39m{0:.2f}\u001b[39;00m\u001b[39m'\u001b[39m\u001b[39m.\u001b[39mformat(lm_new\u001b[39m.\u001b[39mpredict(entrada)[\u001b[39m0\u001b[39m]))\n",
      "\u001b[0;31mValueError\u001b[0m: could not convert string to float: 'True'"
     ]
    },
    {
     "ename": "ValueError",
     "evalue": "could not convert string to float: 'Sim'",
     "output_type": "error",
     "traceback": [
      "\u001b[0;31m---------------------------------------------------------------------------\u001b[0m",
      "\u001b[0;31mValueError\u001b[0m                                Traceback (most recent call last)",
      "Cell \u001b[0;32mIn[2], line 28\u001b[0m, in \u001b[0;36msimulador\u001b[0;34m(sender)\u001b[0m\n\u001b[1;32m     22\u001b[0m \u001b[39mdef\u001b[39;00m \u001b[39msimulador\u001b[39m(sender):\n\u001b[1;32m     23\u001b[0m     entrada\u001b[39m=\u001b[39m[[\n\u001b[1;32m     24\u001b[0m                 \u001b[39mfloat\u001b[39m(area\u001b[39m.\u001b[39mvalue \u001b[39mif\u001b[39;00m area\u001b[39m.\u001b[39mvalue \u001b[39melse\u001b[39;00m \u001b[39m0\u001b[39m), \n\u001b[1;32m     25\u001b[0m                 \u001b[39mfloat\u001b[39m(garagem\u001b[39m.\u001b[39mvalue \u001b[39mif\u001b[39;00m garagem\u001b[39m.\u001b[39mvalue \u001b[39melse\u001b[39;00m \u001b[39m0\u001b[39m), \n\u001b[1;32m     26\u001b[0m                 \u001b[39mfloat\u001b[39m(banheiros\u001b[39m.\u001b[39mvalue \u001b[39mif\u001b[39;00m banheiros\u001b[39m.\u001b[39mvalue \u001b[39melse\u001b[39;00m \u001b[39m0\u001b[39m), \n\u001b[1;32m     27\u001b[0m                 \u001b[39mfloat\u001b[39m(lareira\u001b[39m.\u001b[39mvalue \u001b[39mif\u001b[39;00m lareira\u001b[39m.\u001b[39mvalue \u001b[39melse\u001b[39;00m \u001b[39m0\u001b[39m), \n\u001b[0;32m---> 28\u001b[0m                 \u001b[39mfloat\u001b[39;49m(marmore\u001b[39m.\u001b[39;49mvalue \u001b[39mif\u001b[39;49;00m marmore\u001b[39m.\u001b[39;49mvalue \u001b[39melse\u001b[39;49;00m \u001b[39m0\u001b[39;49m), \n\u001b[1;32m     29\u001b[0m                 \u001b[39mfloat\u001b[39m(andares\u001b[39m.\u001b[39mvalue \u001b[39mif\u001b[39;00m andares\u001b[39m.\u001b[39mvalue \u001b[39melse\u001b[39;00m \u001b[39m0\u001b[39m)\n\u001b[1;32m     30\u001b[0m              ]]\n\u001b[1;32m     31\u001b[0m     \u001b[39mprint\u001b[39m(\u001b[39m'\u001b[39m\u001b[39m$ \u001b[39m\u001b[39m{0:.2f}\u001b[39;00m\u001b[39m'\u001b[39m\u001b[39m.\u001b[39mformat(lm_new\u001b[39m.\u001b[39mpredict(entrada)[\u001b[39m0\u001b[39m]))\n",
      "\u001b[0;31mValueError\u001b[0m: could not convert string to float: 'Sim'"
     ]
    },
    {
     "name": "stdout",
     "output_type": "stream",
     "text": [
      "$ 67542.86\n"
     ]
    },
    {
     "name": "stderr",
     "output_type": "stream",
     "text": [
      "/home/marcelo/des/estudo_data_science/.venv/lib64/python3.11/site-packages/sklearn/base.py:439: UserWarning: X does not have valid feature names, but LinearRegression was fitted with feature names\n",
      "  warnings.warn(\n"
     ]
    },
    {
     "name": "stdout",
     "output_type": "stream",
     "text": [
      "$ 67542.86\n"
     ]
    },
    {
     "name": "stderr",
     "output_type": "stream",
     "text": [
      "/home/marcelo/des/estudo_data_science/.venv/lib64/python3.11/site-packages/sklearn/base.py:439: UserWarning: X does not have valid feature names, but LinearRegression was fitted with feature names\n",
      "  warnings.warn(\n"
     ]
    }
   ],
   "source": [
    "# %pip install ipywidgets\n",
    "# Importando bibliotecas\n",
    "from ipywidgets import widgets, HBox, VBox\n",
    "from IPython.display import display\n",
    "\n",
    "# Criando os controles do formulário\n",
    "area = widgets.Text(description=\"Área\")\n",
    "garagem = widgets.Text(description=\"Garagem\")\n",
    "banheiros = widgets.Text(description=\"Banheiros\")\n",
    "lareira = widgets.Text(description=\"Lareira\")\n",
    "marmore = widgets.Text(description=\"Mármore?\")\n",
    "andares = widgets.Text(description=\"Andares?\")\n",
    "\n",
    "botao = widgets.Button(description=\"Simular\")\n",
    "\n",
    "# Posicionando os controles\n",
    "left = VBox([area, banheiros, marmore])\n",
    "right = VBox([garagem, lareira, andares])\n",
    "inputs = HBox([left, right])\n",
    "\n",
    "# Função de simulação\n",
    "def simulador(sender):\n",
    "    entrada=[[\n",
    "                float(area.value if area.value else 0), \n",
    "                float(garagem.value if garagem.value else 0), \n",
    "                float(banheiros.value if banheiros.value else 0), \n",
    "                float(lareira.value if lareira.value else 0), \n",
    "                float(marmore.value if marmore.value else 0), \n",
    "                float(andares.value if andares.value else 0)\n",
    "             ]]\n",
    "    print('$ {0:.2f}'.format(lm_new.predict(entrada)[0]))\n",
    "    \n",
    "# Atribuindo a função \"simulador\" ao evento click do botão\n",
    "botao.on_click(simulador)    "
   ]
  },
  {
   "cell_type": "code",
   "execution_count": 3,
   "metadata": {},
   "outputs": [
    {
     "data": {
      "application/vnd.jupyter.widget-view+json": {
       "model_id": "b9b267ccac714a9e88232e767f91a525",
       "version_major": 2,
       "version_minor": 0
      },
      "text/plain": [
       "HBox(children=(VBox(children=(Text(value='', description='Área'), Text(value='', description='Banheiros'), Tex…"
      ]
     },
     "metadata": {},
     "output_type": "display_data"
    },
    {
     "data": {
      "application/vnd.jupyter.widget-view+json": {
       "model_id": "cef6c4e17d8343ccb7115e55072548b0",
       "version_major": 2,
       "version_minor": 0
      },
      "text/plain": [
       "Button(description='Simular', style=ButtonStyle())"
      ]
     },
     "metadata": {},
     "output_type": "display_data"
    }
   ],
   "source": [
    "display(inputs, botao)"
   ]
  },
  {
   "cell_type": "code",
   "execution_count": null,
   "metadata": {},
   "outputs": [],
   "source": []
  }
 ],
 "metadata": {
  "kernelspec": {
   "display_name": "Python 3",
   "language": "python",
   "name": "python3"
  },
  "language_info": {
   "codemirror_mode": {
    "name": "ipython",
    "version": 3
   },
   "file_extension": ".py",
   "mimetype": "text/x-python",
   "name": "python",
   "nbconvert_exporter": "python",
   "pygments_lexer": "ipython3",
   "version": "3.11.3"
  }
 },
 "nbformat": 4,
 "nbformat_minor": 2
}
